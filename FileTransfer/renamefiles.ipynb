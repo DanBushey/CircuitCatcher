{
 "cells": [
  {
   "cell_type": "code",
   "execution_count": 36,
   "metadata": {},
   "outputs": [],
   "source": [
    "##need to rename files to correct data\n",
    "import pathlib as pl\n",
    "import pathlibDB as pldb\n",
    "import os\n",
    "import numpy as np"
   ]
  },
  {
   "cell_type": "code",
   "execution_count": 40,
   "metadata": {},
   "outputs": [],
   "source": [
    "def changeName(directory, string1, string2, execute = True):\n",
    "    #directory = directory where names have to be changed\n",
    "    #string1 = string to replace\n",
    "    #string2 = string replacement\n",
    "    #execute = if False then trial run\n",
    "    files = pldb.getDirContents(directory)\n",
    "    files['New_Name'] = ''\n",
    "    for row, dseries in files.iterrows():\n",
    "        files['New_Name'].loc[row] = str(pl.Path(dseries['Parent']) / dseries['File_Name'].replace(string1, string2))\n",
    "    \n",
    "    if execute == True:\n",
    "        #need to rename files first\n",
    "        filesonly = files[files['Directory'] == False]\n",
    "        for row, dseries in filesonly.iterrows():\n",
    "            os.rename(dseries['Full_Path'], dseries['New_Name'])\n",
    "        #now change directory names\n",
    "        ## directory names must be changed furthest on the file tree first\n",
    "        directories =  files[files['Directory'] == True]\n",
    "        #get distance in tree\n",
    "        directories['Rank'] = np.zeros(len(directories))\n",
    "        for row, dseries in directories.iterrows():\n",
    "            directories['Rank'].loc[row] = len(pl.Path(dseries['Full_Path']).parts)\n",
    "        directories = directories.sort_values(by=['Rank'], ascending = False)\n",
    "        for row, dseries in directories.iterrows():\n",
    "            os.rename(dseries['Full_Path'], dseries['New_Name'])"
   ]
  },
  {
   "cell_type": "code",
   "execution_count": 43,
   "metadata": {},
   "outputs": [],
   "source": [
    "#directory = '/media/daniel/Seagate Backup Plus Drive3/A74_Data2/20181025'\n",
    "directory = '/media/daniel/Seagate Backup Plus Drive3/A74_Data2/20181026'\n",
    "#directory = '/media/daniel/Seagate Backup Plus Drive3/test'\n",
    "string1 = '20181021'\n",
    "string2 = '20181026'"
   ]
  },
  {
   "cell_type": "code",
   "execution_count": 44,
   "metadata": {},
   "outputs": [
    {
     "name": "stderr",
     "output_type": "stream",
     "text": [
      "/home/daniel/anaconda3/lib/python3.6/site-packages/ipykernel_launcher.py:20: SettingWithCopyWarning: \n",
      "A value is trying to be set on a copy of a slice from a DataFrame.\n",
      "Try using .loc[row_indexer,col_indexer] = value instead\n",
      "\n",
      "See the caveats in the documentation: http://pandas.pydata.org/pandas-docs/stable/indexing.html#indexing-view-versus-copy\n",
      "/home/daniel/anaconda3/lib/python3.6/site-packages/ipykernel_launcher.py:22: SettingWithCopyWarning: \n",
      "A value is trying to be set on a copy of a slice from a DataFrame\n",
      "\n",
      "See the caveats in the documentation: http://pandas.pydata.org/pandas-docs/stable/indexing.html#indexing-view-versus-copy\n"
     ]
    }
   ],
   "source": [
    "changeName(directory, string1, string2, execute = True)"
   ]
  },
  {
   "cell_type": "code",
   "execution_count": null,
   "metadata": {},
   "outputs": [],
   "source": [
    "files= files[files['File_Name'].str.contains(string1)]\n"
   ]
  },
  {
   "cell_type": "code",
   "execution_count": 21,
   "metadata": {},
   "outputs": [
    {
     "name": "stderr",
     "output_type": "stream",
     "text": [
      "/home/daniel/anaconda3/lib/python3.6/site-packages/pandas/core/indexing.py:189: SettingWithCopyWarning: \n",
      "A value is trying to be set on a copy of a slice from a DataFrame\n",
      "\n",
      "See the caveats in the documentation: http://pandas.pydata.org/pandas-docs/stable/indexing.html#indexing-view-versus-copy\n",
      "  self._setitem_with_indexer(indexer, value)\n"
     ]
    }
   ],
   "source": [
    "\n",
    "    "
   ]
  },
  {
   "cell_type": "code",
   "execution_count": 23,
   "metadata": {},
   "outputs": [
    {
     "data": {
      "text/plain": [
       "array(['/media/daniel/Seagate Backup Plus Drive3/A74_Data2/20181025/20181025-A74-1-flya_00001',\n",
       "       '/media/daniel/Seagate Backup Plus Drive3/A74_Data2/20181025/20181025-A74-1-flya_00002',\n",
       "       '/media/daniel/Seagate Backup Plus Drive3/A74_Data2/20181025/20181025-A74-1-flya_00003',\n",
       "       ...,\n",
       "       '/media/daniel/Seagate Backup Plus Drive3/A74_Data2/20181025/20181021-A74-1-flyc_00002/20181025-A74-1-flyc_00002_MeanROIIntensity.xlsx',\n",
       "       '/media/daniel/Seagate Backup Plus Drive3/A74_Data2/20181025/20181021-A74-1-flyc_00002/20181025-A74-1-flyc_00002_ROI.jpeg',\n",
       "       '/media/daniel/Seagate Backup Plus Drive3/A74_Data2/20181025/20181021-A74-1-flyc_00002/20181025-A74-1-flyc_00002_stim.mat'],\n",
       "      dtype=object)"
      ]
     },
     "execution_count": 23,
     "metadata": {},
     "output_type": "execute_result"
    }
   ],
   "source": [
    "files['New Path'].values"
   ]
  },
  {
   "cell_type": "code",
   "execution_count": 25,
   "metadata": {},
   "outputs": [],
   "source": [
    "#need to rename files first\n"
   ]
  },
  {
   "cell_type": "code",
   "execution_count": 24,
   "metadata": {},
   "outputs": [
    {
     "data": {
      "text/plain": [
       "Index(['File_Name', 'Parent', 'Full_Path', 'Modified', 'File_Size', 'File',\n",
       "       'Directory', 'New Path'],\n",
       "      dtype='object')"
      ]
     },
     "execution_count": 24,
     "metadata": {},
     "output_type": "execute_result"
    }
   ],
   "source": [
    "files.columns"
   ]
  },
  {
   "cell_type": "code",
   "execution_count": null,
   "metadata": {},
   "outputs": [],
   "source": []
  }
 ],
 "metadata": {
  "kernelspec": {
   "display_name": "Python 3",
   "language": "python",
   "name": "python3"
  },
  "language_info": {
   "codemirror_mode": {
    "name": "ipython",
    "version": 3
   },
   "file_extension": ".py",
   "mimetype": "text/x-python",
   "name": "python",
   "nbconvert_exporter": "python",
   "pygments_lexer": "ipython3",
   "version": "3.6.6"
  }
 },
 "nbformat": 4,
 "nbformat_minor": 2
}
