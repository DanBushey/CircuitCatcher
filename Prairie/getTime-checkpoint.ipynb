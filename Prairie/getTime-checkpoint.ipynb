{
 "cells": [
  {
   "cell_type": "code",
   "execution_count": 3,
   "metadata": {},
   "outputs": [],
   "source": [
    "import xml.etree.ElementTree as ET\n"
   ]
  },
  {
   "cell_type": "code",
   "execution_count": 4,
   "metadata": {},
   "outputs": [],
   "source": [
    "xml_timefile = '/media/daniel/Windows1/Users/dnabu/Desktop/ResearchYogaWindows/DataJ/A/A57_GtACR/A57_Data/20180601_A57/20180601-A62-16-flyc-001/20180601-A62-16-flyc-001.xml'\n",
    "#total time is 130.530103166588s"
   ]
  },
  {
   "cell_type": "code",
   "execution_count": 6,
   "metadata": {},
   "outputs": [
    {
     "name": "stdout",
     "output_type": "stream",
     "text": [
      "<Element 'PVScan' at 0x7f1c102993b8>\n"
     ]
    }
   ],
   "source": [
    "tree = ET.parse(xml_timefile)\n",
    "root = tree.getroot()\n",
    "print(root)"
   ]
  },
  {
   "cell_type": "code",
   "execution_count": 13,
   "metadata": {},
   "outputs": [],
   "source": [
    "#get time frames\n",
    "time = []\n",
    "for ctime in root.iter('Frame'):\n",
    "    time.append(ctime.attrib['absoluteTime'])"
   ]
  },
  {
   "cell_type": "code",
   "execution_count": 15,
   "metadata": {},
   "outputs": [
    {
     "data": {
      "text/plain": [
       "300"
      ]
     },
     "execution_count": 15,
     "metadata": {},
     "output_type": "execute_result"
    }
   ],
   "source": [
    "len(time)"
   ]
  },
  {
   "cell_type": "code",
   "execution_count": 22,
   "metadata": {},
   "outputs": [],
   "source": [
    "def getTime(xml_timefile):\n",
    "    tree = ET.parse(xml_timefile)\n",
    "    root = tree.getroot()\n",
    "    absoluteTime = []\n",
    "    relativeTime = []\n",
    "    for ctime in root.iter('Frame'):\n",
    "        absoluteTime.append(ctime.attrib['absoluteTime'])\n",
    "        relativeTime.append(ctime.attrib['relativeTime']) \n",
    "    return(relativeTime, absoluteTime)"
   ]
  },
  {
   "cell_type": "code",
   "execution_count": 24,
   "metadata": {},
   "outputs": [
    {
     "name": "stdout",
     "output_type": "stream",
     "text": [
      "300\n",
      "130.530103166588\n"
     ]
    }
   ],
   "source": [
    "rtime, atime = getTime(xml_timefile)\n",
    "print(len(atime))\n",
    "print(atime[-1])"
   ]
  },
  {
   "cell_type": "code",
   "execution_count": 25,
   "metadata": {},
   "outputs": [
    {
     "name": "stdout",
     "output_type": "stream",
     "text": [
      "129.744103166587\n",
      "300\n"
     ]
    }
   ],
   "source": [
    "print(rtime[-1])\n",
    "print(len(rtime))"
   ]
  },
  {
   "cell_type": "code",
   "execution_count": null,
   "metadata": {},
   "outputs": [],
   "source": []
  }
 ],
 "metadata": {
  "kernelspec": {
   "display_name": "Python 3",
   "language": "python",
   "name": "python3"
  },
  "language_info": {
   "codemirror_mode": {
    "name": "ipython",
    "version": 3
   },
   "file_extension": ".py",
   "mimetype": "text/x-python",
   "name": "python",
   "nbconvert_exporter": "python",
   "pygments_lexer": "ipython3",
   "version": "3.6.1"
  }
 },
 "nbformat": 4,
 "nbformat_minor": 2
}
