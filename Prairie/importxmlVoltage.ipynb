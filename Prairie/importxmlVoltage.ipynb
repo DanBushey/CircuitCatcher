{
 "cells": [
  {
   "cell_type": "code",
   "execution_count": 1,
   "metadata": {},
   "outputs": [],
   "source": [
    "import xml\n"
   ]
  },
  {
   "cell_type": "code",
   "execution_count": 2,
   "metadata": {},
   "outputs": [],
   "source": [
    "targetfile = '/media/daniel/Windows1/Users/dnabu/Desktop/ResearchYogaWindows/DataJ/A/A57_GtACR/A57_Data/20180601_A57/20180601-A62-16-flyc-001/20180601-A62-16-flyc-001_Cycle00001_VoltageOutput_001.xml'"
   ]
  },
  {
   "cell_type": "code",
   "execution_count": 3,
   "metadata": {},
   "outputs": [],
   "source": [
    "import xml.etree.ElementTree as ET\n",
    "tree = ET.parse(targetfile)\n",
    "root = tree.getroot()"
   ]
  },
  {
   "cell_type": "code",
   "execution_count": 4,
   "metadata": {},
   "outputs": [
    {
     "data": {
      "text/plain": [
       "'Experiment'"
      ]
     },
     "execution_count": 4,
     "metadata": {},
     "output_type": "execute_result"
    }
   ],
   "source": [
    "root.tag"
   ]
  },
  {
   "cell_type": "code",
   "execution_count": 11,
   "metadata": {},
   "outputs": [
    {
     "name": "stdout",
     "output_type": "stream",
     "text": [
      "Name {}\n",
      "UpdateRate {}\n",
      "UpdateDivisor {}\n",
      "Waveform {}\n",
      "Waveform {}\n",
      "Waveform {}\n",
      "Waveform {}\n",
      "Waveform {}\n",
      "Waveform {}\n",
      "Waveform {}\n",
      "Waveform {}\n"
     ]
    }
   ],
   "source": [
    "for child in root:\n",
    "    print(child.tag, child.attrib)"
   ]
  },
  {
   "cell_type": "code",
   "execution_count": 12,
   "metadata": {},
   "outputs": [
    {
     "name": "stdout",
     "output_type": "stream",
     "text": [
      "{}\n",
      "{}\n",
      "{}\n",
      "{}\n",
      "{}\n",
      "{}\n",
      "{}\n",
      "{}\n"
     ]
    }
   ],
   "source": [
    "for neighbor in root.iter('PlotColor'):\n",
    "    print(neighbor.attrib)"
   ]
  },
  {
   "cell_type": "code",
   "execution_count": 22,
   "metadata": {},
   "outputs": [
    {
     "data": {
      "text/plain": [
       "{}"
      ]
     },
     "execution_count": 22,
     "metadata": {},
     "output_type": "execute_result"
    }
   ],
   "source": [
    "root[2].attrib\n"
   ]
  },
  {
   "cell_type": "code",
   "execution_count": 14,
   "metadata": {},
   "outputs": [
    {
     "ename": "ModuleNotFoundError",
     "evalue": "No module named 'xmltodict'",
     "output_type": "error",
     "traceback": [
      "\u001b[0;31m---------------------------------------------------------------------------\u001b[0m",
      "\u001b[0;31mModuleNotFoundError\u001b[0m                       Traceback (most recent call last)",
      "\u001b[0;32m<ipython-input-14-4063f3979ab6>\u001b[0m in \u001b[0;36m<module>\u001b[0;34m()\u001b[0m\n\u001b[0;32m----> 1\u001b[0;31m \u001b[0;32mimport\u001b[0m \u001b[0mxmltodict\u001b[0m\u001b[0;34m\u001b[0m\u001b[0m\n\u001b[0m",
      "\u001b[0;31mModuleNotFoundError\u001b[0m: No module named 'xmltodict'"
     ]
    }
   ],
   "source": [
    "import xmltodict"
   ]
  },
  {
   "cell_type": "code",
   "execution_count": 31,
   "metadata": {},
   "outputs": [],
   "source": [
    "n = tree.findall('Waveform')"
   ]
  },
  {
   "cell_type": "code",
   "execution_count": 32,
   "metadata": {},
   "outputs": [
    {
     "data": {
      "text/plain": [
       "list"
      ]
     },
     "execution_count": 32,
     "metadata": {},
     "output_type": "execute_result"
    }
   ],
   "source": [
    "type(n)"
   ]
  },
  {
   "cell_type": "code",
   "execution_count": 33,
   "metadata": {},
   "outputs": [
    {
     "data": {
      "text/plain": [
       "[<Element 'Waveform' at 0x7f4ef463c048>,\n",
       " <Element 'Waveform' at 0x7f4ef4644228>,\n",
       " <Element 'Waveform' at 0x7f4ef46480e8>,\n",
       " <Element 'Waveform' at 0x7f4ef4648728>,\n",
       " <Element 'Waveform' at 0x7f4ef4648d68>,\n",
       " <Element 'Waveform' at 0x7f4ef464c4a8>,\n",
       " <Element 'Waveform' at 0x7f4ef464c778>,\n",
       " <Element 'Waveform' at 0x7f4ef464ca48>]"
      ]
     },
     "execution_count": 33,
     "metadata": {},
     "output_type": "execute_result"
    }
   ],
   "source": [
    "n\n"
   ]
  },
  {
   "cell_type": "code",
   "execution_count": 34,
   "metadata": {},
   "outputs": [
    {
     "data": {
      "text/plain": [
       "8"
      ]
     },
     "execution_count": 34,
     "metadata": {},
     "output_type": "execute_result"
    }
   ],
   "source": [
    "len(n)"
   ]
  },
  {
   "cell_type": "code",
   "execution_count": 30,
   "metadata": {},
   "outputs": [],
   "source": [
    "for i in n.attrib:\n",
    "    print(i)"
   ]
  },
  {
   "cell_type": "code",
   "execution_count": 37,
   "metadata": {},
   "outputs": [
    {
     "ename": "AttributeError",
     "evalue": "'list' object has no attribute 'attrib'",
     "output_type": "error",
     "traceback": [
      "\u001b[0;31m---------------------------------------------------------------------------\u001b[0m",
      "\u001b[0;31mAttributeError\u001b[0m                            Traceback (most recent call last)",
      "\u001b[0;32m<ipython-input-37-c3ff68765e2d>\u001b[0m in \u001b[0;36m<module>\u001b[0;34m()\u001b[0m\n\u001b[0;32m----> 1\u001b[0;31m \u001b[0mn\u001b[0m\u001b[0;34m.\u001b[0m\u001b[0mattrib\u001b[0m\u001b[0;34m\u001b[0m\u001b[0m\n\u001b[0m",
      "\u001b[0;31mAttributeError\u001b[0m: 'list' object has no attribute 'attrib'"
     ]
    }
   ],
   "source": [
    "n.attrib"
   ]
  },
  {
   "cell_type": "code",
   "execution_count": 38,
   "metadata": {},
   "outputs": [],
   "source": [
    "iter =tree.getiterator()"
   ]
  },
  {
   "cell_type": "code",
   "execution_count": 40,
   "metadata": {},
   "outputs": [
    {
     "name": "stdout",
     "output_type": "stream",
     "text": [
      "Experiment {}\n",
      "Name {}\n",
      "UpdateRate {}\n",
      "UpdateDivisor {}\n",
      "Waveform {}\n",
      "Name {}\n",
      "Enabled {}\n",
      "AOLine {}\n",
      "Units {}\n",
      "UnitScaleFactor {}\n",
      "UnitVoltageOffset {}\n",
      "UnitScaleOffset {}\n",
      "PlotColor {}\n",
      "Waveform {}\n",
      "Name {}\n",
      "Enabled {}\n",
      "AOLine {}\n",
      "Units {}\n",
      "UnitScaleFactor {}\n",
      "UnitVoltageOffset {}\n",
      "UnitScaleOffset {}\n",
      "PlotColor {}\n",
      "WaveformComponent_PulseTrain {}\n",
      "Name {}\n",
      "PulseCount {}\n",
      "PulseWidth {}\n",
      "PulseSpacing {}\n",
      "PulsePotentialStart {}\n",
      "PulsePotentialDelta {}\n",
      "RestPotential {}\n",
      "FirstPulseDelay {}\n",
      "Repetitions {}\n",
      "DelayBetweenReps {}\n",
      "WaveformComponent_PulseTrain {}\n",
      "Name {}\n",
      "PulseCount {}\n",
      "PulseWidth {}\n",
      "PulseSpacing {}\n",
      "PulsePotentialStart {}\n",
      "PulsePotentialDelta {}\n",
      "RestPotential {}\n",
      "FirstPulseDelay {}\n",
      "Repetitions {}\n",
      "DelayBetweenReps {}\n",
      "WaveformComponent_PulseTrain {}\n",
      "Name {}\n",
      "PulseCount {}\n",
      "PulseWidth {}\n",
      "PulseSpacing {}\n",
      "PulsePotentialStart {}\n",
      "PulsePotentialDelta {}\n",
      "RestPotential {}\n",
      "FirstPulseDelay {}\n",
      "Repetitions {}\n",
      "DelayBetweenReps {}\n",
      "Waveform {}\n",
      "Name {}\n",
      "Enabled {}\n",
      "AOLine {}\n",
      "Units {}\n",
      "UnitScaleFactor {}\n",
      "UnitVoltageOffset {}\n",
      "UnitScaleOffset {}\n",
      "PlotColor {}\n",
      "WaveformComponent_PulseTrain {}\n",
      "Name {}\n",
      "PulseCount {}\n",
      "PulseWidth {}\n",
      "PulseSpacing {}\n",
      "PulsePotentialStart {}\n",
      "PulsePotentialDelta {}\n",
      "RestPotential {}\n",
      "FirstPulseDelay {}\n",
      "Repetitions {}\n",
      "DelayBetweenReps {}\n",
      "Waveform {}\n",
      "Name {}\n",
      "Enabled {}\n",
      "AOLine {}\n",
      "Units {}\n",
      "UnitScaleFactor {}\n",
      "UnitVoltageOffset {}\n",
      "UnitScaleOffset {}\n",
      "PlotColor {}\n",
      "WaveformComponent_PulseTrain {}\n",
      "Name {}\n",
      "PulseCount {}\n",
      "PulseWidth {}\n",
      "PulseSpacing {}\n",
      "PulsePotentialStart {}\n",
      "PulsePotentialDelta {}\n",
      "RestPotential {}\n",
      "FirstPulseDelay {}\n",
      "Repetitions {}\n",
      "DelayBetweenReps {}\n",
      "Waveform {}\n",
      "Name {}\n",
      "Enabled {}\n",
      "AOLine {}\n",
      "Units {}\n",
      "UnitScaleFactor {}\n",
      "UnitVoltageOffset {}\n",
      "UnitScaleOffset {}\n",
      "PlotColor {}\n",
      "WaveformComponent_PatchAmplifier {}\n",
      "Name {}\n",
      "PulseCount {}\n",
      "PulseWidth {}\n",
      "PulseSpacing {}\n",
      "PulsePotentialStart {}\n",
      "PulsePotentialDelta {}\n",
      "RestPotential {}\n",
      "FirstPulseDelay {}\n",
      "Repetitions {}\n",
      "DelayBetweenReps {}\n",
      "PulseAmplitudeMultiplier {}\n",
      "Waveform {}\n",
      "Name {}\n",
      "Enabled {}\n",
      "AOLine {}\n",
      "Units {}\n",
      "UnitScaleFactor {}\n",
      "UnitVoltageOffset {}\n",
      "UnitScaleOffset {}\n",
      "PlotColor {}\n",
      "Waveform {}\n",
      "Name {}\n",
      "Enabled {}\n",
      "AOLine {}\n",
      "Units {}\n",
      "UnitScaleFactor {}\n",
      "UnitVoltageOffset {}\n",
      "UnitScaleOffset {}\n",
      "PlotColor {}\n",
      "Waveform {}\n",
      "Name {}\n",
      "Enabled {}\n",
      "AOLine {}\n",
      "Units {}\n",
      "UnitScaleFactor {}\n",
      "UnitVoltageOffset {}\n",
      "UnitScaleOffset {}\n",
      "PlotColor {}\n"
     ]
    }
   ],
   "source": [
    "for elem in iter:\n",
    "    print(elem.tag, elem.attrib)"
   ]
  },
  {
   "cell_type": "code",
   "execution_count": 43,
   "metadata": {},
   "outputs": [
    {
     "name": "stdout",
     "output_type": "stream",
     "text": [
      "Name 473\n",
      "Enabled false\n",
      "AOLine 0\n",
      "Units V\n",
      "UnitScaleFactor 1\n",
      "UnitVoltageOffset 0\n",
      "UnitScaleOffset 0\n",
      "PlotColor -256\n",
      "Name amber LED\n",
      "Enabled true\n",
      "AOLine 1\n",
      "Units V\n",
      "UnitScaleFactor 1\n",
      "UnitVoltageOffset 0\n",
      "UnitScaleOffset 0\n",
      "PlotColor -7876870\n",
      "WaveformComponent_PulseTrain \n",
      "      \n",
      "WaveformComponent_PulseTrain \n",
      "      \n",
      "WaveformComponent_PulseTrain \n",
      "      \n",
      "Name Blue LED\n",
      "Enabled false\n",
      "AOLine 2\n",
      "Units V\n",
      "UnitScaleFactor 1\n",
      "UnitVoltageOffset 0\n",
      "UnitScaleOffset 0\n",
      "PlotColor -38476\n",
      "WaveformComponent_PulseTrain \n",
      "      \n",
      "Name Voltage Output 3\n",
      "Enabled false\n",
      "AOLine 3\n",
      "Units pA\n",
      "UnitScaleFactor 2\n",
      "UnitVoltageOffset 0\n",
      "UnitScaleOffset 0\n",
      "PlotColor -8586240\n",
      "WaveformComponent_PulseTrain \n",
      "      \n",
      "Name Voltage Output 4\n",
      "Enabled false\n",
      "AOLine 4\n",
      "Units V\n",
      "UnitScaleFactor 1\n",
      "UnitVoltageOffset 0\n",
      "UnitScaleOffset 0\n",
      "PlotColor -16776961\n",
      "WaveformComponent_PatchAmplifier \n",
      "      \n",
      "Name Uncaging X Galvo\n",
      "Enabled false\n",
      "AOLine 5\n",
      "Units V\n",
      "UnitScaleFactor 1\n",
      "UnitVoltageOffset 0\n",
      "UnitScaleOffset 0\n",
      "PlotColor -65536\n",
      "Name Voltage Output 6\n",
      "Enabled false\n",
      "AOLine 6\n",
      "Units V\n",
      "UnitScaleFactor 1\n",
      "UnitVoltageOffset 0\n",
      "UnitScaleOffset 0\n",
      "PlotColor -23296\n",
      "Name Uncaging Y Galvo\n",
      "Enabled false\n",
      "AOLine 7\n",
      "Units V\n",
      "UnitScaleFactor 1\n",
      "UnitVoltageOffset 0\n",
      "UnitScaleOffset 0\n",
      "PlotColor -7077677\n"
     ]
    }
   ],
   "source": [
    "appoints = root.getchildren()\n",
    "for appoint in appoints:\n",
    "    appt_childs = appoint.getchildren()\n",
    "    for appt_child in appt_childs:\n",
    "        print(appt_child.tag, appt_child.text)\n",
    "        \n",
    "    "
   ]
  },
  {
   "cell_type": "code",
   "execution_count": 44,
   "metadata": {},
   "outputs": [
    {
     "data": {
      "text/plain": [
       "<Element 'Experiment' at 0x7f4ef4679958>"
      ]
     },
     "execution_count": 44,
     "metadata": {},
     "output_type": "execute_result"
    }
   ],
   "source": [
    "root"
   ]
  },
  {
   "cell_type": "code",
   "execution_count": 45,
   "metadata": {},
   "outputs": [],
   "source": [
    "t= root.findall('Waveform')"
   ]
  },
  {
   "cell_type": "code",
   "execution_count": 46,
   "metadata": {},
   "outputs": [
    {
     "data": {
      "text/plain": [
       "8"
      ]
     },
     "execution_count": 46,
     "metadata": {},
     "output_type": "execute_result"
    }
   ],
   "source": [
    "len(t)"
   ]
  },
  {
   "cell_type": "code",
   "execution_count": 59,
   "metadata": {},
   "outputs": [
    {
     "name": "stdout",
     "output_type": "stream",
     "text": [
      "[<Element 'Name' at 0x7f4ef463cf48>]\n",
      "[<Element 'Name' at 0x7f4ef4644278>]\n",
      "[<Element 'Name' at 0x7f4ef4648138>]\n",
      "[<Element 'Name' at 0x7f4ef4648778>]\n",
      "[<Element 'Name' at 0x7f4ef4648db8>]\n",
      "[<Element 'Name' at 0x7f4ef464c4f8>]\n",
      "[<Element 'Name' at 0x7f4ef464c7c8>]\n",
      "[<Element 'Name' at 0x7f4ef464ca98>]\n"
     ]
    }
   ],
   "source": [
    "targetwaveform =[]\n",
    "for wave in t:\n",
    "    name1 = wave.findall('Name')\n",
    "    print(name1)\n",
    "    for n in name1:\n",
    "        if n.text == 'amber LED':\n",
    "            targetwaveform.append(wave)\n",
    "        \n",
    "    "
   ]
  },
  {
   "cell_type": "code",
   "execution_count": 60,
   "metadata": {},
   "outputs": [
    {
     "data": {
      "text/plain": [
       "[<Element 'Waveform' at 0x7f4ef4644228>]"
      ]
     },
     "execution_count": 60,
     "metadata": {},
     "output_type": "execute_result"
    }
   ],
   "source": [
    "targetwaveform"
   ]
  },
  {
   "cell_type": "code",
   "execution_count": 56,
   "metadata": {},
   "outputs": [
    {
     "data": {
      "text/plain": [
       "'473'"
      ]
     },
     "execution_count": 56,
     "metadata": {},
     "output_type": "execute_result"
    }
   ],
   "source": [
    "name1[0].text"
   ]
  },
  {
   "cell_type": "code",
   "execution_count": 68,
   "metadata": {},
   "outputs": [
    {
     "data": {
      "text/plain": [
       "'amber LED'"
      ]
     },
     "execution_count": 68,
     "metadata": {},
     "output_type": "execute_result"
    }
   ],
   "source": [
    "targetwaveform[0].findall('Name')[0].text"
   ]
  },
  {
   "cell_type": "code",
   "execution_count": 74,
   "metadata": {},
   "outputs": [],
   "source": [
    "wavef = targetwaveform[0].findall('WaveformComponent_PulseTrain')"
   ]
  },
  {
   "cell_type": "code",
   "execution_count": 77,
   "metadata": {},
   "outputs": [],
   "source": [
    "timevariables = ['FirstPulseDelay', 'PulsePotentialStart', 'PulseCount', 'PulseWidth', 'PulseSpacing']\n",
    "timedict = {}\n",
    "for v in timevariables:\n",
    "    timedict[v] = []\n",
    "for wave in wavef:\n",
    "    for v in timevariables:\n",
    "        vx = wave.findall(v)\n",
    "        timedict[v].append(vx[0].text)"
   ]
  },
  {
   "cell_type": "code",
   "execution_count": 78,
   "metadata": {},
   "outputs": [
    {
     "data": {
      "text/plain": [
       "{'FirstPulseDelay': ['20000', '30000', '30000'],\n",
       " 'PulsePotentialStart': ['1', '2', '4'],\n",
       " 'PulseCount': ['100', '100', '100'],\n",
       " 'PulseWidth': ['2', '2', '2'],\n",
       " 'PulseSpacing': ['18', '18', '18']}"
      ]
     },
     "execution_count": 78,
     "metadata": {},
     "output_type": "execute_result"
    }
   ],
   "source": [
    "timedict"
   ]
  },
  {
   "cell_type": "code",
   "execution_count": 80,
   "metadata": {},
   "outputs": [],
   "source": [
    "import pandas as pd"
   ]
  },
  {
   "cell_type": "code",
   "execution_count": 83,
   "metadata": {},
   "outputs": [
    {
     "data": {
      "text/html": [
       "<div>\n",
       "<style>\n",
       "    .dataframe thead tr:only-child th {\n",
       "        text-align: right;\n",
       "    }\n",
       "\n",
       "    .dataframe thead th {\n",
       "        text-align: left;\n",
       "    }\n",
       "\n",
       "    .dataframe tbody tr th {\n",
       "        vertical-align: top;\n",
       "    }\n",
       "</style>\n",
       "<table border=\"1\" class=\"dataframe\">\n",
       "  <thead>\n",
       "    <tr style=\"text-align: right;\">\n",
       "      <th></th>\n",
       "      <th>FirstPulseDelay</th>\n",
       "      <th>PulseCount</th>\n",
       "      <th>PulsePotentialStart</th>\n",
       "      <th>PulseSpacing</th>\n",
       "      <th>PulseWidth</th>\n",
       "    </tr>\n",
       "  </thead>\n",
       "  <tbody>\n",
       "    <tr>\n",
       "      <th>0</th>\n",
       "      <td>20000</td>\n",
       "      <td>100</td>\n",
       "      <td>1</td>\n",
       "      <td>18</td>\n",
       "      <td>2</td>\n",
       "    </tr>\n",
       "    <tr>\n",
       "      <th>1</th>\n",
       "      <td>30000</td>\n",
       "      <td>100</td>\n",
       "      <td>2</td>\n",
       "      <td>18</td>\n",
       "      <td>2</td>\n",
       "    </tr>\n",
       "    <tr>\n",
       "      <th>2</th>\n",
       "      <td>30000</td>\n",
       "      <td>100</td>\n",
       "      <td>4</td>\n",
       "      <td>18</td>\n",
       "      <td>2</td>\n",
       "    </tr>\n",
       "  </tbody>\n",
       "</table>\n",
       "</div>"
      ],
      "text/plain": [
       "  FirstPulseDelay PulseCount PulsePotentialStart PulseSpacing PulseWidth\n",
       "0           20000        100                   1           18          2\n",
       "1           30000        100                   2           18          2\n",
       "2           30000        100                   4           18          2"
      ]
     },
     "execution_count": 83,
     "metadata": {},
     "output_type": "execute_result"
    }
   ],
   "source": [
    "frame1 = pd.DataFrame(timedict)\n",
    "frame1"
   ]
  },
  {
   "cell_type": "code",
   "execution_count": 86,
   "metadata": {},
   "outputs": [],
   "source": [
    "#testing voltage data from mat scanimage file\n",
    "from scipy.io import  loadmat"
   ]
  },
  {
   "cell_type": "code",
   "execution_count": 88,
   "metadata": {},
   "outputs": [],
   "source": [
    "matfile = '/media/daniel/Windows1/Users/dnabu/Desktop/ResearchYogaWindows/DataJ/A/A63_ASAP/A63_data/20180605/20180604-A63-3-flya_voltstim_00001/20180604-A63-3-flya_voltstim_00001_stim.mat'\n",
    "stimdata = loadmat(matfile)\n",
    "stimdata = stimdata['AOBuffer']"
   ]
  },
  {
   "cell_type": "code",
   "execution_count": 90,
   "metadata": {},
   "outputs": [
    {
     "data": {
      "text/plain": [
       "(20000, 1)"
      ]
     },
     "execution_count": 90,
     "metadata": {},
     "output_type": "execute_result"
    },
    {
     "data": {
      "image/png": "[encoded data removed]",
      "text/plain": [
       "<Figure size 432x288 with 1 Axes>"
      ]
     },
     "metadata": {},
     "output_type": "display_data"
    }
   ],
   "source": [
    "import matplotlib.pyplot as plt\n",
    "% matplotlib inline\n",
    "plt.plot(stimdata)\n",
    "stimdata.shape"
   ]
  },
  {
   "cell_type": "code",
   "execution_count": 92,
   "metadata": {},
   "outputs": [],
   "source": [
    "import numpy as np"
   ]
  },
  {
   "cell_type": "code",
   "execution_count": 109,
   "metadata": {},
   "outputs": [
    {
     "name": "stdout",
     "output_type": "stream",
     "text": [
      "(array([ 2998,  5998,  8998, 11998, 14998, 17998]),)\n"
     ]
    }
   ],
   "source": [
    "stimdataBin = stimdata.copy()\n",
    "stimdataBin[stimdata > 0] = 1\n",
    "index = np.where(np.diff(stimdataBin.flatten()) == 1)\n",
    "print(index)"
   ]
  },
  {
   "cell_type": "code",
   "execution_count": 101,
   "metadata": {},
   "outputs": [
    {
     "data": {
      "text/plain": [
       "[<matplotlib.lines.Line2D at 0x7f4eb2a1a208>]"
      ]
     },
     "execution_count": 101,
     "metadata": {},
     "output_type": "execute_result"
    },
    {
     "data": {
      "image/png": "[encoded data removed]",
      "text/plain": [
       "<Figure size 432x288 with 1 Axes>"
      ]
     },
     "metadata": {},
     "output_type": "display_data"
    }
   ],
   "source": [
    "#binary = np.diff(stimdataBin)\n",
    "plt.plot(stimdataBin)"
   ]
  },
  {
   "cell_type": "code",
   "execution_count": 105,
   "metadata": {},
   "outputs": [
    {
     "data": {
      "text/plain": [
       "array([ 0.,  0.,  0., ...,  0.,  0.,  0.])"
      ]
     },
     "execution_count": 105,
     "metadata": {},
     "output_type": "execute_result"
    }
   ],
   "source": [
    "starts = np.diff(stimdataBin.flatten())\n"
   ]
  },
  {
   "cell_type": "code",
   "execution_count": 110,
   "metadata": {},
   "outputs": [
    {
     "data": {
      "text/html": [
       "<div>\n",
       "<style>\n",
       "    .dataframe thead tr:only-child th {\n",
       "        text-align: right;\n",
       "    }\n",
       "\n",
       "    .dataframe thead th {\n",
       "        text-align: left;\n",
       "    }\n",
       "\n",
       "    .dataframe tbody tr th {\n",
       "        vertical-align: top;\n",
       "    }\n",
       "</style>\n",
       "<table border=\"1\" class=\"dataframe\">\n",
       "  <thead>\n",
       "    <tr style=\"text-align: right;\">\n",
       "      <th></th>\n",
       "      <th>FirstPulseDelay</th>\n",
       "      <th>PulseCount</th>\n",
       "      <th>PulsePotentialStart</th>\n",
       "      <th>PulseSpacing</th>\n",
       "      <th>PulseWidth</th>\n",
       "    </tr>\n",
       "  </thead>\n",
       "  <tbody>\n",
       "    <tr>\n",
       "      <th>0</th>\n",
       "      <td>20000</td>\n",
       "      <td>100</td>\n",
       "      <td>1</td>\n",
       "      <td>18</td>\n",
       "      <td>2</td>\n",
       "    </tr>\n",
       "    <tr>\n",
       "      <th>1</th>\n",
       "      <td>30000</td>\n",
       "      <td>100</td>\n",
       "      <td>2</td>\n",
       "      <td>18</td>\n",
       "      <td>2</td>\n",
       "    </tr>\n",
       "    <tr>\n",
       "      <th>2</th>\n",
       "      <td>30000</td>\n",
       "      <td>100</td>\n",
       "      <td>4</td>\n",
       "      <td>18</td>\n",
       "      <td>2</td>\n",
       "    </tr>\n",
       "  </tbody>\n",
       "</table>\n",
       "</div>"
      ],
      "text/plain": [
       "  FirstPulseDelay PulseCount PulsePotentialStart PulseSpacing PulseWidth\n",
       "0           20000        100                   1           18          2\n",
       "1           30000        100                   2           18          2\n",
       "2           30000        100                   4           18          2"
      ]
     },
     "execution_count": 110,
     "metadata": {},
     "output_type": "execute_result"
    }
   ],
   "source": [
    "frame1"
   ]
  },
  {
   "cell_type": "code",
   "execution_count": 128,
   "metadata": {},
   "outputs": [],
   "source": [
    "#create an index start stop\n",
    "frame1['start (cs)'] = ''\n",
    "frame1['stop (cs)'] = ''\n",
    "for row in range(len(frame1)):\n",
    "    sum1 = frame1['FirstPulseDelay'].iloc[:row+1].as_matrix().astype(np.int64).sum()\n",
    "    frame1['start (cs)'].iloc[row] = sum1 -1\n",
    "    duration = int(frame1['PulseCount'].iloc[row]) * (int(frame1['PulseWidth'].iloc[row]) +int(frame1['PulseSpacing'].iloc[row]))\n",
    "    frame1['stop (cs)'].iloc[row] = duration + frame1['start (cs)'].iloc[row] -1\n",
    "    "
   ]
  },
  {
   "cell_type": "code",
   "execution_count": 129,
   "metadata": {},
   "outputs": [
    {
     "data": {
      "text/html": [
       "<div>\n",
       "<style>\n",
       "    .dataframe thead tr:only-child th {\n",
       "        text-align: right;\n",
       "    }\n",
       "\n",
       "    .dataframe thead th {\n",
       "        text-align: left;\n",
       "    }\n",
       "\n",
       "    .dataframe tbody tr th {\n",
       "        vertical-align: top;\n",
       "    }\n",
       "</style>\n",
       "<table border=\"1\" class=\"dataframe\">\n",
       "  <thead>\n",
       "    <tr style=\"text-align: right;\">\n",
       "      <th></th>\n",
       "      <th>FirstPulseDelay</th>\n",
       "      <th>PulseCount</th>\n",
       "      <th>PulsePotentialStart</th>\n",
       "      <th>PulseSpacing</th>\n",
       "      <th>PulseWidth</th>\n",
       "      <th>start (cs)</th>\n",
       "      <th>stop (cs)</th>\n",
       "    </tr>\n",
       "  </thead>\n",
       "  <tbody>\n",
       "    <tr>\n",
       "      <th>0</th>\n",
       "      <td>20000</td>\n",
       "      <td>100</td>\n",
       "      <td>1</td>\n",
       "      <td>18</td>\n",
       "      <td>2</td>\n",
       "      <td>19999</td>\n",
       "      <td>21998</td>\n",
       "    </tr>\n",
       "    <tr>\n",
       "      <th>1</th>\n",
       "      <td>30000</td>\n",
       "      <td>100</td>\n",
       "      <td>2</td>\n",
       "      <td>18</td>\n",
       "      <td>2</td>\n",
       "      <td>49999</td>\n",
       "      <td>51998</td>\n",
       "    </tr>\n",
       "    <tr>\n",
       "      <th>2</th>\n",
       "      <td>30000</td>\n",
       "      <td>100</td>\n",
       "      <td>4</td>\n",
       "      <td>18</td>\n",
       "      <td>2</td>\n",
       "      <td>79999</td>\n",
       "      <td>81998</td>\n",
       "    </tr>\n",
       "  </tbody>\n",
       "</table>\n",
       "</div>"
      ],
      "text/plain": [
       "  FirstPulseDelay PulseCount PulsePotentialStart PulseSpacing PulseWidth  \\\n",
       "0           20000        100                   1           18          2   \n",
       "1           30000        100                   2           18          2   \n",
       "2           30000        100                   4           18          2   \n",
       "\n",
       "  start (cs) stop (cs)  \n",
       "0      19999     21998  \n",
       "1      49999     51998  \n",
       "2      79999     81998  "
      ]
     },
     "execution_count": 129,
     "metadata": {},
     "output_type": "execute_result"
    }
   ],
   "source": [
    "frame1"
   ]
  },
  {
   "cell_type": "code",
   "execution_count": 132,
   "metadata": {},
   "outputs": [],
   "source": [
    "matrix = np.zeros(135*100)\n",
    "for row, dseries in frame1.iterrows():\n",
    "    matrix[int(frame1['start (cs)'].loc[row]/10) : int(frame1['stop (cs)'].loc[row]/10)] = frame1['PulsePotentialStart'].loc[row]\n",
    "    "
   ]
  },
  {
   "cell_type": "code",
   "execution_count": 133,
   "metadata": {},
   "outputs": [
    {
     "data": {
      "text/plain": [
       "[<matplotlib.lines.Line2D at 0x7f4eb2844ef0>]"
      ]
     },
     "execution_count": 133,
     "metadata": {},
     "output_type": "execute_result"
    },
    {
     "data": {
      "image/png": "[encoded data removed]",
      "text/plain": [
       "<Figure size 432x288 with 1 Axes>"
      ]
     },
     "metadata": {},
     "output_type": "display_data"
    }
   ],
   "source": [
    "plt.plot(matrix)"
   ]
  },
  {
   "cell_type": "code",
   "execution_count": 141,
   "metadata": {},
   "outputs": [],
   "source": [
    "import xml.etree.ElementTree as ET\n",
    "def getVoltage(xml_file, target_element = 'amber LED', time = 135 ):\n",
    "    '''\n",
    "    xml_file = path to xml file\n",
    "    target_element = led used in stimulation\n",
    "    time = total time in s for experiment\n",
    "    return matrix similar to scanimage with intervales every 1 centisecond and equaling voltage\n",
    "    '''\n",
    "    tree = ET.parse(targetfile)\n",
    "    root = tree.getroot()\n",
    "    #the xml file is divided into waveforms. Each waveform contains a different stimulus.\n",
    "    findwaves= root.findall('Waveform')   \n",
    "    #find the waveform with the target stimulus\n",
    "    targetwaveform =[]    \n",
    "    for wave in findwaves:\n",
    "        name1 = wave.findall('Name')\n",
    "        #print(name1)\n",
    "        for n in name1:\n",
    "            if n.text == target_element:\n",
    "                targetwaveform.append(wave)\n",
    "    #get the stimulation data for each stimulus period in the waveform\n",
    "    wavef = targetwaveform[0].findall('WaveformComponent_PulseTrain')\n",
    "    timevariables = ['FirstPulseDelay', 'PulsePotentialStart', 'PulseCount', 'PulseWidth', 'PulseSpacing']\n",
    "    timedict = {}\n",
    "    for v in timevariables:\n",
    "        timedict[v] = []\n",
    "    for wave in wavef:\n",
    "        for v in timevariables:\n",
    "            vx = wave.findall(v)\n",
    "            timedict[v].append(vx[0].text)\n",
    "            \n",
    "    frame1 = pd.DataFrame(timedict) \n",
    "    #create an index start stop\n",
    "    frame1['start'] = ''\n",
    "    frame1['stop'] = ''\n",
    "    for row in range(len(frame1)):\n",
    "        sum1 = frame1['FirstPulseDelay'].iloc[:row+1].as_matrix().astype(np.int64).sum()\n",
    "        frame1['start'].iloc[row] = sum1 -1\n",
    "        duration = int(frame1['PulseCount'].iloc[row]) * (int(frame1['PulseWidth'].iloc[row]) +int(frame1['PulseSpacing'].iloc[row]))\n",
    "        frame1['stop'].iloc[row] = duration + frame1['start'].iloc[row] -1\n",
    "    #generate a matrix with the same time s *100 (cs) as scanimage outputs\n",
    "    matrix = np.zeros(time*100)\n",
    "    for row, dseries in frame1.iterrows():\n",
    "        matrix[int(frame1['start'].loc[row]/10) : int(frame1['stop'].loc[row]/10)] = frame1['PulsePotentialStart'].loc[row]\n",
    "    return matrix"
   ]
  },
  {
   "cell_type": "code",
   "execution_count": 142,
   "metadata": {},
   "outputs": [],
   "source": [
    "matrix1 = getVoltage(targetfile)"
   ]
  },
  {
   "cell_type": "code",
   "execution_count": 143,
   "metadata": {},
   "outputs": [
    {
     "data": {
      "text/plain": [
       "[<matplotlib.lines.Line2D at 0x7f4eb26d55c0>]"
      ]
     },
     "execution_count": 143,
     "metadata": {},
     "output_type": "execute_result"
    },
    {
     "data": {
      "image/png": "[encoded data removed]",
      "text/plain": [
       "<Figure size 432x288 with 1 Axes>"
      ]
     },
     "metadata": {},
     "output_type": "display_data"
    }
   ],
   "source": [
    "plt.plot(matrix1)"
   ]
  },
  {
   "cell_type": "code",
   "execution_count": null,
   "metadata": {},
   "outputs": [],
   "source": []
  }
 ],
 "metadata": {
  "kernelspec": {
   "display_name": "Python 3",
   "language": "python",
   "name": "python3"
  },
  "language_info": {
   "codemirror_mode": {
    "name": "ipython",
    "version": 3
   },
   "file_extension": ".py",
   "mimetype": "text/x-python",
   "name": "python",
   "nbconvert_exporter": "python",
   "pygments_lexer": "ipython3",
   "version": "3.6.4"
  }
 },
 "nbformat": 4,
 "nbformat_minor": 2
}
