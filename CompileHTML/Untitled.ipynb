{
 "cells": [
  {
   "cell_type": "code",
   "execution_count": 4,
   "metadata": {},
   "outputs": [
    {
     "ename": "ModuleNotFoundError",
     "evalue": "No module named 'bokeh.models.widgets.layouts'",
     "output_type": "error",
     "traceback": [
      "\u001b[0;31m---------------------------------------------------------------------------\u001b[0m",
      "\u001b[0;31mModuleNotFoundError\u001b[0m                       Traceback (most recent call last)",
      "\u001b[0;32m<ipython-input-4-71e15e470d80>\u001b[0m in \u001b[0;36m<module>\u001b[0;34m\u001b[0m\n\u001b[1;32m      5\u001b[0m \u001b[0;34m\u001b[0m\u001b[0m\n\u001b[1;32m      6\u001b[0m \u001b[0;32mfrom\u001b[0m \u001b[0mbokeh\u001b[0m\u001b[0;34m.\u001b[0m\u001b[0mmodels\u001b[0m\u001b[0;34m.\u001b[0m\u001b[0mwidgets\u001b[0m \u001b[0;32mimport\u001b[0m \u001b[0mSelect\u001b[0m\u001b[0;34m,\u001b[0m\u001b[0mTextInput\u001b[0m\u001b[0;34m\u001b[0m\u001b[0m\n\u001b[0;32m----> 7\u001b[0;31m \u001b[0;32mfrom\u001b[0m \u001b[0mbokeh\u001b[0m\u001b[0;34m.\u001b[0m\u001b[0mmodels\u001b[0m\u001b[0;34m.\u001b[0m\u001b[0mwidgets\u001b[0m\u001b[0;34m.\u001b[0m\u001b[0mlayouts\u001b[0m \u001b[0;32mimport\u001b[0m \u001b[0mHBox\u001b[0m\u001b[0;34m,\u001b[0m \u001b[0mVBox\u001b[0m\u001b[0;34m\u001b[0m\u001b[0m\n\u001b[0m\u001b[1;32m      8\u001b[0m \u001b[0;32mimport\u001b[0m \u001b[0mbokeh\u001b[0m\u001b[0;34m.\u001b[0m\u001b[0mio\u001b[0m\u001b[0;34m\u001b[0m\u001b[0m\n\u001b[1;32m      9\u001b[0m \u001b[0;32mfrom\u001b[0m \u001b[0mbokeh\u001b[0m\u001b[0;34m.\u001b[0m\u001b[0mmodels\u001b[0m \u001b[0;32mimport\u001b[0m \u001b[0mCustomJS\u001b[0m\u001b[0;34m\u001b[0m\u001b[0m\n",
      "\u001b[0;31mModuleNotFoundError\u001b[0m: No module named 'bokeh.models.widgets.layouts'"
     ]
    }
   ],
   "source": [
    "import numpy as np\n",
    "\n",
    "from bokeh.models import ColumnDataSource\n",
    "from bokeh.plotting import Figure\n",
    "\n",
    "from bokeh.models.widgets import Select,TextInput\n",
    "from bokeh.models.widgets.layouts import HBox, VBox\n",
    "import bokeh.io \n",
    "from bokeh.models import CustomJS\n",
    "\n",
    "N = 200\n",
    "\n",
    "# Define the data to be used\n",
    "x = np.linspace(0,4.*np.pi,N)\n",
    "y = 3*np.cos(2*np.pi*x + np.pi*0.2)\n",
    "z = 0.5*np.sin(2*np.pi*0.8*x + np.pi*0.4)\n",
    "\n",
    "source = ColumnDataSource(data={'x':x,'y':y, 'X': x, 'cos':y,'sin':z})\n",
    "\n",
    "\n",
    "code=\"\"\"\n",
    "        var data = source.get('data');\n",
    "        var r = data[cb_obj.get('value')];\n",
    "        var {var} = data[cb_obj.get('value')];\n",
    "        //window.alert( \"{var} \" + cb_obj.get('value') + {var}  );\n",
    "        for (i = 0; i < r.length; i++) {{\n",
    "            {var}[i] = r[i] ;\n",
    "            data['{var}'][i] = r[i];\n",
    "        }}\n",
    "        source.trigger('change');\n",
    "    \"\"\"\n",
    "\n",
    "callbackx = CustomJS(args=dict(source=source), code=code.format(var=\"x\"))\n",
    "callbacky = CustomJS(args=dict(source=source), code=code.format(var=\"y\"))\n",
    "\n",
    "# create a new plot \n",
    "plot = Figure(title=None)\n",
    "\n",
    "# Make a line and connect to data source\n",
    "plot.line(x=\"x\", y=\"y\", line_color=\"#F46D43\", line_width=6, line_alpha=0.6, source=source)\n",
    "\n",
    "\n",
    "# Add list boxes for selecting which columns to plot on the x and y axis\n",
    "yaxis_select = Select(title=\"Y axis:\", value=\"cos\",\n",
    "                           options=['X','cos','sin'], callback=callbacky)\n",
    "\n",
    "\n",
    "xaxis_select = Select(title=\"X axis:\", value=\"x\",\n",
    "                           options=['X','cos','sin'], callback=callbackx)\n",
    "\n",
    "\n",
    "# Text input as a title\n",
    "text = TextInput(title=\"title\", value='my sine wave plotter')\n",
    "\n",
    "# Layout widgets next to the plot                     \n",
    "controls = VBox(text,yaxis_select,xaxis_select)\n",
    "\n",
    "layout = HBox(controls,plot,width=800)\n",
    "\n",
    "bokeh.io.show(layout)"
   ]
  },
  {
   "cell_type": "code",
   "execution_count": null,
   "metadata": {},
   "outputs": [],
   "source": []
  }
 ],
 "metadata": {
  "kernelspec": {
   "display_name": "Python 3",
   "language": "python",
   "name": "python3"
  },
  "language_info": {
   "codemirror_mode": {
    "name": "ipython",
    "version": 3
   },
   "file_extension": ".py",
   "mimetype": "text/x-python",
   "name": "python",
   "nbconvert_exporter": "python",
   "pygments_lexer": "ipython3",
   "version": "3.6.6"
  }
 },
 "nbformat": 4,
 "nbformat_minor": 2
}
