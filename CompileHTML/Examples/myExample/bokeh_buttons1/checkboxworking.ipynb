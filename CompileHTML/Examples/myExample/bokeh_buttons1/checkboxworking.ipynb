{
 "cells": [
  {
   "cell_type": "code",
   "execution_count": 2,
   "metadata": {},
   "outputs": [],
   "source": [
    "import numpy as np\n",
    "\n",
    "from bokeh.io import output_file, show\n",
    "from bokeh.layouts import row\n",
    "from bokeh.palettes import Viridis3\n",
    "from bokeh.plotting import figure\n",
    "from bokeh.models import CheckboxGroup, CustomJS\n",
    "\n",
    "output_file(\"line_on_off.html\", title=\"line_on_off.py example\")\n",
    "\n",
    "code = \"\"\"\n",
    "    if (0 in checkbox.active) {\n",
    "        l0.visible = true\n",
    "    } else {\n",
    "        l0.visible = false\n",
    "    }\n",
    "    if (1 in checkbox.active) {\n",
    "        l1.visible = true\n",
    "    } else {\n",
    "        l1.visible = false\n",
    "    }\n",
    "    if (2 in checkbox.active) {\n",
    "        l2.visible = true\n",
    "    } else {\n",
    "        l2.visible = false\n",
    "    }\n",
    "\"\"\"\n",
    "\n",
    "p = figure()\n",
    "props = dict(line_width=4, line_alpha=0.7)\n",
    "x = np.linspace(0, 4 * np.pi, 100)\n",
    "l0 = p.line(x, np.sin(x), color=Viridis3[0], legend=\"Line 0\", **props)\n",
    "l1 = p.line(x, 4 * np.cos(x), color=Viridis3[1], legend=\"Line 1\", **props)\n",
    "l2 = p.line(x, np.tan(x), color=Viridis3[2], legend=\"Line 2\", **props)\n",
    "\n",
    "callback = CustomJS(code=code, args={})\n",
    "checkbox = CheckboxGroup(labels=[\"Line 0\", \"Line 1\", \"Line 2\"], active=[0, 1, 2], callback=callback, width=100)\n",
    "callback.args = dict(l0=l0, l1=l1, l2=l2, checkbox=checkbox)\n",
    "\n",
    "layout = row(checkbox, p)\n",
    "show(layout)"
   ]
  },
  {
   "cell_type": "code",
   "execution_count": null,
   "metadata": {},
   "outputs": [],
   "source": []
  }
 ],
 "metadata": {
  "kernelspec": {
   "display_name": "Python 3",
   "language": "python",
   "name": "python3"
  },
  "language_info": {
   "codemirror_mode": {
    "name": "ipython",
    "version": 3
   },
   "file_extension": ".py",
   "mimetype": "text/x-python",
   "name": "python",
   "nbconvert_exporter": "python",
   "pygments_lexer": "ipython3",
   "version": "3.6.6"
  }
 },
 "nbformat": 4,
 "nbformat_minor": 2
}
