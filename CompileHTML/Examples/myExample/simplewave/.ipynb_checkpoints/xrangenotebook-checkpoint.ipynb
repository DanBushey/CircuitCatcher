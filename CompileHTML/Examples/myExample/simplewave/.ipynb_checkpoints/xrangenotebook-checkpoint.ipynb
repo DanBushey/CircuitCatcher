{
 "cells": [
  {
   "cell_type": "code",
   "execution_count": 1,
   "metadata": {},
   "outputs": [],
   "source": [
    "from bokeh.io import show, output_file\n",
    "from bokeh.plotting import figure\n",
    "from bokeh.layouts import column\n",
    "from bokeh.models import CustomJS, Slider\n",
    "from bokeh.io import output_notebook\n",
    "output_notebook()\n",
    "\n",
    "output_file('testing_range_setting.html')\n",
    "\n",
    "p = figure()\n",
    "p.line(x=[1, 2, 3, 4, 5], y=[1, 2, 3, 4, 5])\n",
    "\n",
    "callback = CustomJS(args=dict(x=p.x_range), code=\"\"\"\n",
    "var end = cb_obj.value;\n",
    "x.end = end;\n",
    "    \"\"\")\n",
    "\n",
    "sld = Slider(start=0.1, end=10, value=1, step=.1,\n",
    "             title=\"X-range\", callback=callback)\n",
    "\n",
    "show(column(sld, p))"
   ]
  },
  {
   "cell_type": "code",
   "execution_count": null,
   "metadata": {},
   "outputs": [],
   "source": []
  }
 ],
 "metadata": {
  "kernelspec": {
   "display_name": "Python 3",
   "language": "python",
   "name": "python3"
  },
  "language_info": {
   "codemirror_mode": {
    "name": "ipython",
    "version": 3
   },
   "file_extension": ".py",
   "mimetype": "text/x-python",
   "name": "python",
   "nbconvert_exporter": "python",
   "pygments_lexer": "ipython3",
   "version": "3.6.6"
  }
 },
 "nbformat": 4,
 "nbformat_minor": 2
}
