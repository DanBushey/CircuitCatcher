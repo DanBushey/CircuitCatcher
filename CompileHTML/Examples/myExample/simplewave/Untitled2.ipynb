{
 "cells": [
  {
   "cell_type": "code",
   "execution_count": 1,
   "metadata": {},
   "outputs": [],
   "source": [
    "from bokeh.layouts import column\n",
    "from bokeh.models.widgets import Button, Select\n",
    "from bokeh.io import curdoc\n",
    "\n",
    "def add_select():\n",
    "    feature = Select(value='feat', options=[\"a\"])\n",
    "    dynamic_col.children.insert(-1, feature)\n",
    "\n",
    "b1 = Button(label=\"Add condition\", button_type=\"success\")\n",
    "b1.on_click(add_select)\n",
    "\n",
    "b2 = Button(label=\"Apply\", button_type=\"success\")\n",
    "\n",
    "dynamic_col = column(b1, b2)\n",
    "curdoc().add_root(dynamic_col)"
   ]
  },
  {
   "cell_type": "code",
   "execution_count": null,
   "metadata": {},
   "outputs": [],
   "source": []
  }
 ],
 "metadata": {
  "kernelspec": {
   "display_name": "Python 3",
   "language": "python",
   "name": "python3"
  },
  "language_info": {
   "codemirror_mode": {
    "name": "ipython",
    "version": 3
   },
   "file_extension": ".py",
   "mimetype": "text/x-python",
   "name": "python",
   "nbconvert_exporter": "python",
   "pygments_lexer": "ipython3",
   "version": "3.6.6"
  }
 },
 "nbformat": 4,
 "nbformat_minor": 2
}
