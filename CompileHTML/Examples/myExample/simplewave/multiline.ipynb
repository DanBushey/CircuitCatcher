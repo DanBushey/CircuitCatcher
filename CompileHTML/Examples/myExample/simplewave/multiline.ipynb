{
 "cells": [
  {
   "cell_type": "code",
   "execution_count": 1,
   "metadata": {},
   "outputs": [],
   "source": [
    "\n",
    "import numpy as np\n",
    "from collections import defaultdict\n",
    "from scipy.stats import norm\n",
    "\n",
    "from bokeh.plotting import show, figure\n",
    "from bokeh.models import HoverTool, TapTool\n",
    "from bokeh.layouts import gridplot\n",
    "from bokeh.palettes import Viridis6\n",
    "\n",
    "mass_spec = defaultdict(list)\n",
    "\n",
    "RT_x = np.linspace(118, 123, num=50)\n",
    "norm_dist = norm(loc=120.4).pdf(RT_x)\n",
    "\n",
    "# Generate several gaussian distributions and spectral lines\n",
    "for scale, mz in [(1.0, 83), (0.9, 55), (0.6, 98), (0.4, 43), (0.2, 39), (0.12, 29)]:\n",
    "    mass_spec[\"RT\"].append(RT_x)\n",
    "    mass_spec[\"RT_intensity\"].append(norm_dist * scale)\n",
    "    mass_spec[\"MZ\"].append([mz, mz])\n",
    "    mass_spec[\"MZ_intensity\"].append([0, scale])\n",
    "    mass_spec['MZ_tip'].append(mz)\n",
    "    mass_spec['Intensity_tip'].append(scale)\n",
    "\n",
    "mass_spec['color'] = Viridis6\n",
    "\n",
    "figure_opts = dict(plot_width=450, plot_height=300)\n",
    "hover_opts = dict(\n",
    "    tooltips=[('MZ', '@MZ_tip'), ('Rel Intensity', '@Intensity_tip')],\n",
    "    show_arrow=False,\n",
    "    line_policy='next'\n",
    ")\n",
    "line_opts = dict(\n",
    "    line_width=5, line_color='color', line_alpha=0.6,\n",
    "    hover_line_color='color', hover_line_alpha=1.0,\n",
    "    source=mass_spec\n",
    ")\n",
    "\n",
    "rt_plot = figure(tools=[HoverTool(**hover_opts), TapTool()], **figure_opts)\n",
    "rt_plot.multi_line(xs='RT', ys='RT_intensity', legend=\"Intensity_tip\", **line_opts)\n",
    "rt_plot.xaxis.axis_label = \"Retention Time (sec)\"\n",
    "rt_plot.yaxis.axis_label = \"Intensity\"\n",
    "\n",
    "mz_plot = figure(tools=[HoverTool(**hover_opts), TapTool()], **figure_opts)\n",
    "mz_plot.multi_line(xs='MZ', ys='MZ_intensity', legend=\"Intensity_tip\", **line_opts)\n",
    "mz_plot.legend.location = \"top_center\"\n",
    "mz_plot.xaxis.axis_label = \"MZ\"\n",
    "mz_plot.yaxis.axis_label = \"Intensity\"\n",
    "\n",
    "show(gridplot([[rt_plot, mz_plot]]))"
   ]
  },
  {
   "cell_type": "code",
   "execution_count": null,
   "metadata": {},
   "outputs": [],
   "source": []
  }
 ],
 "metadata": {
  "kernelspec": {
   "display_name": "Python 3",
   "language": "python",
   "name": "python3"
  },
  "language_info": {
   "codemirror_mode": {
    "name": "ipython",
    "version": 3
   },
   "file_extension": ".py",
   "mimetype": "text/x-python",
   "name": "python",
   "nbconvert_exporter": "python",
   "pygments_lexer": "ipython3",
   "version": "3.6.6"
  }
 },
 "nbformat": 4,
 "nbformat_minor": 2
}
