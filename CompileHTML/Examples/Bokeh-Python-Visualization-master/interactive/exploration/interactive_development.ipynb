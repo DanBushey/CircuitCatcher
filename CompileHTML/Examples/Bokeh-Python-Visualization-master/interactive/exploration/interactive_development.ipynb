{
 "cells": [
  {
   "cell_type": "markdown",
   "metadata": {},
   "source": [
    "# Interactive Plots \n",
    "\n",
    "## Active Interactions: Checkboxes and Sliders"
   ]
  },
  {
   "cell_type": "code",
   "execution_count": 1,
   "metadata": {},
   "outputs": [
    {
     "data": {
      "text/html": [
       "<script>\n",
       "code_show=true; \n",
       "function code_toggle() {\n",
       " if (code_show){\n",
       " $('div.input').hide();\n",
       " } else {\n",
       " $('div.input').show();\n",
       " }\n",
       " code_show = !code_show\n",
       "} \n",
       "$( document ).ready(code_toggle);\n",
       "</script>\n",
       "The raw code for this IPython notebook is by default hidden for easier reading.\n",
       "To toggle on/off the raw code, click <a href=\"javascript:code_toggle()\">here</a>."
      ],
      "text/plain": [
       "<IPython.core.display.HTML object>"
      ]
     },
     "execution_count": 1,
     "metadata": {},
     "output_type": "execute_result"
    }
   ],
   "source": [
    "from IPython.display import HTML\n",
    "HTML('''<script>\n",
    "code_show=true; \n",
    "function code_toggle() {\n",
    " if (code_show){\n",
    " $('div.input').hide();\n",
    " } else {\n",
    " $('div.input').show();\n",
    " }\n",
    " code_show = !code_show\n",
    "} \n",
    "$( document ).ready(code_toggle);\n",
    "</script>\n",
    "The raw code for this IPython notebook is by default hidden for easier reading.\n",
    "To toggle on/off the raw code, click <a href=\"javascript:code_toggle()\">here</a>.''')\n"
   ]
  },
  {
   "cell_type": "code",
   "execution_count": 2,
   "metadata": {},
   "outputs": [],
   "source": [
    "import pandas as pd\n",
    "import numpy as np"
   ]
  },
  {
   "cell_type": "code",
   "execution_count": 3,
   "metadata": {},
   "outputs": [
    {
     "data": {
      "text/html": [
       "\n",
       "    <div class=\"bk-root\">\n",
       "        <a href=\"https://bokeh.pydata.org\" target=\"_blank\" class=\"bk-logo bk-logo-small bk-logo-notebook\"></a>\n",
       "        <span id=\"c6f62232-e919-4bdf-a607-ae1f680df8ea\">Loading BokehJS ...</span>\n",
       "    </div>"
      ]
     },
     "metadata": {},
     "output_type": "display_data"
    },
    {
     "data": {
      "application/javascript": [
       "\n",
       "(function(root) {\n",
       "  function now() {\n",
       "    return new Date();\n",
       "  }\n",
       "\n",
       "  var force = true;\n",
       "\n",
       "  if (typeof (root._bokeh_onload_callbacks) === \"undefined\" || force === true) {\n",
       "    root._bokeh_onload_callbacks = [];\n",
       "    root._bokeh_is_loading = undefined;\n",
       "  }\n",
       "\n",
       "  var JS_MIME_TYPE = 'application/javascript';\n",
       "  var HTML_MIME_TYPE = 'text/html';\n",
       "  var EXEC_MIME_TYPE = 'application/vnd.bokehjs_exec.v0+json';\n",
       "  var CLASS_NAME = 'output_bokeh rendered_html';\n",
       "\n",
       "  /**\n",
       "   * Render data to the DOM node\n",
       "   */\n",
       "  function render(props, node) {\n",
       "    var script = document.createElement(\"script\");\n",
       "    node.appendChild(script);\n",
       "  }\n",
       "\n",
       "  /**\n",
       "   * Handle when an output is cleared or removed\n",
       "   */\n",
       "  function handleClearOutput(event, handle) {\n",
       "    var cell = handle.cell;\n",
       "\n",
       "    var id = cell.output_area._bokeh_element_id;\n",
       "    var server_id = cell.output_area._bokeh_server_id;\n",
       "    // Clean up Bokeh references\n",
       "    if (id != null && id in Bokeh.index) {\n",
       "      Bokeh.index[id].model.document.clear();\n",
       "      delete Bokeh.index[id];\n",
       "    }\n",
       "\n",
       "    if (server_id !== undefined) {\n",
       "      // Clean up Bokeh references\n",
       "      var cmd = \"from bokeh.io.state import curstate; print(curstate().uuid_to_server['\" + server_id + \"'].get_sessions()[0].document.roots[0]._id)\";\n",
       "      cell.notebook.kernel.execute(cmd, {\n",
       "        iopub: {\n",
       "          output: function(msg) {\n",
       "            var id = msg.content.text.trim();\n",
       "            if (id in Bokeh.index) {\n",
       "              Bokeh.index[id].model.document.clear();\n",
       "              delete Bokeh.index[id];\n",
       "            }\n",
       "          }\n",
       "        }\n",
       "      });\n",
       "      // Destroy server and session\n",
       "      var cmd = \"import bokeh.io.notebook as ion; ion.destroy_server('\" + server_id + \"')\";\n",
       "      cell.notebook.kernel.execute(cmd);\n",
       "    }\n",
       "  }\n",
       "\n",
       "  /**\n",
       "   * Handle when a new output is added\n",
       "   */\n",
       "  function handleAddOutput(event, handle) {\n",
       "    var output_area = handle.output_area;\n",
       "    var output = handle.output;\n",
       "\n",
       "    // limit handleAddOutput to display_data with EXEC_MIME_TYPE content only\n",
       "    if ((output.output_type != \"display_data\") || (!output.data.hasOwnProperty(EXEC_MIME_TYPE))) {\n",
       "      return\n",
       "    }\n",
       "\n",
       "    var toinsert = output_area.element.find(\".\" + CLASS_NAME.split(' ')[0]);\n",
       "\n",
       "    if (output.metadata[EXEC_MIME_TYPE][\"id\"] !== undefined) {\n",
       "      toinsert[toinsert.length - 1].firstChild.textContent = output.data[JS_MIME_TYPE];\n",
       "      // store reference to embed id on output_area\n",
       "      output_area._bokeh_element_id = output.metadata[EXEC_MIME_TYPE][\"id\"];\n",
       "    }\n",
       "    if (output.metadata[EXEC_MIME_TYPE][\"server_id\"] !== undefined) {\n",
       "      var bk_div = document.createElement(\"div\");\n",
       "      bk_div.innerHTML = output.data[HTML_MIME_TYPE];\n",
       "      var script_attrs = bk_div.children[0].attributes;\n",
       "      for (var i = 0; i < script_attrs.length; i++) {\n",
       "        toinsert[toinsert.length - 1].firstChild.setAttribute(script_attrs[i].name, script_attrs[i].value);\n",
       "      }\n",
       "      // store reference to server id on output_area\n",
       "      output_area._bokeh_server_id = output.metadata[EXEC_MIME_TYPE][\"server_id\"];\n",
       "    }\n",
       "  }\n",
       "\n",
       "  function register_renderer(events, OutputArea) {\n",
       "\n",
       "    function append_mime(data, metadata, element) {\n",
       "      // create a DOM node to render to\n",
       "      var toinsert = this.create_output_subarea(\n",
       "        metadata,\n",
       "        CLASS_NAME,\n",
       "        EXEC_MIME_TYPE\n",
       "      );\n",
       "      this.keyboard_manager.register_events(toinsert);\n",
       "      // Render to node\n",
       "      var props = {data: data, metadata: metadata[EXEC_MIME_TYPE]};\n",
       "      render(props, toinsert[toinsert.length - 1]);\n",
       "      element.append(toinsert);\n",
       "      return toinsert\n",
       "    }\n",
       "\n",
       "    /* Handle when an output is cleared or removed */\n",
       "    events.on('clear_output.CodeCell', handleClearOutput);\n",
       "    events.on('delete.Cell', handleClearOutput);\n",
       "\n",
       "    /* Handle when a new output is added */\n",
       "    events.on('output_added.OutputArea', handleAddOutput);\n",
       "\n",
       "    /**\n",
       "     * Register the mime type and append_mime function with output_area\n",
       "     */\n",
       "    OutputArea.prototype.register_mime_type(EXEC_MIME_TYPE, append_mime, {\n",
       "      /* Is output safe? */\n",
       "      safe: true,\n",
       "      /* Index of renderer in `output_area.display_order` */\n",
       "      index: 0\n",
       "    });\n",
       "  }\n",
       "\n",
       "  // register the mime type if in Jupyter Notebook environment and previously unregistered\n",
       "  if (root.Jupyter !== undefined) {\n",
       "    var events = require('base/js/events');\n",
       "    var OutputArea = require('notebook/js/outputarea').OutputArea;\n",
       "\n",
       "    if (OutputArea.prototype.mime_types().indexOf(EXEC_MIME_TYPE) == -1) {\n",
       "      register_renderer(events, OutputArea);\n",
       "    }\n",
       "  }\n",
       "\n",
       "  \n",
       "  if (typeof (root._bokeh_timeout) === \"undefined\" || force === true) {\n",
       "    root._bokeh_timeout = Date.now() + 5000;\n",
       "    root._bokeh_failed_load = false;\n",
       "  }\n",
       "\n",
       "  var NB_LOAD_WARNING = {'data': {'text/html':\n",
       "     \"<div style='background-color: #fdd'>\\n\"+\n",
       "     \"<p>\\n\"+\n",
       "     \"BokehJS does not appear to have successfully loaded. If loading BokehJS from CDN, this \\n\"+\n",
       "     \"may be due to a slow or bad network connection. Possible fixes:\\n\"+\n",
       "     \"</p>\\n\"+\n",
       "     \"<ul>\\n\"+\n",
       "     \"<li>re-rerun `output_notebook()` to attempt to load from CDN again, or</li>\\n\"+\n",
       "     \"<li>use INLINE resources instead, as so:</li>\\n\"+\n",
       "     \"</ul>\\n\"+\n",
       "     \"<code>\\n\"+\n",
       "     \"from bokeh.resources import INLINE\\n\"+\n",
       "     \"output_notebook(resources=INLINE)\\n\"+\n",
       "     \"</code>\\n\"+\n",
       "     \"</div>\"}};\n",
       "\n",
       "  function display_loaded() {\n",
       "    var el = document.getElementById(\"c6f62232-e919-4bdf-a607-ae1f680df8ea\");\n",
       "    if (el != null) {\n",
       "      el.textContent = \"BokehJS is loading...\";\n",
       "    }\n",
       "    if (root.Bokeh !== undefined) {\n",
       "      if (el != null) {\n",
       "        el.textContent = \"BokehJS \" + root.Bokeh.version + \" successfully loaded.\";\n",
       "      }\n",
       "    } else if (Date.now() < root._bokeh_timeout) {\n",
       "      setTimeout(display_loaded, 100)\n",
       "    }\n",
       "  }\n",
       "\n",
       "\n",
       "  function run_callbacks() {\n",
       "    try {\n",
       "      root._bokeh_onload_callbacks.forEach(function(callback) { callback() });\n",
       "    }\n",
       "    finally {\n",
       "      delete root._bokeh_onload_callbacks\n",
       "    }\n",
       "    console.info(\"Bokeh: all callbacks have finished\");\n",
       "  }\n",
       "\n",
       "  function load_libs(js_urls, callback) {\n",
       "    root._bokeh_onload_callbacks.push(callback);\n",
       "    if (root._bokeh_is_loading > 0) {\n",
       "      console.log(\"Bokeh: BokehJS is being loaded, scheduling callback at\", now());\n",
       "      return null;\n",
       "    }\n",
       "    if (js_urls == null || js_urls.length === 0) {\n",
       "      run_callbacks();\n",
       "      return null;\n",
       "    }\n",
       "    console.log(\"Bokeh: BokehJS not loaded, scheduling load and callback at\", now());\n",
       "    root._bokeh_is_loading = js_urls.length;\n",
       "    for (var i = 0; i < js_urls.length; i++) {\n",
       "      var url = js_urls[i];\n",
       "      var s = document.createElement('script');\n",
       "      s.src = url;\n",
       "      s.async = false;\n",
       "      s.onreadystatechange = s.onload = function() {\n",
       "        root._bokeh_is_loading--;\n",
       "        if (root._bokeh_is_loading === 0) {\n",
       "          console.log(\"Bokeh: all BokehJS libraries loaded\");\n",
       "          run_callbacks()\n",
       "        }\n",
       "      };\n",
       "      s.onerror = function() {\n",
       "        console.warn(\"failed to load library \" + url);\n",
       "      };\n",
       "      console.log(\"Bokeh: injecting script tag for BokehJS library: \", url);\n",
       "      document.getElementsByTagName(\"head\")[0].appendChild(s);\n",
       "    }\n",
       "  };var element = document.getElementById(\"c6f62232-e919-4bdf-a607-ae1f680df8ea\");\n",
       "  if (element == null) {\n",
       "    console.log(\"Bokeh: ERROR: autoload.js configured with elementid 'c6f62232-e919-4bdf-a607-ae1f680df8ea' but no matching script tag was found. \")\n",
       "    return false;\n",
       "  }\n",
       "\n",
       "  var js_urls = [\"https://cdn.pydata.org/bokeh/release/bokeh-0.13.0.min.js\", \"https://cdn.pydata.org/bokeh/release/bokeh-widgets-0.13.0.min.js\", \"https://cdn.pydata.org/bokeh/release/bokeh-tables-0.13.0.min.js\", \"https://cdn.pydata.org/bokeh/release/bokeh-gl-0.13.0.min.js\"];\n",
       "\n",
       "  var inline_js = [\n",
       "    function(Bokeh) {\n",
       "      Bokeh.set_log_level(\"info\");\n",
       "    },\n",
       "    \n",
       "    function(Bokeh) {\n",
       "      \n",
       "    },\n",
       "    function(Bokeh) {\n",
       "      console.log(\"Bokeh: injecting CSS: https://cdn.pydata.org/bokeh/release/bokeh-0.13.0.min.css\");\n",
       "      Bokeh.embed.inject_css(\"https://cdn.pydata.org/bokeh/release/bokeh-0.13.0.min.css\");\n",
       "      console.log(\"Bokeh: injecting CSS: https://cdn.pydata.org/bokeh/release/bokeh-widgets-0.13.0.min.css\");\n",
       "      Bokeh.embed.inject_css(\"https://cdn.pydata.org/bokeh/release/bokeh-widgets-0.13.0.min.css\");\n",
       "      console.log(\"Bokeh: injecting CSS: https://cdn.pydata.org/bokeh/release/bokeh-tables-0.13.0.min.css\");\n",
       "      Bokeh.embed.inject_css(\"https://cdn.pydata.org/bokeh/release/bokeh-tables-0.13.0.min.css\");\n",
       "    }\n",
       "  ];\n",
       "\n",
       "  function run_inline_js() {\n",
       "    \n",
       "    if ((root.Bokeh !== undefined) || (force === true)) {\n",
       "      for (var i = 0; i < inline_js.length; i++) {\n",
       "        inline_js[i].call(root, root.Bokeh);\n",
       "      }if (force === true) {\n",
       "        display_loaded();\n",
       "      }} else if (Date.now() < root._bokeh_timeout) {\n",
       "      setTimeout(run_inline_js, 100);\n",
       "    } else if (!root._bokeh_failed_load) {\n",
       "      console.log(\"Bokeh: BokehJS failed to load within specified timeout.\");\n",
       "      root._bokeh_failed_load = true;\n",
       "    } else if (force !== true) {\n",
       "      var cell = $(document.getElementById(\"c6f62232-e919-4bdf-a607-ae1f680df8ea\")).parents('.cell').data().cell;\n",
       "      cell.output_area.append_execute_result(NB_LOAD_WARNING)\n",
       "    }\n",
       "\n",
       "  }\n",
       "\n",
       "  if (root._bokeh_is_loading === 0) {\n",
       "    console.log(\"Bokeh: BokehJS loaded, going straight to plotting\");\n",
       "    run_inline_js();\n",
       "  } else {\n",
       "    load_libs(js_urls, function() {\n",
       "      console.log(\"Bokeh: BokehJS plotting callback run at\", now());\n",
       "      run_inline_js();\n",
       "    });\n",
       "  }\n",
       "}(window));"
      ],
      "application/vnd.bokehjs_load.v0+json": "\n(function(root) {\n  function now() {\n    return new Date();\n  }\n\n  var force = true;\n\n  if (typeof (root._bokeh_onload_callbacks) === \"undefined\" || force === true) {\n    root._bokeh_onload_callbacks = [];\n    root._bokeh_is_loading = undefined;\n  }\n\n  \n\n  \n  if (typeof (root._bokeh_timeout) === \"undefined\" || force === true) {\n    root._bokeh_timeout = Date.now() + 5000;\n    root._bokeh_failed_load = false;\n  }\n\n  var NB_LOAD_WARNING = {'data': {'text/html':\n     \"<div style='background-color: #fdd'>\\n\"+\n     \"<p>\\n\"+\n     \"BokehJS does not appear to have successfully loaded. If loading BokehJS from CDN, this \\n\"+\n     \"may be due to a slow or bad network connection. Possible fixes:\\n\"+\n     \"</p>\\n\"+\n     \"<ul>\\n\"+\n     \"<li>re-rerun `output_notebook()` to attempt to load from CDN again, or</li>\\n\"+\n     \"<li>use INLINE resources instead, as so:</li>\\n\"+\n     \"</ul>\\n\"+\n     \"<code>\\n\"+\n     \"from bokeh.resources import INLINE\\n\"+\n     \"output_notebook(resources=INLINE)\\n\"+\n     \"</code>\\n\"+\n     \"</div>\"}};\n\n  function display_loaded() {\n    var el = document.getElementById(\"c6f62232-e919-4bdf-a607-ae1f680df8ea\");\n    if (el != null) {\n      el.textContent = \"BokehJS is loading...\";\n    }\n    if (root.Bokeh !== undefined) {\n      if (el != null) {\n        el.textContent = \"BokehJS \" + root.Bokeh.version + \" successfully loaded.\";\n      }\n    } else if (Date.now() < root._bokeh_timeout) {\n      setTimeout(display_loaded, 100)\n    }\n  }\n\n\n  function run_callbacks() {\n    try {\n      root._bokeh_onload_callbacks.forEach(function(callback) { callback() });\n    }\n    finally {\n      delete root._bokeh_onload_callbacks\n    }\n    console.info(\"Bokeh: all callbacks have finished\");\n  }\n\n  function load_libs(js_urls, callback) {\n    root._bokeh_onload_callbacks.push(callback);\n    if (root._bokeh_is_loading > 0) {\n      console.log(\"Bokeh: BokehJS is being loaded, scheduling callback at\", now());\n      return null;\n    }\n    if (js_urls == null || js_urls.length === 0) {\n      run_callbacks();\n      return null;\n    }\n    console.log(\"Bokeh: BokehJS not loaded, scheduling load and callback at\", now());\n    root._bokeh_is_loading = js_urls.length;\n    for (var i = 0; i < js_urls.length; i++) {\n      var url = js_urls[i];\n      var s = document.createElement('script');\n      s.src = url;\n      s.async = false;\n      s.onreadystatechange = s.onload = function() {\n        root._bokeh_is_loading--;\n        if (root._bokeh_is_loading === 0) {\n          console.log(\"Bokeh: all BokehJS libraries loaded\");\n          run_callbacks()\n        }\n      };\n      s.onerror = function() {\n        console.warn(\"failed to load library \" + url);\n      };\n      console.log(\"Bokeh: injecting script tag for BokehJS library: \", url);\n      document.getElementsByTagName(\"head\")[0].appendChild(s);\n    }\n  };var element = document.getElementById(\"c6f62232-e919-4bdf-a607-ae1f680df8ea\");\n  if (element == null) {\n    console.log(\"Bokeh: ERROR: autoload.js configured with elementid 'c6f62232-e919-4bdf-a607-ae1f680df8ea' but no matching script tag was found. \")\n    return false;\n  }\n\n  var js_urls = [\"https://cdn.pydata.org/bokeh/release/bokeh-0.13.0.min.js\", \"https://cdn.pydata.org/bokeh/release/bokeh-widgets-0.13.0.min.js\", \"https://cdn.pydata.org/bokeh/release/bokeh-tables-0.13.0.min.js\", \"https://cdn.pydata.org/bokeh/release/bokeh-gl-0.13.0.min.js\"];\n\n  var inline_js = [\n    function(Bokeh) {\n      Bokeh.set_log_level(\"info\");\n    },\n    \n    function(Bokeh) {\n      \n    },\n    function(Bokeh) {\n      console.log(\"Bokeh: injecting CSS: https://cdn.pydata.org/bokeh/release/bokeh-0.13.0.min.css\");\n      Bokeh.embed.inject_css(\"https://cdn.pydata.org/bokeh/release/bokeh-0.13.0.min.css\");\n      console.log(\"Bokeh: injecting CSS: https://cdn.pydata.org/bokeh/release/bokeh-widgets-0.13.0.min.css\");\n      Bokeh.embed.inject_css(\"https://cdn.pydata.org/bokeh/release/bokeh-widgets-0.13.0.min.css\");\n      console.log(\"Bokeh: injecting CSS: https://cdn.pydata.org/bokeh/release/bokeh-tables-0.13.0.min.css\");\n      Bokeh.embed.inject_css(\"https://cdn.pydata.org/bokeh/release/bokeh-tables-0.13.0.min.css\");\n    }\n  ];\n\n  function run_inline_js() {\n    \n    if ((root.Bokeh !== undefined) || (force === true)) {\n      for (var i = 0; i < inline_js.length; i++) {\n        inline_js[i].call(root, root.Bokeh);\n      }if (force === true) {\n        display_loaded();\n      }} else if (Date.now() < root._bokeh_timeout) {\n      setTimeout(run_inline_js, 100);\n    } else if (!root._bokeh_failed_load) {\n      console.log(\"Bokeh: BokehJS failed to load within specified timeout.\");\n      root._bokeh_failed_load = true;\n    } else if (force !== true) {\n      var cell = $(document.getElementById(\"c6f62232-e919-4bdf-a607-ae1f680df8ea\")).parents('.cell').data().cell;\n      cell.output_area.append_execute_result(NB_LOAD_WARNING)\n    }\n\n  }\n\n  if (root._bokeh_is_loading === 0) {\n    console.log(\"Bokeh: BokehJS loaded, going straight to plotting\");\n    run_inline_js();\n  } else {\n    load_libs(js_urls, function() {\n      console.log(\"Bokeh: BokehJS plotting callback run at\", now());\n      run_inline_js();\n    });\n  }\n}(window));"
     },
     "metadata": {},
     "output_type": "display_data"
    }
   ],
   "source": [
    "from bokeh.io import show, output_notebook, push_notebook\n",
    "from bokeh.plotting import figure\n",
    "\n",
    "from bokeh.models import CategoricalColorMapper, HoverTool, ColumnDataSource, Panel\n",
    "from bokeh.models.widgets import CheckboxGroup, Slider, RangeSlider, Tabs\n",
    "\n",
    "from bokeh.layouts import column, row, WidgetBox\n",
    "from bokeh.palettes import Category20_16\n",
    "\n",
    "from bokeh.application.handlers import FunctionHandler\n",
    "from bokeh.application import Application\n",
    "\n",
    "output_notebook()"
   ]
  },
  {
   "cell_type": "markdown",
   "metadata": {},
   "source": [
    "# Reading in Data"
   ]
  },
  {
   "cell_type": "code",
   "execution_count": 4,
   "metadata": {},
   "outputs": [
    {
     "data": {
      "text/html": [
       "<div>\n",
       "<style scoped>\n",
       "    .dataframe tbody tr th:only-of-type {\n",
       "        vertical-align: middle;\n",
       "    }\n",
       "\n",
       "    .dataframe tbody tr th {\n",
       "        vertical-align: top;\n",
       "    }\n",
       "\n",
       "    .dataframe thead th {\n",
       "        text-align: right;\n",
       "    }\n",
       "</style>\n",
       "<table border=\"1\" class=\"dataframe\">\n",
       "  <thead>\n",
       "    <tr style=\"text-align: right;\">\n",
       "      <th></th>\n",
       "      <th>arr_delay</th>\n",
       "      <th>carrier</th>\n",
       "      <th>name</th>\n",
       "    </tr>\n",
       "  </thead>\n",
       "  <tbody>\n",
       "    <tr>\n",
       "      <th>0</th>\n",
       "      <td>11.0</td>\n",
       "      <td>UA</td>\n",
       "      <td>United Air Lines Inc.</td>\n",
       "    </tr>\n",
       "    <tr>\n",
       "      <th>1</th>\n",
       "      <td>20.0</td>\n",
       "      <td>UA</td>\n",
       "      <td>United Air Lines Inc.</td>\n",
       "    </tr>\n",
       "    <tr>\n",
       "      <th>2</th>\n",
       "      <td>33.0</td>\n",
       "      <td>AA</td>\n",
       "      <td>American Airlines Inc.</td>\n",
       "    </tr>\n",
       "    <tr>\n",
       "      <th>3</th>\n",
       "      <td>-18.0</td>\n",
       "      <td>B6</td>\n",
       "      <td>JetBlue Airways</td>\n",
       "    </tr>\n",
       "    <tr>\n",
       "      <th>4</th>\n",
       "      <td>-25.0</td>\n",
       "      <td>DL</td>\n",
       "      <td>Delta Air Lines Inc.</td>\n",
       "    </tr>\n",
       "  </tbody>\n",
       "</table>\n",
       "</div>"
      ],
      "text/plain": [
       "   arr_delay carrier                    name\n",
       "0       11.0      UA   United Air Lines Inc.\n",
       "1       20.0      UA   United Air Lines Inc.\n",
       "2       33.0      AA  American Airlines Inc.\n",
       "3      -18.0      B6         JetBlue Airways\n",
       "4      -25.0      DL    Delta Air Lines Inc."
      ]
     },
     "execution_count": 4,
     "metadata": {},
     "output_type": "execute_result"
    }
   ],
   "source": [
    "# Load in flights and inspect\n",
    "flights = pd.read_csv('../data/complete_flights.csv', index_col=0)[['arr_delay', 'carrier', 'name']]\n",
    "flights.head()"
   ]
  },
  {
   "cell_type": "code",
   "execution_count": 5,
   "metadata": {},
   "outputs": [
    {
     "data": {
      "text/plain": [
       "count    327346.000000\n",
       "mean          6.895377\n",
       "std          44.633292\n",
       "min         -86.000000\n",
       "25%         -17.000000\n",
       "50%          -5.000000\n",
       "75%          14.000000\n",
       "max        1272.000000\n",
       "Name: arr_delay, dtype: float64"
      ]
     },
     "execution_count": 5,
     "metadata": {},
     "output_type": "execute_result"
    }
   ],
   "source": [
    "flights['arr_delay'].describe()"
   ]
  },
  {
   "cell_type": "code",
   "execution_count": 6,
   "metadata": {},
   "outputs": [],
   "source": [
    "# Available carrier list\n",
    "available_carriers = list(flights['name'].unique())\n",
    "\n",
    "# Sort the list in-place (alphabetical order)\n",
    "available_carriers.sort()"
   ]
  },
  {
   "cell_type": "markdown",
   "metadata": {},
   "source": [
    "# Function to Make Dataset for Plot"
   ]
  },
  {
   "cell_type": "code",
   "execution_count": 7,
   "metadata": {},
   "outputs": [],
   "source": [
    "def make_dataset(carrier_list, range_start = -60, range_end = 120, bin_width = 5):\n",
    "\n",
    "    # Check to make sure the start is less than the end!\n",
    "    assert range_start < range_end, \"Start must be less than end!\"\n",
    "    \n",
    "    by_carrier = pd.DataFrame(columns=['proportion', 'left', 'right', \n",
    "                                       'f_proportion', 'f_interval',\n",
    "                                       'name', 'color'])\n",
    "    range_extent = range_end - range_start\n",
    "    \n",
    "    # Iterate through all the carriers\n",
    "    for i, carrier_name in enumerate(carrier_list):\n",
    "\n",
    "        # Subset to the carrier\n",
    "        subset = flights[flights['name'] == carrier_name]\n",
    "\n",
    "        # Create a histogram with specified bins and range\n",
    "        arr_hist, edges = np.histogram(subset['arr_delay'], \n",
    "                                       bins = int(range_extent / bin_width), \n",
    "                                       range = [range_start, range_end])\n",
    "\n",
    "        # Divide the counts by the total to get a proportion and create df\n",
    "        arr_df = pd.DataFrame({'proportion': arr_hist / np.sum(arr_hist), \n",
    "                               'left': edges[:-1], 'right': edges[1:] })\n",
    "\n",
    "        # Format the proportion \n",
    "        arr_df['f_proportion'] = ['%0.5f' % proportion for proportion in arr_df['proportion']]\n",
    "\n",
    "        # Format the interval\n",
    "        arr_df['f_interval'] = ['%d to %d minutes' % (left, right) for left, \n",
    "                                right in zip(arr_df['left'], arr_df['right'])]\n",
    "\n",
    "        # Assign the carrier for labels\n",
    "        arr_df['name'] = carrier_name\n",
    "\n",
    "        # Color each carrier differently\n",
    "        arr_df['color'] = Category20_16[i]\n",
    "\n",
    "        # Add to the overall dataframe\n",
    "        by_carrier = by_carrier.append(arr_df)\n",
    "\n",
    "    # Overall dataframe\n",
    "    by_carrier = by_carrier.sort_values(['name', 'left'])\n",
    "    \n",
    "    return by_carrier"
   ]
  },
  {
   "cell_type": "code",
   "execution_count": 8,
   "metadata": {},
   "outputs": [
    {
     "name": "stderr",
     "output_type": "stream",
     "text": [
      "/home/daniel/anaconda3/lib/python3.6/site-packages/numpy/lib/histograms.py:746: RuntimeWarning: invalid value encountered in greater_equal\n",
      "  keep = (tmp_a >= first_edge)\n",
      "/home/daniel/anaconda3/lib/python3.6/site-packages/numpy/lib/histograms.py:747: RuntimeWarning: invalid value encountered in less_equal\n",
      "  keep &= (tmp_a <= last_edge)\n"
     ]
    },
    {
     "data": {
      "text/html": [
       "<div>\n",
       "<style scoped>\n",
       "    .dataframe tbody tr th:only-of-type {\n",
       "        vertical-align: middle;\n",
       "    }\n",
       "\n",
       "    .dataframe tbody tr th {\n",
       "        vertical-align: top;\n",
       "    }\n",
       "\n",
       "    .dataframe thead th {\n",
       "        text-align: right;\n",
       "    }\n",
       "</style>\n",
       "<table border=\"1\" class=\"dataframe\">\n",
       "  <thead>\n",
       "    <tr style=\"text-align: right;\">\n",
       "      <th></th>\n",
       "      <th>proportion</th>\n",
       "      <th>left</th>\n",
       "      <th>right</th>\n",
       "      <th>f_proportion</th>\n",
       "      <th>f_interval</th>\n",
       "      <th>name</th>\n",
       "      <th>color</th>\n",
       "    </tr>\n",
       "  </thead>\n",
       "  <tbody>\n",
       "    <tr>\n",
       "      <th>0</th>\n",
       "      <td>0.000000</td>\n",
       "      <td>-60.0</td>\n",
       "      <td>-55.0</td>\n",
       "      <td>0.00000</td>\n",
       "      <td>-60 to -55 minutes</td>\n",
       "      <td>AirTran Airways Corporation</td>\n",
       "      <td>#1f77b4</td>\n",
       "    </tr>\n",
       "    <tr>\n",
       "      <th>1</th>\n",
       "      <td>0.000000</td>\n",
       "      <td>-55.0</td>\n",
       "      <td>-50.0</td>\n",
       "      <td>0.00000</td>\n",
       "      <td>-55 to -50 minutes</td>\n",
       "      <td>AirTran Airways Corporation</td>\n",
       "      <td>#1f77b4</td>\n",
       "    </tr>\n",
       "    <tr>\n",
       "      <th>2</th>\n",
       "      <td>0.000000</td>\n",
       "      <td>-50.0</td>\n",
       "      <td>-45.0</td>\n",
       "      <td>0.00000</td>\n",
       "      <td>-50 to -45 minutes</td>\n",
       "      <td>AirTran Airways Corporation</td>\n",
       "      <td>#1f77b4</td>\n",
       "    </tr>\n",
       "    <tr>\n",
       "      <th>3</th>\n",
       "      <td>0.001655</td>\n",
       "      <td>-45.0</td>\n",
       "      <td>-40.0</td>\n",
       "      <td>0.00166</td>\n",
       "      <td>-45 to -40 minutes</td>\n",
       "      <td>AirTran Airways Corporation</td>\n",
       "      <td>#1f77b4</td>\n",
       "    </tr>\n",
       "    <tr>\n",
       "      <th>4</th>\n",
       "      <td>0.001655</td>\n",
       "      <td>-40.0</td>\n",
       "      <td>-35.0</td>\n",
       "      <td>0.00166</td>\n",
       "      <td>-40 to -35 minutes</td>\n",
       "      <td>AirTran Airways Corporation</td>\n",
       "      <td>#1f77b4</td>\n",
       "    </tr>\n",
       "  </tbody>\n",
       "</table>\n",
       "</div>"
      ],
      "text/plain": [
       "   proportion  left  right f_proportion          f_interval  \\\n",
       "0    0.000000 -60.0  -55.0      0.00000  -60 to -55 minutes   \n",
       "1    0.000000 -55.0  -50.0      0.00000  -55 to -50 minutes   \n",
       "2    0.000000 -50.0  -45.0      0.00000  -50 to -45 minutes   \n",
       "3    0.001655 -45.0  -40.0      0.00166  -45 to -40 minutes   \n",
       "4    0.001655 -40.0  -35.0      0.00166  -40 to -35 minutes   \n",
       "\n",
       "                          name    color  \n",
       "0  AirTran Airways Corporation  #1f77b4  \n",
       "1  AirTran Airways Corporation  #1f77b4  \n",
       "2  AirTran Airways Corporation  #1f77b4  \n",
       "3  AirTran Airways Corporation  #1f77b4  \n",
       "4  AirTran Airways Corporation  #1f77b4  "
      ]
     },
     "execution_count": 8,
     "metadata": {},
     "output_type": "execute_result"
    }
   ],
   "source": [
    "by_carrier = make_dataset(available_carriers, range_start=-60, range_end=120, bin_width=5)\n",
    "by_carrier.head()"
   ]
  },
  {
   "cell_type": "markdown",
   "metadata": {},
   "source": [
    "# Function to Make Plot from Data Source"
   ]
  },
  {
   "cell_type": "code",
   "execution_count": 9,
   "metadata": {},
   "outputs": [],
   "source": [
    "def style(p):\n",
    "        # Title \n",
    "        p.title.align = 'center'\n",
    "        p.title.text_font_size = '20pt'\n",
    "        p.title.text_font = 'serif'\n",
    "\n",
    "        # Axis titles\n",
    "        p.xaxis.axis_label_text_font_size = '14pt'\n",
    "        p.xaxis.axis_label_text_font_style = 'bold'\n",
    "        p.yaxis.axis_label_text_font_size = '14pt'\n",
    "        p.yaxis.axis_label_text_font_style = 'bold'\n",
    "\n",
    "        # Tick labels\n",
    "        p.xaxis.major_label_text_font_size = '12pt'\n",
    "        p.yaxis.major_label_text_font_size = '12pt'\n",
    "\n",
    "        return p"
   ]
  },
  {
   "cell_type": "code",
   "execution_count": 10,
   "metadata": {},
   "outputs": [],
   "source": [
    "def make_plot(src):\n",
    "        # Blank plot with correct labels\n",
    "        p = figure(plot_width = 700, plot_height = 700, \n",
    "                  title = 'Histogram of Arrival Delays by Carrier',\n",
    "                  x_axis_label = 'Delay (min)', y_axis_label = 'Proportion')\n",
    "\n",
    "        # Quad glyphs to create a histogram\n",
    "        p.quad(source = src, bottom = 0, top = 'proportion', left = 'left', right = 'right',\n",
    "               color = 'color', fill_alpha = 0.7, hover_fill_color = 'color', legend = 'name',\n",
    "               hover_fill_alpha = 1.0, line_color = 'black')\n",
    "\n",
    "        # Hover tool with vline mode\n",
    "        hover = HoverTool(tooltips=[('Carrier', '@name'), \n",
    "                                    ('Delay', '@f_interval'),\n",
    "                                    ('Proportion', '@f_proportion')],\n",
    "                          mode='vline')\n",
    "\n",
    "        p.add_tools(hover)\n",
    "\n",
    "        # Styling\n",
    "        p = style(p)\n",
    "\n",
    "        return p"
   ]
  },
  {
   "cell_type": "code",
   "execution_count": 11,
   "metadata": {},
   "outputs": [
    {
     "data": {
      "text/html": [
       "\n",
       "\n",
       "\n",
       "\n",
       "\n",
       "\n",
       "  <div class=\"bk-root\" id=\"31791d4d-4d14-485c-93ca-104f6a3157c8\"></div>\n"
      ]
     },
     "metadata": {},
     "output_type": "display_data"
    },
    {
     "data": {
      "application/javascript": [
       "(function(root) {\n",
       "  function embed_document(root) {\n",
       "    \n",
       "  var docs_json = {\"21d7533c-1cf4-425b-9436-9e3424c64e1d\":{\"roots\":{\"references\":[{\"attributes\":{},\"id\":\"351a8487-dc3d-4e94-9ef7-3bd643d9d19f\",\"type\":\"SaveTool\"},{\"attributes\":{\"data_source\":{\"id\":\"eef996ac-da9a-488e-b70d-a7bc458a2f6c\",\"type\":\"ColumnDataSource\"},\"glyph\":{\"id\":\"d4c193d2-8da6-483f-80f0-b913e5b39687\",\"type\":\"Quad\"},\"hover_glyph\":{\"id\":\"ae7cb16e-d82f-4c56-b384-7b8fde45142d\",\"type\":\"Quad\"},\"muted_glyph\":null,\"nonselection_glyph\":{\"id\":\"c671f891-515e-411d-a2a5-2a442607de1e\",\"type\":\"Quad\"},\"selection_glyph\":null,\"view\":{\"id\":\"40533a4c-44fa-4015-8842-e933419370ed\",\"type\":\"CDSView\"}},\"id\":\"e62276ba-4be6-43cb-8e47-7c5933363660\",\"type\":\"GlyphRenderer\"},{\"attributes\":{\"axis_label\":\"Proportion\",\"axis_label_text_font_size\":{\"value\":\"14pt\"},\"axis_label_text_font_style\":\"bold\",\"formatter\":{\"id\":\"42117796-e17b-4010-8a27-c6b883e7533d\",\"type\":\"BasicTickFormatter\"},\"major_label_text_font_size\":{\"value\":\"12pt\"},\"plot\":{\"id\":\"266a2ca5-4064-42c0-b2a3-c404b8df3f39\",\"subtype\":\"Figure\",\"type\":\"Plot\"},\"ticker\":{\"id\":\"6518faf7-5f63-493a-b328-33ebd65faaf8\",\"type\":\"BasicTicker\"}},\"id\":\"8943cc76-fb53-4b35-a585-59c683069064\",\"type\":\"LinearAxis\"},{\"attributes\":{\"items\":[{\"id\":\"1618521d-07d0-4101-8e9d-eec6933e7caa\",\"type\":\"LegendItem\"}],\"plot\":{\"id\":\"266a2ca5-4064-42c0-b2a3-c404b8df3f39\",\"subtype\":\"Figure\",\"type\":\"Plot\"}},\"id\":\"9f9ba32f-7581-4136-aaf7-a75551f36439\",\"type\":\"Legend\"},{\"attributes\":{},\"id\":\"7b02c554-a597-4bf1-8f6e-da72c14d148f\",\"type\":\"UnionRenderers\"},{\"attributes\":{\"active_drag\":\"auto\",\"active_inspect\":\"auto\",\"active_multi\":null,\"active_scroll\":\"auto\",\"active_tap\":\"auto\",\"tools\":[{\"id\":\"ff81e193-7ac5-4f54-b00c-4886f0bfb69e\",\"type\":\"PanTool\"},{\"id\":\"a844b817-6c5e-464b-80f9-ecfac879a20d\",\"type\":\"WheelZoomTool\"},{\"id\":\"b5afe89f-ab19-4d03-afef-229f2b0f3c03\",\"type\":\"BoxZoomTool\"},{\"id\":\"351a8487-dc3d-4e94-9ef7-3bd643d9d19f\",\"type\":\"SaveTool\"},{\"id\":\"af232c91-35f2-452c-8123-2011208048c5\",\"type\":\"ResetTool\"},{\"id\":\"2eaa3802-e888-4822-ac9c-ce7d43ecb32f\",\"type\":\"HelpTool\"},{\"id\":\"ba872319-10f4-4334-a5e7-2b78858e595f\",\"type\":\"HoverTool\"}]},\"id\":\"ece5a4b4-a528-40e4-85f5-f353617ff4d7\",\"type\":\"Toolbar\"},{\"attributes\":{\"dimension\":1,\"plot\":{\"id\":\"266a2ca5-4064-42c0-b2a3-c404b8df3f39\",\"subtype\":\"Figure\",\"type\":\"Plot\"},\"ticker\":{\"id\":\"6518faf7-5f63-493a-b328-33ebd65faaf8\",\"type\":\"BasicTicker\"}},\"id\":\"1bad143b-e9e5-476e-b4f4-644b7529a9e0\",\"type\":\"Grid\"},{\"attributes\":{\"plot\":{\"id\":\"266a2ca5-4064-42c0-b2a3-c404b8df3f39\",\"subtype\":\"Figure\",\"type\":\"Plot\"},\"ticker\":{\"id\":\"064795a4-695c-4f56-b540-7875c60306aa\",\"type\":\"BasicTicker\"}},\"id\":\"026b5181-62ce-4dcd-b60c-1b651885b6a6\",\"type\":\"Grid\"},{\"attributes\":{},\"id\":\"a844b817-6c5e-464b-80f9-ecfac879a20d\",\"type\":\"WheelZoomTool\"},{\"attributes\":{},\"id\":\"2eaa3802-e888-4822-ac9c-ce7d43ecb32f\",\"type\":\"HelpTool\"},{\"attributes\":{\"callback\":null,\"mode\":\"vline\",\"renderers\":\"auto\",\"tooltips\":[[\"Carrier\",\"@name\"],[\"Delay\",\"@f_interval\"],[\"Proportion\",\"@f_proportion\"]]},\"id\":\"ba872319-10f4-4334-a5e7-2b78858e595f\",\"type\":\"HoverTool\"},{\"attributes\":{\"align\":\"center\",\"plot\":null,\"text\":\"Histogram of Arrival Delays by Carrier\",\"text_font\":\"serif\",\"text_font_size\":{\"value\":\"20pt\"}},\"id\":\"419d1cb7-ebd9-48c0-ae0f-dc4560b4c355\",\"type\":\"Title\"},{\"attributes\":{\"label\":{\"field\":\"name\"},\"renderers\":[{\"id\":\"e62276ba-4be6-43cb-8e47-7c5933363660\",\"type\":\"GlyphRenderer\"}]},\"id\":\"1618521d-07d0-4101-8e9d-eec6933e7caa\",\"type\":\"LegendItem\"},{\"attributes\":{},\"id\":\"ff81e193-7ac5-4f54-b00c-4886f0bfb69e\",\"type\":\"PanTool\"},{\"attributes\":{\"bottom\":{\"value\":0},\"fill_color\":{\"field\":\"color\"},\"left\":{\"field\":\"left\"},\"line_color\":{\"value\":\"#1f77b4\"},\"right\":{\"field\":\"right\"},\"top\":{\"field\":\"proportion\"}},\"id\":\"ae7cb16e-d82f-4c56-b384-7b8fde45142d\",\"type\":\"Quad\"},{\"attributes\":{\"overlay\":{\"id\":\"de2de10d-2f1f-466c-a6cf-0b8ca9ea1906\",\"type\":\"BoxAnnotation\"}},\"id\":\"b5afe89f-ab19-4d03-afef-229f2b0f3c03\",\"type\":\"BoxZoomTool\"},{\"attributes\":{},\"id\":\"af232c91-35f2-452c-8123-2011208048c5\",\"type\":\"ResetTool\"},{\"attributes\":{\"callback\":null},\"id\":\"72580352-f2da-40f7-9a5a-c8f93d839bf6\",\"type\":\"DataRange1d\"},{\"attributes\":{},\"id\":\"375aa615-de37-4b87-a4f7-5b6c51e36507\",\"type\":\"BasicTickFormatter\"},{\"attributes\":{},\"id\":\"6518faf7-5f63-493a-b328-33ebd65faaf8\",\"type\":\"BasicTicker\"},{\"attributes\":{\"callback\":null,\"data\":{\"color\":[\"#1f77b4\",\"#1f77b4\",\"#1f77b4\",\"#1f77b4\",\"#1f77b4\",\"#1f77b4\",\"#1f77b4\",\"#1f77b4\",\"#1f77b4\",\"#1f77b4\",\"#1f77b4\",\"#1f77b4\",\"#1f77b4\",\"#1f77b4\",\"#1f77b4\",\"#1f77b4\",\"#1f77b4\",\"#1f77b4\",\"#1f77b4\",\"#1f77b4\",\"#1f77b4\",\"#1f77b4\",\"#1f77b4\",\"#1f77b4\",\"#1f77b4\",\"#1f77b4\",\"#1f77b4\",\"#1f77b4\",\"#1f77b4\",\"#1f77b4\",\"#1f77b4\",\"#1f77b4\",\"#1f77b4\",\"#1f77b4\",\"#1f77b4\",\"#1f77b4\",\"#aec7e8\",\"#aec7e8\",\"#aec7e8\",\"#aec7e8\",\"#aec7e8\",\"#aec7e8\",\"#aec7e8\",\"#aec7e8\",\"#aec7e8\",\"#aec7e8\",\"#aec7e8\",\"#aec7e8\",\"#aec7e8\",\"#aec7e8\",\"#aec7e8\",\"#aec7e8\",\"#aec7e8\",\"#aec7e8\",\"#aec7e8\",\"#aec7e8\",\"#aec7e8\",\"#aec7e8\",\"#aec7e8\",\"#aec7e8\",\"#aec7e8\",\"#aec7e8\",\"#aec7e8\",\"#aec7e8\",\"#aec7e8\",\"#aec7e8\",\"#aec7e8\",\"#aec7e8\",\"#aec7e8\",\"#aec7e8\",\"#aec7e8\",\"#aec7e8\",\"#ff7f0e\",\"#ff7f0e\",\"#ff7f0e\",\"#ff7f0e\",\"#ff7f0e\",\"#ff7f0e\",\"#ff7f0e\",\"#ff7f0e\",\"#ff7f0e\",\"#ff7f0e\",\"#ff7f0e\",\"#ff7f0e\",\"#ff7f0e\",\"#ff7f0e\",\"#ff7f0e\",\"#ff7f0e\",\"#ff7f0e\",\"#ff7f0e\",\"#ff7f0e\",\"#ff7f0e\",\"#ff7f0e\",\"#ff7f0e\",\"#ff7f0e\",\"#ff7f0e\",\"#ff7f0e\",\"#ff7f0e\",\"#ff7f0e\",\"#ff7f0e\",\"#ff7f0e\",\"#ff7f0e\",\"#ff7f0e\",\"#ff7f0e\",\"#ff7f0e\",\"#ff7f0e\",\"#ff7f0e\",\"#ff7f0e\",\"#ffbb78\",\"#ffbb78\",\"#ffbb78\",\"#ffbb78\",\"#ffbb78\",\"#ffbb78\",\"#ffbb78\",\"#ffbb78\",\"#ffbb78\",\"#ffbb78\",\"#ffbb78\",\"#ffbb78\",\"#ffbb78\",\"#ffbb78\",\"#ffbb78\",\"#ffbb78\",\"#ffbb78\",\"#ffbb78\",\"#ffbb78\",\"#ffbb78\",\"#ffbb78\",\"#ffbb78\",\"#ffbb78\",\"#ffbb78\",\"#ffbb78\",\"#ffbb78\",\"#ffbb78\",\"#ffbb78\",\"#ffbb78\",\"#ffbb78\",\"#ffbb78\",\"#ffbb78\",\"#ffbb78\",\"#ffbb78\",\"#ffbb78\",\"#ffbb78\",\"#2ca02c\",\"#2ca02c\",\"#2ca02c\",\"#2ca02c\",\"#2ca02c\",\"#2ca02c\",\"#2ca02c\",\"#2ca02c\",\"#2ca02c\",\"#2ca02c\",\"#2ca02c\",\"#2ca02c\",\"#2ca02c\",\"#2ca02c\",\"#2ca02c\",\"#2ca02c\",\"#2ca02c\",\"#2ca02c\",\"#2ca02c\",\"#2ca02c\",\"#2ca02c\",\"#2ca02c\",\"#2ca02c\",\"#2ca02c\",\"#2ca02c\",\"#2ca02c\",\"#2ca02c\",\"#2ca02c\",\"#2ca02c\",\"#2ca02c\",\"#2ca02c\",\"#2ca02c\",\"#2ca02c\",\"#2ca02c\",\"#2ca02c\",\"#2ca02c\",\"#98df8a\",\"#98df8a\",\"#98df8a\",\"#98df8a\",\"#98df8a\",\"#98df8a\",\"#98df8a\",\"#98df8a\",\"#98df8a\",\"#98df8a\",\"#98df8a\",\"#98df8a\",\"#98df8a\",\"#98df8a\",\"#98df8a\",\"#98df8a\",\"#98df8a\",\"#98df8a\",\"#98df8a\",\"#98df8a\",\"#98df8a\",\"#98df8a\",\"#98df8a\",\"#98df8a\",\"#98df8a\",\"#98df8a\",\"#98df8a\",\"#98df8a\",\"#98df8a\",\"#98df8a\",\"#98df8a\",\"#98df8a\",\"#98df8a\",\"#98df8a\",\"#98df8a\",\"#98df8a\",\"#d62728\",\"#d62728\",\"#d62728\",\"#d62728\",\"#d62728\",\"#d62728\",\"#d62728\",\"#d62728\",\"#d62728\",\"#d62728\",\"#d62728\",\"#d62728\",\"#d62728\",\"#d62728\",\"#d62728\",\"#d62728\",\"#d62728\",\"#d62728\",\"#d62728\",\"#d62728\",\"#d62728\",\"#d62728\",\"#d62728\",\"#d62728\",\"#d62728\",\"#d62728\",\"#d62728\",\"#d62728\",\"#d62728\",\"#d62728\",\"#d62728\",\"#d62728\",\"#d62728\",\"#d62728\",\"#d62728\",\"#d62728\",\"#ff9896\",\"#ff9896\",\"#ff9896\",\"#ff9896\",\"#ff9896\",\"#ff9896\",\"#ff9896\",\"#ff9896\",\"#ff9896\",\"#ff9896\",\"#ff9896\",\"#ff9896\",\"#ff9896\",\"#ff9896\",\"#ff9896\",\"#ff9896\",\"#ff9896\",\"#ff9896\",\"#ff9896\",\"#ff9896\",\"#ff9896\",\"#ff9896\",\"#ff9896\",\"#ff9896\",\"#ff9896\",\"#ff9896\",\"#ff9896\",\"#ff9896\",\"#ff9896\",\"#ff9896\",\"#ff9896\",\"#ff9896\",\"#ff9896\",\"#ff9896\",\"#ff9896\",\"#ff9896\",\"#9467bd\",\"#9467bd\",\"#9467bd\",\"#9467bd\",\"#9467bd\",\"#9467bd\",\"#9467bd\",\"#9467bd\",\"#9467bd\",\"#9467bd\",\"#9467bd\",\"#9467bd\",\"#9467bd\",\"#9467bd\",\"#9467bd\",\"#9467bd\",\"#9467bd\",\"#9467bd\",\"#9467bd\",\"#9467bd\",\"#9467bd\",\"#9467bd\",\"#9467bd\",\"#9467bd\",\"#9467bd\",\"#9467bd\",\"#9467bd\",\"#9467bd\",\"#9467bd\",\"#9467bd\",\"#9467bd\",\"#9467bd\",\"#9467bd\",\"#9467bd\",\"#9467bd\",\"#9467bd\",\"#c5b0d5\",\"#c5b0d5\",\"#c5b0d5\",\"#c5b0d5\",\"#c5b0d5\",\"#c5b0d5\",\"#c5b0d5\",\"#c5b0d5\",\"#c5b0d5\",\"#c5b0d5\",\"#c5b0d5\",\"#c5b0d5\",\"#c5b0d5\",\"#c5b0d5\",\"#c5b0d5\",\"#c5b0d5\",\"#c5b0d5\",\"#c5b0d5\",\"#c5b0d5\",\"#c5b0d5\",\"#c5b0d5\",\"#c5b0d5\",\"#c5b0d5\",\"#c5b0d5\",\"#c5b0d5\",\"#c5b0d5\",\"#c5b0d5\",\"#c5b0d5\",\"#c5b0d5\",\"#c5b0d5\",\"#c5b0d5\",\"#c5b0d5\",\"#c5b0d5\",\"#c5b0d5\",\"#c5b0d5\",\"#c5b0d5\",\"#8c564b\",\"#8c564b\",\"#8c564b\",\"#8c564b\",\"#8c564b\",\"#8c564b\",\"#8c564b\",\"#8c564b\",\"#8c564b\",\"#8c564b\",\"#8c564b\",\"#8c564b\",\"#8c564b\",\"#8c564b\",\"#8c564b\",\"#8c564b\",\"#8c564b\",\"#8c564b\",\"#8c564b\",\"#8c564b\",\"#8c564b\",\"#8c564b\",\"#8c564b\",\"#8c564b\",\"#8c564b\",\"#8c564b\",\"#8c564b\",\"#8c564b\",\"#8c564b\",\"#8c564b\",\"#8c564b\",\"#8c564b\",\"#8c564b\",\"#8c564b\",\"#8c564b\",\"#8c564b\",\"#c49c94\",\"#c49c94\",\"#c49c94\",\"#c49c94\",\"#c49c94\",\"#c49c94\",\"#c49c94\",\"#c49c94\",\"#c49c94\",\"#c49c94\",\"#c49c94\",\"#c49c94\",\"#c49c94\",\"#c49c94\",\"#c49c94\",\"#c49c94\",\"#c49c94\",\"#c49c94\",\"#c49c94\",\"#c49c94\",\"#c49c94\",\"#c49c94\",\"#c49c94\",\"#c49c94\",\"#c49c94\",\"#c49c94\",\"#c49c94\",\"#c49c94\",\"#c49c94\",\"#c49c94\",\"#c49c94\",\"#c49c94\",\"#c49c94\",\"#c49c94\",\"#c49c94\",\"#c49c94\",\"#e377c2\",\"#e377c2\",\"#e377c2\",\"#e377c2\",\"#e377c2\",\"#e377c2\",\"#e377c2\",\"#e377c2\",\"#e377c2\",\"#e377c2\",\"#e377c2\",\"#e377c2\",\"#e377c2\",\"#e377c2\",\"#e377c2\",\"#e377c2\",\"#e377c2\",\"#e377c2\",\"#e377c2\",\"#e377c2\",\"#e377c2\",\"#e377c2\",\"#e377c2\",\"#e377c2\",\"#e377c2\",\"#e377c2\",\"#e377c2\",\"#e377c2\",\"#e377c2\",\"#e377c2\",\"#e377c2\",\"#e377c2\",\"#e377c2\",\"#e377c2\",\"#e377c2\",\"#e377c2\",\"#f7b6d2\",\"#f7b6d2\",\"#f7b6d2\",\"#f7b6d2\",\"#f7b6d2\",\"#f7b6d2\",\"#f7b6d2\",\"#f7b6d2\",\"#f7b6d2\",\"#f7b6d2\",\"#f7b6d2\",\"#f7b6d2\",\"#f7b6d2\",\"#f7b6d2\",\"#f7b6d2\",\"#f7b6d2\",\"#f7b6d2\",\"#f7b6d2\",\"#f7b6d2\",\"#f7b6d2\",\"#f7b6d2\",\"#f7b6d2\",\"#f7b6d2\",\"#f7b6d2\",\"#f7b6d2\",\"#f7b6d2\",\"#f7b6d2\",\"#f7b6d2\",\"#f7b6d2\",\"#f7b6d2\",\"#f7b6d2\",\"#f7b6d2\",\"#f7b6d2\",\"#f7b6d2\",\"#f7b6d2\",\"#f7b6d2\",\"#7f7f7f\",\"#7f7f7f\",\"#7f7f7f\",\"#7f7f7f\",\"#7f7f7f\",\"#7f7f7f\",\"#7f7f7f\",\"#7f7f7f\",\"#7f7f7f\",\"#7f7f7f\",\"#7f7f7f\",\"#7f7f7f\",\"#7f7f7f\",\"#7f7f7f\",\"#7f7f7f\",\"#7f7f7f\",\"#7f7f7f\",\"#7f7f7f\",\"#7f7f7f\",\"#7f7f7f\",\"#7f7f7f\",\"#7f7f7f\",\"#7f7f7f\",\"#7f7f7f\",\"#7f7f7f\",\"#7f7f7f\",\"#7f7f7f\",\"#7f7f7f\",\"#7f7f7f\",\"#7f7f7f\",\"#7f7f7f\",\"#7f7f7f\",\"#7f7f7f\",\"#7f7f7f\",\"#7f7f7f\",\"#7f7f7f\",\"#c7c7c7\",\"#c7c7c7\",\"#c7c7c7\",\"#c7c7c7\",\"#c7c7c7\",\"#c7c7c7\",\"#c7c7c7\",\"#c7c7c7\",\"#c7c7c7\",\"#c7c7c7\",\"#c7c7c7\",\"#c7c7c7\",\"#c7c7c7\",\"#c7c7c7\",\"#c7c7c7\",\"#c7c7c7\",\"#c7c7c7\",\"#c7c7c7\",\"#c7c7c7\",\"#c7c7c7\",\"#c7c7c7\",\"#c7c7c7\",\"#c7c7c7\",\"#c7c7c7\",\"#c7c7c7\",\"#c7c7c7\",\"#c7c7c7\",\"#c7c7c7\",\"#c7c7c7\",\"#c7c7c7\",\"#c7c7c7\",\"#c7c7c7\",\"#c7c7c7\",\"#c7c7c7\",\"#c7c7c7\",\"#c7c7c7\"],\"f_interval\":[\"-60 to -55 minutes\",\"-55 to -50 minutes\",\"-50 to -45 minutes\",\"-45 to -40 minutes\",\"-40 to -35 minutes\",\"-35 to -30 minutes\",\"-30 to -25 minutes\",\"-25 to -20 minutes\",\"-20 to -15 minutes\",\"-15 to -10 minutes\",\"-10 to -5 minutes\",\"-5 to 0 minutes\",\"0 to 5 minutes\",\"5 to 10 minutes\",\"10 to 15 minutes\",\"15 to 20 minutes\",\"20 to 25 minutes\",\"25 to 30 minutes\",\"30 to 35 minutes\",\"35 to 40 minutes\",\"40 to 45 minutes\",\"45 to 50 minutes\",\"50 to 55 minutes\",\"55 to 60 minutes\",\"60 to 65 minutes\",\"65 to 70 minutes\",\"70 to 75 minutes\",\"75 to 80 minutes\",\"80 to 85 minutes\",\"85 to 90 minutes\",\"90 to 95 minutes\",\"95 to 100 minutes\",\"100 to 105 minutes\",\"105 to 110 minutes\",\"110 to 115 minutes\",\"115 to 120 minutes\",\"-60 to -55 minutes\",\"-55 to -50 minutes\",\"-50 to -45 minutes\",\"-45 to -40 minutes\",\"-40 to -35 minutes\",\"-35 to -30 minutes\",\"-30 to -25 minutes\",\"-25 to -20 minutes\",\"-20 to -15 minutes\",\"-15 to -10 minutes\",\"-10 to -5 minutes\",\"-5 to 0 minutes\",\"0 to 5 minutes\",\"5 to 10 minutes\",\"10 to 15 minutes\",\"15 to 20 minutes\",\"20 to 25 minutes\",\"25 to 30 minutes\",\"30 to 35 minutes\",\"35 to 40 minutes\",\"40 to 45 minutes\",\"45 to 50 minutes\",\"50 to 55 minutes\",\"55 to 60 minutes\",\"60 to 65 minutes\",\"65 to 70 minutes\",\"70 to 75 minutes\",\"75 to 80 minutes\",\"80 to 85 minutes\",\"85 to 90 minutes\",\"90 to 95 minutes\",\"95 to 100 minutes\",\"100 to 105 minutes\",\"105 to 110 minutes\",\"110 to 115 minutes\",\"115 to 120 minutes\",\"-60 to -55 minutes\",\"-55 to -50 minutes\",\"-50 to -45 minutes\",\"-45 to -40 minutes\",\"-40 to -35 minutes\",\"-35 to -30 minutes\",\"-30 to -25 minutes\",\"-25 to -20 minutes\",\"-20 to -15 minutes\",\"-15 to -10 minutes\",\"-10 to -5 minutes\",\"-5 to 0 minutes\",\"0 to 5 minutes\",\"5 to 10 minutes\",\"10 to 15 minutes\",\"15 to 20 minutes\",\"20 to 25 minutes\",\"25 to 30 minutes\",\"30 to 35 minutes\",\"35 to 40 minutes\",\"40 to 45 minutes\",\"45 to 50 minutes\",\"50 to 55 minutes\",\"55 to 60 minutes\",\"60 to 65 minutes\",\"65 to 70 minutes\",\"70 to 75 minutes\",\"75 to 80 minutes\",\"80 to 85 minutes\",\"85 to 90 minutes\",\"90 to 95 minutes\",\"95 to 100 minutes\",\"100 to 105 minutes\",\"105 to 110 minutes\",\"110 to 115 minutes\",\"115 to 120 minutes\",\"-60 to -55 minutes\",\"-55 to -50 minutes\",\"-50 to -45 minutes\",\"-45 to -40 minutes\",\"-40 to -35 minutes\",\"-35 to -30 minutes\",\"-30 to -25 minutes\",\"-25 to -20 minutes\",\"-20 to -15 minutes\",\"-15 to -10 minutes\",\"-10 to -5 minutes\",\"-5 to 0 minutes\",\"0 to 5 minutes\",\"5 to 10 minutes\",\"10 to 15 minutes\",\"15 to 20 minutes\",\"20 to 25 minutes\",\"25 to 30 minutes\",\"30 to 35 minutes\",\"35 to 40 minutes\",\"40 to 45 minutes\",\"45 to 50 minutes\",\"50 to 55 minutes\",\"55 to 60 minutes\",\"60 to 65 minutes\",\"65 to 70 minutes\",\"70 to 75 minutes\",\"75 to 80 minutes\",\"80 to 85 minutes\",\"85 to 90 minutes\",\"90 to 95 minutes\",\"95 to 100 minutes\",\"100 to 105 minutes\",\"105 to 110 minutes\",\"110 to 115 minutes\",\"115 to 120 minutes\",\"-60 to -55 minutes\",\"-55 to -50 minutes\",\"-50 to -45 minutes\",\"-45 to -40 minutes\",\"-40 to -35 minutes\",\"-35 to -30 minutes\",\"-30 to -25 minutes\",\"-25 to -20 minutes\",\"-20 to -15 minutes\",\"-15 to -10 minutes\",\"-10 to -5 minutes\",\"-5 to 0 minutes\",\"0 to 5 minutes\",\"5 to 10 minutes\",\"10 to 15 minutes\",\"15 to 20 minutes\",\"20 to 25 minutes\",\"25 to 30 minutes\",\"30 to 35 minutes\",\"35 to 40 minutes\",\"40 to 45 minutes\",\"45 to 50 minutes\",\"50 to 55 minutes\",\"55 to 60 minutes\",\"60 to 65 minutes\",\"65 to 70 minutes\",\"70 to 75 minutes\",\"75 to 80 minutes\",\"80 to 85 minutes\",\"85 to 90 minutes\",\"90 to 95 minutes\",\"95 to 100 minutes\",\"100 to 105 minutes\",\"105 to 110 minutes\",\"110 to 115 minutes\",\"115 to 120 minutes\",\"-60 to -55 minutes\",\"-55 to -50 minutes\",\"-50 to -45 minutes\",\"-45 to -40 minutes\",\"-40 to -35 minutes\",\"-35 to -30 minutes\",\"-30 to -25 minutes\",\"-25 to -20 minutes\",\"-20 to -15 minutes\",\"-15 to -10 minutes\",\"-10 to -5 minutes\",\"-5 to 0 minutes\",\"0 to 5 minutes\",\"5 to 10 minutes\",\"10 to 15 minutes\",\"15 to 20 minutes\",\"20 to 25 minutes\",\"25 to 30 minutes\",\"30 to 35 minutes\",\"35 to 40 minutes\",\"40 to 45 minutes\",\"45 to 50 minutes\",\"50 to 55 minutes\",\"55 to 60 minutes\",\"60 to 65 minutes\",\"65 to 70 minutes\",\"70 to 75 minutes\",\"75 to 80 minutes\",\"80 to 85 minutes\",\"85 to 90 minutes\",\"90 to 95 minutes\",\"95 to 100 minutes\",\"100 to 105 minutes\",\"105 to 110 minutes\",\"110 to 115 minutes\",\"115 to 120 minutes\",\"-60 to -55 minutes\",\"-55 to -50 minutes\",\"-50 to -45 minutes\",\"-45 to -40 minutes\",\"-40 to -35 minutes\",\"-35 to -30 minutes\",\"-30 to -25 minutes\",\"-25 to -20 minutes\",\"-20 to -15 minutes\",\"-15 to -10 minutes\",\"-10 to -5 minutes\",\"-5 to 0 minutes\",\"0 to 5 minutes\",\"5 to 10 minutes\",\"10 to 15 minutes\",\"15 to 20 minutes\",\"20 to 25 minutes\",\"25 to 30 minutes\",\"30 to 35 minutes\",\"35 to 40 minutes\",\"40 to 45 minutes\",\"45 to 50 minutes\",\"50 to 55 minutes\",\"55 to 60 minutes\",\"60 to 65 minutes\",\"65 to 70 minutes\",\"70 to 75 minutes\",\"75 to 80 minutes\",\"80 to 85 minutes\",\"85 to 90 minutes\",\"90 to 95 minutes\",\"95 to 100 minutes\",\"100 to 105 minutes\",\"105 to 110 minutes\",\"110 to 115 minutes\",\"115 to 120 minutes\",\"-60 to -55 minutes\",\"-55 to -50 minutes\",\"-50 to -45 minutes\",\"-45 to -40 minutes\",\"-40 to -35 minutes\",\"-35 to -30 minutes\",\"-30 to -25 minutes\",\"-25 to -20 minutes\",\"-20 to -15 minutes\",\"-15 to -10 minutes\",\"-10 to -5 minutes\",\"-5 to 0 minutes\",\"0 to 5 minutes\",\"5 to 10 minutes\",\"10 to 15 minutes\",\"15 to 20 minutes\",\"20 to 25 minutes\",\"25 to 30 minutes\",\"30 to 35 minutes\",\"35 to 40 minutes\",\"40 to 45 minutes\",\"45 to 50 minutes\",\"50 to 55 minutes\",\"55 to 60 minutes\",\"60 to 65 minutes\",\"65 to 70 minutes\",\"70 to 75 minutes\",\"75 to 80 minutes\",\"80 to 85 minutes\",\"85 to 90 minutes\",\"90 to 95 minutes\",\"95 to 100 minutes\",\"100 to 105 minutes\",\"105 to 110 minutes\",\"110 to 115 minutes\",\"115 to 120 minutes\",\"-60 to -55 minutes\",\"-55 to -50 minutes\",\"-50 to -45 minutes\",\"-45 to -40 minutes\",\"-40 to -35 minutes\",\"-35 to -30 minutes\",\"-30 to -25 minutes\",\"-25 to -20 minutes\",\"-20 to -15 minutes\",\"-15 to -10 minutes\",\"-10 to -5 minutes\",\"-5 to 0 minutes\",\"0 to 5 minutes\",\"5 to 10 minutes\",\"10 to 15 minutes\",\"15 to 20 minutes\",\"20 to 25 minutes\",\"25 to 30 minutes\",\"30 to 35 minutes\",\"35 to 40 minutes\",\"40 to 45 minutes\",\"45 to 50 minutes\",\"50 to 55 minutes\",\"55 to 60 minutes\",\"60 to 65 minutes\",\"65 to 70 minutes\",\"70 to 75 minutes\",\"75 to 80 minutes\",\"80 to 85 minutes\",\"85 to 90 minutes\",\"90 to 95 minutes\",\"95 to 100 minutes\",\"100 to 105 minutes\",\"105 to 110 minutes\",\"110 to 115 minutes\",\"115 to 120 minutes\",\"-60 to -55 minutes\",\"-55 to -50 minutes\",\"-50 to -45 minutes\",\"-45 to -40 minutes\",\"-40 to -35 minutes\",\"-35 to -30 minutes\",\"-30 to -25 minutes\",\"-25 to -20 minutes\",\"-20 to -15 minutes\",\"-15 to -10 minutes\",\"-10 to -5 minutes\",\"-5 to 0 minutes\",\"0 to 5 minutes\",\"5 to 10 minutes\",\"10 to 15 minutes\",\"15 to 20 minutes\",\"20 to 25 minutes\",\"25 to 30 minutes\",\"30 to 35 minutes\",\"35 to 40 minutes\",\"40 to 45 minutes\",\"45 to 50 minutes\",\"50 to 55 minutes\",\"55 to 60 minutes\",\"60 to 65 minutes\",\"65 to 70 minutes\",\"70 to 75 minutes\",\"75 to 80 minutes\",\"80 to 85 minutes\",\"85 to 90 minutes\",\"90 to 95 minutes\",\"95 to 100 minutes\",\"100 to 105 minutes\",\"105 to 110 minutes\",\"110 to 115 minutes\",\"115 to 120 minutes\",\"-60 to -55 minutes\",\"-55 to -50 minutes\",\"-50 to -45 minutes\",\"-45 to -40 minutes\",\"-40 to -35 minutes\",\"-35 to -30 minutes\",\"-30 to -25 minutes\",\"-25 to -20 minutes\",\"-20 to -15 minutes\",\"-15 to -10 minutes\",\"-10 to -5 minutes\",\"-5 to 0 minutes\",\"0 to 5 minutes\",\"5 to 10 minutes\",\"10 to 15 minutes\",\"15 to 20 minutes\",\"20 to 25 minutes\",\"25 to 30 minutes\",\"30 to 35 minutes\",\"35 to 40 minutes\",\"40 to 45 minutes\",\"45 to 50 minutes\",\"50 to 55 minutes\",\"55 to 60 minutes\",\"60 to 65 minutes\",\"65 to 70 minutes\",\"70 to 75 minutes\",\"75 to 80 minutes\",\"80 to 85 minutes\",\"85 to 90 minutes\",\"90 to 95 minutes\",\"95 to 100 minutes\",\"100 to 105 minutes\",\"105 to 110 minutes\",\"110 to 115 minutes\",\"115 to 120 minutes\",\"-60 to -55 minutes\",\"-55 to -50 minutes\",\"-50 to -45 minutes\",\"-45 to -40 minutes\",\"-40 to -35 minutes\",\"-35 to -30 minutes\",\"-30 to -25 minutes\",\"-25 to -20 minutes\",\"-20 to -15 minutes\",\"-15 to -10 minutes\",\"-10 to -5 minutes\",\"-5 to 0 minutes\",\"0 to 5 minutes\",\"5 to 10 minutes\",\"10 to 15 minutes\",\"15 to 20 minutes\",\"20 to 25 minutes\",\"25 to 30 minutes\",\"30 to 35 minutes\",\"35 to 40 minutes\",\"40 to 45 minutes\",\"45 to 50 minutes\",\"50 to 55 minutes\",\"55 to 60 minutes\",\"60 to 65 minutes\",\"65 to 70 minutes\",\"70 to 75 minutes\",\"75 to 80 minutes\",\"80 to 85 minutes\",\"85 to 90 minutes\",\"90 to 95 minutes\",\"95 to 100 minutes\",\"100 to 105 minutes\",\"105 to 110 minutes\",\"110 to 115 minutes\",\"115 to 120 minutes\",\"-60 to -55 minutes\",\"-55 to -50 minutes\",\"-50 to -45 minutes\",\"-45 to -40 minutes\",\"-40 to -35 minutes\",\"-35 to -30 minutes\",\"-30 to -25 minutes\",\"-25 to -20 minutes\",\"-20 to -15 minutes\",\"-15 to -10 minutes\",\"-10 to -5 minutes\",\"-5 to 0 minutes\",\"0 to 5 minutes\",\"5 to 10 minutes\",\"10 to 15 minutes\",\"15 to 20 minutes\",\"20 to 25 minutes\",\"25 to 30 minutes\",\"30 to 35 minutes\",\"35 to 40 minutes\",\"40 to 45 minutes\",\"45 to 50 minutes\",\"50 to 55 minutes\",\"55 to 60 minutes\",\"60 to 65 minutes\",\"65 to 70 minutes\",\"70 to 75 minutes\",\"75 to 80 minutes\",\"80 to 85 minutes\",\"85 to 90 minutes\",\"90 to 95 minutes\",\"95 to 100 minutes\",\"100 to 105 minutes\",\"105 to 110 minutes\",\"110 to 115 minutes\",\"115 to 120 minutes\",\"-60 to -55 minutes\",\"-55 to -50 minutes\",\"-50 to -45 minutes\",\"-45 to -40 minutes\",\"-40 to -35 minutes\",\"-35 to -30 minutes\",\"-30 to -25 minutes\",\"-25 to -20 minutes\",\"-20 to -15 minutes\",\"-15 to -10 minutes\",\"-10 to -5 minutes\",\"-5 to 0 minutes\",\"0 to 5 minutes\",\"5 to 10 minutes\",\"10 to 15 minutes\",\"15 to 20 minutes\",\"20 to 25 minutes\",\"25 to 30 minutes\",\"30 to 35 minutes\",\"35 to 40 minutes\",\"40 to 45 minutes\",\"45 to 50 minutes\",\"50 to 55 minutes\",\"55 to 60 minutes\",\"60 to 65 minutes\",\"65 to 70 minutes\",\"70 to 75 minutes\",\"75 to 80 minutes\",\"80 to 85 minutes\",\"85 to 90 minutes\",\"90 to 95 minutes\",\"95 to 100 minutes\",\"100 to 105 minutes\",\"105 to 110 minutes\",\"110 to 115 minutes\",\"115 to 120 minutes\",\"-60 to -55 minutes\",\"-55 to -50 minutes\",\"-50 to -45 minutes\",\"-45 to -40 minutes\",\"-40 to -35 minutes\",\"-35 to -30 minutes\",\"-30 to -25 minutes\",\"-25 to -20 minutes\",\"-20 to -15 minutes\",\"-15 to -10 minutes\",\"-10 to -5 minutes\",\"-5 to 0 minutes\",\"0 to 5 minutes\",\"5 to 10 minutes\",\"10 to 15 minutes\",\"15 to 20 minutes\",\"20 to 25 minutes\",\"25 to 30 minutes\",\"30 to 35 minutes\",\"35 to 40 minutes\",\"40 to 45 minutes\",\"45 to 50 minutes\",\"50 to 55 minutes\",\"55 to 60 minutes\",\"60 to 65 minutes\",\"65 to 70 minutes\",\"70 to 75 minutes\",\"75 to 80 minutes\",\"80 to 85 minutes\",\"85 to 90 minutes\",\"90 to 95 minutes\",\"95 to 100 minutes\",\"100 to 105 minutes\",\"105 to 110 minutes\",\"110 to 115 minutes\",\"115 to 120 minutes\",\"-60 to -55 minutes\",\"-55 to -50 minutes\",\"-50 to -45 minutes\",\"-45 to -40 minutes\",\"-40 to -35 minutes\",\"-35 to -30 minutes\",\"-30 to -25 minutes\",\"-25 to -20 minutes\",\"-20 to -15 minutes\",\"-15 to -10 minutes\",\"-10 to -5 minutes\",\"-5 to 0 minutes\",\"0 to 5 minutes\",\"5 to 10 minutes\",\"10 to 15 minutes\",\"15 to 20 minutes\",\"20 to 25 minutes\",\"25 to 30 minutes\",\"30 to 35 minutes\",\"35 to 40 minutes\",\"40 to 45 minutes\",\"45 to 50 minutes\",\"50 to 55 minutes\",\"55 to 60 minutes\",\"60 to 65 minutes\",\"65 to 70 minutes\",\"70 to 75 minutes\",\"75 to 80 minutes\",\"80 to 85 minutes\",\"85 to 90 minutes\",\"90 to 95 minutes\",\"95 to 100 minutes\",\"100 to 105 minutes\",\"105 to 110 minutes\",\"110 to 115 minutes\",\"115 to 120 minutes\"],\"f_proportion\":[\"0.00000\",\"0.00000\",\"0.00000\",\"0.00166\",\"0.00166\",\"0.00497\",\"0.01589\",\"0.03178\",\"0.05627\",\"0.08375\",\"0.09732\",\"0.10758\",\"0.11255\",\"0.09004\",\"0.08342\",\"0.05727\",\"0.04535\",\"0.03443\",\"0.02582\",\"0.01986\",\"0.01887\",\"0.01423\",\"0.01291\",\"0.01390\",\"0.00828\",\"0.00794\",\"0.00794\",\"0.00761\",\"0.00629\",\"0.00497\",\"0.00761\",\"0.00265\",\"0.00397\",\"0.00331\",\"0.00463\",\"0.00530\",\"0.00581\",\"0.02467\",\"0.03338\",\"0.05806\",\"0.07112\",\"0.07837\",\"0.08563\",\"0.09434\",\"0.08418\",\"0.08128\",\"0.07112\",\"0.04209\",\"0.05515\",\"0.03483\",\"0.04499\",\"0.02612\",\"0.01597\",\"0.01306\",\"0.01161\",\"0.00871\",\"0.01016\",\"0.01016\",\"0.00290\",\"0.00435\",\"0.00290\",\"0.00435\",\"0.00000\",\"0.00145\",\"0.00000\",\"0.00435\",\"0.00581\",\"0.00145\",\"0.00435\",\"0.00145\",\"0.00145\",\"0.00435\",\"0.00167\",\"0.00388\",\"0.00904\",\"0.01859\",\"0.03254\",\"0.04933\",\"0.06741\",\"0.09254\",\"0.10594\",\"0.10738\",\"0.09495\",\"0.08177\",\"0.06590\",\"0.05321\",\"0.04036\",\"0.02898\",\"0.02353\",\"0.02048\",\"0.01458\",\"0.01151\",\"0.00984\",\"0.00801\",\"0.00747\",\"0.00660\",\"0.00609\",\"0.00539\",\"0.00458\",\"0.00452\",\"0.00369\",\"0.00324\",\"0.00282\",\"0.00346\",\"0.00279\",\"0.00301\",\"0.00260\",\"0.00231\",\"0.00138\",\"0.00303\",\"0.00620\",\"0.01203\",\"0.02333\",\"0.04048\",\"0.06312\",\"0.08849\",\"0.10782\",\"0.11221\",\"0.10754\",\"0.08892\",\"0.07504\",\"0.05688\",\"0.04362\",\"0.03245\",\"0.02311\",\"0.01691\",\"0.01448\",\"0.01141\",\"0.00932\",\"0.00884\",\"0.00704\",\"0.00686\",\"0.00495\",\"0.00504\",\"0.00441\",\"0.00377\",\"0.00340\",\"0.00329\",\"0.00321\",\"0.00275\",\"0.00260\",\"0.00230\",\"0.00174\",\"0.00202\",\"0.00072\",\"0.00290\",\"0.00748\",\"0.01520\",\"0.02889\",\"0.04928\",\"0.06919\",\"0.09308\",\"0.09935\",\"0.09778\",\"0.09127\",\"0.07359\",\"0.06298\",\"0.04735\",\"0.03698\",\"0.03064\",\"0.02570\",\"0.01942\",\"0.01882\",\"0.01502\",\"0.01448\",\"0.01194\",\"0.00941\",\"0.00923\",\"0.00814\",\"0.00742\",\"0.00766\",\"0.00651\",\"0.00633\",\"0.00645\",\"0.00591\",\"0.00428\",\"0.00404\",\"0.00416\",\"0.00362\",\"0.00477\",\"0.00000\",\"0.00004\",\"0.00021\",\"0.00123\",\"0.00448\",\"0.01299\",\"0.03165\",\"0.05895\",\"0.08780\",\"0.10955\",\"0.11395\",\"0.10762\",\"0.08678\",\"0.06881\",\"0.05796\",\"0.04263\",\"0.03161\",\"0.02618\",\"0.02096\",\"0.01907\",\"0.01418\",\"0.01307\",\"0.01143\",\"0.01056\",\"0.01032\",\"0.00797\",\"0.00777\",\"0.00633\",\"0.00617\",\"0.00534\",\"0.00534\",\"0.00485\",\"0.00428\",\"0.00288\",\"0.00341\",\"0.00362\",\"0.00008\",\"0.00031\",\"0.00095\",\"0.00251\",\"0.00814\",\"0.01653\",\"0.03713\",\"0.06289\",\"0.09379\",\"0.10641\",\"0.10742\",\"0.09467\",\"0.07582\",\"0.05966\",\"0.04720\",\"0.03625\",\"0.03051\",\"0.02543\",\"0.02292\",\"0.01935\",\"0.01696\",\"0.01581\",\"0.01511\",\"0.01262\",\"0.01190\",\"0.01024\",\"0.00999\",\"0.00909\",\"0.00835\",\"0.00736\",\"0.00654\",\"0.00662\",\"0.00615\",\"0.00495\",\"0.00530\",\"0.00504\",\"0.00000\",\"0.00000\",\"0.00156\",\"0.00000\",\"0.00313\",\"0.00939\",\"0.02660\",\"0.07199\",\"0.05790\",\"0.06886\",\"0.09233\",\"0.09233\",\"0.09233\",\"0.07042\",\"0.06573\",\"0.05790\",\"0.05477\",\"0.02973\",\"0.03599\",\"0.03130\",\"0.02973\",\"0.01252\",\"0.01408\",\"0.01095\",\"0.00626\",\"0.00939\",\"0.00939\",\"0.00782\",\"0.00782\",\"0.00469\",\"0.00469\",\"0.00626\",\"0.00939\",\"0.00156\",\"0.00156\",\"0.00156\",\"0.03012\",\"0.01807\",\"0.00904\",\"0.04518\",\"0.03614\",\"0.06928\",\"0.08133\",\"0.07229\",\"0.09337\",\"0.08133\",\"0.09337\",\"0.08133\",\"0.06928\",\"0.03916\",\"0.06325\",\"0.02711\",\"0.03012\",\"0.01506\",\"0.01205\",\"0.01506\",\"0.00301\",\"0.00000\",\"0.00301\",\"0.00301\",\"0.00000\",\"0.00301\",\"0.00000\",\"0.00000\",\"0.00602\",\"0.00000\",\"0.00000\",\"0.00000\",\"0.00000\",\"0.00000\",\"0.00000\",\"0.00000\",\"0.00061\",\"0.00109\",\"0.00233\",\"0.00484\",\"0.00878\",\"0.01881\",\"0.03574\",\"0.06251\",\"0.09694\",\"0.11728\",\"0.11470\",\"0.10064\",\"0.08024\",\"0.06199\",\"0.04848\",\"0.03895\",\"0.03078\",\"0.02447\",\"0.02062\",\"0.01797\",\"0.01534\",\"0.01328\",\"0.01058\",\"0.00981\",\"0.00888\",\"0.00767\",\"0.00635\",\"0.00633\",\"0.00578\",\"0.00496\",\"0.00442\",\"0.00440\",\"0.00402\",\"0.00339\",\"0.00335\",\"0.00365\",\"0.00000\",\"0.00000\",\"0.00390\",\"0.00585\",\"0.00585\",\"0.03509\",\"0.04094\",\"0.07797\",\"0.11696\",\"0.12281\",\"0.07992\",\"0.05653\",\"0.06238\",\"0.05653\",\"0.04678\",\"0.04483\",\"0.03899\",\"0.01949\",\"0.00975\",\"0.01559\",\"0.01365\",\"0.01754\",\"0.01559\",\"0.02534\",\"0.01559\",\"0.01170\",\"0.00780\",\"0.01170\",\"0.00585\",\"0.00390\",\"0.00585\",\"0.00975\",\"0.00780\",\"0.00585\",\"0.00195\",\"0.00000\",\"0.00000\",\"0.00000\",\"0.00000\",\"0.00000\",\"0.00000\",\"0.00000\",\"0.03704\",\"0.11111\",\"0.14815\",\"0.11111\",\"0.22222\",\"0.07407\",\"0.07407\",\"0.03704\",\"0.00000\",\"0.00000\",\"0.00000\",\"0.03704\",\"0.00000\",\"0.00000\",\"0.00000\",\"0.07407\",\"0.00000\",\"0.00000\",\"0.00000\",\"0.03704\",\"0.00000\",\"0.00000\",\"0.00000\",\"0.00000\",\"0.00000\",\"0.00000\",\"0.00000\",\"0.03704\",\"0.00000\",\"0.00000\",\"0.00035\",\"0.00104\",\"0.00242\",\"0.00570\",\"0.01303\",\"0.02399\",\"0.04384\",\"0.06653\",\"0.09225\",\"0.10459\",\"0.10701\",\"0.10131\",\"0.08612\",\"0.07171\",\"0.05247\",\"0.04211\",\"0.03020\",\"0.02373\",\"0.02011\",\"0.01467\",\"0.01441\",\"0.01001\",\"0.00889\",\"0.00897\",\"0.00725\",\"0.00570\",\"0.00690\",\"0.00492\",\"0.00440\",\"0.00362\",\"0.00440\",\"0.00371\",\"0.00397\",\"0.00414\",\"0.00250\",\"0.00302\",\"0.00031\",\"0.00102\",\"0.00138\",\"0.00302\",\"0.00660\",\"0.01525\",\"0.03643\",\"0.06988\",\"0.11219\",\"0.13378\",\"0.13025\",\"0.10943\",\"0.08866\",\"0.06784\",\"0.04737\",\"0.03489\",\"0.02655\",\"0.02087\",\"0.01647\",\"0.01202\",\"0.01049\",\"0.00834\",\"0.00691\",\"0.00506\",\"0.00593\",\"0.00460\",\"0.00358\",\"0.00307\",\"0.00343\",\"0.00292\",\"0.00230\",\"0.00215\",\"0.00174\",\"0.00164\",\"0.00179\",\"0.00184\",\"0.00124\",\"0.00287\",\"0.00657\",\"0.01256\",\"0.02261\",\"0.03785\",\"0.05610\",\"0.07791\",\"0.09768\",\"0.10618\",\"0.09975\",\"0.09228\",\"0.07452\",\"0.05861\",\"0.04672\",\"0.03568\",\"0.02713\",\"0.02365\",\"0.01836\",\"0.01517\",\"0.01205\",\"0.01086\",\"0.00912\",\"0.00761\",\"0.00609\",\"0.00614\",\"0.00518\",\"0.00497\",\"0.00436\",\"0.00371\",\"0.00355\",\"0.00330\",\"0.00289\",\"0.00248\",\"0.00206\",\"0.00218\",\"0.00366\",\"0.00732\",\"0.01484\",\"0.02602\",\"0.03496\",\"0.05183\",\"0.07500\",\"0.08984\",\"0.09451\",\"0.09024\",\"0.08902\",\"0.08435\",\"0.07846\",\"0.05691\",\"0.04431\",\"0.02581\",\"0.02195\",\"0.01931\",\"0.01159\",\"0.01118\",\"0.00732\",\"0.00610\",\"0.00935\",\"0.00447\",\"0.00488\",\"0.00366\",\"0.00305\",\"0.00447\",\"0.00346\",\"0.00305\",\"0.00346\",\"0.00407\",\"0.00224\",\"0.00386\",\"0.00203\",\"0.00346\"],\"index\":[0,1,2,3,4,5,6,7,8,9,10,11,12,13,14,15,16,17,18,19,20,21,22,23,24,25,26,27,28,29,30,31,32,33,34,35,0,1,2,3,4,5,6,7,8,9,10,11,12,13,14,15,16,17,18,19,20,21,22,23,24,25,26,27,28,29,30,31,32,33,34,35,0,1,2,3,4,5,6,7,8,9,10,11,12,13,14,15,16,17,18,19,20,21,22,23,24,25,26,27,28,29,30,31,32,33,34,35,0,1,2,3,4,5,6,7,8,9,10,11,12,13,14,15,16,17,18,19,20,21,22,23,24,25,26,27,28,29,30,31,32,33,34,35,0,1,2,3,4,5,6,7,8,9,10,11,12,13,14,15,16,17,18,19,20,21,22,23,24,25,26,27,28,29,30,31,32,33,34,35,0,1,2,3,4,5,6,7,8,9,10,11,12,13,14,15,16,17,18,19,20,21,22,23,24,25,26,27,28,29,30,31,32,33,34,35,0,1,2,3,4,5,6,7,8,9,10,11,12,13,14,15,16,17,18,19,20,21,22,23,24,25,26,27,28,29,30,31,32,33,34,35,0,1,2,3,4,5,6,7,8,9,10,11,12,13,14,15,16,17,18,19,20,21,22,23,24,25,26,27,28,29,30,31,32,33,34,35,0,1,2,3,4,5,6,7,8,9,10,11,12,13,14,15,16,17,18,19,20,21,22,23,24,25,26,27,28,29,30,31,32,33,34,35,0,1,2,3,4,5,6,7,8,9,10,11,12,13,14,15,16,17,18,19,20,21,22,23,24,25,26,27,28,29,30,31,32,33,34,35,0,1,2,3,4,5,6,7,8,9,10,11,12,13,14,15,16,17,18,19,20,21,22,23,24,25,26,27,28,29,30,31,32,33,34,35,0,1,2,3,4,5,6,7,8,9,10,11,12,13,14,15,16,17,18,19,20,21,22,23,24,25,26,27,28,29,30,31,32,33,34,35,0,1,2,3,4,5,6,7,8,9,10,11,12,13,14,15,16,17,18,19,20,21,22,23,24,25,26,27,28,29,30,31,32,33,34,35,0,1,2,3,4,5,6,7,8,9,10,11,12,13,14,15,16,17,18,19,20,21,22,23,24,25,26,27,28,29,30,31,32,33,34,35,0,1,2,3,4,5,6,7,8,9,10,11,12,13,14,15,16,17,18,19,20,21,22,23,24,25,26,27,28,29,30,31,32,33,34,35,0,1,2,3,4,5,6,7,8,9,10,11,12,13,14,15,16,17,18,19,20,21,22,23,24,25,26,27,28,29,30,31,32,33,34,35],\"left\":{\"__ndarray__\":\"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\",\"dtype\":\"float64\",\"shape\":[576]},\"name\":[\"AirTran Airways Corporation\",\"AirTran Airways Corporation\",\"AirTran Airways Corporation\",\"AirTran Airways Corporation\",\"AirTran Airways Corporation\",\"AirTran Airways Corporation\",\"AirTran Airways Corporation\",\"AirTran Airways Corporation\",\"AirTran Airways Corporation\",\"AirTran Airways Corporation\",\"AirTran Airways Corporation\",\"AirTran Airways Corporation\",\"AirTran Airways Corporation\",\"AirTran Airways Corporation\",\"AirTran Airways Corporation\",\"AirTran Airways Corporation\",\"AirTran Airways Corporation\",\"AirTran Airways Corporation\",\"AirTran Airways Corporation\",\"AirTran Airways Corporation\",\"AirTran Airways Corporation\",\"AirTran Airways Corporation\",\"AirTran Airways Corporation\",\"AirTran Airways Corporation\",\"AirTran Airways Corporation\",\"AirTran Airways Corporation\",\"AirTran Airways Corporation\",\"AirTran Airways Corporation\",\"AirTran Airways Corporation\",\"AirTran Airways Corporation\",\"AirTran Airways Corporation\",\"AirTran Airways Corporation\",\"AirTran Airways Corporation\",\"AirTran Airways Corporation\",\"AirTran Airways Corporation\",\"AirTran Airways Corporation\",\"Alaska Airlines Inc.\",\"Alaska Airlines Inc.\",\"Alaska Airlines Inc.\",\"Alaska Airlines Inc.\",\"Alaska Airlines Inc.\",\"Alaska Airlines Inc.\",\"Alaska Airlines Inc.\",\"Alaska Airlines Inc.\",\"Alaska Airlines Inc.\",\"Alaska Airlines Inc.\",\"Alaska Airlines Inc.\",\"Alaska Airlines Inc.\",\"Alaska Airlines Inc.\",\"Alaska Airlines Inc.\",\"Alaska Airlines Inc.\",\"Alaska Airlines Inc.\",\"Alaska Airlines Inc.\",\"Alaska Airlines Inc.\",\"Alaska Airlines Inc.\",\"Alaska Airlines Inc.\",\"Alaska Airlines Inc.\",\"Alaska Airlines Inc.\",\"Alaska Airlines Inc.\",\"Alaska Airlines Inc.\",\"Alaska Airlines Inc.\",\"Alaska Airlines Inc.\",\"Alaska Airlines Inc.\",\"Alaska Airlines Inc.\",\"Alaska Airlines Inc.\",\"Alaska Airlines Inc.\",\"Alaska Airlines Inc.\",\"Alaska Airlines Inc.\",\"Alaska Airlines Inc.\",\"Alaska Airlines Inc.\",\"Alaska Airlines Inc.\",\"Alaska Airlines Inc.\",\"American Airlines Inc.\",\"American Airlines Inc.\",\"American Airlines Inc.\",\"American Airlines Inc.\",\"American Airlines Inc.\",\"American Airlines Inc.\",\"American Airlines Inc.\",\"American Airlines Inc.\",\"American Airlines Inc.\",\"American Airlines Inc.\",\"American Airlines Inc.\",\"American Airlines Inc.\",\"American Airlines Inc.\",\"American Airlines Inc.\",\"American Airlines Inc.\",\"American Airlines Inc.\",\"American Airlines Inc.\",\"American Airlines Inc.\",\"American Airlines Inc.\",\"American Airlines Inc.\",\"American Airlines Inc.\",\"American Airlines Inc.\",\"American Airlines Inc.\",\"American Airlines Inc.\",\"American Airlines Inc.\",\"American Airlines Inc.\",\"American Airlines Inc.\",\"American Airlines Inc.\",\"American Airlines Inc.\",\"American Airlines Inc.\",\"American Airlines Inc.\",\"American Airlines Inc.\",\"American Airlines Inc.\",\"American Airlines Inc.\",\"American Airlines Inc.\",\"American Airlines Inc.\",\"Delta Air Lines Inc.\",\"Delta Air Lines Inc.\",\"Delta Air Lines Inc.\",\"Delta Air Lines Inc.\",\"Delta Air Lines Inc.\",\"Delta Air Lines Inc.\",\"Delta Air Lines Inc.\",\"Delta Air Lines Inc.\",\"Delta Air Lines Inc.\",\"Delta Air Lines Inc.\",\"Delta Air Lines Inc.\",\"Delta Air Lines Inc.\",\"Delta Air Lines Inc.\",\"Delta Air Lines Inc.\",\"Delta Air Lines Inc.\",\"Delta Air Lines Inc.\",\"Delta Air Lines Inc.\",\"Delta Air Lines Inc.\",\"Delta Air Lines Inc.\",\"Delta Air Lines Inc.\",\"Delta Air Lines Inc.\",\"Delta Air Lines Inc.\",\"Delta Air Lines Inc.\",\"Delta Air Lines Inc.\",\"Delta Air Lines Inc.\",\"Delta Air Lines Inc.\",\"Delta Air Lines Inc.\",\"Delta Air Lines Inc.\",\"Delta Air Lines Inc.\",\"Delta Air Lines Inc.\",\"Delta Air Lines Inc.\",\"Delta Air Lines Inc.\",\"Delta Air Lines Inc.\",\"Delta Air Lines Inc.\",\"Delta Air Lines Inc.\",\"Delta Air Lines Inc.\",\"Endeavor Air Inc.\",\"Endeavor Air Inc.\",\"Endeavor Air Inc.\",\"Endeavor Air Inc.\",\"Endeavor Air Inc.\",\"Endeavor Air Inc.\",\"Endeavor Air Inc.\",\"Endeavor Air Inc.\",\"Endeavor Air Inc.\",\"Endeavor Air Inc.\",\"Endeavor Air Inc.\",\"Endeavor Air Inc.\",\"Endeavor Air Inc.\",\"Endeavor Air Inc.\",\"Endeavor Air Inc.\",\"Endeavor Air Inc.\",\"Endeavor Air Inc.\",\"Endeavor Air Inc.\",\"Endeavor Air Inc.\",\"Endeavor Air Inc.\",\"Endeavor Air Inc.\",\"Endeavor Air Inc.\",\"Endeavor Air Inc.\",\"Endeavor Air Inc.\",\"Endeavor Air Inc.\",\"Endeavor Air Inc.\",\"Endeavor Air Inc.\",\"Endeavor Air Inc.\",\"Endeavor Air Inc.\",\"Endeavor Air Inc.\",\"Endeavor Air Inc.\",\"Endeavor Air Inc.\",\"Endeavor Air Inc.\",\"Endeavor Air Inc.\",\"Endeavor Air Inc.\",\"Endeavor Air Inc.\",\"Envoy Air\",\"Envoy Air\",\"Envoy Air\",\"Envoy Air\",\"Envoy Air\",\"Envoy Air\",\"Envoy Air\",\"Envoy Air\",\"Envoy Air\",\"Envoy Air\",\"Envoy Air\",\"Envoy Air\",\"Envoy Air\",\"Envoy Air\",\"Envoy Air\",\"Envoy Air\",\"Envoy Air\",\"Envoy Air\",\"Envoy Air\",\"Envoy Air\",\"Envoy Air\",\"Envoy Air\",\"Envoy Air\",\"Envoy Air\",\"Envoy Air\",\"Envoy Air\",\"Envoy Air\",\"Envoy Air\",\"Envoy Air\",\"Envoy Air\",\"Envoy Air\",\"Envoy Air\",\"Envoy Air\",\"Envoy Air\",\"Envoy Air\",\"Envoy Air\",\"ExpressJet Airlines Inc.\",\"ExpressJet Airlines Inc.\",\"ExpressJet Airlines Inc.\",\"ExpressJet Airlines Inc.\",\"ExpressJet Airlines Inc.\",\"ExpressJet Airlines Inc.\",\"ExpressJet Airlines Inc.\",\"ExpressJet Airlines Inc.\",\"ExpressJet Airlines Inc.\",\"ExpressJet Airlines Inc.\",\"ExpressJet Airlines Inc.\",\"ExpressJet Airlines Inc.\",\"ExpressJet Airlines Inc.\",\"ExpressJet Airlines Inc.\",\"ExpressJet Airlines Inc.\",\"ExpressJet Airlines Inc.\",\"ExpressJet Airlines Inc.\",\"ExpressJet Airlines Inc.\",\"ExpressJet Airlines Inc.\",\"ExpressJet Airlines Inc.\",\"ExpressJet Airlines Inc.\",\"ExpressJet Airlines Inc.\",\"ExpressJet Airlines Inc.\",\"ExpressJet Airlines Inc.\",\"ExpressJet Airlines Inc.\",\"ExpressJet Airlines Inc.\",\"ExpressJet Airlines Inc.\",\"ExpressJet Airlines Inc.\",\"ExpressJet Airlines Inc.\",\"ExpressJet Airlines Inc.\",\"ExpressJet Airlines Inc.\",\"ExpressJet Airlines Inc.\",\"ExpressJet Airlines Inc.\",\"ExpressJet Airlines Inc.\",\"ExpressJet Airlines Inc.\",\"ExpressJet Airlines Inc.\",\"Frontier Airlines Inc.\",\"Frontier Airlines Inc.\",\"Frontier Airlines Inc.\",\"Frontier Airlines Inc.\",\"Frontier Airlines Inc.\",\"Frontier Airlines Inc.\",\"Frontier Airlines Inc.\",\"Frontier Airlines Inc.\",\"Frontier Airlines Inc.\",\"Frontier Airlines Inc.\",\"Frontier Airlines Inc.\",\"Frontier Airlines Inc.\",\"Frontier Airlines Inc.\",\"Frontier Airlines Inc.\",\"Frontier Airlines Inc.\",\"Frontier Airlines Inc.\",\"Frontier Airlines Inc.\",\"Frontier Airlines Inc.\",\"Frontier Airlines Inc.\",\"Frontier Airlines Inc.\",\"Frontier Airlines Inc.\",\"Frontier Airlines Inc.\",\"Frontier Airlines Inc.\",\"Frontier Airlines Inc.\",\"Frontier Airlines Inc.\",\"Frontier Airlines Inc.\",\"Frontier Airlines Inc.\",\"Frontier Airlines Inc.\",\"Frontier Airlines Inc.\",\"Frontier Airlines Inc.\",\"Frontier Airlines Inc.\",\"Frontier Airlines Inc.\",\"Frontier Airlines Inc.\",\"Frontier Airlines Inc.\",\"Frontier Airlines Inc.\",\"Frontier Airlines Inc.\",\"Hawaiian Airlines Inc.\",\"Hawaiian Airlines Inc.\",\"Hawaiian Airlines Inc.\",\"Hawaiian Airlines Inc.\",\"Hawaiian Airlines Inc.\",\"Hawaiian Airlines Inc.\",\"Hawaiian Airlines Inc.\",\"Hawaiian Airlines Inc.\",\"Hawaiian Airlines Inc.\",\"Hawaiian Airlines Inc.\",\"Hawaiian Airlines Inc.\",\"Hawaiian Airlines Inc.\",\"Hawaiian Airlines Inc.\",\"Hawaiian Airlines Inc.\",\"Hawaiian Airlines Inc.\",\"Hawaiian Airlines Inc.\",\"Hawaiian Airlines Inc.\",\"Hawaiian Airlines Inc.\",\"Hawaiian Airlines Inc.\",\"Hawaiian Airlines Inc.\",\"Hawaiian Airlines Inc.\",\"Hawaiian Airlines Inc.\",\"Hawaiian Airlines Inc.\",\"Hawaiian Airlines Inc.\",\"Hawaiian Airlines Inc.\",\"Hawaiian Airlines Inc.\",\"Hawaiian Airlines Inc.\",\"Hawaiian Airlines Inc.\",\"Hawaiian Airlines Inc.\",\"Hawaiian Airlines Inc.\",\"Hawaiian Airlines Inc.\",\"Hawaiian Airlines Inc.\",\"Hawaiian Airlines Inc.\",\"Hawaiian Airlines Inc.\",\"Hawaiian Airlines Inc.\",\"Hawaiian Airlines Inc.\",\"JetBlue Airways\",\"JetBlue Airways\",\"JetBlue Airways\",\"JetBlue Airways\",\"JetBlue Airways\",\"JetBlue Airways\",\"JetBlue Airways\",\"JetBlue Airways\",\"JetBlue Airways\",\"JetBlue Airways\",\"JetBlue Airways\",\"JetBlue Airways\",\"JetBlue Airways\",\"JetBlue Airways\",\"JetBlue Airways\",\"JetBlue Airways\",\"JetBlue Airways\",\"JetBlue Airways\",\"JetBlue Airways\",\"JetBlue Airways\",\"JetBlue Airways\",\"JetBlue Airways\",\"JetBlue Airways\",\"JetBlue Airways\",\"JetBlue Airways\",\"JetBlue Airways\",\"JetBlue Airways\",\"JetBlue Airways\",\"JetBlue Airways\",\"JetBlue Airways\",\"JetBlue Airways\",\"JetBlue Airways\",\"JetBlue Airways\",\"JetBlue Airways\",\"JetBlue Airways\",\"JetBlue Airways\",\"Mesa Airlines Inc.\",\"Mesa Airlines Inc.\",\"Mesa Airlines Inc.\",\"Mesa Airlines Inc.\",\"Mesa Airlines Inc.\",\"Mesa Airlines Inc.\",\"Mesa Airlines Inc.\",\"Mesa Airlines Inc.\",\"Mesa Airlines Inc.\",\"Mesa Airlines Inc.\",\"Mesa Airlines Inc.\",\"Mesa Airlines Inc.\",\"Mesa Airlines Inc.\",\"Mesa Airlines Inc.\",\"Mesa Airlines Inc.\",\"Mesa Airlines Inc.\",\"Mesa Airlines Inc.\",\"Mesa Airlines Inc.\",\"Mesa Airlines Inc.\",\"Mesa Airlines Inc.\",\"Mesa Airlines Inc.\",\"Mesa Airlines Inc.\",\"Mesa Airlines Inc.\",\"Mesa Airlines Inc.\",\"Mesa Airlines Inc.\",\"Mesa Airlines Inc.\",\"Mesa Airlines Inc.\",\"Mesa Airlines Inc.\",\"Mesa Airlines Inc.\",\"Mesa Airlines Inc.\",\"Mesa Airlines Inc.\",\"Mesa Airlines Inc.\",\"Mesa Airlines Inc.\",\"Mesa Airlines Inc.\",\"Mesa Airlines Inc.\",\"Mesa Airlines Inc.\",\"SkyWest Airlines Inc.\",\"SkyWest Airlines Inc.\",\"SkyWest Airlines Inc.\",\"SkyWest Airlines Inc.\",\"SkyWest Airlines Inc.\",\"SkyWest Airlines Inc.\",\"SkyWest Airlines Inc.\",\"SkyWest Airlines Inc.\",\"SkyWest Airlines Inc.\",\"SkyWest Airlines Inc.\",\"SkyWest Airlines Inc.\",\"SkyWest Airlines Inc.\",\"SkyWest Airlines Inc.\",\"SkyWest Airlines Inc.\",\"SkyWest Airlines Inc.\",\"SkyWest Airlines Inc.\",\"SkyWest Airlines Inc.\",\"SkyWest Airlines Inc.\",\"SkyWest Airlines Inc.\",\"SkyWest Airlines Inc.\",\"SkyWest Airlines Inc.\",\"SkyWest Airlines Inc.\",\"SkyWest Airlines Inc.\",\"SkyWest Airlines Inc.\",\"SkyWest Airlines Inc.\",\"SkyWest Airlines Inc.\",\"SkyWest Airlines Inc.\",\"SkyWest Airlines Inc.\",\"SkyWest Airlines Inc.\",\"SkyWest Airlines Inc.\",\"SkyWest Airlines Inc.\",\"SkyWest Airlines Inc.\",\"SkyWest Airlines Inc.\",\"SkyWest Airlines Inc.\",\"SkyWest Airlines Inc.\",\"SkyWest Airlines Inc.\",\"Southwest Airlines Co.\",\"Southwest Airlines Co.\",\"Southwest Airlines Co.\",\"Southwest Airlines Co.\",\"Southwest Airlines Co.\",\"Southwest Airlines Co.\",\"Southwest Airlines Co.\",\"Southwest Airlines Co.\",\"Southwest Airlines Co.\",\"Southwest Airlines Co.\",\"Southwest Airlines Co.\",\"Southwest Airlines Co.\",\"Southwest Airlines Co.\",\"Southwest Airlines Co.\",\"Southwest Airlines Co.\",\"Southwest Airlines Co.\",\"Southwest Airlines Co.\",\"Southwest Airlines Co.\",\"Southwest Airlines Co.\",\"Southwest Airlines Co.\",\"Southwest Airlines Co.\",\"Southwest Airlines Co.\",\"Southwest Airlines Co.\",\"Southwest Airlines Co.\",\"Southwest Airlines Co.\",\"Southwest Airlines Co.\",\"Southwest Airlines Co.\",\"Southwest Airlines Co.\",\"Southwest Airlines Co.\",\"Southwest Airlines Co.\",\"Southwest Airlines Co.\",\"Southwest Airlines Co.\",\"Southwest Airlines Co.\",\"Southwest Airlines Co.\",\"Southwest Airlines Co.\",\"Southwest Airlines Co.\",\"US Airways Inc.\",\"US Airways Inc.\",\"US Airways Inc.\",\"US Airways Inc.\",\"US Airways Inc.\",\"US Airways Inc.\",\"US Airways Inc.\",\"US Airways Inc.\",\"US Airways Inc.\",\"US Airways Inc.\",\"US Airways Inc.\",\"US Airways Inc.\",\"US Airways Inc.\",\"US Airways Inc.\",\"US Airways Inc.\",\"US Airways Inc.\",\"US Airways Inc.\",\"US Airways Inc.\",\"US Airways Inc.\",\"US Airways Inc.\",\"US Airways Inc.\",\"US Airways Inc.\",\"US Airways Inc.\",\"US Airways Inc.\",\"US Airways Inc.\",\"US Airways Inc.\",\"US Airways Inc.\",\"US Airways Inc.\",\"US Airways Inc.\",\"US Airways Inc.\",\"US Airways Inc.\",\"US Airways Inc.\",\"US Airways Inc.\",\"US Airways Inc.\",\"US Airways Inc.\",\"US Airways Inc.\",\"United Air Lines Inc.\",\"United Air Lines Inc.\",\"United Air Lines Inc.\",\"United Air Lines Inc.\",\"United Air Lines Inc.\",\"United Air Lines Inc.\",\"United Air Lines Inc.\",\"United Air Lines Inc.\",\"United Air Lines Inc.\",\"United Air Lines Inc.\",\"United Air Lines Inc.\",\"United Air Lines Inc.\",\"United Air Lines Inc.\",\"United Air Lines Inc.\",\"United Air Lines Inc.\",\"United Air Lines Inc.\",\"United Air Lines Inc.\",\"United Air Lines Inc.\",\"United Air Lines Inc.\",\"United Air Lines Inc.\",\"United Air Lines Inc.\",\"United Air Lines Inc.\",\"United Air Lines Inc.\",\"United Air Lines Inc.\",\"United Air Lines Inc.\",\"United Air Lines Inc.\",\"United Air Lines Inc.\",\"United Air Lines Inc.\",\"United Air Lines Inc.\",\"United Air Lines Inc.\",\"United Air Lines Inc.\",\"United Air Lines Inc.\",\"United Air Lines Inc.\",\"United Air Lines Inc.\",\"United Air Lines Inc.\",\"United Air Lines Inc.\",\"Virgin America\",\"Virgin America\",\"Virgin America\",\"Virgin America\",\"Virgin America\",\"Virgin America\",\"Virgin America\",\"Virgin America\",\"Virgin America\",\"Virgin America\",\"Virgin America\",\"Virgin America\",\"Virgin America\",\"Virgin America\",\"Virgin America\",\"Virgin America\",\"Virgin America\",\"Virgin America\",\"Virgin America\",\"Virgin America\",\"Virgin America\",\"Virgin America\",\"Virgin America\",\"Virgin America\",\"Virgin America\",\"Virgin America\",\"Virgin America\",\"Virgin America\",\"Virgin America\",\"Virgin America\",\"Virgin America\",\"Virgin America\",\"Virgin America\",\"Virgin America\",\"Virgin America\",\"Virgin America\"],\"proportion\":{\"__ndarray__\":\"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\",\"dtype\":\"float64\",\"shape\":[576]},\"right\":{\"__ndarray__\":\"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\",\"dtype\":\"float64\",\"shape\":[576]}},\"selected\":{\"id\":\"20da466e-70ad-4010-bd6d-f459ad74ac78\",\"type\":\"Selection\"},\"selection_policy\":{\"id\":\"7b02c554-a597-4bf1-8f6e-da72c14d148f\",\"type\":\"UnionRenderers\"}},\"id\":\"eef996ac-da9a-488e-b70d-a7bc458a2f6c\",\"type\":\"ColumnDataSource\"},{\"attributes\":{\"bottom\":{\"value\":0},\"fill_alpha\":{\"value\":0.1},\"fill_color\":{\"value\":\"#1f77b4\"},\"left\":{\"field\":\"left\"},\"line_alpha\":{\"value\":0.1},\"line_color\":{\"value\":\"#1f77b4\"},\"right\":{\"field\":\"right\"},\"top\":{\"field\":\"proportion\"}},\"id\":\"c671f891-515e-411d-a2a5-2a442607de1e\",\"type\":\"Quad\"},{\"attributes\":{},\"id\":\"064795a4-695c-4f56-b540-7875c60306aa\",\"type\":\"BasicTicker\"},{\"attributes\":{\"callback\":null},\"id\":\"d819210c-5bcd-4765-843b-59093956a7a1\",\"type\":\"DataRange1d\"},{\"attributes\":{},\"id\":\"42117796-e17b-4010-8a27-c6b883e7533d\",\"type\":\"BasicTickFormatter\"},{\"attributes\":{},\"id\":\"9015cd0c-070d-4afa-91e5-303ced6400dc\",\"type\":\"LinearScale\"},{\"attributes\":{\"bottom\":{\"value\":0},\"fill_alpha\":{\"value\":0.7},\"fill_color\":{\"field\":\"color\"},\"left\":{\"field\":\"left\"},\"right\":{\"field\":\"right\"},\"top\":{\"field\":\"proportion\"}},\"id\":\"d4c193d2-8da6-483f-80f0-b913e5b39687\",\"type\":\"Quad\"},{\"attributes\":{},\"id\":\"20da466e-70ad-4010-bd6d-f459ad74ac78\",\"type\":\"Selection\"},{\"attributes\":{\"source\":{\"id\":\"eef996ac-da9a-488e-b70d-a7bc458a2f6c\",\"type\":\"ColumnDataSource\"}},\"id\":\"40533a4c-44fa-4015-8842-e933419370ed\",\"type\":\"CDSView\"},{\"attributes\":{\"below\":[{\"id\":\"015e5b8e-9d31-403e-a66a-512eceaadabc\",\"type\":\"LinearAxis\"}],\"left\":[{\"id\":\"8943cc76-fb53-4b35-a585-59c683069064\",\"type\":\"LinearAxis\"}],\"plot_height\":700,\"plot_width\":700,\"renderers\":[{\"id\":\"015e5b8e-9d31-403e-a66a-512eceaadabc\",\"type\":\"LinearAxis\"},{\"id\":\"026b5181-62ce-4dcd-b60c-1b651885b6a6\",\"type\":\"Grid\"},{\"id\":\"8943cc76-fb53-4b35-a585-59c683069064\",\"type\":\"LinearAxis\"},{\"id\":\"1bad143b-e9e5-476e-b4f4-644b7529a9e0\",\"type\":\"Grid\"},{\"id\":\"de2de10d-2f1f-466c-a6cf-0b8ca9ea1906\",\"type\":\"BoxAnnotation\"},{\"id\":\"9f9ba32f-7581-4136-aaf7-a75551f36439\",\"type\":\"Legend\"},{\"id\":\"e62276ba-4be6-43cb-8e47-7c5933363660\",\"type\":\"GlyphRenderer\"}],\"title\":{\"id\":\"419d1cb7-ebd9-48c0-ae0f-dc4560b4c355\",\"type\":\"Title\"},\"toolbar\":{\"id\":\"ece5a4b4-a528-40e4-85f5-f353617ff4d7\",\"type\":\"Toolbar\"},\"x_range\":{\"id\":\"72580352-f2da-40f7-9a5a-c8f93d839bf6\",\"type\":\"DataRange1d\"},\"x_scale\":{\"id\":\"9015cd0c-070d-4afa-91e5-303ced6400dc\",\"type\":\"LinearScale\"},\"y_range\":{\"id\":\"d819210c-5bcd-4765-843b-59093956a7a1\",\"type\":\"DataRange1d\"},\"y_scale\":{\"id\":\"7161a1ef-f6cc-4f51-a887-f140344dff07\",\"type\":\"LinearScale\"}},\"id\":\"266a2ca5-4064-42c0-b2a3-c404b8df3f39\",\"subtype\":\"Figure\",\"type\":\"Plot\"},{\"attributes\":{},\"id\":\"7161a1ef-f6cc-4f51-a887-f140344dff07\",\"type\":\"LinearScale\"},{\"attributes\":{\"axis_label\":\"Delay (min)\",\"axis_label_text_font_size\":{\"value\":\"14pt\"},\"axis_label_text_font_style\":\"bold\",\"formatter\":{\"id\":\"375aa615-de37-4b87-a4f7-5b6c51e36507\",\"type\":\"BasicTickFormatter\"},\"major_label_text_font_size\":{\"value\":\"12pt\"},\"plot\":{\"id\":\"266a2ca5-4064-42c0-b2a3-c404b8df3f39\",\"subtype\":\"Figure\",\"type\":\"Plot\"},\"ticker\":{\"id\":\"064795a4-695c-4f56-b540-7875c60306aa\",\"type\":\"BasicTicker\"}},\"id\":\"015e5b8e-9d31-403e-a66a-512eceaadabc\",\"type\":\"LinearAxis\"},{\"attributes\":{\"bottom_units\":\"screen\",\"fill_alpha\":{\"value\":0.5},\"fill_color\":{\"value\":\"lightgrey\"},\"left_units\":\"screen\",\"level\":\"overlay\",\"line_alpha\":{\"value\":1.0},\"line_color\":{\"value\":\"black\"},\"line_dash\":[4,4],\"line_width\":{\"value\":2},\"plot\":null,\"render_mode\":\"css\",\"right_units\":\"screen\",\"top_units\":\"screen\"},\"id\":\"de2de10d-2f1f-466c-a6cf-0b8ca9ea1906\",\"type\":\"BoxAnnotation\"}],\"root_ids\":[\"266a2ca5-4064-42c0-b2a3-c404b8df3f39\"]},\"title\":\"Bokeh Application\",\"version\":\"0.13.0\"}};\n",
       "  var render_items = [{\"docid\":\"21d7533c-1cf4-425b-9436-9e3424c64e1d\",\"roots\":{\"266a2ca5-4064-42c0-b2a3-c404b8df3f39\":\"31791d4d-4d14-485c-93ca-104f6a3157c8\"}}];\n",
       "  root.Bokeh.embed.embed_items_notebook(docs_json, render_items);\n",
       "\n",
       "  }\n",
       "  if (root.Bokeh !== undefined) {\n",
       "    embed_document(root);\n",
       "  } else {\n",
       "    var attempts = 0;\n",
       "    var timer = setInterval(function(root) {\n",
       "      if (root.Bokeh !== undefined) {\n",
       "        embed_document(root);\n",
       "        clearInterval(timer);\n",
       "      }\n",
       "      attempts++;\n",
       "      if (attempts > 100) {\n",
       "        console.log(\"Bokeh: ERROR: Unable to run BokehJS code because BokehJS library is missing\")\n",
       "        clearInterval(timer);\n",
       "      }\n",
       "    }, 10, root)\n",
       "  }\n",
       "})(window);"
      ],
      "application/vnd.bokehjs_exec.v0+json": ""
     },
     "metadata": {
      "application/vnd.bokehjs_exec.v0+json": {
       "id": "266a2ca5-4064-42c0-b2a3-c404b8df3f39"
      }
     },
     "output_type": "display_data"
    }
   ],
   "source": [
    "p = make_plot(ColumnDataSource(by_carrier))\n",
    "show(p)"
   ]
  },
  {
   "cell_type": "markdown",
   "metadata": {},
   "source": [
    "## Checkbox Group Element for Selecting Carriers"
   ]
  },
  {
   "cell_type": "code",
   "execution_count": 12,
   "metadata": {},
   "outputs": [
    {
     "data": {
      "text/html": [
       "\n",
       "\n",
       "\n",
       "\n",
       "\n",
       "\n",
       "  <div class=\"bk-root\" id=\"11547e0a-e46e-49b7-a45d-6cc53bd08050\"></div>\n"
      ]
     },
     "metadata": {},
     "output_type": "display_data"
    },
    {
     "data": {
      "application/javascript": [
       "(function(root) {\n",
       "  function embed_document(root) {\n",
       "    \n",
       "  var docs_json = {\"0a6a456d-b37e-4b77-8eea-ec4c02733b30\":{\"roots\":{\"references\":[{\"attributes\":{\"active\":[0,1],\"callback\":null,\"labels\":[\"AirTran Airways Corporation\",\"Alaska Airlines Inc.\",\"American Airlines Inc.\",\"Delta Air Lines Inc.\",\"Endeavor Air Inc.\",\"Envoy Air\",\"ExpressJet Airlines Inc.\",\"Frontier Airlines Inc.\",\"Hawaiian Airlines Inc.\",\"JetBlue Airways\",\"Mesa Airlines Inc.\",\"SkyWest Airlines Inc.\",\"Southwest Airlines Co.\",\"US Airways Inc.\",\"United Air Lines Inc.\",\"Virgin America\"]},\"id\":\"ad9af68c-ac6a-4fef-9b52-53fdeba2fd53\",\"type\":\"CheckboxGroup\"}],\"root_ids\":[\"ad9af68c-ac6a-4fef-9b52-53fdeba2fd53\"]},\"title\":\"Bokeh Application\",\"version\":\"0.13.0\"}};\n",
       "  var render_items = [{\"docid\":\"0a6a456d-b37e-4b77-8eea-ec4c02733b30\",\"roots\":{\"ad9af68c-ac6a-4fef-9b52-53fdeba2fd53\":\"11547e0a-e46e-49b7-a45d-6cc53bd08050\"}}];\n",
       "  root.Bokeh.embed.embed_items_notebook(docs_json, render_items);\n",
       "\n",
       "  }\n",
       "  if (root.Bokeh !== undefined) {\n",
       "    embed_document(root);\n",
       "  } else {\n",
       "    var attempts = 0;\n",
       "    var timer = setInterval(function(root) {\n",
       "      if (root.Bokeh !== undefined) {\n",
       "        embed_document(root);\n",
       "        clearInterval(timer);\n",
       "      }\n",
       "      attempts++;\n",
       "      if (attempts > 100) {\n",
       "        console.log(\"Bokeh: ERROR: Unable to run BokehJS code because BokehJS library is missing\")\n",
       "        clearInterval(timer);\n",
       "      }\n",
       "    }, 10, root)\n",
       "  }\n",
       "})(window);"
      ],
      "application/vnd.bokehjs_exec.v0+json": ""
     },
     "metadata": {
      "application/vnd.bokehjs_exec.v0+json": {
       "id": "ad9af68c-ac6a-4fef-9b52-53fdeba2fd53"
      }
     },
     "output_type": "display_data"
    }
   ],
   "source": [
    "carrier_selection = CheckboxGroup(labels=available_carriers, active = [0, 1])\n",
    "show(carrier_selection)"
   ]
  },
  {
   "cell_type": "code",
   "execution_count": 13,
   "metadata": {},
   "outputs": [
    {
     "data": {
      "text/plain": [
       "['AirTran Airways Corporation', 'Alaska Airlines Inc.']"
      ]
     },
     "execution_count": 13,
     "metadata": {},
     "output_type": "execute_result"
    }
   ],
   "source": [
    "[carrier_selection.labels[i] for i in carrier_selection.active]"
   ]
  },
  {
   "cell_type": "markdown",
   "metadata": {},
   "source": [
    "# Update Function for Carrier Select"
   ]
  },
  {
   "cell_type": "code",
   "execution_count": 14,
   "metadata": {},
   "outputs": [],
   "source": [
    "# Update function takes three default parameters\n",
    "def update(attr, old, new):\n",
    "    # Get the list of carriers for the graph\n",
    "    carriers_to_plot = [carrier_selection.labels[i] for i in \n",
    "                        carrier_selection.active]\n",
    "\n",
    "    # Make a new dataset based on the selected carriers and the \n",
    "    # make_dataset function defined earlier\n",
    "    new_src = make_dataset(carriers_to_plot,\n",
    "                           range_start = -60,\n",
    "                           range_end = 120,\n",
    "                           bin_width = 5)\n",
    "    \n",
    "    # Convert dataframe to column data source\n",
    "    new_src = ColumnDataSource(new_src)\n",
    "\n",
    "    # Update the source used the quad glpyhs\n",
    "    src.data.update(new_src.data)"
   ]
  },
  {
   "cell_type": "markdown",
   "metadata": {},
   "source": [
    "## Plot with Carrier Select Control"
   ]
  },
  {
   "cell_type": "code",
   "execution_count": 15,
   "metadata": {},
   "outputs": [],
   "source": [
    "def modify_doc(doc):\n",
    "    \n",
    "    def make_dataset(carrier_list, range_start = -60, range_end = 120, bin_width = 5):\n",
    "\n",
    "        by_carrier = pd.DataFrame(columns=['proportion', 'left', 'right', \n",
    "                                           'f_proportion', 'f_interval',\n",
    "                                           'name', 'color'])\n",
    "        range_extent = range_end - range_start\n",
    "\n",
    "        # Iterate through all the carriers\n",
    "        for i, carrier_name in enumerate(carrier_list):\n",
    "\n",
    "            # Subset to the carrier\n",
    "            subset = flights[flights['name'] == carrier_name]\n",
    "\n",
    "            # Create a histogram with 5 minute bins\n",
    "            arr_hist, edges = np.histogram(subset['arr_delay'], \n",
    "                                           bins = int(range_extent / bin_width), \n",
    "                                           range = [range_start, range_end])\n",
    "\n",
    "            # Divide the counts by the total to get a proportion\n",
    "            arr_df = pd.DataFrame({'proportion': arr_hist / np.sum(arr_hist), 'left': edges[:-1], 'right': edges[1:] })\n",
    "\n",
    "            # Format the proportion \n",
    "            arr_df['f_proportion'] = ['%0.5f' % proportion for proportion in arr_df['proportion']]\n",
    "\n",
    "            # Format the interval\n",
    "            arr_df['f_interval'] = ['%d to %d minutes' % (left, right) for left, right in zip(arr_df['left'], arr_df['right'])]\n",
    "\n",
    "            # Assign the carrier for labels\n",
    "            arr_df['name'] = carrier_name\n",
    "\n",
    "            # Color each carrier differently\n",
    "            arr_df['color'] = Category20_16[i]\n",
    "\n",
    "            # Add to the overall dataframe\n",
    "            by_carrier = by_carrier.append(arr_df)\n",
    "\n",
    "        # Overall dataframe\n",
    "        by_carrier = by_carrier.sort_values(['name', 'left'])\n",
    "\n",
    "        return ColumnDataSource(by_carrier)\n",
    "    \n",
    "    def style(p):\n",
    "        # Title \n",
    "        p.title.align = 'center'\n",
    "        p.title.text_font_size = '20pt'\n",
    "        p.title.text_font = 'serif'\n",
    "\n",
    "        # Axis titles\n",
    "        p.xaxis.axis_label_text_font_size = '14pt'\n",
    "        p.xaxis.axis_label_text_font_style = 'bold'\n",
    "        p.yaxis.axis_label_text_font_size = '14pt'\n",
    "        p.yaxis.axis_label_text_font_style = 'bold'\n",
    "\n",
    "        # Tick labels\n",
    "        p.xaxis.major_label_text_font_size = '12pt'\n",
    "        p.yaxis.major_label_text_font_size = '12pt'\n",
    "\n",
    "        return p\n",
    "    \n",
    "    def make_plot(src):\n",
    "        # Blank plot with correct labels\n",
    "        p = figure(plot_width = 700, plot_height = 700, \n",
    "                  title = 'Histogram of Arrival Delays by Carrier',\n",
    "                  x_axis_label = 'Delay (min)', y_axis_label = 'Proportion')\n",
    "\n",
    "        # Quad glyphs to create a histogram\n",
    "        p.quad(source = src, bottom = 0, top = 'proportion', left = 'left', right = 'right',\n",
    "               color = 'color', fill_alpha = 0.7, hover_fill_color = 'color', legend = 'name',\n",
    "               hover_fill_alpha = 1.0, line_color = 'black')\n",
    "\n",
    "        # Hover tool with vline mode\n",
    "        hover = HoverTool(tooltips=[('Carrier', '@name'), \n",
    "                                    ('Delay', '@f_interval'),\n",
    "                                    ('Proportion', '@f_proportion')],\n",
    "                          mode='vline')\n",
    "\n",
    "        p.add_tools(hover)\n",
    "        \n",
    "        p.legend.click_policy = 'hide'\n",
    "\n",
    "        # Styling\n",
    "        p = style(p)\n",
    "\n",
    "        return p\n",
    "    \n",
    "    # Update function takes three default parameters\n",
    "    def update(attr, old, new):\n",
    "        # Get the list of carriers for the graph\n",
    "        carriers_to_plot = [carrier_selection.labels[i] for i in \n",
    "                            carrier_selection.active]\n",
    "\n",
    "        # Make a new dataset based on the selected carriers and the \n",
    "        # make_dataset function defined earlier\n",
    "        new_src = make_dataset(carriers_to_plot,\n",
    "                               range_start = -60,\n",
    "                               range_end = 120,\n",
    "                               bin_width = 5)\n",
    "\n",
    "        # Update the source used the quad glpyhs\n",
    "        src.data.update(new_src.data)\n",
    "\n",
    "        \n",
    "    carrier_selection = CheckboxGroup(labels=available_carriers, active = [0, 1])\n",
    "    carrier_selection.on_change('active', update)\n",
    "    \n",
    "    controls = WidgetBox(carrier_selection)\n",
    "    \n",
    "    initial_carriers = [carrier_selection.labels[i] for i in carrier_selection.active]\n",
    "    \n",
    "    src = make_dataset(initial_carriers,\n",
    "                      range_start = -60,\n",
    "                      range_end = 120,\n",
    "                      bin_width = 5)\n",
    "    \n",
    "    p = make_plot(src)\n",
    "    \n",
    "    layout = row(controls, p)\n",
    "    doc.add_root(layout)\n",
    "    \n",
    "# Set up an application\n",
    "handler = FunctionHandler(modify_doc)\n",
    "app = Application(handler)"
   ]
  },
  {
   "cell_type": "code",
   "execution_count": 16,
   "metadata": {},
   "outputs": [
    {
     "data": {
      "application/vnd.bokehjs_exec.v0+json": "",
      "text/html": [
       "\n",
       "<script src=\"http://localhost:40917/autoload.js?bokeh-autoload-element=893ec6d1-adfa-4d6a-88f5-39e263e2bb7a&bokeh-absolute-url=http://localhost:40917&resources=none\" id=\"893ec6d1-adfa-4d6a-88f5-39e263e2bb7a\"></script>"
      ]
     },
     "metadata": {
      "application/vnd.bokehjs_exec.v0+json": {
       "server_id": "00b9d92d9b7d4706845d8d51f10cce36"
      }
     },
     "output_type": "display_data"
    }
   ],
   "source": [
    "show(app)"
   ]
  },
  {
   "cell_type": "markdown",
   "metadata": {},
   "source": [
    "## More Controls: Slider and RangeSlider"
   ]
  },
  {
   "cell_type": "code",
   "execution_count": 17,
   "metadata": {},
   "outputs": [],
   "source": [
    "# Slider to select the binwidth, value is selected number\n",
    "binwidth_select = Slider(start = 1, end = 30, \n",
    "                     step = 1, value = 5,\n",
    "                     title = 'Delay Width (min)')\n",
    "# Update the plot when the value is changed\n",
    "binwidth_select.on_change('value', update)\n",
    "\n",
    "# RangeSlider to change the maximum and minimum values on histogram\n",
    "range_select = RangeSlider(start = -60, end = 180, value = (-60, 120),\n",
    "                           step = 5, title = 'Delay Range (min)')\n",
    "\n",
    "# Update the plot when the value is changed\n",
    "range_select.on_change('value', update)\n",
    "\n",
    "\n",
    "# Update function that accounts for all 3 controls\n",
    "def update(attr, old, new):\n",
    "    \n",
    "    # Find the selected carriers\n",
    "    carriers_to_plot = [carrier_selection.labels[i] for i in carrier_selection.active]\n",
    "    \n",
    "    # Change binwidth to selected value\n",
    "    bin_width = binwidth_select.value\n",
    "\n",
    "    # Value for the range slider is a tuple (start, end)\n",
    "    range_start = range_select.value[0]\n",
    "    range_end = range_select.value[1]\n",
    "    \n",
    "    # Create new ColumnDataSource\n",
    "    new_src = make_dataset(carriers_to_plot,\n",
    "                           range_start = range_start,\n",
    "                           range_end = range_end,\n",
    "                           bin_width = bin_width)\n",
    "\n",
    "    # Update the data on the plot\n",
    "    src.data.update(new_src.data)"
   ]
  },
  {
   "cell_type": "code",
   "execution_count": 18,
   "metadata": {},
   "outputs": [
    {
     "name": "stderr",
     "output_type": "stream",
     "text": [
      "WARNING:bokeh.embed.util:\n",
      "You are generating standalone HTML/JS output, but trying to use real Python\n",
      "callbacks (i.e. with on_change or on_event). This combination cannot work.\n",
      "\n",
      "Only JavaScript callbacks may be used with standalone output. For more\n",
      "information on JavaScript callbacks with Bokeh, see:\n",
      "\n",
      "    http://bokeh.pydata.org/en/latest/docs/user_guide/interaction/callbacks.html\n",
      "\n",
      "Alternatively, to use real Python callbacks, a Bokeh server application may\n",
      "be used. For more information on building and running Bokeh applications, see:\n",
      "\n",
      "    http://bokeh.pydata.org/en/latest/docs/user_guide/server.html\n",
      "\n"
     ]
    },
    {
     "data": {
      "text/html": [
       "\n",
       "\n",
       "\n",
       "\n",
       "\n",
       "\n",
       "  <div class=\"bk-root\" id=\"e634636d-31b2-4c48-af34-cc2bc73237ca\"></div>\n"
      ]
     },
     "metadata": {},
     "output_type": "display_data"
    },
    {
     "data": {
      "application/javascript": [
       "(function(root) {\n",
       "  function embed_document(root) {\n",
       "    \n",
       "  var docs_json = {\"de19777d-aa96-4aed-b7d7-106748e63f23\":{\"roots\":{\"references\":[{\"attributes\":{\"children\":[{\"id\":\"ad9af68c-ac6a-4fef-9b52-53fdeba2fd53\",\"type\":\"CheckboxGroup\"},{\"id\":\"80161695-199d-432b-aff4-98c9423d2542\",\"type\":\"Slider\"},{\"id\":\"1b827a51-fde8-4a40-a08e-3f1bda642d88\",\"type\":\"RangeSlider\"}]},\"id\":\"62909a1f-53aa-4416-bf51-e69928d94221\",\"type\":\"WidgetBox\"},{\"attributes\":{\"callback\":null,\"end\":180,\"start\":-60,\"step\":5,\"title\":\"Delay Range (min)\",\"value\":[-60,120]},\"id\":\"1b827a51-fde8-4a40-a08e-3f1bda642d88\",\"type\":\"RangeSlider\"},{\"attributes\":{\"callback\":null,\"end\":30,\"start\":1,\"title\":\"Delay Width (min)\",\"value\":5},\"id\":\"80161695-199d-432b-aff4-98c9423d2542\",\"type\":\"Slider\"},{\"attributes\":{\"active\":[0,1],\"callback\":null,\"labels\":[\"AirTran Airways Corporation\",\"Alaska Airlines Inc.\",\"American Airlines Inc.\",\"Delta Air Lines Inc.\",\"Endeavor Air Inc.\",\"Envoy Air\",\"ExpressJet Airlines Inc.\",\"Frontier Airlines Inc.\",\"Hawaiian Airlines Inc.\",\"JetBlue Airways\",\"Mesa Airlines Inc.\",\"SkyWest Airlines Inc.\",\"Southwest Airlines Co.\",\"US Airways Inc.\",\"United Air Lines Inc.\",\"Virgin America\"]},\"id\":\"ad9af68c-ac6a-4fef-9b52-53fdeba2fd53\",\"type\":\"CheckboxGroup\"}],\"root_ids\":[\"62909a1f-53aa-4416-bf51-e69928d94221\"]},\"title\":\"Bokeh Application\",\"version\":\"0.13.0\"}};\n",
       "  var render_items = [{\"docid\":\"de19777d-aa96-4aed-b7d7-106748e63f23\",\"roots\":{\"62909a1f-53aa-4416-bf51-e69928d94221\":\"e634636d-31b2-4c48-af34-cc2bc73237ca\"}}];\n",
       "  root.Bokeh.embed.embed_items_notebook(docs_json, render_items);\n",
       "\n",
       "  }\n",
       "  if (root.Bokeh !== undefined) {\n",
       "    embed_document(root);\n",
       "  } else {\n",
       "    var attempts = 0;\n",
       "    var timer = setInterval(function(root) {\n",
       "      if (root.Bokeh !== undefined) {\n",
       "        embed_document(root);\n",
       "        clearInterval(timer);\n",
       "      }\n",
       "      attempts++;\n",
       "      if (attempts > 100) {\n",
       "        console.log(\"Bokeh: ERROR: Unable to run BokehJS code because BokehJS library is missing\")\n",
       "        clearInterval(timer);\n",
       "      }\n",
       "    }, 10, root)\n",
       "  }\n",
       "})(window);"
      ],
      "application/vnd.bokehjs_exec.v0+json": ""
     },
     "metadata": {
      "application/vnd.bokehjs_exec.v0+json": {
       "id": "62909a1f-53aa-4416-bf51-e69928d94221"
      }
     },
     "output_type": "display_data"
    }
   ],
   "source": [
    "controls = WidgetBox(carrier_selection, binwidth_select, range_select)\n",
    "show(controls)"
   ]
  },
  {
   "cell_type": "markdown",
   "metadata": {},
   "source": [
    "## Example of Changing Title and Axis Font Size"
   ]
  },
  {
   "cell_type": "code",
   "execution_count": 19,
   "metadata": {},
   "outputs": [
    {
     "data": {
      "text/html": [
       "\n",
       "\n",
       "\n",
       "\n",
       "\n",
       "\n",
       "  <div class=\"bk-root\" id=\"f8dc1fbb-b2cc-4824-b2cb-1ef273316d1d\"></div>\n"
      ]
     },
     "metadata": {},
     "output_type": "display_data"
    },
    {
     "data": {
      "application/javascript": [
       "(function(root) {\n",
       "  function embed_document(root) {\n",
       "    \n",
       "  var docs_json = {\"a3264e5b-d697-46e5-8cad-f25e1c51ce29\":{\"roots\":{\"references\":[{\"attributes\":{},\"id\":\"351a8487-dc3d-4e94-9ef7-3bd643d9d19f\",\"type\":\"SaveTool\"},{\"attributes\":{\"data_source\":{\"id\":\"eef996ac-da9a-488e-b70d-a7bc458a2f6c\",\"type\":\"ColumnDataSource\"},\"glyph\":{\"id\":\"d4c193d2-8da6-483f-80f0-b913e5b39687\",\"type\":\"Quad\"},\"hover_glyph\":{\"id\":\"ae7cb16e-d82f-4c56-b384-7b8fde45142d\",\"type\":\"Quad\"},\"muted_glyph\":null,\"nonselection_glyph\":{\"id\":\"c671f891-515e-411d-a2a5-2a442607de1e\",\"type\":\"Quad\"},\"selection_glyph\":null,\"view\":{\"id\":\"40533a4c-44fa-4015-8842-e933419370ed\",\"type\":\"CDSView\"}},\"id\":\"e62276ba-4be6-43cb-8e47-7c5933363660\",\"type\":\"GlyphRenderer\"},{\"attributes\":{\"axis_label\":\"Proportion\",\"axis_label_text_font_size\":{\"value\":\"18pt\"},\"axis_label_text_font_style\":\"bold\",\"formatter\":{\"id\":\"42117796-e17b-4010-8a27-c6b883e7533d\",\"type\":\"BasicTickFormatter\"},\"major_label_text_font_size\":{\"value\":\"12pt\"},\"plot\":{\"id\":\"266a2ca5-4064-42c0-b2a3-c404b8df3f39\",\"subtype\":\"Figure\",\"type\":\"Plot\"},\"ticker\":{\"id\":\"6518faf7-5f63-493a-b328-33ebd65faaf8\",\"type\":\"BasicTicker\"}},\"id\":\"8943cc76-fb53-4b35-a585-59c683069064\",\"type\":\"LinearAxis\"},{\"attributes\":{\"items\":[{\"id\":\"1618521d-07d0-4101-8e9d-eec6933e7caa\",\"type\":\"LegendItem\"}],\"plot\":{\"id\":\"266a2ca5-4064-42c0-b2a3-c404b8df3f39\",\"subtype\":\"Figure\",\"type\":\"Plot\"}},\"id\":\"9f9ba32f-7581-4136-aaf7-a75551f36439\",\"type\":\"Legend\"},{\"attributes\":{},\"id\":\"7b02c554-a597-4bf1-8f6e-da72c14d148f\",\"type\":\"UnionRenderers\"},{\"attributes\":{\"active_drag\":\"auto\",\"active_inspect\":\"auto\",\"active_multi\":null,\"active_scroll\":\"auto\",\"active_tap\":\"auto\",\"tools\":[{\"id\":\"ff81e193-7ac5-4f54-b00c-4886f0bfb69e\",\"type\":\"PanTool\"},{\"id\":\"a844b817-6c5e-464b-80f9-ecfac879a20d\",\"type\":\"WheelZoomTool\"},{\"id\":\"b5afe89f-ab19-4d03-afef-229f2b0f3c03\",\"type\":\"BoxZoomTool\"},{\"id\":\"351a8487-dc3d-4e94-9ef7-3bd643d9d19f\",\"type\":\"SaveTool\"},{\"id\":\"af232c91-35f2-452c-8123-2011208048c5\",\"type\":\"ResetTool\"},{\"id\":\"2eaa3802-e888-4822-ac9c-ce7d43ecb32f\",\"type\":\"HelpTool\"},{\"id\":\"ba872319-10f4-4334-a5e7-2b78858e595f\",\"type\":\"HoverTool\"}]},\"id\":\"ece5a4b4-a528-40e4-85f5-f353617ff4d7\",\"type\":\"Toolbar\"},{\"attributes\":{\"dimension\":1,\"plot\":{\"id\":\"266a2ca5-4064-42c0-b2a3-c404b8df3f39\",\"subtype\":\"Figure\",\"type\":\"Plot\"},\"ticker\":{\"id\":\"6518faf7-5f63-493a-b328-33ebd65faaf8\",\"type\":\"BasicTicker\"}},\"id\":\"1bad143b-e9e5-476e-b4f4-644b7529a9e0\",\"type\":\"Grid\"},{\"attributes\":{\"plot\":{\"id\":\"266a2ca5-4064-42c0-b2a3-c404b8df3f39\",\"subtype\":\"Figure\",\"type\":\"Plot\"},\"ticker\":{\"id\":\"064795a4-695c-4f56-b540-7875c60306aa\",\"type\":\"BasicTicker\"}},\"id\":\"026b5181-62ce-4dcd-b60c-1b651885b6a6\",\"type\":\"Grid\"},{\"attributes\":{},\"id\":\"a844b817-6c5e-464b-80f9-ecfac879a20d\",\"type\":\"WheelZoomTool\"},{\"attributes\":{},\"id\":\"2eaa3802-e888-4822-ac9c-ce7d43ecb32f\",\"type\":\"HelpTool\"},{\"attributes\":{\"callback\":null,\"mode\":\"vline\",\"renderers\":\"auto\",\"tooltips\":[[\"Carrier\",\"@name\"],[\"Delay\",\"@f_interval\"],[\"Proportion\",\"@f_proportion\"]]},\"id\":\"ba872319-10f4-4334-a5e7-2b78858e595f\",\"type\":\"HoverTool\"},{\"attributes\":{\"align\":\"center\",\"plot\":null,\"text\":\"Delays with 5 Minute Bin Width\",\"text_font\":\"serif\",\"text_font_size\":{\"value\":\"20pt\"}},\"id\":\"419d1cb7-ebd9-48c0-ae0f-dc4560b4c355\",\"type\":\"Title\"},{\"attributes\":{\"label\":{\"field\":\"name\"},\"renderers\":[{\"id\":\"e62276ba-4be6-43cb-8e47-7c5933363660\",\"type\":\"GlyphRenderer\"}]},\"id\":\"1618521d-07d0-4101-8e9d-eec6933e7caa\",\"type\":\"LegendItem\"},{\"attributes\":{},\"id\":\"ff81e193-7ac5-4f54-b00c-4886f0bfb69e\",\"type\":\"PanTool\"},{\"attributes\":{\"bottom\":{\"value\":0},\"fill_color\":{\"field\":\"color\"},\"left\":{\"field\":\"left\"},\"line_color\":{\"value\":\"#1f77b4\"},\"right\":{\"field\":\"right\"},\"top\":{\"field\":\"proportion\"}},\"id\":\"ae7cb16e-d82f-4c56-b384-7b8fde45142d\",\"type\":\"Quad\"},{\"attributes\":{\"overlay\":{\"id\":\"de2de10d-2f1f-466c-a6cf-0b8ca9ea1906\",\"type\":\"BoxAnnotation\"}},\"id\":\"b5afe89f-ab19-4d03-afef-229f2b0f3c03\",\"type\":\"BoxZoomTool\"},{\"attributes\":{},\"id\":\"af232c91-35f2-452c-8123-2011208048c5\",\"type\":\"ResetTool\"},{\"attributes\":{\"callback\":null},\"id\":\"72580352-f2da-40f7-9a5a-c8f93d839bf6\",\"type\":\"DataRange1d\"},{\"attributes\":{},\"id\":\"375aa615-de37-4b87-a4f7-5b6c51e36507\",\"type\":\"BasicTickFormatter\"},{\"attributes\":{},\"id\":\"6518faf7-5f63-493a-b328-33ebd65faaf8\",\"type\":\"BasicTicker\"},{\"attributes\":{\"callback\":null,\"data\":{\"color\":[\"#1f77b4\",\"#1f77b4\",\"#1f77b4\",\"#1f77b4\",\"#1f77b4\",\"#1f77b4\",\"#1f77b4\",\"#1f77b4\",\"#1f77b4\",\"#1f77b4\",\"#1f77b4\",\"#1f77b4\",\"#1f77b4\",\"#1f77b4\",\"#1f77b4\",\"#1f77b4\",\"#1f77b4\",\"#1f77b4\",\"#1f77b4\",\"#1f77b4\",\"#1f77b4\",\"#1f77b4\",\"#1f77b4\",\"#1f77b4\",\"#1f77b4\",\"#1f77b4\",\"#1f77b4\",\"#1f77b4\",\"#1f77b4\",\"#1f77b4\",\"#1f77b4\",\"#1f77b4\",\"#1f77b4\",\"#1f77b4\",\"#1f77b4\",\"#1f77b4\",\"#aec7e8\",\"#aec7e8\",\"#aec7e8\",\"#aec7e8\",\"#aec7e8\",\"#aec7e8\",\"#aec7e8\",\"#aec7e8\",\"#aec7e8\",\"#aec7e8\",\"#aec7e8\",\"#aec7e8\",\"#aec7e8\",\"#aec7e8\",\"#aec7e8\",\"#aec7e8\",\"#aec7e8\",\"#aec7e8\",\"#aec7e8\",\"#aec7e8\",\"#aec7e8\",\"#aec7e8\",\"#aec7e8\",\"#aec7e8\",\"#aec7e8\",\"#aec7e8\",\"#aec7e8\",\"#aec7e8\",\"#aec7e8\",\"#aec7e8\",\"#aec7e8\",\"#aec7e8\",\"#aec7e8\",\"#aec7e8\",\"#aec7e8\",\"#aec7e8\",\"#ff7f0e\",\"#ff7f0e\",\"#ff7f0e\",\"#ff7f0e\",\"#ff7f0e\",\"#ff7f0e\",\"#ff7f0e\",\"#ff7f0e\",\"#ff7f0e\",\"#ff7f0e\",\"#ff7f0e\",\"#ff7f0e\",\"#ff7f0e\",\"#ff7f0e\",\"#ff7f0e\",\"#ff7f0e\",\"#ff7f0e\",\"#ff7f0e\",\"#ff7f0e\",\"#ff7f0e\",\"#ff7f0e\",\"#ff7f0e\",\"#ff7f0e\",\"#ff7f0e\",\"#ff7f0e\",\"#ff7f0e\",\"#ff7f0e\",\"#ff7f0e\",\"#ff7f0e\",\"#ff7f0e\",\"#ff7f0e\",\"#ff7f0e\",\"#ff7f0e\",\"#ff7f0e\",\"#ff7f0e\",\"#ff7f0e\",\"#ffbb78\",\"#ffbb78\",\"#ffbb78\",\"#ffbb78\",\"#ffbb78\",\"#ffbb78\",\"#ffbb78\",\"#ffbb78\",\"#ffbb78\",\"#ffbb78\",\"#ffbb78\",\"#ffbb78\",\"#ffbb78\",\"#ffbb78\",\"#ffbb78\",\"#ffbb78\",\"#ffbb78\",\"#ffbb78\",\"#ffbb78\",\"#ffbb78\",\"#ffbb78\",\"#ffbb78\",\"#ffbb78\",\"#ffbb78\",\"#ffbb78\",\"#ffbb78\",\"#ffbb78\",\"#ffbb78\",\"#ffbb78\",\"#ffbb78\",\"#ffbb78\",\"#ffbb78\",\"#ffbb78\",\"#ffbb78\",\"#ffbb78\",\"#ffbb78\",\"#2ca02c\",\"#2ca02c\",\"#2ca02c\",\"#2ca02c\",\"#2ca02c\",\"#2ca02c\",\"#2ca02c\",\"#2ca02c\",\"#2ca02c\",\"#2ca02c\",\"#2ca02c\",\"#2ca02c\",\"#2ca02c\",\"#2ca02c\",\"#2ca02c\",\"#2ca02c\",\"#2ca02c\",\"#2ca02c\",\"#2ca02c\",\"#2ca02c\",\"#2ca02c\",\"#2ca02c\",\"#2ca02c\",\"#2ca02c\",\"#2ca02c\",\"#2ca02c\",\"#2ca02c\",\"#2ca02c\",\"#2ca02c\",\"#2ca02c\",\"#2ca02c\",\"#2ca02c\",\"#2ca02c\",\"#2ca02c\",\"#2ca02c\",\"#2ca02c\",\"#98df8a\",\"#98df8a\",\"#98df8a\",\"#98df8a\",\"#98df8a\",\"#98df8a\",\"#98df8a\",\"#98df8a\",\"#98df8a\",\"#98df8a\",\"#98df8a\",\"#98df8a\",\"#98df8a\",\"#98df8a\",\"#98df8a\",\"#98df8a\",\"#98df8a\",\"#98df8a\",\"#98df8a\",\"#98df8a\",\"#98df8a\",\"#98df8a\",\"#98df8a\",\"#98df8a\",\"#98df8a\",\"#98df8a\",\"#98df8a\",\"#98df8a\",\"#98df8a\",\"#98df8a\",\"#98df8a\",\"#98df8a\",\"#98df8a\",\"#98df8a\",\"#98df8a\",\"#98df8a\",\"#d62728\",\"#d62728\",\"#d62728\",\"#d62728\",\"#d62728\",\"#d62728\",\"#d62728\",\"#d62728\",\"#d62728\",\"#d62728\",\"#d62728\",\"#d62728\",\"#d62728\",\"#d62728\",\"#d62728\",\"#d62728\",\"#d62728\",\"#d62728\",\"#d62728\",\"#d62728\",\"#d62728\",\"#d62728\",\"#d62728\",\"#d62728\",\"#d62728\",\"#d62728\",\"#d62728\",\"#d62728\",\"#d62728\",\"#d62728\",\"#d62728\",\"#d62728\",\"#d62728\",\"#d62728\",\"#d62728\",\"#d62728\",\"#ff9896\",\"#ff9896\",\"#ff9896\",\"#ff9896\",\"#ff9896\",\"#ff9896\",\"#ff9896\",\"#ff9896\",\"#ff9896\",\"#ff9896\",\"#ff9896\",\"#ff9896\",\"#ff9896\",\"#ff9896\",\"#ff9896\",\"#ff9896\",\"#ff9896\",\"#ff9896\",\"#ff9896\",\"#ff9896\",\"#ff9896\",\"#ff9896\",\"#ff9896\",\"#ff9896\",\"#ff9896\",\"#ff9896\",\"#ff9896\",\"#ff9896\",\"#ff9896\",\"#ff9896\",\"#ff9896\",\"#ff9896\",\"#ff9896\",\"#ff9896\",\"#ff9896\",\"#ff9896\",\"#9467bd\",\"#9467bd\",\"#9467bd\",\"#9467bd\",\"#9467bd\",\"#9467bd\",\"#9467bd\",\"#9467bd\",\"#9467bd\",\"#9467bd\",\"#9467bd\",\"#9467bd\",\"#9467bd\",\"#9467bd\",\"#9467bd\",\"#9467bd\",\"#9467bd\",\"#9467bd\",\"#9467bd\",\"#9467bd\",\"#9467bd\",\"#9467bd\",\"#9467bd\",\"#9467bd\",\"#9467bd\",\"#9467bd\",\"#9467bd\",\"#9467bd\",\"#9467bd\",\"#9467bd\",\"#9467bd\",\"#9467bd\",\"#9467bd\",\"#9467bd\",\"#9467bd\",\"#9467bd\",\"#c5b0d5\",\"#c5b0d5\",\"#c5b0d5\",\"#c5b0d5\",\"#c5b0d5\",\"#c5b0d5\",\"#c5b0d5\",\"#c5b0d5\",\"#c5b0d5\",\"#c5b0d5\",\"#c5b0d5\",\"#c5b0d5\",\"#c5b0d5\",\"#c5b0d5\",\"#c5b0d5\",\"#c5b0d5\",\"#c5b0d5\",\"#c5b0d5\",\"#c5b0d5\",\"#c5b0d5\",\"#c5b0d5\",\"#c5b0d5\",\"#c5b0d5\",\"#c5b0d5\",\"#c5b0d5\",\"#c5b0d5\",\"#c5b0d5\",\"#c5b0d5\",\"#c5b0d5\",\"#c5b0d5\",\"#c5b0d5\",\"#c5b0d5\",\"#c5b0d5\",\"#c5b0d5\",\"#c5b0d5\",\"#c5b0d5\",\"#8c564b\",\"#8c564b\",\"#8c564b\",\"#8c564b\",\"#8c564b\",\"#8c564b\",\"#8c564b\",\"#8c564b\",\"#8c564b\",\"#8c564b\",\"#8c564b\",\"#8c564b\",\"#8c564b\",\"#8c564b\",\"#8c564b\",\"#8c564b\",\"#8c564b\",\"#8c564b\",\"#8c564b\",\"#8c564b\",\"#8c564b\",\"#8c564b\",\"#8c564b\",\"#8c564b\",\"#8c564b\",\"#8c564b\",\"#8c564b\",\"#8c564b\",\"#8c564b\",\"#8c564b\",\"#8c564b\",\"#8c564b\",\"#8c564b\",\"#8c564b\",\"#8c564b\",\"#8c564b\",\"#c49c94\",\"#c49c94\",\"#c49c94\",\"#c49c94\",\"#c49c94\",\"#c49c94\",\"#c49c94\",\"#c49c94\",\"#c49c94\",\"#c49c94\",\"#c49c94\",\"#c49c94\",\"#c49c94\",\"#c49c94\",\"#c49c94\",\"#c49c94\",\"#c49c94\",\"#c49c94\",\"#c49c94\",\"#c49c94\",\"#c49c94\",\"#c49c94\",\"#c49c94\",\"#c49c94\",\"#c49c94\",\"#c49c94\",\"#c49c94\",\"#c49c94\",\"#c49c94\",\"#c49c94\",\"#c49c94\",\"#c49c94\",\"#c49c94\",\"#c49c94\",\"#c49c94\",\"#c49c94\",\"#e377c2\",\"#e377c2\",\"#e377c2\",\"#e377c2\",\"#e377c2\",\"#e377c2\",\"#e377c2\",\"#e377c2\",\"#e377c2\",\"#e377c2\",\"#e377c2\",\"#e377c2\",\"#e377c2\",\"#e377c2\",\"#e377c2\",\"#e377c2\",\"#e377c2\",\"#e377c2\",\"#e377c2\",\"#e377c2\",\"#e377c2\",\"#e377c2\",\"#e377c2\",\"#e377c2\",\"#e377c2\",\"#e377c2\",\"#e377c2\",\"#e377c2\",\"#e377c2\",\"#e377c2\",\"#e377c2\",\"#e377c2\",\"#e377c2\",\"#e377c2\",\"#e377c2\",\"#e377c2\",\"#f7b6d2\",\"#f7b6d2\",\"#f7b6d2\",\"#f7b6d2\",\"#f7b6d2\",\"#f7b6d2\",\"#f7b6d2\",\"#f7b6d2\",\"#f7b6d2\",\"#f7b6d2\",\"#f7b6d2\",\"#f7b6d2\",\"#f7b6d2\",\"#f7b6d2\",\"#f7b6d2\",\"#f7b6d2\",\"#f7b6d2\",\"#f7b6d2\",\"#f7b6d2\",\"#f7b6d2\",\"#f7b6d2\",\"#f7b6d2\",\"#f7b6d2\",\"#f7b6d2\",\"#f7b6d2\",\"#f7b6d2\",\"#f7b6d2\",\"#f7b6d2\",\"#f7b6d2\",\"#f7b6d2\",\"#f7b6d2\",\"#f7b6d2\",\"#f7b6d2\",\"#f7b6d2\",\"#f7b6d2\",\"#f7b6d2\",\"#7f7f7f\",\"#7f7f7f\",\"#7f7f7f\",\"#7f7f7f\",\"#7f7f7f\",\"#7f7f7f\",\"#7f7f7f\",\"#7f7f7f\",\"#7f7f7f\",\"#7f7f7f\",\"#7f7f7f\",\"#7f7f7f\",\"#7f7f7f\",\"#7f7f7f\",\"#7f7f7f\",\"#7f7f7f\",\"#7f7f7f\",\"#7f7f7f\",\"#7f7f7f\",\"#7f7f7f\",\"#7f7f7f\",\"#7f7f7f\",\"#7f7f7f\",\"#7f7f7f\",\"#7f7f7f\",\"#7f7f7f\",\"#7f7f7f\",\"#7f7f7f\",\"#7f7f7f\",\"#7f7f7f\",\"#7f7f7f\",\"#7f7f7f\",\"#7f7f7f\",\"#7f7f7f\",\"#7f7f7f\",\"#7f7f7f\",\"#c7c7c7\",\"#c7c7c7\",\"#c7c7c7\",\"#c7c7c7\",\"#c7c7c7\",\"#c7c7c7\",\"#c7c7c7\",\"#c7c7c7\",\"#c7c7c7\",\"#c7c7c7\",\"#c7c7c7\",\"#c7c7c7\",\"#c7c7c7\",\"#c7c7c7\",\"#c7c7c7\",\"#c7c7c7\",\"#c7c7c7\",\"#c7c7c7\",\"#c7c7c7\",\"#c7c7c7\",\"#c7c7c7\",\"#c7c7c7\",\"#c7c7c7\",\"#c7c7c7\",\"#c7c7c7\",\"#c7c7c7\",\"#c7c7c7\",\"#c7c7c7\",\"#c7c7c7\",\"#c7c7c7\",\"#c7c7c7\",\"#c7c7c7\",\"#c7c7c7\",\"#c7c7c7\",\"#c7c7c7\",\"#c7c7c7\"],\"f_interval\":[\"-60 to -55 minutes\",\"-55 to -50 minutes\",\"-50 to -45 minutes\",\"-45 to -40 minutes\",\"-40 to -35 minutes\",\"-35 to -30 minutes\",\"-30 to -25 minutes\",\"-25 to -20 minutes\",\"-20 to -15 minutes\",\"-15 to -10 minutes\",\"-10 to -5 minutes\",\"-5 to 0 minutes\",\"0 to 5 minutes\",\"5 to 10 minutes\",\"10 to 15 minutes\",\"15 to 20 minutes\",\"20 to 25 minutes\",\"25 to 30 minutes\",\"30 to 35 minutes\",\"35 to 40 minutes\",\"40 to 45 minutes\",\"45 to 50 minutes\",\"50 to 55 minutes\",\"55 to 60 minutes\",\"60 to 65 minutes\",\"65 to 70 minutes\",\"70 to 75 minutes\",\"75 to 80 minutes\",\"80 to 85 minutes\",\"85 to 90 minutes\",\"90 to 95 minutes\",\"95 to 100 minutes\",\"100 to 105 minutes\",\"105 to 110 minutes\",\"110 to 115 minutes\",\"115 to 120 minutes\",\"-60 to -55 minutes\",\"-55 to -50 minutes\",\"-50 to -45 minutes\",\"-45 to -40 minutes\",\"-40 to -35 minutes\",\"-35 to -30 minutes\",\"-30 to -25 minutes\",\"-25 to -20 minutes\",\"-20 to -15 minutes\",\"-15 to -10 minutes\",\"-10 to -5 minutes\",\"-5 to 0 minutes\",\"0 to 5 minutes\",\"5 to 10 minutes\",\"10 to 15 minutes\",\"15 to 20 minutes\",\"20 to 25 minutes\",\"25 to 30 minutes\",\"30 to 35 minutes\",\"35 to 40 minutes\",\"40 to 45 minutes\",\"45 to 50 minutes\",\"50 to 55 minutes\",\"55 to 60 minutes\",\"60 to 65 minutes\",\"65 to 70 minutes\",\"70 to 75 minutes\",\"75 to 80 minutes\",\"80 to 85 minutes\",\"85 to 90 minutes\",\"90 to 95 minutes\",\"95 to 100 minutes\",\"100 to 105 minutes\",\"105 to 110 minutes\",\"110 to 115 minutes\",\"115 to 120 minutes\",\"-60 to -55 minutes\",\"-55 to -50 minutes\",\"-50 to -45 minutes\",\"-45 to -40 minutes\",\"-40 to -35 minutes\",\"-35 to -30 minutes\",\"-30 to -25 minutes\",\"-25 to -20 minutes\",\"-20 to -15 minutes\",\"-15 to -10 minutes\",\"-10 to -5 minutes\",\"-5 to 0 minutes\",\"0 to 5 minutes\",\"5 to 10 minutes\",\"10 to 15 minutes\",\"15 to 20 minutes\",\"20 to 25 minutes\",\"25 to 30 minutes\",\"30 to 35 minutes\",\"35 to 40 minutes\",\"40 to 45 minutes\",\"45 to 50 minutes\",\"50 to 55 minutes\",\"55 to 60 minutes\",\"60 to 65 minutes\",\"65 to 70 minutes\",\"70 to 75 minutes\",\"75 to 80 minutes\",\"80 to 85 minutes\",\"85 to 90 minutes\",\"90 to 95 minutes\",\"95 to 100 minutes\",\"100 to 105 minutes\",\"105 to 110 minutes\",\"110 to 115 minutes\",\"115 to 120 minutes\",\"-60 to -55 minutes\",\"-55 to -50 minutes\",\"-50 to -45 minutes\",\"-45 to -40 minutes\",\"-40 to -35 minutes\",\"-35 to -30 minutes\",\"-30 to -25 minutes\",\"-25 to -20 minutes\",\"-20 to -15 minutes\",\"-15 to -10 minutes\",\"-10 to -5 minutes\",\"-5 to 0 minutes\",\"0 to 5 minutes\",\"5 to 10 minutes\",\"10 to 15 minutes\",\"15 to 20 minutes\",\"20 to 25 minutes\",\"25 to 30 minutes\",\"30 to 35 minutes\",\"35 to 40 minutes\",\"40 to 45 minutes\",\"45 to 50 minutes\",\"50 to 55 minutes\",\"55 to 60 minutes\",\"60 to 65 minutes\",\"65 to 70 minutes\",\"70 to 75 minutes\",\"75 to 80 minutes\",\"80 to 85 minutes\",\"85 to 90 minutes\",\"90 to 95 minutes\",\"95 to 100 minutes\",\"100 to 105 minutes\",\"105 to 110 minutes\",\"110 to 115 minutes\",\"115 to 120 minutes\",\"-60 to -55 minutes\",\"-55 to -50 minutes\",\"-50 to -45 minutes\",\"-45 to -40 minutes\",\"-40 to -35 minutes\",\"-35 to -30 minutes\",\"-30 to -25 minutes\",\"-25 to -20 minutes\",\"-20 to -15 minutes\",\"-15 to -10 minutes\",\"-10 to -5 minutes\",\"-5 to 0 minutes\",\"0 to 5 minutes\",\"5 to 10 minutes\",\"10 to 15 minutes\",\"15 to 20 minutes\",\"20 to 25 minutes\",\"25 to 30 minutes\",\"30 to 35 minutes\",\"35 to 40 minutes\",\"40 to 45 minutes\",\"45 to 50 minutes\",\"50 to 55 minutes\",\"55 to 60 minutes\",\"60 to 65 minutes\",\"65 to 70 minutes\",\"70 to 75 minutes\",\"75 to 80 minutes\",\"80 to 85 minutes\",\"85 to 90 minutes\",\"90 to 95 minutes\",\"95 to 100 minutes\",\"100 to 105 minutes\",\"105 to 110 minutes\",\"110 to 115 minutes\",\"115 to 120 minutes\",\"-60 to -55 minutes\",\"-55 to -50 minutes\",\"-50 to -45 minutes\",\"-45 to -40 minutes\",\"-40 to -35 minutes\",\"-35 to -30 minutes\",\"-30 to -25 minutes\",\"-25 to -20 minutes\",\"-20 to -15 minutes\",\"-15 to -10 minutes\",\"-10 to -5 minutes\",\"-5 to 0 minutes\",\"0 to 5 minutes\",\"5 to 10 minutes\",\"10 to 15 minutes\",\"15 to 20 minutes\",\"20 to 25 minutes\",\"25 to 30 minutes\",\"30 to 35 minutes\",\"35 to 40 minutes\",\"40 to 45 minutes\",\"45 to 50 minutes\",\"50 to 55 minutes\",\"55 to 60 minutes\",\"60 to 65 minutes\",\"65 to 70 minutes\",\"70 to 75 minutes\",\"75 to 80 minutes\",\"80 to 85 minutes\",\"85 to 90 minutes\",\"90 to 95 minutes\",\"95 to 100 minutes\",\"100 to 105 minutes\",\"105 to 110 minutes\",\"110 to 115 minutes\",\"115 to 120 minutes\",\"-60 to -55 minutes\",\"-55 to -50 minutes\",\"-50 to -45 minutes\",\"-45 to -40 minutes\",\"-40 to -35 minutes\",\"-35 to -30 minutes\",\"-30 to -25 minutes\",\"-25 to -20 minutes\",\"-20 to -15 minutes\",\"-15 to -10 minutes\",\"-10 to -5 minutes\",\"-5 to 0 minutes\",\"0 to 5 minutes\",\"5 to 10 minutes\",\"10 to 15 minutes\",\"15 to 20 minutes\",\"20 to 25 minutes\",\"25 to 30 minutes\",\"30 to 35 minutes\",\"35 to 40 minutes\",\"40 to 45 minutes\",\"45 to 50 minutes\",\"50 to 55 minutes\",\"55 to 60 minutes\",\"60 to 65 minutes\",\"65 to 70 minutes\",\"70 to 75 minutes\",\"75 to 80 minutes\",\"80 to 85 minutes\",\"85 to 90 minutes\",\"90 to 95 minutes\",\"95 to 100 minutes\",\"100 to 105 minutes\",\"105 to 110 minutes\",\"110 to 115 minutes\",\"115 to 120 minutes\",\"-60 to -55 minutes\",\"-55 to -50 minutes\",\"-50 to -45 minutes\",\"-45 to -40 minutes\",\"-40 to -35 minutes\",\"-35 to -30 minutes\",\"-30 to -25 minutes\",\"-25 to -20 minutes\",\"-20 to -15 minutes\",\"-15 to -10 minutes\",\"-10 to -5 minutes\",\"-5 to 0 minutes\",\"0 to 5 minutes\",\"5 to 10 minutes\",\"10 to 15 minutes\",\"15 to 20 minutes\",\"20 to 25 minutes\",\"25 to 30 minutes\",\"30 to 35 minutes\",\"35 to 40 minutes\",\"40 to 45 minutes\",\"45 to 50 minutes\",\"50 to 55 minutes\",\"55 to 60 minutes\",\"60 to 65 minutes\",\"65 to 70 minutes\",\"70 to 75 minutes\",\"75 to 80 minutes\",\"80 to 85 minutes\",\"85 to 90 minutes\",\"90 to 95 minutes\",\"95 to 100 minutes\",\"100 to 105 minutes\",\"105 to 110 minutes\",\"110 to 115 minutes\",\"115 to 120 minutes\",\"-60 to -55 minutes\",\"-55 to -50 minutes\",\"-50 to -45 minutes\",\"-45 to -40 minutes\",\"-40 to -35 minutes\",\"-35 to -30 minutes\",\"-30 to -25 minutes\",\"-25 to -20 minutes\",\"-20 to -15 minutes\",\"-15 to -10 minutes\",\"-10 to -5 minutes\",\"-5 to 0 minutes\",\"0 to 5 minutes\",\"5 to 10 minutes\",\"10 to 15 minutes\",\"15 to 20 minutes\",\"20 to 25 minutes\",\"25 to 30 minutes\",\"30 to 35 minutes\",\"35 to 40 minutes\",\"40 to 45 minutes\",\"45 to 50 minutes\",\"50 to 55 minutes\",\"55 to 60 minutes\",\"60 to 65 minutes\",\"65 to 70 minutes\",\"70 to 75 minutes\",\"75 to 80 minutes\",\"80 to 85 minutes\",\"85 to 90 minutes\",\"90 to 95 minutes\",\"95 to 100 minutes\",\"100 to 105 minutes\",\"105 to 110 minutes\",\"110 to 115 minutes\",\"115 to 120 minutes\",\"-60 to -55 minutes\",\"-55 to -50 minutes\",\"-50 to -45 minutes\",\"-45 to -40 minutes\",\"-40 to -35 minutes\",\"-35 to -30 minutes\",\"-30 to -25 minutes\",\"-25 to -20 minutes\",\"-20 to -15 minutes\",\"-15 to -10 minutes\",\"-10 to -5 minutes\",\"-5 to 0 minutes\",\"0 to 5 minutes\",\"5 to 10 minutes\",\"10 to 15 minutes\",\"15 to 20 minutes\",\"20 to 25 minutes\",\"25 to 30 minutes\",\"30 to 35 minutes\",\"35 to 40 minutes\",\"40 to 45 minutes\",\"45 to 50 minutes\",\"50 to 55 minutes\",\"55 to 60 minutes\",\"60 to 65 minutes\",\"65 to 70 minutes\",\"70 to 75 minutes\",\"75 to 80 minutes\",\"80 to 85 minutes\",\"85 to 90 minutes\",\"90 to 95 minutes\",\"95 to 100 minutes\",\"100 to 105 minutes\",\"105 to 110 minutes\",\"110 to 115 minutes\",\"115 to 120 minutes\",\"-60 to -55 minutes\",\"-55 to -50 minutes\",\"-50 to -45 minutes\",\"-45 to -40 minutes\",\"-40 to -35 minutes\",\"-35 to -30 minutes\",\"-30 to -25 minutes\",\"-25 to -20 minutes\",\"-20 to -15 minutes\",\"-15 to -10 minutes\",\"-10 to -5 minutes\",\"-5 to 0 minutes\",\"0 to 5 minutes\",\"5 to 10 minutes\",\"10 to 15 minutes\",\"15 to 20 minutes\",\"20 to 25 minutes\",\"25 to 30 minutes\",\"30 to 35 minutes\",\"35 to 40 minutes\",\"40 to 45 minutes\",\"45 to 50 minutes\",\"50 to 55 minutes\",\"55 to 60 minutes\",\"60 to 65 minutes\",\"65 to 70 minutes\",\"70 to 75 minutes\",\"75 to 80 minutes\",\"80 to 85 minutes\",\"85 to 90 minutes\",\"90 to 95 minutes\",\"95 to 100 minutes\",\"100 to 105 minutes\",\"105 to 110 minutes\",\"110 to 115 minutes\",\"115 to 120 minutes\",\"-60 to -55 minutes\",\"-55 to -50 minutes\",\"-50 to -45 minutes\",\"-45 to -40 minutes\",\"-40 to -35 minutes\",\"-35 to -30 minutes\",\"-30 to -25 minutes\",\"-25 to -20 minutes\",\"-20 to -15 minutes\",\"-15 to -10 minutes\",\"-10 to -5 minutes\",\"-5 to 0 minutes\",\"0 to 5 minutes\",\"5 to 10 minutes\",\"10 to 15 minutes\",\"15 to 20 minutes\",\"20 to 25 minutes\",\"25 to 30 minutes\",\"30 to 35 minutes\",\"35 to 40 minutes\",\"40 to 45 minutes\",\"45 to 50 minutes\",\"50 to 55 minutes\",\"55 to 60 minutes\",\"60 to 65 minutes\",\"65 to 70 minutes\",\"70 to 75 minutes\",\"75 to 80 minutes\",\"80 to 85 minutes\",\"85 to 90 minutes\",\"90 to 95 minutes\",\"95 to 100 minutes\",\"100 to 105 minutes\",\"105 to 110 minutes\",\"110 to 115 minutes\",\"115 to 120 minutes\",\"-60 to -55 minutes\",\"-55 to -50 minutes\",\"-50 to -45 minutes\",\"-45 to -40 minutes\",\"-40 to -35 minutes\",\"-35 to -30 minutes\",\"-30 to -25 minutes\",\"-25 to -20 minutes\",\"-20 to -15 minutes\",\"-15 to -10 minutes\",\"-10 to -5 minutes\",\"-5 to 0 minutes\",\"0 to 5 minutes\",\"5 to 10 minutes\",\"10 to 15 minutes\",\"15 to 20 minutes\",\"20 to 25 minutes\",\"25 to 30 minutes\",\"30 to 35 minutes\",\"35 to 40 minutes\",\"40 to 45 minutes\",\"45 to 50 minutes\",\"50 to 55 minutes\",\"55 to 60 minutes\",\"60 to 65 minutes\",\"65 to 70 minutes\",\"70 to 75 minutes\",\"75 to 80 minutes\",\"80 to 85 minutes\",\"85 to 90 minutes\",\"90 to 95 minutes\",\"95 to 100 minutes\",\"100 to 105 minutes\",\"105 to 110 minutes\",\"110 to 115 minutes\",\"115 to 120 minutes\",\"-60 to -55 minutes\",\"-55 to -50 minutes\",\"-50 to -45 minutes\",\"-45 to -40 minutes\",\"-40 to -35 minutes\",\"-35 to -30 minutes\",\"-30 to -25 minutes\",\"-25 to -20 minutes\",\"-20 to -15 minutes\",\"-15 to -10 minutes\",\"-10 to -5 minutes\",\"-5 to 0 minutes\",\"0 to 5 minutes\",\"5 to 10 minutes\",\"10 to 15 minutes\",\"15 to 20 minutes\",\"20 to 25 minutes\",\"25 to 30 minutes\",\"30 to 35 minutes\",\"35 to 40 minutes\",\"40 to 45 minutes\",\"45 to 50 minutes\",\"50 to 55 minutes\",\"55 to 60 minutes\",\"60 to 65 minutes\",\"65 to 70 minutes\",\"70 to 75 minutes\",\"75 to 80 minutes\",\"80 to 85 minutes\",\"85 to 90 minutes\",\"90 to 95 minutes\",\"95 to 100 minutes\",\"100 to 105 minutes\",\"105 to 110 minutes\",\"110 to 115 minutes\",\"115 to 120 minutes\",\"-60 to -55 minutes\",\"-55 to -50 minutes\",\"-50 to -45 minutes\",\"-45 to -40 minutes\",\"-40 to -35 minutes\",\"-35 to -30 minutes\",\"-30 to -25 minutes\",\"-25 to -20 minutes\",\"-20 to -15 minutes\",\"-15 to -10 minutes\",\"-10 to -5 minutes\",\"-5 to 0 minutes\",\"0 to 5 minutes\",\"5 to 10 minutes\",\"10 to 15 minutes\",\"15 to 20 minutes\",\"20 to 25 minutes\",\"25 to 30 minutes\",\"30 to 35 minutes\",\"35 to 40 minutes\",\"40 to 45 minutes\",\"45 to 50 minutes\",\"50 to 55 minutes\",\"55 to 60 minutes\",\"60 to 65 minutes\",\"65 to 70 minutes\",\"70 to 75 minutes\",\"75 to 80 minutes\",\"80 to 85 minutes\",\"85 to 90 minutes\",\"90 to 95 minutes\",\"95 to 100 minutes\",\"100 to 105 minutes\",\"105 to 110 minutes\",\"110 to 115 minutes\",\"115 to 120 minutes\",\"-60 to -55 minutes\",\"-55 to -50 minutes\",\"-50 to -45 minutes\",\"-45 to -40 minutes\",\"-40 to -35 minutes\",\"-35 to -30 minutes\",\"-30 to -25 minutes\",\"-25 to -20 minutes\",\"-20 to -15 minutes\",\"-15 to -10 minutes\",\"-10 to -5 minutes\",\"-5 to 0 minutes\",\"0 to 5 minutes\",\"5 to 10 minutes\",\"10 to 15 minutes\",\"15 to 20 minutes\",\"20 to 25 minutes\",\"25 to 30 minutes\",\"30 to 35 minutes\",\"35 to 40 minutes\",\"40 to 45 minutes\",\"45 to 50 minutes\",\"50 to 55 minutes\",\"55 to 60 minutes\",\"60 to 65 minutes\",\"65 to 70 minutes\",\"70 to 75 minutes\",\"75 to 80 minutes\",\"80 to 85 minutes\",\"85 to 90 minutes\",\"90 to 95 minutes\",\"95 to 100 minutes\",\"100 to 105 minutes\",\"105 to 110 minutes\",\"110 to 115 minutes\",\"115 to 120 minutes\"],\"f_proportion\":[\"0.00000\",\"0.00000\",\"0.00000\",\"0.00166\",\"0.00166\",\"0.00497\",\"0.01589\",\"0.03178\",\"0.05627\",\"0.08375\",\"0.09732\",\"0.10758\",\"0.11255\",\"0.09004\",\"0.08342\",\"0.05727\",\"0.04535\",\"0.03443\",\"0.02582\",\"0.01986\",\"0.01887\",\"0.01423\",\"0.01291\",\"0.01390\",\"0.00828\",\"0.00794\",\"0.00794\",\"0.00761\",\"0.00629\",\"0.00497\",\"0.00761\",\"0.00265\",\"0.00397\",\"0.00331\",\"0.00463\",\"0.00530\",\"0.00581\",\"0.02467\",\"0.03338\",\"0.05806\",\"0.07112\",\"0.07837\",\"0.08563\",\"0.09434\",\"0.08418\",\"0.08128\",\"0.07112\",\"0.04209\",\"0.05515\",\"0.03483\",\"0.04499\",\"0.02612\",\"0.01597\",\"0.01306\",\"0.01161\",\"0.00871\",\"0.01016\",\"0.01016\",\"0.00290\",\"0.00435\",\"0.00290\",\"0.00435\",\"0.00000\",\"0.00145\",\"0.00000\",\"0.00435\",\"0.00581\",\"0.00145\",\"0.00435\",\"0.00145\",\"0.00145\",\"0.00435\",\"0.00167\",\"0.00388\",\"0.00904\",\"0.01859\",\"0.03254\",\"0.04933\",\"0.06741\",\"0.09254\",\"0.10594\",\"0.10738\",\"0.09495\",\"0.08177\",\"0.06590\",\"0.05321\",\"0.04036\",\"0.02898\",\"0.02353\",\"0.02048\",\"0.01458\",\"0.01151\",\"0.00984\",\"0.00801\",\"0.00747\",\"0.00660\",\"0.00609\",\"0.00539\",\"0.00458\",\"0.00452\",\"0.00369\",\"0.00324\",\"0.00282\",\"0.00346\",\"0.00279\",\"0.00301\",\"0.00260\",\"0.00231\",\"0.00138\",\"0.00303\",\"0.00620\",\"0.01203\",\"0.02333\",\"0.04048\",\"0.06312\",\"0.08849\",\"0.10782\",\"0.11221\",\"0.10754\",\"0.08892\",\"0.07504\",\"0.05688\",\"0.04362\",\"0.03245\",\"0.02311\",\"0.01691\",\"0.01448\",\"0.01141\",\"0.00932\",\"0.00884\",\"0.00704\",\"0.00686\",\"0.00495\",\"0.00504\",\"0.00441\",\"0.00377\",\"0.00340\",\"0.00329\",\"0.00321\",\"0.00275\",\"0.00260\",\"0.00230\",\"0.00174\",\"0.00202\",\"0.00072\",\"0.00290\",\"0.00748\",\"0.01520\",\"0.02889\",\"0.04928\",\"0.06919\",\"0.09308\",\"0.09935\",\"0.09778\",\"0.09127\",\"0.07359\",\"0.06298\",\"0.04735\",\"0.03698\",\"0.03064\",\"0.02570\",\"0.01942\",\"0.01882\",\"0.01502\",\"0.01448\",\"0.01194\",\"0.00941\",\"0.00923\",\"0.00814\",\"0.00742\",\"0.00766\",\"0.00651\",\"0.00633\",\"0.00645\",\"0.00591\",\"0.00428\",\"0.00404\",\"0.00416\",\"0.00362\",\"0.00477\",\"0.00000\",\"0.00004\",\"0.00021\",\"0.00123\",\"0.00448\",\"0.01299\",\"0.03165\",\"0.05895\",\"0.08780\",\"0.10955\",\"0.11395\",\"0.10762\",\"0.08678\",\"0.06881\",\"0.05796\",\"0.04263\",\"0.03161\",\"0.02618\",\"0.02096\",\"0.01907\",\"0.01418\",\"0.01307\",\"0.01143\",\"0.01056\",\"0.01032\",\"0.00797\",\"0.00777\",\"0.00633\",\"0.00617\",\"0.00534\",\"0.00534\",\"0.00485\",\"0.00428\",\"0.00288\",\"0.00341\",\"0.00362\",\"0.00008\",\"0.00031\",\"0.00095\",\"0.00251\",\"0.00814\",\"0.01653\",\"0.03713\",\"0.06289\",\"0.09379\",\"0.10641\",\"0.10742\",\"0.09467\",\"0.07582\",\"0.05966\",\"0.04720\",\"0.03625\",\"0.03051\",\"0.02543\",\"0.02292\",\"0.01935\",\"0.01696\",\"0.01581\",\"0.01511\",\"0.01262\",\"0.01190\",\"0.01024\",\"0.00999\",\"0.00909\",\"0.00835\",\"0.00736\",\"0.00654\",\"0.00662\",\"0.00615\",\"0.00495\",\"0.00530\",\"0.00504\",\"0.00000\",\"0.00000\",\"0.00156\",\"0.00000\",\"0.00313\",\"0.00939\",\"0.02660\",\"0.07199\",\"0.05790\",\"0.06886\",\"0.09233\",\"0.09233\",\"0.09233\",\"0.07042\",\"0.06573\",\"0.05790\",\"0.05477\",\"0.02973\",\"0.03599\",\"0.03130\",\"0.02973\",\"0.01252\",\"0.01408\",\"0.01095\",\"0.00626\",\"0.00939\",\"0.00939\",\"0.00782\",\"0.00782\",\"0.00469\",\"0.00469\",\"0.00626\",\"0.00939\",\"0.00156\",\"0.00156\",\"0.00156\",\"0.03012\",\"0.01807\",\"0.00904\",\"0.04518\",\"0.03614\",\"0.06928\",\"0.08133\",\"0.07229\",\"0.09337\",\"0.08133\",\"0.09337\",\"0.08133\",\"0.06928\",\"0.03916\",\"0.06325\",\"0.02711\",\"0.03012\",\"0.01506\",\"0.01205\",\"0.01506\",\"0.00301\",\"0.00000\",\"0.00301\",\"0.00301\",\"0.00000\",\"0.00301\",\"0.00000\",\"0.00000\",\"0.00602\",\"0.00000\",\"0.00000\",\"0.00000\",\"0.00000\",\"0.00000\",\"0.00000\",\"0.00000\",\"0.00061\",\"0.00109\",\"0.00233\",\"0.00484\",\"0.00878\",\"0.01881\",\"0.03574\",\"0.06251\",\"0.09694\",\"0.11728\",\"0.11470\",\"0.10064\",\"0.08024\",\"0.06199\",\"0.04848\",\"0.03895\",\"0.03078\",\"0.02447\",\"0.02062\",\"0.01797\",\"0.01534\",\"0.01328\",\"0.01058\",\"0.00981\",\"0.00888\",\"0.00767\",\"0.00635\",\"0.00633\",\"0.00578\",\"0.00496\",\"0.00442\",\"0.00440\",\"0.00402\",\"0.00339\",\"0.00335\",\"0.00365\",\"0.00000\",\"0.00000\",\"0.00390\",\"0.00585\",\"0.00585\",\"0.03509\",\"0.04094\",\"0.07797\",\"0.11696\",\"0.12281\",\"0.07992\",\"0.05653\",\"0.06238\",\"0.05653\",\"0.04678\",\"0.04483\",\"0.03899\",\"0.01949\",\"0.00975\",\"0.01559\",\"0.01365\",\"0.01754\",\"0.01559\",\"0.02534\",\"0.01559\",\"0.01170\",\"0.00780\",\"0.01170\",\"0.00585\",\"0.00390\",\"0.00585\",\"0.00975\",\"0.00780\",\"0.00585\",\"0.00195\",\"0.00000\",\"0.00000\",\"0.00000\",\"0.00000\",\"0.00000\",\"0.00000\",\"0.00000\",\"0.03704\",\"0.11111\",\"0.14815\",\"0.11111\",\"0.22222\",\"0.07407\",\"0.07407\",\"0.03704\",\"0.00000\",\"0.00000\",\"0.00000\",\"0.03704\",\"0.00000\",\"0.00000\",\"0.00000\",\"0.07407\",\"0.00000\",\"0.00000\",\"0.00000\",\"0.03704\",\"0.00000\",\"0.00000\",\"0.00000\",\"0.00000\",\"0.00000\",\"0.00000\",\"0.00000\",\"0.03704\",\"0.00000\",\"0.00000\",\"0.00035\",\"0.00104\",\"0.00242\",\"0.00570\",\"0.01303\",\"0.02399\",\"0.04384\",\"0.06653\",\"0.09225\",\"0.10459\",\"0.10701\",\"0.10131\",\"0.08612\",\"0.07171\",\"0.05247\",\"0.04211\",\"0.03020\",\"0.02373\",\"0.02011\",\"0.01467\",\"0.01441\",\"0.01001\",\"0.00889\",\"0.00897\",\"0.00725\",\"0.00570\",\"0.00690\",\"0.00492\",\"0.00440\",\"0.00362\",\"0.00440\",\"0.00371\",\"0.00397\",\"0.00414\",\"0.00250\",\"0.00302\",\"0.00031\",\"0.00102\",\"0.00138\",\"0.00302\",\"0.00660\",\"0.01525\",\"0.03643\",\"0.06988\",\"0.11219\",\"0.13378\",\"0.13025\",\"0.10943\",\"0.08866\",\"0.06784\",\"0.04737\",\"0.03489\",\"0.02655\",\"0.02087\",\"0.01647\",\"0.01202\",\"0.01049\",\"0.00834\",\"0.00691\",\"0.00506\",\"0.00593\",\"0.00460\",\"0.00358\",\"0.00307\",\"0.00343\",\"0.00292\",\"0.00230\",\"0.00215\",\"0.00174\",\"0.00164\",\"0.00179\",\"0.00184\",\"0.00124\",\"0.00287\",\"0.00657\",\"0.01256\",\"0.02261\",\"0.03785\",\"0.05610\",\"0.07791\",\"0.09768\",\"0.10618\",\"0.09975\",\"0.09228\",\"0.07452\",\"0.05861\",\"0.04672\",\"0.03568\",\"0.02713\",\"0.02365\",\"0.01836\",\"0.01517\",\"0.01205\",\"0.01086\",\"0.00912\",\"0.00761\",\"0.00609\",\"0.00614\",\"0.00518\",\"0.00497\",\"0.00436\",\"0.00371\",\"0.00355\",\"0.00330\",\"0.00289\",\"0.00248\",\"0.00206\",\"0.00218\",\"0.00366\",\"0.00732\",\"0.01484\",\"0.02602\",\"0.03496\",\"0.05183\",\"0.07500\",\"0.08984\",\"0.09451\",\"0.09024\",\"0.08902\",\"0.08435\",\"0.07846\",\"0.05691\",\"0.04431\",\"0.02581\",\"0.02195\",\"0.01931\",\"0.01159\",\"0.01118\",\"0.00732\",\"0.00610\",\"0.00935\",\"0.00447\",\"0.00488\",\"0.00366\",\"0.00305\",\"0.00447\",\"0.00346\",\"0.00305\",\"0.00346\",\"0.00407\",\"0.00224\",\"0.00386\",\"0.00203\",\"0.00346\"],\"index\":[0,1,2,3,4,5,6,7,8,9,10,11,12,13,14,15,16,17,18,19,20,21,22,23,24,25,26,27,28,29,30,31,32,33,34,35,0,1,2,3,4,5,6,7,8,9,10,11,12,13,14,15,16,17,18,19,20,21,22,23,24,25,26,27,28,29,30,31,32,33,34,35,0,1,2,3,4,5,6,7,8,9,10,11,12,13,14,15,16,17,18,19,20,21,22,23,24,25,26,27,28,29,30,31,32,33,34,35,0,1,2,3,4,5,6,7,8,9,10,11,12,13,14,15,16,17,18,19,20,21,22,23,24,25,26,27,28,29,30,31,32,33,34,35,0,1,2,3,4,5,6,7,8,9,10,11,12,13,14,15,16,17,18,19,20,21,22,23,24,25,26,27,28,29,30,31,32,33,34,35,0,1,2,3,4,5,6,7,8,9,10,11,12,13,14,15,16,17,18,19,20,21,22,23,24,25,26,27,28,29,30,31,32,33,34,35,0,1,2,3,4,5,6,7,8,9,10,11,12,13,14,15,16,17,18,19,20,21,22,23,24,25,26,27,28,29,30,31,32,33,34,35,0,1,2,3,4,5,6,7,8,9,10,11,12,13,14,15,16,17,18,19,20,21,22,23,24,25,26,27,28,29,30,31,32,33,34,35,0,1,2,3,4,5,6,7,8,9,10,11,12,13,14,15,16,17,18,19,20,21,22,23,24,25,26,27,28,29,30,31,32,33,34,35,0,1,2,3,4,5,6,7,8,9,10,11,12,13,14,15,16,17,18,19,20,21,22,23,24,25,26,27,28,29,30,31,32,33,34,35,0,1,2,3,4,5,6,7,8,9,10,11,12,13,14,15,16,17,18,19,20,21,22,23,24,25,26,27,28,29,30,31,32,33,34,35,0,1,2,3,4,5,6,7,8,9,10,11,12,13,14,15,16,17,18,19,20,21,22,23,24,25,26,27,28,29,30,31,32,33,34,35,0,1,2,3,4,5,6,7,8,9,10,11,12,13,14,15,16,17,18,19,20,21,22,23,24,25,26,27,28,29,30,31,32,33,34,35,0,1,2,3,4,5,6,7,8,9,10,11,12,13,14,15,16,17,18,19,20,21,22,23,24,25,26,27,28,29,30,31,32,33,34,35,0,1,2,3,4,5,6,7,8,9,10,11,12,13,14,15,16,17,18,19,20,21,22,23,24,25,26,27,28,29,30,31,32,33,34,35,0,1,2,3,4,5,6,7,8,9,10,11,12,13,14,15,16,17,18,19,20,21,22,23,24,25,26,27,28,29,30,31,32,33,34,35],\"left\":{\"__ndarray__\":\"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\",\"dtype\":\"float64\",\"shape\":[576]},\"name\":[\"AirTran Airways Corporation\",\"AirTran Airways Corporation\",\"AirTran Airways Corporation\",\"AirTran Airways Corporation\",\"AirTran Airways Corporation\",\"AirTran Airways Corporation\",\"AirTran Airways Corporation\",\"AirTran Airways Corporation\",\"AirTran Airways Corporation\",\"AirTran Airways Corporation\",\"AirTran Airways Corporation\",\"AirTran Airways Corporation\",\"AirTran Airways Corporation\",\"AirTran Airways Corporation\",\"AirTran Airways Corporation\",\"AirTran Airways Corporation\",\"AirTran Airways Corporation\",\"AirTran Airways Corporation\",\"AirTran Airways Corporation\",\"AirTran Airways Corporation\",\"AirTran Airways Corporation\",\"AirTran Airways Corporation\",\"AirTran Airways Corporation\",\"AirTran Airways Corporation\",\"AirTran Airways Corporation\",\"AirTran Airways Corporation\",\"AirTran Airways Corporation\",\"AirTran Airways Corporation\",\"AirTran Airways Corporation\",\"AirTran Airways Corporation\",\"AirTran Airways Corporation\",\"AirTran Airways Corporation\",\"AirTran Airways Corporation\",\"AirTran Airways Corporation\",\"AirTran Airways Corporation\",\"AirTran Airways Corporation\",\"Alaska Airlines Inc.\",\"Alaska Airlines Inc.\",\"Alaska Airlines Inc.\",\"Alaska Airlines Inc.\",\"Alaska Airlines Inc.\",\"Alaska Airlines Inc.\",\"Alaska Airlines Inc.\",\"Alaska Airlines Inc.\",\"Alaska Airlines Inc.\",\"Alaska Airlines Inc.\",\"Alaska Airlines Inc.\",\"Alaska Airlines Inc.\",\"Alaska Airlines Inc.\",\"Alaska Airlines Inc.\",\"Alaska Airlines Inc.\",\"Alaska Airlines Inc.\",\"Alaska Airlines Inc.\",\"Alaska Airlines Inc.\",\"Alaska Airlines Inc.\",\"Alaska Airlines Inc.\",\"Alaska Airlines Inc.\",\"Alaska Airlines Inc.\",\"Alaska Airlines Inc.\",\"Alaska Airlines Inc.\",\"Alaska Airlines Inc.\",\"Alaska Airlines Inc.\",\"Alaska Airlines Inc.\",\"Alaska Airlines Inc.\",\"Alaska Airlines Inc.\",\"Alaska Airlines Inc.\",\"Alaska Airlines Inc.\",\"Alaska Airlines Inc.\",\"Alaska Airlines Inc.\",\"Alaska Airlines Inc.\",\"Alaska Airlines Inc.\",\"Alaska Airlines Inc.\",\"American Airlines Inc.\",\"American Airlines Inc.\",\"American Airlines Inc.\",\"American Airlines Inc.\",\"American Airlines Inc.\",\"American Airlines Inc.\",\"American Airlines Inc.\",\"American Airlines Inc.\",\"American Airlines Inc.\",\"American Airlines Inc.\",\"American Airlines Inc.\",\"American Airlines Inc.\",\"American Airlines Inc.\",\"American Airlines Inc.\",\"American Airlines Inc.\",\"American Airlines Inc.\",\"American Airlines Inc.\",\"American Airlines Inc.\",\"American Airlines Inc.\",\"American Airlines Inc.\",\"American Airlines Inc.\",\"American Airlines Inc.\",\"American Airlines Inc.\",\"American Airlines Inc.\",\"American Airlines Inc.\",\"American Airlines Inc.\",\"American Airlines Inc.\",\"American Airlines Inc.\",\"American Airlines Inc.\",\"American Airlines Inc.\",\"American Airlines Inc.\",\"American Airlines Inc.\",\"American Airlines Inc.\",\"American Airlines Inc.\",\"American Airlines Inc.\",\"American Airlines Inc.\",\"Delta Air Lines Inc.\",\"Delta Air Lines Inc.\",\"Delta Air Lines Inc.\",\"Delta Air Lines Inc.\",\"Delta Air Lines Inc.\",\"Delta Air Lines Inc.\",\"Delta Air Lines Inc.\",\"Delta Air Lines Inc.\",\"Delta Air Lines Inc.\",\"Delta Air Lines Inc.\",\"Delta Air Lines Inc.\",\"Delta Air Lines Inc.\",\"Delta Air Lines Inc.\",\"Delta Air Lines Inc.\",\"Delta Air Lines Inc.\",\"Delta Air Lines Inc.\",\"Delta Air Lines Inc.\",\"Delta Air Lines Inc.\",\"Delta Air Lines Inc.\",\"Delta Air Lines Inc.\",\"Delta Air Lines Inc.\",\"Delta Air Lines Inc.\",\"Delta Air Lines Inc.\",\"Delta Air Lines Inc.\",\"Delta Air Lines Inc.\",\"Delta Air Lines Inc.\",\"Delta Air Lines Inc.\",\"Delta Air Lines Inc.\",\"Delta Air Lines Inc.\",\"Delta Air Lines Inc.\",\"Delta Air Lines Inc.\",\"Delta Air Lines Inc.\",\"Delta Air Lines Inc.\",\"Delta Air Lines Inc.\",\"Delta Air Lines Inc.\",\"Delta Air Lines Inc.\",\"Endeavor Air Inc.\",\"Endeavor Air Inc.\",\"Endeavor Air Inc.\",\"Endeavor Air Inc.\",\"Endeavor Air Inc.\",\"Endeavor Air Inc.\",\"Endeavor Air Inc.\",\"Endeavor Air Inc.\",\"Endeavor Air Inc.\",\"Endeavor Air Inc.\",\"Endeavor Air Inc.\",\"Endeavor Air Inc.\",\"Endeavor Air Inc.\",\"Endeavor Air Inc.\",\"Endeavor Air Inc.\",\"Endeavor Air Inc.\",\"Endeavor Air Inc.\",\"Endeavor Air Inc.\",\"Endeavor Air Inc.\",\"Endeavor Air Inc.\",\"Endeavor Air Inc.\",\"Endeavor Air Inc.\",\"Endeavor Air Inc.\",\"Endeavor Air Inc.\",\"Endeavor Air Inc.\",\"Endeavor Air Inc.\",\"Endeavor Air Inc.\",\"Endeavor Air Inc.\",\"Endeavor Air Inc.\",\"Endeavor Air Inc.\",\"Endeavor Air Inc.\",\"Endeavor Air Inc.\",\"Endeavor Air Inc.\",\"Endeavor Air Inc.\",\"Endeavor Air Inc.\",\"Endeavor Air Inc.\",\"Envoy Air\",\"Envoy Air\",\"Envoy Air\",\"Envoy Air\",\"Envoy Air\",\"Envoy Air\",\"Envoy Air\",\"Envoy Air\",\"Envoy Air\",\"Envoy Air\",\"Envoy Air\",\"Envoy Air\",\"Envoy Air\",\"Envoy Air\",\"Envoy Air\",\"Envoy Air\",\"Envoy Air\",\"Envoy Air\",\"Envoy Air\",\"Envoy Air\",\"Envoy Air\",\"Envoy Air\",\"Envoy Air\",\"Envoy Air\",\"Envoy Air\",\"Envoy Air\",\"Envoy Air\",\"Envoy Air\",\"Envoy Air\",\"Envoy Air\",\"Envoy Air\",\"Envoy Air\",\"Envoy Air\",\"Envoy Air\",\"Envoy Air\",\"Envoy Air\",\"ExpressJet Airlines Inc.\",\"ExpressJet Airlines Inc.\",\"ExpressJet Airlines Inc.\",\"ExpressJet Airlines Inc.\",\"ExpressJet Airlines Inc.\",\"ExpressJet Airlines Inc.\",\"ExpressJet Airlines Inc.\",\"ExpressJet Airlines Inc.\",\"ExpressJet Airlines Inc.\",\"ExpressJet Airlines Inc.\",\"ExpressJet Airlines Inc.\",\"ExpressJet Airlines Inc.\",\"ExpressJet Airlines Inc.\",\"ExpressJet Airlines Inc.\",\"ExpressJet Airlines Inc.\",\"ExpressJet Airlines Inc.\",\"ExpressJet Airlines Inc.\",\"ExpressJet Airlines Inc.\",\"ExpressJet Airlines Inc.\",\"ExpressJet Airlines Inc.\",\"ExpressJet Airlines Inc.\",\"ExpressJet Airlines Inc.\",\"ExpressJet Airlines Inc.\",\"ExpressJet Airlines Inc.\",\"ExpressJet Airlines Inc.\",\"ExpressJet Airlines Inc.\",\"ExpressJet Airlines Inc.\",\"ExpressJet Airlines Inc.\",\"ExpressJet Airlines Inc.\",\"ExpressJet Airlines Inc.\",\"ExpressJet Airlines Inc.\",\"ExpressJet Airlines Inc.\",\"ExpressJet Airlines Inc.\",\"ExpressJet Airlines Inc.\",\"ExpressJet Airlines Inc.\",\"ExpressJet Airlines Inc.\",\"Frontier Airlines Inc.\",\"Frontier Airlines Inc.\",\"Frontier Airlines Inc.\",\"Frontier Airlines Inc.\",\"Frontier Airlines Inc.\",\"Frontier Airlines Inc.\",\"Frontier Airlines Inc.\",\"Frontier Airlines Inc.\",\"Frontier Airlines Inc.\",\"Frontier Airlines Inc.\",\"Frontier Airlines Inc.\",\"Frontier Airlines Inc.\",\"Frontier Airlines Inc.\",\"Frontier Airlines Inc.\",\"Frontier Airlines Inc.\",\"Frontier Airlines Inc.\",\"Frontier Airlines Inc.\",\"Frontier Airlines Inc.\",\"Frontier Airlines Inc.\",\"Frontier Airlines Inc.\",\"Frontier Airlines Inc.\",\"Frontier Airlines Inc.\",\"Frontier Airlines Inc.\",\"Frontier Airlines Inc.\",\"Frontier Airlines Inc.\",\"Frontier Airlines Inc.\",\"Frontier Airlines Inc.\",\"Frontier Airlines Inc.\",\"Frontier Airlines Inc.\",\"Frontier Airlines Inc.\",\"Frontier Airlines Inc.\",\"Frontier Airlines Inc.\",\"Frontier Airlines Inc.\",\"Frontier Airlines Inc.\",\"Frontier Airlines Inc.\",\"Frontier Airlines Inc.\",\"Hawaiian Airlines Inc.\",\"Hawaiian Airlines Inc.\",\"Hawaiian Airlines Inc.\",\"Hawaiian Airlines Inc.\",\"Hawaiian Airlines Inc.\",\"Hawaiian Airlines Inc.\",\"Hawaiian Airlines Inc.\",\"Hawaiian Airlines Inc.\",\"Hawaiian Airlines Inc.\",\"Hawaiian Airlines Inc.\",\"Hawaiian Airlines Inc.\",\"Hawaiian Airlines Inc.\",\"Hawaiian Airlines Inc.\",\"Hawaiian Airlines Inc.\",\"Hawaiian Airlines Inc.\",\"Hawaiian Airlines Inc.\",\"Hawaiian Airlines Inc.\",\"Hawaiian Airlines Inc.\",\"Hawaiian Airlines Inc.\",\"Hawaiian Airlines Inc.\",\"Hawaiian Airlines Inc.\",\"Hawaiian Airlines Inc.\",\"Hawaiian Airlines Inc.\",\"Hawaiian Airlines Inc.\",\"Hawaiian Airlines Inc.\",\"Hawaiian Airlines Inc.\",\"Hawaiian Airlines Inc.\",\"Hawaiian Airlines Inc.\",\"Hawaiian Airlines Inc.\",\"Hawaiian Airlines Inc.\",\"Hawaiian Airlines Inc.\",\"Hawaiian Airlines Inc.\",\"Hawaiian Airlines Inc.\",\"Hawaiian Airlines Inc.\",\"Hawaiian Airlines Inc.\",\"Hawaiian Airlines Inc.\",\"JetBlue Airways\",\"JetBlue Airways\",\"JetBlue Airways\",\"JetBlue Airways\",\"JetBlue Airways\",\"JetBlue Airways\",\"JetBlue Airways\",\"JetBlue Airways\",\"JetBlue Airways\",\"JetBlue Airways\",\"JetBlue Airways\",\"JetBlue Airways\",\"JetBlue Airways\",\"JetBlue Airways\",\"JetBlue Airways\",\"JetBlue Airways\",\"JetBlue Airways\",\"JetBlue Airways\",\"JetBlue Airways\",\"JetBlue Airways\",\"JetBlue Airways\",\"JetBlue Airways\",\"JetBlue Airways\",\"JetBlue Airways\",\"JetBlue Airways\",\"JetBlue Airways\",\"JetBlue Airways\",\"JetBlue Airways\",\"JetBlue Airways\",\"JetBlue Airways\",\"JetBlue Airways\",\"JetBlue Airways\",\"JetBlue Airways\",\"JetBlue Airways\",\"JetBlue Airways\",\"JetBlue Airways\",\"Mesa Airlines Inc.\",\"Mesa Airlines Inc.\",\"Mesa Airlines Inc.\",\"Mesa Airlines Inc.\",\"Mesa Airlines Inc.\",\"Mesa Airlines Inc.\",\"Mesa Airlines Inc.\",\"Mesa Airlines Inc.\",\"Mesa Airlines Inc.\",\"Mesa Airlines Inc.\",\"Mesa Airlines Inc.\",\"Mesa Airlines Inc.\",\"Mesa Airlines Inc.\",\"Mesa Airlines Inc.\",\"Mesa Airlines Inc.\",\"Mesa Airlines Inc.\",\"Mesa Airlines Inc.\",\"Mesa Airlines Inc.\",\"Mesa Airlines Inc.\",\"Mesa Airlines Inc.\",\"Mesa Airlines Inc.\",\"Mesa Airlines Inc.\",\"Mesa Airlines Inc.\",\"Mesa Airlines Inc.\",\"Mesa Airlines Inc.\",\"Mesa Airlines Inc.\",\"Mesa Airlines Inc.\",\"Mesa Airlines Inc.\",\"Mesa Airlines Inc.\",\"Mesa Airlines Inc.\",\"Mesa Airlines Inc.\",\"Mesa Airlines Inc.\",\"Mesa Airlines Inc.\",\"Mesa Airlines Inc.\",\"Mesa Airlines Inc.\",\"Mesa Airlines Inc.\",\"SkyWest Airlines Inc.\",\"SkyWest Airlines Inc.\",\"SkyWest Airlines Inc.\",\"SkyWest Airlines Inc.\",\"SkyWest Airlines Inc.\",\"SkyWest Airlines Inc.\",\"SkyWest Airlines Inc.\",\"SkyWest Airlines Inc.\",\"SkyWest Airlines Inc.\",\"SkyWest Airlines Inc.\",\"SkyWest Airlines Inc.\",\"SkyWest Airlines Inc.\",\"SkyWest Airlines Inc.\",\"SkyWest Airlines Inc.\",\"SkyWest Airlines Inc.\",\"SkyWest Airlines Inc.\",\"SkyWest Airlines Inc.\",\"SkyWest Airlines Inc.\",\"SkyWest Airlines Inc.\",\"SkyWest Airlines Inc.\",\"SkyWest Airlines Inc.\",\"SkyWest Airlines Inc.\",\"SkyWest Airlines Inc.\",\"SkyWest Airlines Inc.\",\"SkyWest Airlines Inc.\",\"SkyWest Airlines Inc.\",\"SkyWest Airlines Inc.\",\"SkyWest Airlines Inc.\",\"SkyWest Airlines Inc.\",\"SkyWest Airlines Inc.\",\"SkyWest Airlines Inc.\",\"SkyWest Airlines Inc.\",\"SkyWest Airlines Inc.\",\"SkyWest Airlines Inc.\",\"SkyWest Airlines Inc.\",\"SkyWest Airlines Inc.\",\"Southwest Airlines Co.\",\"Southwest Airlines Co.\",\"Southwest Airlines Co.\",\"Southwest Airlines Co.\",\"Southwest Airlines Co.\",\"Southwest Airlines Co.\",\"Southwest Airlines Co.\",\"Southwest Airlines Co.\",\"Southwest Airlines Co.\",\"Southwest Airlines Co.\",\"Southwest Airlines Co.\",\"Southwest Airlines Co.\",\"Southwest Airlines Co.\",\"Southwest Airlines Co.\",\"Southwest Airlines Co.\",\"Southwest Airlines Co.\",\"Southwest Airlines Co.\",\"Southwest Airlines Co.\",\"Southwest Airlines Co.\",\"Southwest Airlines Co.\",\"Southwest Airlines Co.\",\"Southwest Airlines Co.\",\"Southwest Airlines Co.\",\"Southwest Airlines Co.\",\"Southwest Airlines Co.\",\"Southwest Airlines Co.\",\"Southwest Airlines Co.\",\"Southwest Airlines Co.\",\"Southwest Airlines Co.\",\"Southwest Airlines Co.\",\"Southwest Airlines Co.\",\"Southwest Airlines Co.\",\"Southwest Airlines Co.\",\"Southwest Airlines Co.\",\"Southwest Airlines Co.\",\"Southwest Airlines Co.\",\"US Airways Inc.\",\"US Airways Inc.\",\"US Airways Inc.\",\"US Airways Inc.\",\"US Airways Inc.\",\"US Airways Inc.\",\"US Airways Inc.\",\"US Airways Inc.\",\"US Airways Inc.\",\"US Airways Inc.\",\"US Airways Inc.\",\"US Airways Inc.\",\"US Airways Inc.\",\"US Airways Inc.\",\"US Airways Inc.\",\"US Airways Inc.\",\"US Airways Inc.\",\"US Airways Inc.\",\"US Airways Inc.\",\"US Airways Inc.\",\"US Airways Inc.\",\"US Airways Inc.\",\"US Airways Inc.\",\"US Airways Inc.\",\"US Airways Inc.\",\"US Airways Inc.\",\"US Airways Inc.\",\"US Airways Inc.\",\"US Airways Inc.\",\"US Airways Inc.\",\"US Airways Inc.\",\"US Airways Inc.\",\"US Airways Inc.\",\"US Airways Inc.\",\"US Airways Inc.\",\"US Airways Inc.\",\"United Air Lines Inc.\",\"United Air Lines Inc.\",\"United Air Lines Inc.\",\"United Air Lines Inc.\",\"United Air Lines Inc.\",\"United Air Lines Inc.\",\"United Air Lines Inc.\",\"United Air Lines Inc.\",\"United Air Lines Inc.\",\"United Air Lines Inc.\",\"United Air Lines Inc.\",\"United Air Lines Inc.\",\"United Air Lines Inc.\",\"United Air Lines Inc.\",\"United Air Lines Inc.\",\"United Air Lines Inc.\",\"United Air Lines Inc.\",\"United Air Lines Inc.\",\"United Air Lines Inc.\",\"United Air Lines Inc.\",\"United Air Lines Inc.\",\"United Air Lines Inc.\",\"United Air Lines Inc.\",\"United Air Lines Inc.\",\"United Air Lines Inc.\",\"United Air Lines Inc.\",\"United Air Lines Inc.\",\"United Air Lines Inc.\",\"United Air Lines Inc.\",\"United Air Lines Inc.\",\"United Air Lines Inc.\",\"United Air Lines Inc.\",\"United Air Lines Inc.\",\"United Air Lines Inc.\",\"United Air Lines Inc.\",\"United Air Lines Inc.\",\"Virgin America\",\"Virgin America\",\"Virgin America\",\"Virgin America\",\"Virgin America\",\"Virgin America\",\"Virgin America\",\"Virgin America\",\"Virgin America\",\"Virgin America\",\"Virgin America\",\"Virgin America\",\"Virgin America\",\"Virgin America\",\"Virgin America\",\"Virgin America\",\"Virgin America\",\"Virgin America\",\"Virgin America\",\"Virgin America\",\"Virgin America\",\"Virgin America\",\"Virgin America\",\"Virgin America\",\"Virgin America\",\"Virgin America\",\"Virgin America\",\"Virgin America\",\"Virgin America\",\"Virgin America\",\"Virgin America\",\"Virgin America\",\"Virgin America\",\"Virgin America\",\"Virgin America\",\"Virgin America\"],\"proportion\":{\"__ndarray__\":\"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\",\"dtype\":\"float64\",\"shape\":[576]},\"right\":{\"__ndarray__\":\"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\",\"dtype\":\"float64\",\"shape\":[576]}},\"selected\":{\"id\":\"20da466e-70ad-4010-bd6d-f459ad74ac78\",\"type\":\"Selection\"},\"selection_policy\":{\"id\":\"7b02c554-a597-4bf1-8f6e-da72c14d148f\",\"type\":\"UnionRenderers\"}},\"id\":\"eef996ac-da9a-488e-b70d-a7bc458a2f6c\",\"type\":\"ColumnDataSource\"},{\"attributes\":{\"bottom\":{\"value\":0},\"fill_alpha\":{\"value\":0.1},\"fill_color\":{\"value\":\"#1f77b4\"},\"left\":{\"field\":\"left\"},\"line_alpha\":{\"value\":0.1},\"line_color\":{\"value\":\"#1f77b4\"},\"right\":{\"field\":\"right\"},\"top\":{\"field\":\"proportion\"}},\"id\":\"c671f891-515e-411d-a2a5-2a442607de1e\",\"type\":\"Quad\"},{\"attributes\":{},\"id\":\"064795a4-695c-4f56-b540-7875c60306aa\",\"type\":\"BasicTicker\"},{\"attributes\":{\"callback\":null},\"id\":\"d819210c-5bcd-4765-843b-59093956a7a1\",\"type\":\"DataRange1d\"},{\"attributes\":{},\"id\":\"42117796-e17b-4010-8a27-c6b883e7533d\",\"type\":\"BasicTickFormatter\"},{\"attributes\":{},\"id\":\"9015cd0c-070d-4afa-91e5-303ced6400dc\",\"type\":\"LinearScale\"},{\"attributes\":{\"bottom\":{\"value\":0},\"fill_alpha\":{\"value\":0.7},\"fill_color\":{\"field\":\"color\"},\"left\":{\"field\":\"left\"},\"right\":{\"field\":\"right\"},\"top\":{\"field\":\"proportion\"}},\"id\":\"d4c193d2-8da6-483f-80f0-b913e5b39687\",\"type\":\"Quad\"},{\"attributes\":{},\"id\":\"20da466e-70ad-4010-bd6d-f459ad74ac78\",\"type\":\"Selection\"},{\"attributes\":{\"source\":{\"id\":\"eef996ac-da9a-488e-b70d-a7bc458a2f6c\",\"type\":\"ColumnDataSource\"}},\"id\":\"40533a4c-44fa-4015-8842-e933419370ed\",\"type\":\"CDSView\"},{\"attributes\":{\"below\":[{\"id\":\"015e5b8e-9d31-403e-a66a-512eceaadabc\",\"type\":\"LinearAxis\"}],\"left\":[{\"id\":\"8943cc76-fb53-4b35-a585-59c683069064\",\"type\":\"LinearAxis\"}],\"plot_height\":700,\"plot_width\":700,\"renderers\":[{\"id\":\"015e5b8e-9d31-403e-a66a-512eceaadabc\",\"type\":\"LinearAxis\"},{\"id\":\"026b5181-62ce-4dcd-b60c-1b651885b6a6\",\"type\":\"Grid\"},{\"id\":\"8943cc76-fb53-4b35-a585-59c683069064\",\"type\":\"LinearAxis\"},{\"id\":\"1bad143b-e9e5-476e-b4f4-644b7529a9e0\",\"type\":\"Grid\"},{\"id\":\"de2de10d-2f1f-466c-a6cf-0b8ca9ea1906\",\"type\":\"BoxAnnotation\"},{\"id\":\"9f9ba32f-7581-4136-aaf7-a75551f36439\",\"type\":\"Legend\"},{\"id\":\"e62276ba-4be6-43cb-8e47-7c5933363660\",\"type\":\"GlyphRenderer\"}],\"title\":{\"id\":\"419d1cb7-ebd9-48c0-ae0f-dc4560b4c355\",\"type\":\"Title\"},\"toolbar\":{\"id\":\"ece5a4b4-a528-40e4-85f5-f353617ff4d7\",\"type\":\"Toolbar\"},\"x_range\":{\"id\":\"72580352-f2da-40f7-9a5a-c8f93d839bf6\",\"type\":\"DataRange1d\"},\"x_scale\":{\"id\":\"9015cd0c-070d-4afa-91e5-303ced6400dc\",\"type\":\"LinearScale\"},\"y_range\":{\"id\":\"d819210c-5bcd-4765-843b-59093956a7a1\",\"type\":\"DataRange1d\"},\"y_scale\":{\"id\":\"7161a1ef-f6cc-4f51-a887-f140344dff07\",\"type\":\"LinearScale\"}},\"id\":\"266a2ca5-4064-42c0-b2a3-c404b8df3f39\",\"subtype\":\"Figure\",\"type\":\"Plot\"},{\"attributes\":{},\"id\":\"7161a1ef-f6cc-4f51-a887-f140344dff07\",\"type\":\"LinearScale\"},{\"attributes\":{\"axis_label\":\"Delay (min)\",\"axis_label_text_font_size\":{\"value\":\"18pt\"},\"axis_label_text_font_style\":\"bold\",\"formatter\":{\"id\":\"375aa615-de37-4b87-a4f7-5b6c51e36507\",\"type\":\"BasicTickFormatter\"},\"major_label_text_font_size\":{\"value\":\"12pt\"},\"plot\":{\"id\":\"266a2ca5-4064-42c0-b2a3-c404b8df3f39\",\"subtype\":\"Figure\",\"type\":\"Plot\"},\"ticker\":{\"id\":\"064795a4-695c-4f56-b540-7875c60306aa\",\"type\":\"BasicTicker\"}},\"id\":\"015e5b8e-9d31-403e-a66a-512eceaadabc\",\"type\":\"LinearAxis\"},{\"attributes\":{\"bottom_units\":\"screen\",\"fill_alpha\":{\"value\":0.5},\"fill_color\":{\"value\":\"lightgrey\"},\"left_units\":\"screen\",\"level\":\"overlay\",\"line_alpha\":{\"value\":1.0},\"line_color\":{\"value\":\"black\"},\"line_dash\":[4,4],\"line_width\":{\"value\":2},\"plot\":null,\"render_mode\":\"css\",\"right_units\":\"screen\",\"top_units\":\"screen\"},\"id\":\"de2de10d-2f1f-466c-a6cf-0b8ca9ea1906\",\"type\":\"BoxAnnotation\"}],\"root_ids\":[\"266a2ca5-4064-42c0-b2a3-c404b8df3f39\"]},\"title\":\"Bokeh Application\",\"version\":\"0.13.0\"}};\n",
       "  var render_items = [{\"docid\":\"a3264e5b-d697-46e5-8cad-f25e1c51ce29\",\"roots\":{\"266a2ca5-4064-42c0-b2a3-c404b8df3f39\":\"f8dc1fbb-b2cc-4824-b2cb-1ef273316d1d\"}}];\n",
       "  root.Bokeh.embed.embed_items_notebook(docs_json, render_items);\n",
       "\n",
       "  }\n",
       "  if (root.Bokeh !== undefined) {\n",
       "    embed_document(root);\n",
       "  } else {\n",
       "    var attempts = 0;\n",
       "    var timer = setInterval(function(root) {\n",
       "      if (root.Bokeh !== undefined) {\n",
       "        embed_document(root);\n",
       "        clearInterval(timer);\n",
       "      }\n",
       "      attempts++;\n",
       "      if (attempts > 100) {\n",
       "        console.log(\"Bokeh: ERROR: Unable to run BokehJS code because BokehJS library is missing\")\n",
       "        clearInterval(timer);\n",
       "      }\n",
       "    }, 10, root)\n",
       "  }\n",
       "})(window);"
      ],
      "application/vnd.bokehjs_exec.v0+json": ""
     },
     "metadata": {
      "application/vnd.bokehjs_exec.v0+json": {
       "id": "266a2ca5-4064-42c0-b2a3-c404b8df3f39"
      }
     },
     "output_type": "display_data"
    }
   ],
   "source": [
    "# Change plot title to match selection\n",
    "bin_width = binwidth_select.value\n",
    "p.title.text = 'Delays with %d Minute Bin Width' % bin_width\n",
    "\n",
    "# Change axis label size\n",
    "p.xaxis.axis_label_text_font_size = '18pt'\n",
    "p.yaxis.axis_label_text_font_size = '18pt'\n",
    "        \n",
    "# Show the updated plot\n",
    "show(p)"
   ]
  },
  {
   "cell_type": "markdown",
   "metadata": {},
   "source": [
    "# Complete Plot"
   ]
  },
  {
   "cell_type": "code",
   "execution_count": 20,
   "metadata": {},
   "outputs": [],
   "source": [
    "def modify_doc(doc):\n",
    "    \n",
    "    def make_dataset(carrier_list, range_start = -60, range_end = 120, bin_width = 5):\n",
    "\n",
    "        by_carrier = pd.DataFrame(columns=['proportion', 'left', 'right', \n",
    "                                           'f_proportion', 'f_interval',\n",
    "                                           'name', 'color'])\n",
    "        range_extent = range_end - range_start\n",
    "\n",
    "        # Iterate through all the carriers\n",
    "        for i, carrier_name in enumerate(carrier_list):\n",
    "\n",
    "            # Subset to the carrier\n",
    "            subset = flights[flights['name'] == carrier_name]\n",
    "\n",
    "            # Create a histogram with 5 minute bins\n",
    "            arr_hist, edges = np.histogram(subset['arr_delay'], \n",
    "                                           bins = int(range_extent / bin_width), \n",
    "                                           range = [range_start, range_end])\n",
    "\n",
    "            # Divide the counts by the total to get a proportion\n",
    "            arr_df = pd.DataFrame({'proportion': arr_hist / np.sum(arr_hist), 'left': edges[:-1], 'right': edges[1:] })\n",
    "\n",
    "            # Format the proportion \n",
    "            arr_df['f_proportion'] = ['%0.5f' % proportion for proportion in arr_df['proportion']]\n",
    "\n",
    "            # Format the interval\n",
    "            arr_df['f_interval'] = ['%d to %d minutes' % (left, right) for left, right in zip(arr_df['left'], arr_df['right'])]\n",
    "\n",
    "            # Assign the carrier for labels\n",
    "            arr_df['name'] = carrier_name\n",
    "\n",
    "            # Color each carrier differently\n",
    "            arr_df['color'] = Category20_16[i]\n",
    "\n",
    "            # Add to the overall dataframe\n",
    "            by_carrier = by_carrier.append(arr_df)\n",
    "\n",
    "        # Overall dataframe\n",
    "        by_carrier = by_carrier.sort_values(['name', 'left'])\n",
    "\n",
    "        return ColumnDataSource(by_carrier)\n",
    "    \n",
    "    def style(p):\n",
    "        # Title \n",
    "        p.title.align = 'center'\n",
    "        p.title.text_font_size = '20pt'\n",
    "        p.title.text_font = 'serif'\n",
    "\n",
    "        # Axis titles\n",
    "        p.xaxis.axis_label_text_font_size = '14pt'\n",
    "        p.xaxis.axis_label_text_font_style = 'bold'\n",
    "        p.yaxis.axis_label_text_font_size = '14pt'\n",
    "        p.yaxis.axis_label_text_font_style = 'bold'\n",
    "\n",
    "        # Tick labels\n",
    "        p.xaxis.major_label_text_font_size = '12pt'\n",
    "        p.yaxis.major_label_text_font_size = '12pt'\n",
    "\n",
    "        return p\n",
    "    \n",
    "    def make_plot(src):\n",
    "        # Blank plot with correct labels\n",
    "        p = figure(plot_width = 700, plot_height = 700, \n",
    "                  title = 'Histogram of Arrival Delays by Carrier',\n",
    "                  x_axis_label = 'Delay (min)', y_axis_label = 'Proportion')\n",
    "\n",
    "        # Quad glyphs to create a histogram\n",
    "        p.quad(source = src, bottom = 0, top = 'proportion', left = 'left', right = 'right',\n",
    "               color = 'color', fill_alpha = 0.7, hover_fill_color = 'color', legend = 'name',\n",
    "               hover_fill_alpha = 1.0, line_color = 'black')\n",
    "\n",
    "        # Hover tool with vline mode\n",
    "        hover = HoverTool(tooltips=[('Carrier', '@name'), \n",
    "                                    ('Delay', '@f_interval'),\n",
    "                                    ('Proportion', '@f_proportion')],\n",
    "                          mode='vline')\n",
    "\n",
    "        p.add_tools(hover)\n",
    "\n",
    "        # Styling\n",
    "        p = style(p)\n",
    "\n",
    "        return p\n",
    "    \n",
    "    def update(attr, old, new):\n",
    "        carriers_to_plot = [carrier_selection.labels[i] for i in carrier_selection.active]\n",
    "        \n",
    "        new_src = make_dataset(carriers_to_plot,\n",
    "                               range_start = range_select.value[0],\n",
    "                               range_end = range_select.value[1],\n",
    "                               bin_width = binwidth_select.value)\n",
    "\n",
    "        src.data.update(new_src.data)\n",
    "\n",
    "        \n",
    "    carrier_selection = CheckboxGroup(labels=available_carriers, active = [0, 1])\n",
    "    carrier_selection.on_change('active', update)\n",
    "    \n",
    "    binwidth_select = Slider(start = 1, end = 30, \n",
    "                         step = 1, value = 5,\n",
    "                         title = 'Delay Width (min)')\n",
    "    binwidth_select.on_change('value', update)\n",
    "    \n",
    "    range_select = RangeSlider(start = -60, end = 180, value = (-60, 120),\n",
    "                               step = 5, title = 'Delay Range (min)')\n",
    "    range_select.on_change('value', update)\n",
    "    \n",
    "    \n",
    "    \n",
    "    initial_carriers = [carrier_selection.labels[i] for i in carrier_selection.active]\n",
    "    \n",
    "    src = make_dataset(initial_carriers,\n",
    "                      range_start = range_select.value[0],\n",
    "                      range_end = range_select.value[1],\n",
    "                      bin_width = binwidth_select.value)\n",
    "    \n",
    "    p = make_plot(src)\n",
    "    \n",
    "    # Put controls in a single element\n",
    "    controls = WidgetBox(carrier_selection, binwidth_select, range_select)\n",
    "    \n",
    "    # Create a row layout\n",
    "    layout = row(controls, p)\n",
    "    \n",
    "    # Make a tab with the layout \n",
    "    tab = Panel(child=layout, title = 'Delay Histogram')\n",
    "    tabs = Tabs(tabs=[tab])\n",
    "    \n",
    "    doc.add_root(tabs)\n",
    "    \n",
    "# Set up an application\n",
    "handler = FunctionHandler(modify_doc)\n",
    "app = Application(handler)"
   ]
  },
  {
   "cell_type": "code",
   "execution_count": 21,
   "metadata": {},
   "outputs": [
    {
     "data": {
      "application/vnd.bokehjs_exec.v0+json": "",
      "text/html": [
       "\n",
       "<script src=\"http://localhost:42141/autoload.js?bokeh-autoload-element=241a2faa-5bda-4c5f-bc66-79d02ab72abf&bokeh-absolute-url=http://localhost:42141&resources=none\" id=\"241a2faa-5bda-4c5f-bc66-79d02ab72abf\"></script>"
      ]
     },
     "metadata": {
      "application/vnd.bokehjs_exec.v0+json": {
       "server_id": "06a1fdfbb5d345028132aaecc8fe101b"
      }
     },
     "output_type": "display_data"
    }
   ],
   "source": [
    "show(app)"
   ]
  },
  {
   "cell_type": "code",
   "execution_count": 22,
   "metadata": {},
   "outputs": [
    {
     "ename": "ValueError",
     "evalue": "Input must be a Model, a Document, or a Sequence of Models and Document",
     "output_type": "error",
     "traceback": [
      "\u001b[0;31m---------------------------------------------------------------------------\u001b[0m",
      "\u001b[0;31mValueError\u001b[0m                                Traceback (most recent call last)",
      "\u001b[0;32m<ipython-input-22-11f52ef66ba9>\u001b[0m in \u001b[0;36m<module>\u001b[0;34m\u001b[0m\n\u001b[1;32m      2\u001b[0m \u001b[0;32mfrom\u001b[0m \u001b[0mbokeh\u001b[0m\u001b[0;34m.\u001b[0m\u001b[0mresources\u001b[0m \u001b[0;32mimport\u001b[0m \u001b[0mCDN\u001b[0m\u001b[0;34m\u001b[0m\u001b[0m\n\u001b[1;32m      3\u001b[0m \u001b[0;32mfrom\u001b[0m \u001b[0mbokeh\u001b[0m\u001b[0;34m.\u001b[0m\u001b[0membed\u001b[0m \u001b[0;32mimport\u001b[0m \u001b[0mfile_html\u001b[0m\u001b[0;34m\u001b[0m\u001b[0m\n\u001b[0;32m----> 4\u001b[0;31m \u001b[0mhtml\u001b[0m \u001b[0;34m=\u001b[0m \u001b[0mfile_html\u001b[0m\u001b[0;34m(\u001b[0m\u001b[0mhandler\u001b[0m\u001b[0;34m,\u001b[0m \u001b[0mCDN\u001b[0m\u001b[0;34m,\u001b[0m \u001b[0;34m\"my plot\"\u001b[0m\u001b[0;34m)\u001b[0m\u001b[0;34m\u001b[0m\u001b[0m\n\u001b[0m",
      "\u001b[0;32m~/anaconda3/lib/python3.6/site-packages/bokeh/embed/standalone.py\u001b[0m in \u001b[0;36mfile_html\u001b[0;34m(models, resources, title, template, template_variables, theme)\u001b[0m\n\u001b[1;32m    276\u001b[0m \u001b[0;34m\u001b[0m\u001b[0m\n\u001b[1;32m    277\u001b[0m     '''\n\u001b[0;32m--> 278\u001b[0;31m     \u001b[0mmodels\u001b[0m \u001b[0;34m=\u001b[0m \u001b[0mcheck_models_or_docs\u001b[0m\u001b[0;34m(\u001b[0m\u001b[0mmodels\u001b[0m\u001b[0;34m)\u001b[0m\u001b[0;34m\u001b[0m\u001b[0m\n\u001b[0m\u001b[1;32m    279\u001b[0m \u001b[0;34m\u001b[0m\u001b[0m\n\u001b[1;32m    280\u001b[0m     \u001b[0;32mwith\u001b[0m \u001b[0m_ModelInDocument\u001b[0m\u001b[0;34m(\u001b[0m\u001b[0mmodels\u001b[0m\u001b[0;34m,\u001b[0m \u001b[0mapply_theme\u001b[0m\u001b[0;34m=\u001b[0m\u001b[0mtheme\u001b[0m\u001b[0;34m)\u001b[0m \u001b[0;32mas\u001b[0m \u001b[0mdoc\u001b[0m\u001b[0;34m:\u001b[0m\u001b[0;34m\u001b[0m\u001b[0m\n",
      "\u001b[0;32m~/anaconda3/lib/python3.6/site-packages/bokeh/embed/util.py\u001b[0m in \u001b[0;36mcheck_models_or_docs\u001b[0;34m(models, allow_dict)\u001b[0m\n\u001b[1;32m     83\u001b[0m             )\n\u001b[1;32m     84\u001b[0m         \u001b[0;32melse\u001b[0m\u001b[0;34m:\u001b[0m\u001b[0;34m\u001b[0m\u001b[0m\n\u001b[0;32m---> 85\u001b[0;31m             \u001b[0;32mraise\u001b[0m \u001b[0mValueError\u001b[0m\u001b[0;34m(\u001b[0m\u001b[0;34m'Input must be a Model, a Document, or a Sequence of Models and Document'\u001b[0m\u001b[0;34m)\u001b[0m\u001b[0;34m\u001b[0m\u001b[0m\n\u001b[0m\u001b[1;32m     86\u001b[0m \u001b[0;34m\u001b[0m\u001b[0m\n\u001b[1;32m     87\u001b[0m     \u001b[0;32mreturn\u001b[0m \u001b[0mmodels\u001b[0m\u001b[0;34m\u001b[0m\u001b[0m\n",
      "\u001b[0;31mValueError\u001b[0m: Input must be a Model, a Document, or a Sequence of Models and Document"
     ]
    },
    {
     "name": "stderr",
     "output_type": "stream",
     "text": [
      "ERROR:bokeh.server.views.ws:Refusing websocket connection from Origin 'file://';                       use --allow-websocket-origin= to permit this; currently we allow origins {'localhost:8888'}\n",
      "WARNING:tornado.access:403 GET /ws?bokeh-protocol-version=1.0&bokeh-session-id=NvjmeO6JRL9V13T2QB73iV5CcoJGtLYw2ej2YkL5MxpR (::1) 1.31ms\n",
      "ERROR:bokeh.server.views.ws:Refusing websocket connection from Origin 'file://';                       use --allow-websocket-origin= to permit this; currently we allow origins {'localhost:8888'}\n",
      "WARNING:tornado.access:403 GET /ws?bokeh-protocol-version=1.0&bokeh-session-id=jG8Bk83bD8F0K7z95yPhUmEWV1hRY1foYO4Px9I8aGi7 (::1) 1.09ms\n"
     ]
    }
   ],
   "source": [
    "from bokeh.plotting import figure\n",
    "from bokeh.resources import CDN\n",
    "from bokeh.embed import file_html\n",
    "html = file_html(handler, CDN, \"my plot\")"
   ]
  },
  {
   "cell_type": "code",
   "execution_count": null,
   "metadata": {},
   "outputs": [],
   "source": []
  }
 ],
 "metadata": {
  "kernelspec": {
   "display_name": "Python 3",
   "language": "python",
   "name": "python3"
  },
  "language_info": {
   "codemirror_mode": {
    "name": "ipython",
    "version": 3
   },
   "file_extension": ".py",
   "mimetype": "text/x-python",
   "name": "python",
   "nbconvert_exporter": "python",
   "pygments_lexer": "ipython3",
   "version": "3.6.6"
  }
 },
 "nbformat": 4,
 "nbformat_minor": 2
}
