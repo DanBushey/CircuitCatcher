{
 "cells": [
  {
   "cell_type": "markdown",
   "metadata": {},
   "source": [
    "# Starting out with Bokeh\n",
    "\n",
    "## Histogram of Flight Delays\n",
    "\n",
    "In this notebook, we will get our first experience with [Bokeh](https://bokeh.pydata.org/en/latest/), a powerful plotting library in Python. Throughout this series of notebooks, we will use the [nycflights13](https://cran.r-project.org/web/packages/nycflights13/nycflights13.pdf) dataset. "
   ]
  },
  {
   "cell_type": "code",
   "execution_count": 1,
   "metadata": {},
   "outputs": [],
   "source": [
    "# Pandas for data manipulation,\n",
    "import pandas as pd\n",
    "import numpy as np"
   ]
  },
  {
   "cell_type": "markdown",
   "metadata": {},
   "source": [
    "## Basic Glyphs"
   ]
  },
  {
   "cell_type": "code",
   "execution_count": 2,
   "metadata": {
    "scrolled": false
   },
   "outputs": [
    {
     "data": {
      "text/html": [
       "\n",
       "    <div class=\"bk-root\">\n",
       "        <a href=\"https://bokeh.pydata.org\" target=\"_blank\" class=\"bk-logo bk-logo-small bk-logo-notebook\"></a>\n",
       "        <span id=\"73a1a62c-cadb-4280-88e5-f85f5103d43f\">Loading BokehJS ...</span>\n",
       "    </div>"
      ]
     },
     "metadata": {},
     "output_type": "display_data"
    },
    {
     "data": {
      "application/javascript": [
       "\n",
       "(function(root) {\n",
       "  function now() {\n",
       "    return new Date();\n",
       "  }\n",
       "\n",
       "  var force = true;\n",
       "\n",
       "  if (typeof (root._bokeh_onload_callbacks) === \"undefined\" || force === true) {\n",
       "    root._bokeh_onload_callbacks = [];\n",
       "    root._bokeh_is_loading = undefined;\n",
       "  }\n",
       "\n",
       "  var JS_MIME_TYPE = 'application/javascript';\n",
       "  var HTML_MIME_TYPE = 'text/html';\n",
       "  var EXEC_MIME_TYPE = 'application/vnd.bokehjs_exec.v0+json';\n",
       "  var CLASS_NAME = 'output_bokeh rendered_html';\n",
       "\n",
       "  /**\n",
       "   * Render data to the DOM node\n",
       "   */\n",
       "  function render(props, node) {\n",
       "    var script = document.createElement(\"script\");\n",
       "    node.appendChild(script);\n",
       "  }\n",
       "\n",
       "  /**\n",
       "   * Handle when an output is cleared or removed\n",
       "   */\n",
       "  function handleClearOutput(event, handle) {\n",
       "    var cell = handle.cell;\n",
       "\n",
       "    var id = cell.output_area._bokeh_element_id;\n",
       "    var server_id = cell.output_area._bokeh_server_id;\n",
       "    // Clean up Bokeh references\n",
       "    if (id !== undefined) {\n",
       "      Bokeh.index[id].model.document.clear();\n",
       "      delete Bokeh.index[id];\n",
       "    }\n",
       "\n",
       "    if (server_id !== undefined) {\n",
       "      // Clean up Bokeh references\n",
       "      var cmd = \"from bokeh.io.state import curstate; print(curstate().uuid_to_server['\" + server_id + \"'].get_sessions()[0].document.roots[0]._id)\";\n",
       "      cell.notebook.kernel.execute(cmd, {\n",
       "        iopub: {\n",
       "          output: function(msg) {\n",
       "            var element_id = msg.content.text.trim();\n",
       "            Bokeh.index[element_id].model.document.clear();\n",
       "            delete Bokeh.index[element_id];\n",
       "          }\n",
       "        }\n",
       "      });\n",
       "      // Destroy server and session\n",
       "      var cmd = \"import bokeh.io.notebook as ion; ion.destroy_server('\" + server_id + \"')\";\n",
       "      cell.notebook.kernel.execute(cmd);\n",
       "    }\n",
       "  }\n",
       "\n",
       "  /**\n",
       "   * Handle when a new output is added\n",
       "   */\n",
       "  function handleAddOutput(event, handle) {\n",
       "    var output_area = handle.output_area;\n",
       "    var output = handle.output;\n",
       "\n",
       "    // limit handleAddOutput to display_data with EXEC_MIME_TYPE content only\n",
       "    if ((output.output_type != \"display_data\") || (!output.data.hasOwnProperty(EXEC_MIME_TYPE))) {\n",
       "      return\n",
       "    }\n",
       "\n",
       "    var toinsert = output_area.element.find(\".\" + CLASS_NAME.split(' ')[0]);\n",
       "\n",
       "    if (output.metadata[EXEC_MIME_TYPE][\"id\"] !== undefined) {\n",
       "      toinsert[0].firstChild.textContent = output.data[JS_MIME_TYPE];\n",
       "      // store reference to embed id on output_area\n",
       "      output_area._bokeh_element_id = output.metadata[EXEC_MIME_TYPE][\"id\"];\n",
       "    }\n",
       "    if (output.metadata[EXEC_MIME_TYPE][\"server_id\"] !== undefined) {\n",
       "      var bk_div = document.createElement(\"div\");\n",
       "      bk_div.innerHTML = output.data[HTML_MIME_TYPE];\n",
       "      var script_attrs = bk_div.children[0].attributes;\n",
       "      for (var i = 0; i < script_attrs.length; i++) {\n",
       "        toinsert[0].firstChild.setAttribute(script_attrs[i].name, script_attrs[i].value);\n",
       "      }\n",
       "      // store reference to server id on output_area\n",
       "      output_area._bokeh_server_id = output.metadata[EXEC_MIME_TYPE][\"server_id\"];\n",
       "    }\n",
       "  }\n",
       "\n",
       "  function register_renderer(events, OutputArea) {\n",
       "\n",
       "    function append_mime(data, metadata, element) {\n",
       "      // create a DOM node to render to\n",
       "      var toinsert = this.create_output_subarea(\n",
       "        metadata,\n",
       "        CLASS_NAME,\n",
       "        EXEC_MIME_TYPE\n",
       "      );\n",
       "      this.keyboard_manager.register_events(toinsert);\n",
       "      // Render to node\n",
       "      var props = {data: data, metadata: metadata[EXEC_MIME_TYPE]};\n",
       "      render(props, toinsert[0]);\n",
       "      element.append(toinsert);\n",
       "      return toinsert\n",
       "    }\n",
       "\n",
       "    /* Handle when an output is cleared or removed */\n",
       "    events.on('clear_output.CodeCell', handleClearOutput);\n",
       "    events.on('delete.Cell', handleClearOutput);\n",
       "\n",
       "    /* Handle when a new output is added */\n",
       "    events.on('output_added.OutputArea', handleAddOutput);\n",
       "\n",
       "    /**\n",
       "     * Register the mime type and append_mime function with output_area\n",
       "     */\n",
       "    OutputArea.prototype.register_mime_type(EXEC_MIME_TYPE, append_mime, {\n",
       "      /* Is output safe? */\n",
       "      safe: true,\n",
       "      /* Index of renderer in `output_area.display_order` */\n",
       "      index: 0\n",
       "    });\n",
       "  }\n",
       "\n",
       "  // register the mime type if in Jupyter Notebook environment and previously unregistered\n",
       "  if (root.Jupyter !== undefined) {\n",
       "    var events = require('base/js/events');\n",
       "    var OutputArea = require('notebook/js/outputarea').OutputArea;\n",
       "\n",
       "    if (OutputArea.prototype.mime_types().indexOf(EXEC_MIME_TYPE) == -1) {\n",
       "      register_renderer(events, OutputArea);\n",
       "    }\n",
       "  }\n",
       "\n",
       "  \n",
       "  if (typeof (root._bokeh_timeout) === \"undefined\" || force === true) {\n",
       "    root._bokeh_timeout = Date.now() + 5000;\n",
       "    root._bokeh_failed_load = false;\n",
       "  }\n",
       "\n",
       "  var NB_LOAD_WARNING = {'data': {'text/html':\n",
       "     \"<div style='background-color: #fdd'>\\n\"+\n",
       "     \"<p>\\n\"+\n",
       "     \"BokehJS does not appear to have successfully loaded. If loading BokehJS from CDN, this \\n\"+\n",
       "     \"may be due to a slow or bad network connection. Possible fixes:\\n\"+\n",
       "     \"</p>\\n\"+\n",
       "     \"<ul>\\n\"+\n",
       "     \"<li>re-rerun `output_notebook()` to attempt to load from CDN again, or</li>\\n\"+\n",
       "     \"<li>use INLINE resources instead, as so:</li>\\n\"+\n",
       "     \"</ul>\\n\"+\n",
       "     \"<code>\\n\"+\n",
       "     \"from bokeh.resources import INLINE\\n\"+\n",
       "     \"output_notebook(resources=INLINE)\\n\"+\n",
       "     \"</code>\\n\"+\n",
       "     \"</div>\"}};\n",
       "\n",
       "  function display_loaded() {\n",
       "    var el = document.getElementById(\"73a1a62c-cadb-4280-88e5-f85f5103d43f\");\n",
       "    if (el != null) {\n",
       "      el.textContent = \"BokehJS is loading...\";\n",
       "    }\n",
       "    if (root.Bokeh !== undefined) {\n",
       "      if (el != null) {\n",
       "        el.textContent = \"BokehJS \" + root.Bokeh.version + \" successfully loaded.\";\n",
       "      }\n",
       "    } else if (Date.now() < root._bokeh_timeout) {\n",
       "      setTimeout(display_loaded, 100)\n",
       "    }\n",
       "  }\n",
       "\n",
       "\n",
       "  function run_callbacks() {\n",
       "    try {\n",
       "      root._bokeh_onload_callbacks.forEach(function(callback) { callback() });\n",
       "    }\n",
       "    finally {\n",
       "      delete root._bokeh_onload_callbacks\n",
       "    }\n",
       "    console.info(\"Bokeh: all callbacks have finished\");\n",
       "  }\n",
       "\n",
       "  function load_libs(js_urls, callback) {\n",
       "    root._bokeh_onload_callbacks.push(callback);\n",
       "    if (root._bokeh_is_loading > 0) {\n",
       "      console.log(\"Bokeh: BokehJS is being loaded, scheduling callback at\", now());\n",
       "      return null;\n",
       "    }\n",
       "    if (js_urls == null || js_urls.length === 0) {\n",
       "      run_callbacks();\n",
       "      return null;\n",
       "    }\n",
       "    console.log(\"Bokeh: BokehJS not loaded, scheduling load and callback at\", now());\n",
       "    root._bokeh_is_loading = js_urls.length;\n",
       "    for (var i = 0; i < js_urls.length; i++) {\n",
       "      var url = js_urls[i];\n",
       "      var s = document.createElement('script');\n",
       "      s.src = url;\n",
       "      s.async = false;\n",
       "      s.onreadystatechange = s.onload = function() {\n",
       "        root._bokeh_is_loading--;\n",
       "        if (root._bokeh_is_loading === 0) {\n",
       "          console.log(\"Bokeh: all BokehJS libraries loaded\");\n",
       "          run_callbacks()\n",
       "        }\n",
       "      };\n",
       "      s.onerror = function() {\n",
       "        console.warn(\"failed to load library \" + url);\n",
       "      };\n",
       "      console.log(\"Bokeh: injecting script tag for BokehJS library: \", url);\n",
       "      document.getElementsByTagName(\"head\")[0].appendChild(s);\n",
       "    }\n",
       "  };var element = document.getElementById(\"73a1a62c-cadb-4280-88e5-f85f5103d43f\");\n",
       "  if (element == null) {\n",
       "    console.log(\"Bokeh: ERROR: autoload.js configured with elementid '73a1a62c-cadb-4280-88e5-f85f5103d43f' but no matching script tag was found. \")\n",
       "    return false;\n",
       "  }\n",
       "\n",
       "  var js_urls = [\"https://cdn.pydata.org/bokeh/release/bokeh-0.12.14.min.js\", \"https://cdn.pydata.org/bokeh/release/bokeh-widgets-0.12.14.min.js\", \"https://cdn.pydata.org/bokeh/release/bokeh-tables-0.12.14.min.js\", \"https://cdn.pydata.org/bokeh/release/bokeh-gl-0.12.14.min.js\"];\n",
       "\n",
       "  var inline_js = [\n",
       "    function(Bokeh) {\n",
       "      Bokeh.set_log_level(\"info\");\n",
       "    },\n",
       "    \n",
       "    function(Bokeh) {\n",
       "      \n",
       "    },\n",
       "    function(Bokeh) {\n",
       "      console.log(\"Bokeh: injecting CSS: https://cdn.pydata.org/bokeh/release/bokeh-0.12.14.min.css\");\n",
       "      Bokeh.embed.inject_css(\"https://cdn.pydata.org/bokeh/release/bokeh-0.12.14.min.css\");\n",
       "      console.log(\"Bokeh: injecting CSS: https://cdn.pydata.org/bokeh/release/bokeh-widgets-0.12.14.min.css\");\n",
       "      Bokeh.embed.inject_css(\"https://cdn.pydata.org/bokeh/release/bokeh-widgets-0.12.14.min.css\");\n",
       "      console.log(\"Bokeh: injecting CSS: https://cdn.pydata.org/bokeh/release/bokeh-tables-0.12.14.min.css\");\n",
       "      Bokeh.embed.inject_css(\"https://cdn.pydata.org/bokeh/release/bokeh-tables-0.12.14.min.css\");\n",
       "    }\n",
       "  ];\n",
       "\n",
       "  function run_inline_js() {\n",
       "    \n",
       "    if ((root.Bokeh !== undefined) || (force === true)) {\n",
       "      for (var i = 0; i < inline_js.length; i++) {\n",
       "        inline_js[i].call(root, root.Bokeh);\n",
       "      }if (force === true) {\n",
       "        display_loaded();\n",
       "      }} else if (Date.now() < root._bokeh_timeout) {\n",
       "      setTimeout(run_inline_js, 100);\n",
       "    } else if (!root._bokeh_failed_load) {\n",
       "      console.log(\"Bokeh: BokehJS failed to load within specified timeout.\");\n",
       "      root._bokeh_failed_load = true;\n",
       "    } else if (force !== true) {\n",
       "      var cell = $(document.getElementById(\"73a1a62c-cadb-4280-88e5-f85f5103d43f\")).parents('.cell').data().cell;\n",
       "      cell.output_area.append_execute_result(NB_LOAD_WARNING)\n",
       "    }\n",
       "\n",
       "  }\n",
       "\n",
       "  if (root._bokeh_is_loading === 0) {\n",
       "    console.log(\"Bokeh: BokehJS loaded, going straight to plotting\");\n",
       "    run_inline_js();\n",
       "  } else {\n",
       "    load_libs(js_urls, function() {\n",
       "      console.log(\"Bokeh: BokehJS plotting callback run at\", now());\n",
       "      run_inline_js();\n",
       "    });\n",
       "  }\n",
       "}(window));"
      ],
      "application/vnd.bokehjs_load.v0+json": "\n(function(root) {\n  function now() {\n    return new Date();\n  }\n\n  var force = true;\n\n  if (typeof (root._bokeh_onload_callbacks) === \"undefined\" || force === true) {\n    root._bokeh_onload_callbacks = [];\n    root._bokeh_is_loading = undefined;\n  }\n\n  \n\n  \n  if (typeof (root._bokeh_timeout) === \"undefined\" || force === true) {\n    root._bokeh_timeout = Date.now() + 5000;\n    root._bokeh_failed_load = false;\n  }\n\n  var NB_LOAD_WARNING = {'data': {'text/html':\n     \"<div style='background-color: #fdd'>\\n\"+\n     \"<p>\\n\"+\n     \"BokehJS does not appear to have successfully loaded. If loading BokehJS from CDN, this \\n\"+\n     \"may be due to a slow or bad network connection. Possible fixes:\\n\"+\n     \"</p>\\n\"+\n     \"<ul>\\n\"+\n     \"<li>re-rerun `output_notebook()` to attempt to load from CDN again, or</li>\\n\"+\n     \"<li>use INLINE resources instead, as so:</li>\\n\"+\n     \"</ul>\\n\"+\n     \"<code>\\n\"+\n     \"from bokeh.resources import INLINE\\n\"+\n     \"output_notebook(resources=INLINE)\\n\"+\n     \"</code>\\n\"+\n     \"</div>\"}};\n\n  function display_loaded() {\n    var el = document.getElementById(\"73a1a62c-cadb-4280-88e5-f85f5103d43f\");\n    if (el != null) {\n      el.textContent = \"BokehJS is loading...\";\n    }\n    if (root.Bokeh !== undefined) {\n      if (el != null) {\n        el.textContent = \"BokehJS \" + root.Bokeh.version + \" successfully loaded.\";\n      }\n    } else if (Date.now() < root._bokeh_timeout) {\n      setTimeout(display_loaded, 100)\n    }\n  }\n\n\n  function run_callbacks() {\n    try {\n      root._bokeh_onload_callbacks.forEach(function(callback) { callback() });\n    }\n    finally {\n      delete root._bokeh_onload_callbacks\n    }\n    console.info(\"Bokeh: all callbacks have finished\");\n  }\n\n  function load_libs(js_urls, callback) {\n    root._bokeh_onload_callbacks.push(callback);\n    if (root._bokeh_is_loading > 0) {\n      console.log(\"Bokeh: BokehJS is being loaded, scheduling callback at\", now());\n      return null;\n    }\n    if (js_urls == null || js_urls.length === 0) {\n      run_callbacks();\n      return null;\n    }\n    console.log(\"Bokeh: BokehJS not loaded, scheduling load and callback at\", now());\n    root._bokeh_is_loading = js_urls.length;\n    for (var i = 0; i < js_urls.length; i++) {\n      var url = js_urls[i];\n      var s = document.createElement('script');\n      s.src = url;\n      s.async = false;\n      s.onreadystatechange = s.onload = function() {\n        root._bokeh_is_loading--;\n        if (root._bokeh_is_loading === 0) {\n          console.log(\"Bokeh: all BokehJS libraries loaded\");\n          run_callbacks()\n        }\n      };\n      s.onerror = function() {\n        console.warn(\"failed to load library \" + url);\n      };\n      console.log(\"Bokeh: injecting script tag for BokehJS library: \", url);\n      document.getElementsByTagName(\"head\")[0].appendChild(s);\n    }\n  };var element = document.getElementById(\"73a1a62c-cadb-4280-88e5-f85f5103d43f\");\n  if (element == null) {\n    console.log(\"Bokeh: ERROR: autoload.js configured with elementid '73a1a62c-cadb-4280-88e5-f85f5103d43f' but no matching script tag was found. \")\n    return false;\n  }\n\n  var js_urls = [\"https://cdn.pydata.org/bokeh/release/bokeh-0.12.14.min.js\", \"https://cdn.pydata.org/bokeh/release/bokeh-widgets-0.12.14.min.js\", \"https://cdn.pydata.org/bokeh/release/bokeh-tables-0.12.14.min.js\", \"https://cdn.pydata.org/bokeh/release/bokeh-gl-0.12.14.min.js\"];\n\n  var inline_js = [\n    function(Bokeh) {\n      Bokeh.set_log_level(\"info\");\n    },\n    \n    function(Bokeh) {\n      \n    },\n    function(Bokeh) {\n      console.log(\"Bokeh: injecting CSS: https://cdn.pydata.org/bokeh/release/bokeh-0.12.14.min.css\");\n      Bokeh.embed.inject_css(\"https://cdn.pydata.org/bokeh/release/bokeh-0.12.14.min.css\");\n      console.log(\"Bokeh: injecting CSS: https://cdn.pydata.org/bokeh/release/bokeh-widgets-0.12.14.min.css\");\n      Bokeh.embed.inject_css(\"https://cdn.pydata.org/bokeh/release/bokeh-widgets-0.12.14.min.css\");\n      console.log(\"Bokeh: injecting CSS: https://cdn.pydata.org/bokeh/release/bokeh-tables-0.12.14.min.css\");\n      Bokeh.embed.inject_css(\"https://cdn.pydata.org/bokeh/release/bokeh-tables-0.12.14.min.css\");\n    }\n  ];\n\n  function run_inline_js() {\n    \n    if ((root.Bokeh !== undefined) || (force === true)) {\n      for (var i = 0; i < inline_js.length; i++) {\n        inline_js[i].call(root, root.Bokeh);\n      }if (force === true) {\n        display_loaded();\n      }} else if (Date.now() < root._bokeh_timeout) {\n      setTimeout(run_inline_js, 100);\n    } else if (!root._bokeh_failed_load) {\n      console.log(\"Bokeh: BokehJS failed to load within specified timeout.\");\n      root._bokeh_failed_load = true;\n    } else if (force !== true) {\n      var cell = $(document.getElementById(\"73a1a62c-cadb-4280-88e5-f85f5103d43f\")).parents('.cell').data().cell;\n      cell.output_area.append_execute_result(NB_LOAD_WARNING)\n    }\n\n  }\n\n  if (root._bokeh_is_loading === 0) {\n    console.log(\"Bokeh: BokehJS loaded, going straight to plotting\");\n    run_inline_js();\n  } else {\n    load_libs(js_urls, function() {\n      console.log(\"Bokeh: BokehJS plotting callback run at\", now());\n      run_inline_js();\n    });\n  }\n}(window));"
     },
     "metadata": {},
     "output_type": "display_data"
    },
    {
     "data": {
      "text/html": [
       "\n",
       "<div class=\"bk-root\">\n",
       "    <div class=\"bk-plotdiv\" id=\"7a4ebecb-639c-4c47-aee9-ba3795887016\"></div>\n",
       "</div>"
      ]
     },
     "metadata": {},
     "output_type": "display_data"
    },
    {
     "data": {
      "application/javascript": [
       "(function(root) {\n",
       "  function embed_document(root) {\n",
       "    \n",
       "  var docs_json = {\"76779fd8-adfa-4cba-944a-a7fbdf006b24\":{\"roots\":{\"references\":[{\"attributes\":{},\"id\":\"fde651a6-b0ae-4ad0-8ca1-7a6162747269\",\"type\":\"PanTool\"},{\"attributes\":{},\"id\":\"cbcf1b79-1992-4ce3-b322-15dc18a65236\",\"type\":\"WheelZoomTool\"},{\"attributes\":{},\"id\":\"f955852d-d9da-4a76-8f14-eb1d86cf1df8\",\"type\":\"BasicTickFormatter\"},{\"attributes\":{\"overlay\":{\"id\":\"9f99a3a8-e6f7-41a5-90b8-1bede8d873b0\",\"type\":\"BoxAnnotation\"}},\"id\":\"f22aa81b-5ee0-41f5-aa07-2957a06e6801\",\"type\":\"BoxZoomTool\"},{\"attributes\":{},\"id\":\"4087261f-cdce-4c41-b816-24d2784a44ec\",\"type\":\"SaveTool\"},{\"attributes\":{},\"id\":\"20ebb589-4b90-463e-beb9-39b456680e31\",\"type\":\"BasicTickFormatter\"},{\"attributes\":{},\"id\":\"1b652398-5250-4007-89fe-e3f14d5269b0\",\"type\":\"ResetTool\"},{\"attributes\":{},\"id\":\"ba8eedb2-287a-4c63-9ffa-ff737a231b08\",\"type\":\"HelpTool\"},{\"attributes\":{\"fill_alpha\":{\"value\":0.1},\"fill_color\":{\"value\":\"#1f77b4\"},\"line_alpha\":{\"value\":0.1},\"line_color\":{\"value\":\"#1f77b4\"},\"size\":{\"units\":\"screen\",\"value\":12},\"x\":{\"field\":\"x\"},\"y\":{\"field\":\"y\"}},\"id\":\"7678bc68-0ee1-46ac-b529-19130fb68576\",\"type\":\"Circle\"},{\"attributes\":{\"fill_color\":{\"value\":\"red\"},\"line_color\":{\"value\":\"red\"},\"size\":{\"units\":\"screen\",\"value\":12},\"x\":{\"field\":\"x\"},\"y\":{\"field\":\"y\"}},\"id\":\"47365446-8954-463d-8a8b-c54caa784434\",\"type\":\"Circle\"},{\"attributes\":{\"source\":{\"id\":\"3e3a2d29-e8e5-48a9-a191-ffc1ad5fb955\",\"type\":\"ColumnDataSource\"}},\"id\":\"1be71389-07b3-4547-ae1f-69154af4d788\",\"type\":\"CDSView\"},{\"attributes\":{\"active_drag\":\"auto\",\"active_inspect\":\"auto\",\"active_scroll\":\"auto\",\"active_tap\":\"auto\",\"tools\":[{\"id\":\"fde651a6-b0ae-4ad0-8ca1-7a6162747269\",\"type\":\"PanTool\"},{\"id\":\"cbcf1b79-1992-4ce3-b322-15dc18a65236\",\"type\":\"WheelZoomTool\"},{\"id\":\"f22aa81b-5ee0-41f5-aa07-2957a06e6801\",\"type\":\"BoxZoomTool\"},{\"id\":\"4087261f-cdce-4c41-b816-24d2784a44ec\",\"type\":\"SaveTool\"},{\"id\":\"1b652398-5250-4007-89fe-e3f14d5269b0\",\"type\":\"ResetTool\"},{\"id\":\"ba8eedb2-287a-4c63-9ffa-ff737a231b08\",\"type\":\"HelpTool\"}]},\"id\":\"4a4307aa-0c68-4587-94b0-6f17bfaba978\",\"type\":\"Toolbar\"},{\"attributes\":{\"data_source\":{\"id\":\"3e3a2d29-e8e5-48a9-a191-ffc1ad5fb955\",\"type\":\"ColumnDataSource\"},\"glyph\":{\"id\":\"47365446-8954-463d-8a8b-c54caa784434\",\"type\":\"Circle\"},\"hover_glyph\":null,\"muted_glyph\":null,\"nonselection_glyph\":{\"id\":\"7678bc68-0ee1-46ac-b529-19130fb68576\",\"type\":\"Circle\"},\"selection_glyph\":null,\"view\":{\"id\":\"1be71389-07b3-4547-ae1f-69154af4d788\",\"type\":\"CDSView\"}},\"id\":\"d6796c87-29c3-4725-9e61-0d8347062ad0\",\"type\":\"GlyphRenderer\"},{\"attributes\":{\"callback\":null},\"id\":\"8cc0a4c2-55e5-4ecb-92ab-4717e155f409\",\"type\":\"DataRange1d\"},{\"attributes\":{},\"id\":\"51081bec-5745-4c8f-acaf-aac0f698a890\",\"type\":\"LinearScale\"},{\"attributes\":{\"callback\":null,\"column_names\":[\"x\",\"y\"],\"data\":{\"x\":[1,3,4,5,8],\"y\":[8,7,3,1,10]}},\"id\":\"c0afe63c-9970-41c7-bfdd-15038f403005\",\"type\":\"ColumnDataSource\"},{\"attributes\":{},\"id\":\"28c95fb1-399f-477c-b6f8-13f006c49d15\",\"type\":\"BasicTicker\"},{\"attributes\":{\"callback\":null},\"id\":\"38b7c312-4b09-4d93-bf27-3bc756ab6f62\",\"type\":\"DataRange1d\"},{\"attributes\":{\"callback\":null,\"column_names\":[\"x\",\"y\"],\"data\":{\"x\":[9,12,4,3,15],\"y\":[8,4,11,6,10]}},\"id\":\"3e3a2d29-e8e5-48a9-a191-ffc1ad5fb955\",\"type\":\"ColumnDataSource\"},{\"attributes\":{\"fill_alpha\":{\"value\":0.6},\"fill_color\":{\"value\":\"navy\"},\"line_alpha\":{\"value\":0.6},\"line_color\":{\"value\":\"navy\"},\"size\":{\"units\":\"screen\",\"value\":12},\"x\":{\"field\":\"x\"},\"y\":{\"field\":\"y\"}},\"id\":\"ecdbc00d-0faf-4e88-9b54-deadea89e814\",\"type\":\"Square\"},{\"attributes\":{\"bottom_units\":\"screen\",\"fill_alpha\":{\"value\":0.5},\"fill_color\":{\"value\":\"lightgrey\"},\"left_units\":\"screen\",\"level\":\"overlay\",\"line_alpha\":{\"value\":1.0},\"line_color\":{\"value\":\"black\"},\"line_dash\":[4,4],\"line_width\":{\"value\":2},\"plot\":null,\"render_mode\":\"css\",\"right_units\":\"screen\",\"top_units\":\"screen\"},\"id\":\"9f99a3a8-e6f7-41a5-90b8-1bede8d873b0\",\"type\":\"BoxAnnotation\"},{\"attributes\":{\"below\":[{\"id\":\"e3f7648e-52e6-4f02-b074-db0ffdf0d313\",\"type\":\"LinearAxis\"}],\"left\":[{\"id\":\"56c6f864-973c-492f-a4a0-15b2174911f2\",\"type\":\"LinearAxis\"}],\"renderers\":[{\"id\":\"e3f7648e-52e6-4f02-b074-db0ffdf0d313\",\"type\":\"LinearAxis\"},{\"id\":\"21cb19c3-0332-40d8-90e2-e9e19252a003\",\"type\":\"Grid\"},{\"id\":\"56c6f864-973c-492f-a4a0-15b2174911f2\",\"type\":\"LinearAxis\"},{\"id\":\"6b7f6903-ee09-4200-8b06-2ea961906e1a\",\"type\":\"Grid\"},{\"id\":\"9f99a3a8-e6f7-41a5-90b8-1bede8d873b0\",\"type\":\"BoxAnnotation\"},{\"id\":\"3fa25927-116e-4055-abc1-5cb3b82bde73\",\"type\":\"GlyphRenderer\"},{\"id\":\"d6796c87-29c3-4725-9e61-0d8347062ad0\",\"type\":\"GlyphRenderer\"}],\"title\":{\"id\":\"6e42af41-b1db-4317-aea5-bb00712d5f15\",\"type\":\"Title\"},\"toolbar\":{\"id\":\"4a4307aa-0c68-4587-94b0-6f17bfaba978\",\"type\":\"Toolbar\"},\"x_range\":{\"id\":\"38b7c312-4b09-4d93-bf27-3bc756ab6f62\",\"type\":\"DataRange1d\"},\"x_scale\":{\"id\":\"51081bec-5745-4c8f-acaf-aac0f698a890\",\"type\":\"LinearScale\"},\"y_range\":{\"id\":\"8cc0a4c2-55e5-4ecb-92ab-4717e155f409\",\"type\":\"DataRange1d\"},\"y_scale\":{\"id\":\"d618adc9-9da3-4777-bc50-1afddf23faeb\",\"type\":\"LinearScale\"}},\"id\":\"097f5b04-c092-414d-bdea-e6439a196346\",\"subtype\":\"Figure\",\"type\":\"Plot\"},{\"attributes\":{\"plot\":{\"id\":\"097f5b04-c092-414d-bdea-e6439a196346\",\"subtype\":\"Figure\",\"type\":\"Plot\"},\"ticker\":{\"id\":\"28c95fb1-399f-477c-b6f8-13f006c49d15\",\"type\":\"BasicTicker\"}},\"id\":\"21cb19c3-0332-40d8-90e2-e9e19252a003\",\"type\":\"Grid\"},{\"attributes\":{\"plot\":null,\"text\":\"Example Glyphs\"},\"id\":\"6e42af41-b1db-4317-aea5-bb00712d5f15\",\"type\":\"Title\"},{\"attributes\":{\"source\":{\"id\":\"c0afe63c-9970-41c7-bfdd-15038f403005\",\"type\":\"ColumnDataSource\"}},\"id\":\"2a89f562-abbd-496d-815f-a0e354aba53e\",\"type\":\"CDSView\"},{\"attributes\":{},\"id\":\"d618adc9-9da3-4777-bc50-1afddf23faeb\",\"type\":\"LinearScale\"},{\"attributes\":{\"fill_alpha\":{\"value\":0.1},\"fill_color\":{\"value\":\"#1f77b4\"},\"line_alpha\":{\"value\":0.1},\"line_color\":{\"value\":\"#1f77b4\"},\"size\":{\"units\":\"screen\",\"value\":12},\"x\":{\"field\":\"x\"},\"y\":{\"field\":\"y\"}},\"id\":\"097daf5b-b6a3-4886-ae6d-fed17f85329f\",\"type\":\"Square\"},{\"attributes\":{\"axis_label\":\"X\",\"formatter\":{\"id\":\"f955852d-d9da-4a76-8f14-eb1d86cf1df8\",\"type\":\"BasicTickFormatter\"},\"plot\":{\"id\":\"097f5b04-c092-414d-bdea-e6439a196346\",\"subtype\":\"Figure\",\"type\":\"Plot\"},\"ticker\":{\"id\":\"28c95fb1-399f-477c-b6f8-13f006c49d15\",\"type\":\"BasicTicker\"}},\"id\":\"e3f7648e-52e6-4f02-b074-db0ffdf0d313\",\"type\":\"LinearAxis\"},{\"attributes\":{\"axis_label\":\"Y\",\"formatter\":{\"id\":\"20ebb589-4b90-463e-beb9-39b456680e31\",\"type\":\"BasicTickFormatter\"},\"plot\":{\"id\":\"097f5b04-c092-414d-bdea-e6439a196346\",\"subtype\":\"Figure\",\"type\":\"Plot\"},\"ticker\":{\"id\":\"ffc49210-24c9-404a-a836-8acee0919683\",\"type\":\"BasicTicker\"}},\"id\":\"56c6f864-973c-492f-a4a0-15b2174911f2\",\"type\":\"LinearAxis\"},{\"attributes\":{},\"id\":\"ffc49210-24c9-404a-a836-8acee0919683\",\"type\":\"BasicTicker\"},{\"attributes\":{\"dimension\":1,\"plot\":{\"id\":\"097f5b04-c092-414d-bdea-e6439a196346\",\"subtype\":\"Figure\",\"type\":\"Plot\"},\"ticker\":{\"id\":\"ffc49210-24c9-404a-a836-8acee0919683\",\"type\":\"BasicTicker\"}},\"id\":\"6b7f6903-ee09-4200-8b06-2ea961906e1a\",\"type\":\"Grid\"},{\"attributes\":{\"data_source\":{\"id\":\"c0afe63c-9970-41c7-bfdd-15038f403005\",\"type\":\"ColumnDataSource\"},\"glyph\":{\"id\":\"ecdbc00d-0faf-4e88-9b54-deadea89e814\",\"type\":\"Square\"},\"hover_glyph\":null,\"muted_glyph\":null,\"nonselection_glyph\":{\"id\":\"097daf5b-b6a3-4886-ae6d-fed17f85329f\",\"type\":\"Square\"},\"selection_glyph\":null,\"view\":{\"id\":\"2a89f562-abbd-496d-815f-a0e354aba53e\",\"type\":\"CDSView\"}},\"id\":\"3fa25927-116e-4055-abc1-5cb3b82bde73\",\"type\":\"GlyphRenderer\"}],\"root_ids\":[\"097f5b04-c092-414d-bdea-e6439a196346\"]},\"title\":\"Bokeh Application\",\"version\":\"0.12.14\"}};\n",
       "  var render_items = [{\"docid\":\"76779fd8-adfa-4cba-944a-a7fbdf006b24\",\"elementid\":\"7a4ebecb-639c-4c47-aee9-ba3795887016\",\"modelid\":\"097f5b04-c092-414d-bdea-e6439a196346\"}];\n",
       "  root.Bokeh.embed.embed_items_notebook(docs_json, render_items);\n",
       "\n",
       "  }\n",
       "  if (root.Bokeh !== undefined) {\n",
       "    embed_document(root);\n",
       "  } else {\n",
       "    var attempts = 0;\n",
       "    var timer = setInterval(function(root) {\n",
       "      if (root.Bokeh !== undefined) {\n",
       "        embed_document(root);\n",
       "        clearInterval(timer);\n",
       "      }\n",
       "      attempts++;\n",
       "      if (attempts > 100) {\n",
       "        console.log(\"Bokeh: ERROR: Unable to run BokehJS code because BokehJS library is missing\")\n",
       "        clearInterval(timer);\n",
       "      }\n",
       "    }, 10, root)\n",
       "  }\n",
       "})(window);"
      ],
      "application/vnd.bokehjs_exec.v0+json": ""
     },
     "metadata": {
      "application/vnd.bokehjs_exec.v0+json": {
       "id": "097f5b04-c092-414d-bdea-e6439a196346"
      }
     },
     "output_type": "display_data"
    }
   ],
   "source": [
    "# bokeh basics\n",
    "from bokeh.plotting import figure\n",
    "from bokeh.io import show, output_notebook\n",
    "\n",
    "# Create a blank figure with labels\n",
    "p = figure(plot_width = 600, plot_height = 600, \n",
    "           title = 'Example Glyphs',\n",
    "           x_axis_label = 'X', y_axis_label = 'Y')\n",
    "\n",
    "squares_x = [1, 3, 4, 5, 8]\n",
    "squares_y = [8, 7, 3, 1, 10]\n",
    "\n",
    "circles_x = [9, 12, 4, 3, 15]\n",
    "circles_y = [8, 4, 11, 6, 10]\n",
    "\n",
    "# Squares glyph\n",
    "p.square(squares_x, squares_y, size = 12, color = 'navy', alpha = 0.6)\n",
    "\n",
    "# Circle glyph\n",
    "p.circle(circles_x, circles_y, size = 12, color = 'red')\n",
    "\n",
    "\n",
    "# Set to output the plot in the notebook\n",
    "output_notebook()\n",
    "\n",
    "# Show the plot\n",
    "show(p)"
   ]
  },
  {
   "cell_type": "markdown",
   "metadata": {},
   "source": [
    "# Data Inspection"
   ]
  },
  {
   "cell_type": "code",
   "execution_count": 4,
   "metadata": {},
   "outputs": [
    {
     "data": {
      "text/html": [
       "<div>\n",
       "<style scoped>\n",
       "    .dataframe tbody tr th:only-of-type {\n",
       "        vertical-align: middle;\n",
       "    }\n",
       "\n",
       "    .dataframe tbody tr th {\n",
       "        vertical-align: top;\n",
       "    }\n",
       "\n",
       "    .dataframe thead th {\n",
       "        text-align: right;\n",
       "    }\n",
       "</style>\n",
       "<table border=\"1\" class=\"dataframe\">\n",
       "  <thead>\n",
       "    <tr style=\"text-align: right;\">\n",
       "      <th></th>\n",
       "      <th>year</th>\n",
       "      <th>month</th>\n",
       "      <th>day</th>\n",
       "      <th>dep_time</th>\n",
       "      <th>sched_dep_time</th>\n",
       "      <th>dep_delay</th>\n",
       "      <th>arr_time</th>\n",
       "      <th>sched_arr_time</th>\n",
       "      <th>arr_delay</th>\n",
       "      <th>carrier</th>\n",
       "      <th>flight</th>\n",
       "      <th>tailnum</th>\n",
       "      <th>origin</th>\n",
       "      <th>dest</th>\n",
       "      <th>air_time</th>\n",
       "      <th>distance</th>\n",
       "      <th>hour</th>\n",
       "      <th>minute</th>\n",
       "      <th>time_hour</th>\n",
       "    </tr>\n",
       "  </thead>\n",
       "  <tbody>\n",
       "    <tr>\n",
       "      <th>1</th>\n",
       "      <td>2013</td>\n",
       "      <td>1</td>\n",
       "      <td>1</td>\n",
       "      <td>517.0</td>\n",
       "      <td>515</td>\n",
       "      <td>2.0</td>\n",
       "      <td>830.0</td>\n",
       "      <td>819</td>\n",
       "      <td>11.0</td>\n",
       "      <td>UA</td>\n",
       "      <td>1545</td>\n",
       "      <td>N14228</td>\n",
       "      <td>EWR</td>\n",
       "      <td>IAH</td>\n",
       "      <td>227.0</td>\n",
       "      <td>1400</td>\n",
       "      <td>5</td>\n",
       "      <td>15</td>\n",
       "      <td>2013-01-01 05:00:00</td>\n",
       "    </tr>\n",
       "    <tr>\n",
       "      <th>2</th>\n",
       "      <td>2013</td>\n",
       "      <td>1</td>\n",
       "      <td>1</td>\n",
       "      <td>533.0</td>\n",
       "      <td>529</td>\n",
       "      <td>4.0</td>\n",
       "      <td>850.0</td>\n",
       "      <td>830</td>\n",
       "      <td>20.0</td>\n",
       "      <td>UA</td>\n",
       "      <td>1714</td>\n",
       "      <td>N24211</td>\n",
       "      <td>LGA</td>\n",
       "      <td>IAH</td>\n",
       "      <td>227.0</td>\n",
       "      <td>1416</td>\n",
       "      <td>5</td>\n",
       "      <td>29</td>\n",
       "      <td>2013-01-01 05:00:00</td>\n",
       "    </tr>\n",
       "    <tr>\n",
       "      <th>3</th>\n",
       "      <td>2013</td>\n",
       "      <td>1</td>\n",
       "      <td>1</td>\n",
       "      <td>542.0</td>\n",
       "      <td>540</td>\n",
       "      <td>2.0</td>\n",
       "      <td>923.0</td>\n",
       "      <td>850</td>\n",
       "      <td>33.0</td>\n",
       "      <td>AA</td>\n",
       "      <td>1141</td>\n",
       "      <td>N619AA</td>\n",
       "      <td>JFK</td>\n",
       "      <td>MIA</td>\n",
       "      <td>160.0</td>\n",
       "      <td>1089</td>\n",
       "      <td>5</td>\n",
       "      <td>40</td>\n",
       "      <td>2013-01-01 05:00:00</td>\n",
       "    </tr>\n",
       "    <tr>\n",
       "      <th>4</th>\n",
       "      <td>2013</td>\n",
       "      <td>1</td>\n",
       "      <td>1</td>\n",
       "      <td>544.0</td>\n",
       "      <td>545</td>\n",
       "      <td>-1.0</td>\n",
       "      <td>1004.0</td>\n",
       "      <td>1022</td>\n",
       "      <td>-18.0</td>\n",
       "      <td>B6</td>\n",
       "      <td>725</td>\n",
       "      <td>N804JB</td>\n",
       "      <td>JFK</td>\n",
       "      <td>BQN</td>\n",
       "      <td>183.0</td>\n",
       "      <td>1576</td>\n",
       "      <td>5</td>\n",
       "      <td>45</td>\n",
       "      <td>2013-01-01 05:00:00</td>\n",
       "    </tr>\n",
       "    <tr>\n",
       "      <th>5</th>\n",
       "      <td>2013</td>\n",
       "      <td>1</td>\n",
       "      <td>1</td>\n",
       "      <td>554.0</td>\n",
       "      <td>600</td>\n",
       "      <td>-6.0</td>\n",
       "      <td>812.0</td>\n",
       "      <td>837</td>\n",
       "      <td>-25.0</td>\n",
       "      <td>DL</td>\n",
       "      <td>461</td>\n",
       "      <td>N668DN</td>\n",
       "      <td>LGA</td>\n",
       "      <td>ATL</td>\n",
       "      <td>116.0</td>\n",
       "      <td>762</td>\n",
       "      <td>6</td>\n",
       "      <td>0</td>\n",
       "      <td>2013-01-01 06:00:00</td>\n",
       "    </tr>\n",
       "  </tbody>\n",
       "</table>\n",
       "</div>"
      ],
      "text/plain": [
       "   year  month  day  dep_time  sched_dep_time  dep_delay  arr_time  \\\n",
       "1  2013      1    1     517.0             515        2.0     830.0   \n",
       "2  2013      1    1     533.0             529        4.0     850.0   \n",
       "3  2013      1    1     542.0             540        2.0     923.0   \n",
       "4  2013      1    1     544.0             545       -1.0    1004.0   \n",
       "5  2013      1    1     554.0             600       -6.0     812.0   \n",
       "\n",
       "   sched_arr_time  arr_delay carrier  flight tailnum origin dest  air_time  \\\n",
       "1             819       11.0      UA    1545  N14228    EWR  IAH     227.0   \n",
       "2             830       20.0      UA    1714  N24211    LGA  IAH     227.0   \n",
       "3             850       33.0      AA    1141  N619AA    JFK  MIA     160.0   \n",
       "4            1022      -18.0      B6     725  N804JB    JFK  BQN     183.0   \n",
       "5             837      -25.0      DL     461  N668DN    LGA  ATL     116.0   \n",
       "\n",
       "   distance  hour  minute            time_hour  \n",
       "1      1400     5      15  2013-01-01 05:00:00  \n",
       "2      1416     5      29  2013-01-01 05:00:00  \n",
       "3      1089     5      40  2013-01-01 05:00:00  \n",
       "4      1576     5      45  2013-01-01 05:00:00  \n",
       "5       762     6       0  2013-01-01 06:00:00  "
      ]
     },
     "execution_count": 4,
     "metadata": {},
     "output_type": "execute_result"
    }
   ],
   "source": [
    "flights = pd.read_csv('../data/flights.csv', index_col=0)\n",
    "flights.head()"
   ]
  },
  {
   "cell_type": "markdown",
   "metadata": {},
   "source": [
    "We are going to focus on a single variable, in this case the arrival delay in minutes. Before we get into plotting, we will want to take a look at the summary statistics for the arrival delay."
   ]
  },
  {
   "cell_type": "code",
   "execution_count": 5,
   "metadata": {},
   "outputs": [
    {
     "data": {
      "text/plain": [
       "count    327346.000000\n",
       "mean          6.895377\n",
       "std          44.633292\n",
       "min         -86.000000\n",
       "25%         -17.000000\n",
       "50%          -5.000000\n",
       "75%          14.000000\n",
       "max        1272.000000\n",
       "Name: arr_delay, dtype: float64"
      ]
     },
     "execution_count": 5,
     "metadata": {},
     "output_type": "execute_result"
    }
   ],
   "source": [
    "flights['arr_delay'].describe()"
   ]
  },
  {
   "cell_type": "markdown",
   "metadata": {},
   "source": [
    "# Histogram \n",
    "\n",
    "The first graph we will make is a simple histogram of the arrival delay. We will consider all airlines on the same plot."
   ]
  },
  {
   "cell_type": "markdown",
   "metadata": {},
   "source": [
    "## Data for plotting"
   ]
  },
  {
   "cell_type": "code",
   "execution_count": 6,
   "metadata": {},
   "outputs": [],
   "source": [
    "# Bins will be five minutes in width\n",
    "# Limit delays to [-60, +120] minutes using the range\n",
    "arr_hist, edges = np.histogram(flights['arr_delay'], \n",
    "                               bins = int(180/5), \n",
    "                               range = [-60, 120])\n",
    "\n",
    "# Put the information in a dataframe\n",
    "delays = pd.DataFrame({'flights': arr_hist, \n",
    "                       'left': edges[:-1], \n",
    "                       'right': edges[1:]})"
   ]
  },
  {
   "cell_type": "code",
   "execution_count": 7,
   "metadata": {},
   "outputs": [
    {
     "data": {
      "text/html": [
       "<div>\n",
       "<style scoped>\n",
       "    .dataframe tbody tr th:only-of-type {\n",
       "        vertical-align: middle;\n",
       "    }\n",
       "\n",
       "    .dataframe tbody tr th {\n",
       "        vertical-align: top;\n",
       "    }\n",
       "\n",
       "    .dataframe thead th {\n",
       "        text-align: right;\n",
       "    }\n",
       "</style>\n",
       "<table border=\"1\" class=\"dataframe\">\n",
       "  <thead>\n",
       "    <tr style=\"text-align: right;\">\n",
       "      <th></th>\n",
       "      <th>flights</th>\n",
       "      <th>left</th>\n",
       "      <th>right</th>\n",
       "    </tr>\n",
       "  </thead>\n",
       "  <tbody>\n",
       "    <tr>\n",
       "      <th>0</th>\n",
       "      <td>276</td>\n",
       "      <td>-60.0</td>\n",
       "      <td>-55.0</td>\n",
       "    </tr>\n",
       "    <tr>\n",
       "      <th>1</th>\n",
       "      <td>636</td>\n",
       "      <td>-55.0</td>\n",
       "      <td>-50.0</td>\n",
       "    </tr>\n",
       "    <tr>\n",
       "      <th>2</th>\n",
       "      <td>1394</td>\n",
       "      <td>-50.0</td>\n",
       "      <td>-45.0</td>\n",
       "    </tr>\n",
       "    <tr>\n",
       "      <th>3</th>\n",
       "      <td>2820</td>\n",
       "      <td>-45.0</td>\n",
       "      <td>-40.0</td>\n",
       "    </tr>\n",
       "    <tr>\n",
       "      <th>4</th>\n",
       "      <td>5339</td>\n",
       "      <td>-40.0</td>\n",
       "      <td>-35.0</td>\n",
       "    </tr>\n",
       "  </tbody>\n",
       "</table>\n",
       "</div>"
      ],
      "text/plain": [
       "   flights  left  right\n",
       "0      276 -60.0  -55.0\n",
       "1      636 -55.0  -50.0\n",
       "2     1394 -50.0  -45.0\n",
       "3     2820 -45.0  -40.0\n",
       "4     5339 -40.0  -35.0"
      ]
     },
     "execution_count": 7,
     "metadata": {},
     "output_type": "execute_result"
    }
   ],
   "source": [
    "delays.head()"
   ]
  },
  {
   "cell_type": "code",
   "execution_count": 8,
   "metadata": {
    "scrolled": false
   },
   "outputs": [
    {
     "data": {
      "text/html": [
       "\n",
       "<div class=\"bk-root\">\n",
       "    <div class=\"bk-plotdiv\" id=\"a665488a-e7c6-4357-abfd-addfb369e962\"></div>\n",
       "</div>"
      ]
     },
     "metadata": {},
     "output_type": "display_data"
    },
    {
     "data": {
      "application/javascript": [
       "(function(root) {\n",
       "  function embed_document(root) {\n",
       "    \n",
       "  var docs_json = {\"b6a2ecc5-c71e-40c9-9589-e9c245615972\":{\"roots\":{\"references\":[{\"attributes\":{\"callback\":null},\"id\":\"46d4efcc-72de-4fa8-881f-8fa35a22f1fd\",\"type\":\"DataRange1d\"},{\"attributes\":{\"data_source\":{\"id\":\"d405b9d6-09af-45fa-b14b-1aa9884212ad\",\"type\":\"ColumnDataSource\"},\"glyph\":{\"id\":\"efb13039-438e-4e35-9210-4f9545da937e\",\"type\":\"Quad\"},\"hover_glyph\":null,\"muted_glyph\":null,\"nonselection_glyph\":{\"id\":\"598ed1c5-ea30-4b4b-9b4d-ece865cc9daf\",\"type\":\"Quad\"},\"selection_glyph\":null,\"view\":{\"id\":\"3d0e5d8f-b527-49b7-8dc2-5e67e1d5f057\",\"type\":\"CDSView\"}},\"id\":\"5623cd91-b25b-4e0c-9646-be3a6c81ac63\",\"type\":\"GlyphRenderer\"},{\"attributes\":{},\"id\":\"807da69e-2ed9-4b30-bf97-df0a507af4f6\",\"type\":\"LinearScale\"},{\"attributes\":{\"plot\":{\"id\":\"9dbc7914-9959-4cde-8fdd-ecbfe3a584e9\",\"subtype\":\"Figure\",\"type\":\"Plot\"},\"ticker\":{\"id\":\"9f6800b9-e74b-4fd6-a2c9-87b39575f648\",\"type\":\"BasicTicker\"}},\"id\":\"7a73279e-c2e6-44f9-819c-e2f3ca56a578\",\"type\":\"Grid\"},{\"attributes\":{\"axis_label\":\"Delay (min)]\",\"formatter\":{\"id\":\"ddc4f7d4-6cfb-4ec4-8634-84c256839f73\",\"type\":\"BasicTickFormatter\"},\"plot\":{\"id\":\"9dbc7914-9959-4cde-8fdd-ecbfe3a584e9\",\"subtype\":\"Figure\",\"type\":\"Plot\"},\"ticker\":{\"id\":\"9f6800b9-e74b-4fd6-a2c9-87b39575f648\",\"type\":\"BasicTicker\"}},\"id\":\"b168779a-6c92-4d7c-8e67-f0a04c881282\",\"type\":\"LinearAxis\"},{\"attributes\":{},\"id\":\"9f6800b9-e74b-4fd6-a2c9-87b39575f648\",\"type\":\"BasicTicker\"},{\"attributes\":{},\"id\":\"ddc4f7d4-6cfb-4ec4-8634-84c256839f73\",\"type\":\"BasicTickFormatter\"},{\"attributes\":{\"axis_label\":\"Number of Flights\",\"formatter\":{\"id\":\"11922497-8d11-4256-9b76-4ebdd5cc9289\",\"type\":\"BasicTickFormatter\"},\"plot\":{\"id\":\"9dbc7914-9959-4cde-8fdd-ecbfe3a584e9\",\"subtype\":\"Figure\",\"type\":\"Plot\"},\"ticker\":{\"id\":\"f10a7978-4088-49ca-92cf-aeb01be2fb46\",\"type\":\"BasicTicker\"}},\"id\":\"db1aab52-e92c-4e8c-bb5e-047492ddda4f\",\"type\":\"LinearAxis\"},{\"attributes\":{\"source\":{\"id\":\"d405b9d6-09af-45fa-b14b-1aa9884212ad\",\"type\":\"ColumnDataSource\"}},\"id\":\"3d0e5d8f-b527-49b7-8dc2-5e67e1d5f057\",\"type\":\"CDSView\"},{\"attributes\":{},\"id\":\"f10a7978-4088-49ca-92cf-aeb01be2fb46\",\"type\":\"BasicTicker\"},{\"attributes\":{\"dimension\":1,\"plot\":{\"id\":\"9dbc7914-9959-4cde-8fdd-ecbfe3a584e9\",\"subtype\":\"Figure\",\"type\":\"Plot\"},\"ticker\":{\"id\":\"f10a7978-4088-49ca-92cf-aeb01be2fb46\",\"type\":\"BasicTicker\"}},\"id\":\"347834b8-d20b-4f92-b8fb-7ac4d360dda9\",\"type\":\"Grid\"},{\"attributes\":{},\"id\":\"11922497-8d11-4256-9b76-4ebdd5cc9289\",\"type\":\"BasicTickFormatter\"},{\"attributes\":{\"callback\":null,\"column_names\":[\"left\",\"right\",\"top\"],\"data\":{\"left\":{\"__ndarray__\":\"AAAAAAAATsAAAAAAAIBLwAAAAAAAAEnAAAAAAACARsAAAAAAAABEwAAAAAAAgEHAAAAAAAAAPsAAAAAAAAA5wAAAAAAAADTAAAAAAAAALsAAAAAAAAAkwAAAAAAAABTAAAAAAAAAAAAAAAAAAAAUQAAAAAAAACRAAAAAAAAALkAAAAAAAAA0QAAAAAAAADlAAAAAAAAAPkAAAAAAAIBBQAAAAAAAAERAAAAAAACARkAAAAAAAABJQAAAAAAAgEtAAAAAAAAATkAAAAAAAEBQQAAAAAAAgFFAAAAAAADAUkAAAAAAAABUQAAAAAAAQFVAAAAAAACAVkAAAAAAAMBXQAAAAAAAAFlAAAAAAABAWkAAAAAAAIBbQAAAAAAAwFxA\",\"dtype\":\"float64\",\"shape\":[36]},\"right\":{\"__ndarray__\":\"AAAAAACAS8AAAAAAAABJwAAAAAAAgEbAAAAAAAAARMAAAAAAAIBBwAAAAAAAAD7AAAAAAAAAOcAAAAAAAAA0wAAAAAAAAC7AAAAAAAAAJMAAAAAAAAAUwAAAAAAAAAAAAAAAAAAAFEAAAAAAAAAkQAAAAAAAAC5AAAAAAAAANEAAAAAAAAA5QAAAAAAAAD5AAAAAAACAQUAAAAAAAABEQAAAAAAAgEZAAAAAAAAASUAAAAAAAIBLQAAAAAAAAE5AAAAAAABAUEAAAAAAAIBRQAAAAAAAwFJAAAAAAAAAVEAAAAAAAEBVQAAAAAAAgFZAAAAAAADAV0AAAAAAAABZQAAAAAAAQFpAAAAAAACAW0AAAAAAAMBcQAAAAAAAAF5A\",\"dtype\":\"float64\",\"shape\":[36]},\"top\":[276,636,1394,2820,5339,9420,15551,23546,31319,34857,33790,29786,24391,19028,14894,11324,8815,7159,5908,4896,4130,3630,3139,2782,2455,2179,1973,1805,1646,1454,1360,1286,1167,1013,945,1000]}},\"id\":\"d405b9d6-09af-45fa-b14b-1aa9884212ad\",\"type\":\"ColumnDataSource\"},{\"attributes\":{\"bottom\":{\"value\":0},\"fill_color\":{\"value\":\"red\"},\"left\":{\"field\":\"left\"},\"right\":{\"field\":\"right\"},\"top\":{\"field\":\"top\"}},\"id\":\"efb13039-438e-4e35-9210-4f9545da937e\",\"type\":\"Quad\"},{\"attributes\":{\"below\":[{\"id\":\"b168779a-6c92-4d7c-8e67-f0a04c881282\",\"type\":\"LinearAxis\"}],\"left\":[{\"id\":\"db1aab52-e92c-4e8c-bb5e-047492ddda4f\",\"type\":\"LinearAxis\"}],\"renderers\":[{\"id\":\"b168779a-6c92-4d7c-8e67-f0a04c881282\",\"type\":\"LinearAxis\"},{\"id\":\"7a73279e-c2e6-44f9-819c-e2f3ca56a578\",\"type\":\"Grid\"},{\"id\":\"db1aab52-e92c-4e8c-bb5e-047492ddda4f\",\"type\":\"LinearAxis\"},{\"id\":\"347834b8-d20b-4f92-b8fb-7ac4d360dda9\",\"type\":\"Grid\"},{\"id\":\"8a300742-1d56-47af-b521-be66c14810d3\",\"type\":\"BoxAnnotation\"},{\"id\":\"5623cd91-b25b-4e0c-9646-be3a6c81ac63\",\"type\":\"GlyphRenderer\"}],\"title\":{\"id\":\"567fb9c6-585e-4d1f-a532-c54aa8e5ea98\",\"type\":\"Title\"},\"toolbar\":{\"id\":\"8b469af0-21e1-48b7-9433-b165d068c9f2\",\"type\":\"Toolbar\"},\"x_range\":{\"id\":\"4261219c-5b65-4df6-8146-6c6b53af0dbb\",\"type\":\"DataRange1d\"},\"x_scale\":{\"id\":\"44a2fb85-d0b9-4742-9747-7f1e097144a8\",\"type\":\"LinearScale\"},\"y_range\":{\"id\":\"46d4efcc-72de-4fa8-881f-8fa35a22f1fd\",\"type\":\"DataRange1d\"},\"y_scale\":{\"id\":\"807da69e-2ed9-4b30-bf97-df0a507af4f6\",\"type\":\"LinearScale\"}},\"id\":\"9dbc7914-9959-4cde-8fdd-ecbfe3a584e9\",\"subtype\":\"Figure\",\"type\":\"Plot\"},{\"attributes\":{\"bottom_units\":\"screen\",\"fill_alpha\":{\"value\":0.5},\"fill_color\":{\"value\":\"lightgrey\"},\"left_units\":\"screen\",\"level\":\"overlay\",\"line_alpha\":{\"value\":1.0},\"line_color\":{\"value\":\"black\"},\"line_dash\":[4,4],\"line_width\":{\"value\":2},\"plot\":null,\"render_mode\":\"css\",\"right_units\":\"screen\",\"top_units\":\"screen\"},\"id\":\"8a300742-1d56-47af-b521-be66c14810d3\",\"type\":\"BoxAnnotation\"},{\"attributes\":{},\"id\":\"557f4f36-9278-4156-b4f8-4cdb9b921746\",\"type\":\"PanTool\"},{\"attributes\":{\"bottom\":{\"value\":0},\"fill_alpha\":{\"value\":0.1},\"fill_color\":{\"value\":\"#1f77b4\"},\"left\":{\"field\":\"left\"},\"line_alpha\":{\"value\":0.1},\"line_color\":{\"value\":\"#1f77b4\"},\"right\":{\"field\":\"right\"},\"top\":{\"field\":\"top\"}},\"id\":\"598ed1c5-ea30-4b4b-9b4d-ece865cc9daf\",\"type\":\"Quad\"},{\"attributes\":{\"plot\":null,\"text\":\"Histogram of Arrival Delays\"},\"id\":\"567fb9c6-585e-4d1f-a532-c54aa8e5ea98\",\"type\":\"Title\"},{\"attributes\":{},\"id\":\"40985906-4838-46db-8207-771ad085c1b7\",\"type\":\"WheelZoomTool\"},{\"attributes\":{\"callback\":null},\"id\":\"4261219c-5b65-4df6-8146-6c6b53af0dbb\",\"type\":\"DataRange1d\"},{\"attributes\":{\"overlay\":{\"id\":\"8a300742-1d56-47af-b521-be66c14810d3\",\"type\":\"BoxAnnotation\"}},\"id\":\"a8ab212d-c0c9-41a6-9b33-6781fb0baea6\",\"type\":\"BoxZoomTool\"},{\"attributes\":{\"active_drag\":\"auto\",\"active_inspect\":\"auto\",\"active_scroll\":\"auto\",\"active_tap\":\"auto\",\"tools\":[{\"id\":\"557f4f36-9278-4156-b4f8-4cdb9b921746\",\"type\":\"PanTool\"},{\"id\":\"40985906-4838-46db-8207-771ad085c1b7\",\"type\":\"WheelZoomTool\"},{\"id\":\"a8ab212d-c0c9-41a6-9b33-6781fb0baea6\",\"type\":\"BoxZoomTool\"},{\"id\":\"cf89ae30-0ef6-40e6-b40f-893423ab9256\",\"type\":\"SaveTool\"},{\"id\":\"a97e27a1-9488-45f1-836a-9595ecd5fb51\",\"type\":\"ResetTool\"},{\"id\":\"4140dd77-9737-4acf-9e5a-0d3c1007d2f8\",\"type\":\"HelpTool\"}]},\"id\":\"8b469af0-21e1-48b7-9433-b165d068c9f2\",\"type\":\"Toolbar\"},{\"attributes\":{},\"id\":\"cf89ae30-0ef6-40e6-b40f-893423ab9256\",\"type\":\"SaveTool\"},{\"attributes\":{},\"id\":\"a97e27a1-9488-45f1-836a-9595ecd5fb51\",\"type\":\"ResetTool\"},{\"attributes\":{},\"id\":\"44a2fb85-d0b9-4742-9747-7f1e097144a8\",\"type\":\"LinearScale\"},{\"attributes\":{},\"id\":\"4140dd77-9737-4acf-9e5a-0d3c1007d2f8\",\"type\":\"HelpTool\"}],\"root_ids\":[\"9dbc7914-9959-4cde-8fdd-ecbfe3a584e9\"]},\"title\":\"Bokeh Application\",\"version\":\"0.12.14\"}};\n",
       "  var render_items = [{\"docid\":\"b6a2ecc5-c71e-40c9-9589-e9c245615972\",\"elementid\":\"a665488a-e7c6-4357-abfd-addfb369e962\",\"modelid\":\"9dbc7914-9959-4cde-8fdd-ecbfe3a584e9\"}];\n",
       "  root.Bokeh.embed.embed_items_notebook(docs_json, render_items);\n",
       "\n",
       "  }\n",
       "  if (root.Bokeh !== undefined) {\n",
       "    embed_document(root);\n",
       "  } else {\n",
       "    var attempts = 0;\n",
       "    var timer = setInterval(function(root) {\n",
       "      if (root.Bokeh !== undefined) {\n",
       "        embed_document(root);\n",
       "        clearInterval(timer);\n",
       "      }\n",
       "      attempts++;\n",
       "      if (attempts > 100) {\n",
       "        console.log(\"Bokeh: ERROR: Unable to run BokehJS code because BokehJS library is missing\")\n",
       "        clearInterval(timer);\n",
       "      }\n",
       "    }, 10, root)\n",
       "  }\n",
       "})(window);"
      ],
      "application/vnd.bokehjs_exec.v0+json": ""
     },
     "metadata": {
      "application/vnd.bokehjs_exec.v0+json": {
       "id": "9dbc7914-9959-4cde-8fdd-ecbfe3a584e9"
      }
     },
     "output_type": "display_data"
    }
   ],
   "source": [
    "# Create the blank plot\n",
    "p = figure(plot_height = 600, plot_width = 600, \n",
    "           title = 'Histogram of Arrival Delays',\n",
    "          x_axis_label = 'Delay (min)]', \n",
    "           y_axis_label = 'Number of Flights')\n",
    "\n",
    "# Add a quad glyph\n",
    "p.quad(bottom=0, top=delays['flights'], \n",
    "       left=delays['left'], right=delays['right'], \n",
    "       fill_color='red', line_color='black')\n",
    "\n",
    "# Show the plot\n",
    "show(p)"
   ]
  },
  {
   "cell_type": "markdown",
   "metadata": {},
   "source": [
    "## matplotlib equivalent"
   ]
  },
  {
   "cell_type": "code",
   "execution_count": 10,
   "metadata": {
    "scrolled": false
   },
   "outputs": [
    {
     "data": {
      "text/plain": [
       "<matplotlib.figure.Figure at 0x20a5268d0b8>"
      ]
     },
     "metadata": {},
     "output_type": "display_data"
    }
   ],
   "source": [
    "import matplotlib.pyplot as plt\n",
    "plt.hist(flights['arr_delay'], bins = int(180/5), range = (-60, 120));\n",
    "plt.xlabel('Delay (min)'); plt.ylabel('Number of Flights')\n",
    "plt.title('Histogram of Arrival Delays')\n",
    "plt.show();"
   ]
  },
  {
   "cell_type": "markdown",
   "metadata": {},
   "source": [
    "# Add Basic Styling"
   ]
  },
  {
   "cell_type": "code",
   "execution_count": 11,
   "metadata": {},
   "outputs": [
    {
     "data": {
      "text/html": [
       "\n",
       "<div class=\"bk-root\">\n",
       "    <div class=\"bk-plotdiv\" id=\"c0d64194-73e0-46f2-8bde-2aad75d166c7\"></div>\n",
       "</div>"
      ]
     },
     "metadata": {},
     "output_type": "display_data"
    },
    {
     "data": {
      "application/javascript": [
       "(function(root) {\n",
       "  function embed_document(root) {\n",
       "    \n",
       "  var docs_json = {\"f80c8892-e619-4e8d-8532-dc5bccb81606\":{\"roots\":{\"references\":[{\"attributes\":{\"callback\":null},\"id\":\"46d4efcc-72de-4fa8-881f-8fa35a22f1fd\",\"type\":\"DataRange1d\"},{\"attributes\":{\"data_source\":{\"id\":\"d405b9d6-09af-45fa-b14b-1aa9884212ad\",\"type\":\"ColumnDataSource\"},\"glyph\":{\"id\":\"efb13039-438e-4e35-9210-4f9545da937e\",\"type\":\"Quad\"},\"hover_glyph\":null,\"muted_glyph\":null,\"nonselection_glyph\":{\"id\":\"598ed1c5-ea30-4b4b-9b4d-ece865cc9daf\",\"type\":\"Quad\"},\"selection_glyph\":null,\"view\":{\"id\":\"3d0e5d8f-b527-49b7-8dc2-5e67e1d5f057\",\"type\":\"CDSView\"}},\"id\":\"5623cd91-b25b-4e0c-9646-be3a6c81ac63\",\"type\":\"GlyphRenderer\"},{\"attributes\":{},\"id\":\"807da69e-2ed9-4b30-bf97-df0a507af4f6\",\"type\":\"LinearScale\"},{\"attributes\":{\"plot\":{\"id\":\"9dbc7914-9959-4cde-8fdd-ecbfe3a584e9\",\"subtype\":\"Figure\",\"type\":\"Plot\"},\"ticker\":{\"id\":\"9f6800b9-e74b-4fd6-a2c9-87b39575f648\",\"type\":\"BasicTicker\"}},\"id\":\"7a73279e-c2e6-44f9-819c-e2f3ca56a578\",\"type\":\"Grid\"},{\"attributes\":{\"axis_label\":\"Delay (min)]\",\"axis_label_text_font_size\":{\"value\":\"14pt\"},\"axis_label_text_font_style\":\"bold\",\"formatter\":{\"id\":\"ddc4f7d4-6cfb-4ec4-8634-84c256839f73\",\"type\":\"BasicTickFormatter\"},\"major_label_text_font_size\":{\"value\":\"12pt\"},\"plot\":{\"id\":\"9dbc7914-9959-4cde-8fdd-ecbfe3a584e9\",\"subtype\":\"Figure\",\"type\":\"Plot\"},\"ticker\":{\"id\":\"9f6800b9-e74b-4fd6-a2c9-87b39575f648\",\"type\":\"BasicTicker\"}},\"id\":\"b168779a-6c92-4d7c-8e67-f0a04c881282\",\"type\":\"LinearAxis\"},{\"attributes\":{},\"id\":\"9f6800b9-e74b-4fd6-a2c9-87b39575f648\",\"type\":\"BasicTicker\"},{\"attributes\":{},\"id\":\"ddc4f7d4-6cfb-4ec4-8634-84c256839f73\",\"type\":\"BasicTickFormatter\"},{\"attributes\":{\"axis_label\":\"Number of Flights\",\"axis_label_text_font_size\":{\"value\":\"14pt\"},\"axis_label_text_font_style\":\"bold\",\"formatter\":{\"id\":\"11922497-8d11-4256-9b76-4ebdd5cc9289\",\"type\":\"BasicTickFormatter\"},\"major_label_text_font_size\":{\"value\":\"12pt\"},\"plot\":{\"id\":\"9dbc7914-9959-4cde-8fdd-ecbfe3a584e9\",\"subtype\":\"Figure\",\"type\":\"Plot\"},\"ticker\":{\"id\":\"f10a7978-4088-49ca-92cf-aeb01be2fb46\",\"type\":\"BasicTicker\"}},\"id\":\"db1aab52-e92c-4e8c-bb5e-047492ddda4f\",\"type\":\"LinearAxis\"},{\"attributes\":{\"source\":{\"id\":\"d405b9d6-09af-45fa-b14b-1aa9884212ad\",\"type\":\"ColumnDataSource\"}},\"id\":\"3d0e5d8f-b527-49b7-8dc2-5e67e1d5f057\",\"type\":\"CDSView\"},{\"attributes\":{},\"id\":\"f10a7978-4088-49ca-92cf-aeb01be2fb46\",\"type\":\"BasicTicker\"},{\"attributes\":{\"dimension\":1,\"plot\":{\"id\":\"9dbc7914-9959-4cde-8fdd-ecbfe3a584e9\",\"subtype\":\"Figure\",\"type\":\"Plot\"},\"ticker\":{\"id\":\"f10a7978-4088-49ca-92cf-aeb01be2fb46\",\"type\":\"BasicTicker\"}},\"id\":\"347834b8-d20b-4f92-b8fb-7ac4d360dda9\",\"type\":\"Grid\"},{\"attributes\":{},\"id\":\"11922497-8d11-4256-9b76-4ebdd5cc9289\",\"type\":\"BasicTickFormatter\"},{\"attributes\":{\"callback\":null,\"column_names\":[\"left\",\"right\",\"top\"],\"data\":{\"left\":{\"__ndarray__\":\"AAAAAAAATsAAAAAAAIBLwAAAAAAAAEnAAAAAAACARsAAAAAAAABEwAAAAAAAgEHAAAAAAAAAPsAAAAAAAAA5wAAAAAAAADTAAAAAAAAALsAAAAAAAAAkwAAAAAAAABTAAAAAAAAAAAAAAAAAAAAUQAAAAAAAACRAAAAAAAAALkAAAAAAAAA0QAAAAAAAADlAAAAAAAAAPkAAAAAAAIBBQAAAAAAAAERAAAAAAACARkAAAAAAAABJQAAAAAAAgEtAAAAAAAAATkAAAAAAAEBQQAAAAAAAgFFAAAAAAADAUkAAAAAAAABUQAAAAAAAQFVAAAAAAACAVkAAAAAAAMBXQAAAAAAAAFlAAAAAAABAWkAAAAAAAIBbQAAAAAAAwFxA\",\"dtype\":\"float64\",\"shape\":[36]},\"right\":{\"__ndarray__\":\"AAAAAACAS8AAAAAAAABJwAAAAAAAgEbAAAAAAAAARMAAAAAAAIBBwAAAAAAAAD7AAAAAAAAAOcAAAAAAAAA0wAAAAAAAAC7AAAAAAAAAJMAAAAAAAAAUwAAAAAAAAAAAAAAAAAAAFEAAAAAAAAAkQAAAAAAAAC5AAAAAAAAANEAAAAAAAAA5QAAAAAAAAD5AAAAAAACAQUAAAAAAAABEQAAAAAAAgEZAAAAAAAAASUAAAAAAAIBLQAAAAAAAAE5AAAAAAABAUEAAAAAAAIBRQAAAAAAAwFJAAAAAAAAAVEAAAAAAAEBVQAAAAAAAgFZAAAAAAADAV0AAAAAAAABZQAAAAAAAQFpAAAAAAACAW0AAAAAAAMBcQAAAAAAAAF5A\",\"dtype\":\"float64\",\"shape\":[36]},\"top\":[276,636,1394,2820,5339,9420,15551,23546,31319,34857,33790,29786,24391,19028,14894,11324,8815,7159,5908,4896,4130,3630,3139,2782,2455,2179,1973,1805,1646,1454,1360,1286,1167,1013,945,1000]}},\"id\":\"d405b9d6-09af-45fa-b14b-1aa9884212ad\",\"type\":\"ColumnDataSource\"},{\"attributes\":{\"bottom\":{\"value\":0},\"fill_color\":{\"value\":\"red\"},\"left\":{\"field\":\"left\"},\"right\":{\"field\":\"right\"},\"top\":{\"field\":\"top\"}},\"id\":\"efb13039-438e-4e35-9210-4f9545da937e\",\"type\":\"Quad\"},{\"attributes\":{\"below\":[{\"id\":\"b168779a-6c92-4d7c-8e67-f0a04c881282\",\"type\":\"LinearAxis\"}],\"left\":[{\"id\":\"db1aab52-e92c-4e8c-bb5e-047492ddda4f\",\"type\":\"LinearAxis\"}],\"renderers\":[{\"id\":\"b168779a-6c92-4d7c-8e67-f0a04c881282\",\"type\":\"LinearAxis\"},{\"id\":\"7a73279e-c2e6-44f9-819c-e2f3ca56a578\",\"type\":\"Grid\"},{\"id\":\"db1aab52-e92c-4e8c-bb5e-047492ddda4f\",\"type\":\"LinearAxis\"},{\"id\":\"347834b8-d20b-4f92-b8fb-7ac4d360dda9\",\"type\":\"Grid\"},{\"id\":\"8a300742-1d56-47af-b521-be66c14810d3\",\"type\":\"BoxAnnotation\"},{\"id\":\"5623cd91-b25b-4e0c-9646-be3a6c81ac63\",\"type\":\"GlyphRenderer\"}],\"title\":{\"id\":\"567fb9c6-585e-4d1f-a532-c54aa8e5ea98\",\"type\":\"Title\"},\"toolbar\":{\"id\":\"8b469af0-21e1-48b7-9433-b165d068c9f2\",\"type\":\"Toolbar\"},\"x_range\":{\"id\":\"4261219c-5b65-4df6-8146-6c6b53af0dbb\",\"type\":\"DataRange1d\"},\"x_scale\":{\"id\":\"44a2fb85-d0b9-4742-9747-7f1e097144a8\",\"type\":\"LinearScale\"},\"y_range\":{\"id\":\"46d4efcc-72de-4fa8-881f-8fa35a22f1fd\",\"type\":\"DataRange1d\"},\"y_scale\":{\"id\":\"807da69e-2ed9-4b30-bf97-df0a507af4f6\",\"type\":\"LinearScale\"}},\"id\":\"9dbc7914-9959-4cde-8fdd-ecbfe3a584e9\",\"subtype\":\"Figure\",\"type\":\"Plot\"},{\"attributes\":{\"bottom_units\":\"screen\",\"fill_alpha\":{\"value\":0.5},\"fill_color\":{\"value\":\"lightgrey\"},\"left_units\":\"screen\",\"level\":\"overlay\",\"line_alpha\":{\"value\":1.0},\"line_color\":{\"value\":\"black\"},\"line_dash\":[4,4],\"line_width\":{\"value\":2},\"plot\":null,\"render_mode\":\"css\",\"right_units\":\"screen\",\"top_units\":\"screen\"},\"id\":\"8a300742-1d56-47af-b521-be66c14810d3\",\"type\":\"BoxAnnotation\"},{\"attributes\":{},\"id\":\"557f4f36-9278-4156-b4f8-4cdb9b921746\",\"type\":\"PanTool\"},{\"attributes\":{\"bottom\":{\"value\":0},\"fill_alpha\":{\"value\":0.1},\"fill_color\":{\"value\":\"#1f77b4\"},\"left\":{\"field\":\"left\"},\"line_alpha\":{\"value\":0.1},\"line_color\":{\"value\":\"#1f77b4\"},\"right\":{\"field\":\"right\"},\"top\":{\"field\":\"top\"}},\"id\":\"598ed1c5-ea30-4b4b-9b4d-ece865cc9daf\",\"type\":\"Quad\"},{\"attributes\":{\"align\":\"center\",\"plot\":null,\"text\":\"Histogram of Arrival Delays\",\"text_font\":\"serif\",\"text_font_size\":{\"value\":\"20pt\"}},\"id\":\"567fb9c6-585e-4d1f-a532-c54aa8e5ea98\",\"type\":\"Title\"},{\"attributes\":{},\"id\":\"40985906-4838-46db-8207-771ad085c1b7\",\"type\":\"WheelZoomTool\"},{\"attributes\":{\"callback\":null},\"id\":\"4261219c-5b65-4df6-8146-6c6b53af0dbb\",\"type\":\"DataRange1d\"},{\"attributes\":{\"overlay\":{\"id\":\"8a300742-1d56-47af-b521-be66c14810d3\",\"type\":\"BoxAnnotation\"}},\"id\":\"a8ab212d-c0c9-41a6-9b33-6781fb0baea6\",\"type\":\"BoxZoomTool\"},{\"attributes\":{\"active_drag\":\"auto\",\"active_inspect\":\"auto\",\"active_scroll\":\"auto\",\"active_tap\":\"auto\",\"tools\":[{\"id\":\"557f4f36-9278-4156-b4f8-4cdb9b921746\",\"type\":\"PanTool\"},{\"id\":\"40985906-4838-46db-8207-771ad085c1b7\",\"type\":\"WheelZoomTool\"},{\"id\":\"a8ab212d-c0c9-41a6-9b33-6781fb0baea6\",\"type\":\"BoxZoomTool\"},{\"id\":\"cf89ae30-0ef6-40e6-b40f-893423ab9256\",\"type\":\"SaveTool\"},{\"id\":\"a97e27a1-9488-45f1-836a-9595ecd5fb51\",\"type\":\"ResetTool\"},{\"id\":\"4140dd77-9737-4acf-9e5a-0d3c1007d2f8\",\"type\":\"HelpTool\"}]},\"id\":\"8b469af0-21e1-48b7-9433-b165d068c9f2\",\"type\":\"Toolbar\"},{\"attributes\":{},\"id\":\"cf89ae30-0ef6-40e6-b40f-893423ab9256\",\"type\":\"SaveTool\"},{\"attributes\":{},\"id\":\"a97e27a1-9488-45f1-836a-9595ecd5fb51\",\"type\":\"ResetTool\"},{\"attributes\":{},\"id\":\"44a2fb85-d0b9-4742-9747-7f1e097144a8\",\"type\":\"LinearScale\"},{\"attributes\":{},\"id\":\"4140dd77-9737-4acf-9e5a-0d3c1007d2f8\",\"type\":\"HelpTool\"}],\"root_ids\":[\"9dbc7914-9959-4cde-8fdd-ecbfe3a584e9\"]},\"title\":\"Bokeh Application\",\"version\":\"0.12.14\"}};\n",
       "  var render_items = [{\"docid\":\"f80c8892-e619-4e8d-8532-dc5bccb81606\",\"elementid\":\"c0d64194-73e0-46f2-8bde-2aad75d166c7\",\"modelid\":\"9dbc7914-9959-4cde-8fdd-ecbfe3a584e9\"}];\n",
       "  root.Bokeh.embed.embed_items_notebook(docs_json, render_items);\n",
       "\n",
       "  }\n",
       "  if (root.Bokeh !== undefined) {\n",
       "    embed_document(root);\n",
       "  } else {\n",
       "    var attempts = 0;\n",
       "    var timer = setInterval(function(root) {\n",
       "      if (root.Bokeh !== undefined) {\n",
       "        embed_document(root);\n",
       "        clearInterval(timer);\n",
       "      }\n",
       "      attempts++;\n",
       "      if (attempts > 100) {\n",
       "        console.log(\"Bokeh: ERROR: Unable to run BokehJS code because BokehJS library is missing\")\n",
       "        clearInterval(timer);\n",
       "      }\n",
       "    }, 10, root)\n",
       "  }\n",
       "})(window);"
      ],
      "application/vnd.bokehjs_exec.v0+json": ""
     },
     "metadata": {
      "application/vnd.bokehjs_exec.v0+json": {
       "id": "9dbc7914-9959-4cde-8fdd-ecbfe3a584e9"
      }
     },
     "output_type": "display_data"
    }
   ],
   "source": [
    "# Style function that takes in a plot\n",
    "def style(p):\n",
    "    # Title \n",
    "    p.title.align = 'center'\n",
    "    p.title.text_font_size = '20pt'\n",
    "    p.title.text_font = 'serif'\n",
    "    \n",
    "    # Axis titles\n",
    "    p.xaxis.axis_label_text_font_size = '14pt'\n",
    "    p.xaxis.axis_label_text_font_style = 'bold'\n",
    "    p.yaxis.axis_label_text_font_size = '14pt'\n",
    "    p.yaxis.axis_label_text_font_style = 'bold'\n",
    "    \n",
    "    # Tick labels\n",
    "    p.xaxis.major_label_text_font_size = '12pt'\n",
    "    p.yaxis.major_label_text_font_size = '12pt'\n",
    "    \n",
    "    return p\n",
    "\n",
    "# Add Aesthetics\n",
    "styled_p = style(p)\n",
    "\n",
    "# Show plot\n",
    "show(styled_p)"
   ]
  },
  {
   "cell_type": "markdown",
   "metadata": {},
   "source": [
    "# Column Data Source"
   ]
  },
  {
   "cell_type": "code",
   "execution_count": 13,
   "metadata": {},
   "outputs": [],
   "source": [
    "# Import the ColumnDataSource class\n",
    "from bokeh.models import ColumnDataSource"
   ]
  },
  {
   "cell_type": "code",
   "execution_count": 14,
   "metadata": {},
   "outputs": [
    {
     "data": {
      "text/html": [
       "<div>\n",
       "<style scoped>\n",
       "    .dataframe tbody tr th:only-of-type {\n",
       "        vertical-align: middle;\n",
       "    }\n",
       "\n",
       "    .dataframe tbody tr th {\n",
       "        vertical-align: top;\n",
       "    }\n",
       "\n",
       "    .dataframe thead th {\n",
       "        text-align: right;\n",
       "    }\n",
       "</style>\n",
       "<table border=\"1\" class=\"dataframe\">\n",
       "  <thead>\n",
       "    <tr style=\"text-align: right;\">\n",
       "      <th></th>\n",
       "      <th>flights</th>\n",
       "      <th>left</th>\n",
       "      <th>right</th>\n",
       "      <th>f_flights</th>\n",
       "      <th>f_interval</th>\n",
       "    </tr>\n",
       "  </thead>\n",
       "  <tbody>\n",
       "    <tr>\n",
       "      <th>0</th>\n",
       "      <td>276</td>\n",
       "      <td>-60.0</td>\n",
       "      <td>-55.0</td>\n",
       "      <td>276 flights</td>\n",
       "      <td>-60 to -55 minutes</td>\n",
       "    </tr>\n",
       "    <tr>\n",
       "      <th>1</th>\n",
       "      <td>636</td>\n",
       "      <td>-55.0</td>\n",
       "      <td>-50.0</td>\n",
       "      <td>636 flights</td>\n",
       "      <td>-55 to -50 minutes</td>\n",
       "    </tr>\n",
       "    <tr>\n",
       "      <th>2</th>\n",
       "      <td>1394</td>\n",
       "      <td>-50.0</td>\n",
       "      <td>-45.0</td>\n",
       "      <td>1394 flights</td>\n",
       "      <td>-50 to -45 minutes</td>\n",
       "    </tr>\n",
       "    <tr>\n",
       "      <th>3</th>\n",
       "      <td>2820</td>\n",
       "      <td>-45.0</td>\n",
       "      <td>-40.0</td>\n",
       "      <td>2820 flights</td>\n",
       "      <td>-45 to -40 minutes</td>\n",
       "    </tr>\n",
       "    <tr>\n",
       "      <th>4</th>\n",
       "      <td>5339</td>\n",
       "      <td>-40.0</td>\n",
       "      <td>-35.0</td>\n",
       "      <td>5339 flights</td>\n",
       "      <td>-40 to -35 minutes</td>\n",
       "    </tr>\n",
       "  </tbody>\n",
       "</table>\n",
       "</div>"
      ],
      "text/plain": [
       "   flights  left  right     f_flights          f_interval\n",
       "0      276 -60.0  -55.0   276 flights  -60 to -55 minutes\n",
       "1      636 -55.0  -50.0   636 flights  -55 to -50 minutes\n",
       "2     1394 -50.0  -45.0  1394 flights  -50 to -45 minutes\n",
       "3     2820 -45.0  -40.0  2820 flights  -45 to -40 minutes\n",
       "4     5339 -40.0  -35.0  5339 flights  -40 to -35 minutes"
      ]
     },
     "execution_count": 14,
     "metadata": {},
     "output_type": "execute_result"
    }
   ],
   "source": [
    "# Formatted columns for Hover Tooltips (see next section)\n",
    "delays['f_flights'] = ['%d flights' % count for count in delays['flights']]\n",
    "delays['f_interval'] = ['%d to %d minutes' % (left, right) for left, right in zip(delays['left'], delays['right'])]\n",
    "\n",
    "delays.head()"
   ]
  },
  {
   "cell_type": "code",
   "execution_count": 15,
   "metadata": {},
   "outputs": [
    {
     "data": {
      "text/plain": [
       "dict_keys(['flights', 'left', 'right', 'f_flights', 'f_interval', 'index'])"
      ]
     },
     "execution_count": 15,
     "metadata": {},
     "output_type": "execute_result"
    }
   ],
   "source": [
    "# Convert to column data source\n",
    "src = ColumnDataSource(delays)\n",
    "src.data.keys()"
   ]
  },
  {
   "cell_type": "markdown",
   "metadata": {},
   "source": [
    "# Add in Tooltips on Hover"
   ]
  },
  {
   "cell_type": "code",
   "execution_count": 16,
   "metadata": {},
   "outputs": [],
   "source": [
    "# Import the hover tool class\n",
    "from bokeh.models import HoverTool"
   ]
  },
  {
   "cell_type": "markdown",
   "metadata": {},
   "source": [
    "Example of hovertool referring to both field in our datasource and attribute of the graph.\n",
    "\n",
    "```python\n",
    "h = HoverTool(tooltips = [('Delay Interval Left ', '@left'),\n",
    "                          ('(x,y)', '($x, $y)')])\n",
    "```"
   ]
  },
  {
   "cell_type": "code",
   "execution_count": 17,
   "metadata": {},
   "outputs": [],
   "source": [
    "h = HoverTool(tooltips = [('Delay Interval Left ', '@left'),\n",
    "                          ('(x,y)', '($x, $y)')])"
   ]
  },
  {
   "cell_type": "code",
   "execution_count": 18,
   "metadata": {},
   "outputs": [
    {
     "data": {
      "text/html": [
       "\n",
       "<div class=\"bk-root\">\n",
       "    <div class=\"bk-plotdiv\" id=\"0ce14e2c-9f4c-400c-b332-08f558728b2c\"></div>\n",
       "</div>"
      ]
     },
     "metadata": {},
     "output_type": "display_data"
    },
    {
     "data": {
      "application/javascript": [
       "(function(root) {\n",
       "  function embed_document(root) {\n",
       "    \n",
       "  var docs_json = {\"ea1969fa-f665-4402-a0f7-a9fbd70b3991\":{\"roots\":{\"references\":[{\"attributes\":{\"below\":[{\"id\":\"21947cae-4c4d-48ab-902e-d9493dc37aff\",\"type\":\"LinearAxis\"}],\"left\":[{\"id\":\"70305f64-136a-4c1f-ad09-5144520c732c\",\"type\":\"LinearAxis\"}],\"renderers\":[{\"id\":\"21947cae-4c4d-48ab-902e-d9493dc37aff\",\"type\":\"LinearAxis\"},{\"id\":\"35deaa12-e925-4483-a27d-a4ee75db9f92\",\"type\":\"Grid\"},{\"id\":\"70305f64-136a-4c1f-ad09-5144520c732c\",\"type\":\"LinearAxis\"},{\"id\":\"61ebdcb8-8d23-4c80-9a75-bb1dcc8c0a29\",\"type\":\"Grid\"},{\"id\":\"3ef953cd-5ee9-4be0-b82c-be8f7bf42eb2\",\"type\":\"BoxAnnotation\"},{\"id\":\"e53bb611-c4ae-4652-8a40-cb76cea31c8e\",\"type\":\"GlyphRenderer\"}],\"title\":{\"id\":\"3a475f68-95cd-4871-b733-c0672af4f03f\",\"type\":\"Title\"},\"toolbar\":{\"id\":\"b2dcad75-2bfd-4e9f-b8c6-bb920cafee56\",\"type\":\"Toolbar\"},\"x_range\":{\"id\":\"281d9d27-81cb-4671-8cdc-78f61ed1d0b1\",\"type\":\"DataRange1d\"},\"x_scale\":{\"id\":\"11bd748c-5da4-44ca-a663-c59c37f1c702\",\"type\":\"LinearScale\"},\"y_range\":{\"id\":\"c4888792-7199-48e0-b7d9-3c85c7940103\",\"type\":\"DataRange1d\"},\"y_scale\":{\"id\":\"659fa318-f498-456f-9b41-2f188634b37d\",\"type\":\"LinearScale\"}},\"id\":\"dd31b235-74ca-4311-ae4c-dc616995b4b4\",\"subtype\":\"Figure\",\"type\":\"Plot\"},{\"attributes\":{},\"id\":\"659fa318-f498-456f-9b41-2f188634b37d\",\"type\":\"LinearScale\"},{\"attributes\":{\"overlay\":{\"id\":\"3ef953cd-5ee9-4be0-b82c-be8f7bf42eb2\",\"type\":\"BoxAnnotation\"}},\"id\":\"10aac95a-3482-420c-be25-eb865c8bff66\",\"type\":\"BoxZoomTool\"},{\"attributes\":{},\"id\":\"67cadd16-a24a-4910-b63e-d8e1da364644\",\"type\":\"PanTool\"},{\"attributes\":{\"bottom\":{\"value\":0},\"fill_alpha\":{\"value\":0.1},\"fill_color\":{\"value\":\"#1f77b4\"},\"left\":{\"field\":\"left\"},\"line_alpha\":{\"value\":0.1},\"line_color\":{\"value\":\"#1f77b4\"},\"right\":{\"field\":\"right\"},\"top\":{\"field\":\"flights\"}},\"id\":\"db752658-27b1-4b1f-b42f-781c2eef55ba\",\"type\":\"Quad\"},{\"attributes\":{\"bottom\":{\"value\":0},\"fill_color\":{\"value\":\"navy\"},\"left\":{\"field\":\"left\"},\"line_color\":{\"value\":\"#1f77b4\"},\"right\":{\"field\":\"right\"},\"top\":{\"field\":\"flights\"}},\"id\":\"36f39fbd-1351-419d-9795-d195eb1180c1\",\"type\":\"Quad\"},{\"attributes\":{\"callback\":null},\"id\":\"281d9d27-81cb-4671-8cdc-78f61ed1d0b1\",\"type\":\"DataRange1d\"},{\"attributes\":{\"active_drag\":\"auto\",\"active_inspect\":\"auto\",\"active_scroll\":\"auto\",\"active_tap\":\"auto\",\"tools\":[{\"id\":\"67cadd16-a24a-4910-b63e-d8e1da364644\",\"type\":\"PanTool\"},{\"id\":\"095b9086-7b95-44e1-8614-a32a6ee2b695\",\"type\":\"WheelZoomTool\"},{\"id\":\"10aac95a-3482-420c-be25-eb865c8bff66\",\"type\":\"BoxZoomTool\"},{\"id\":\"91641c9e-26be-409a-af3b-23c55fafd3a3\",\"type\":\"SaveTool\"},{\"id\":\"66773f72-da74-42f5-abd0-2a83aaa6a6e4\",\"type\":\"ResetTool\"},{\"id\":\"4f140f74-1ddd-4590-befe-b9df6786379f\",\"type\":\"HelpTool\"},{\"id\":\"87e38608-94aa-477b-b9c0-f05a5397b51c\",\"type\":\"HoverTool\"}]},\"id\":\"b2dcad75-2bfd-4e9f-b8c6-bb920cafee56\",\"type\":\"Toolbar\"},{\"attributes\":{\"plot\":{\"id\":\"dd31b235-74ca-4311-ae4c-dc616995b4b4\",\"subtype\":\"Figure\",\"type\":\"Plot\"},\"ticker\":{\"id\":\"8e9b03c1-1b52-4239-81b4-a2f38ae3aa7f\",\"type\":\"BasicTicker\"}},\"id\":\"35deaa12-e925-4483-a27d-a4ee75db9f92\",\"type\":\"Grid\"},{\"attributes\":{},\"id\":\"8e9b03c1-1b52-4239-81b4-a2f38ae3aa7f\",\"type\":\"BasicTicker\"},{\"attributes\":{\"align\":\"center\",\"plot\":null,\"text\":\"Histogram of Arrival Delays\",\"text_font\":\"serif\",\"text_font_size\":{\"value\":\"20pt\"}},\"id\":\"3a475f68-95cd-4871-b733-c0672af4f03f\",\"type\":\"Title\"},{\"attributes\":{\"source\":{\"id\":\"c76dff9f-6b65-457a-8763-a989466550e3\",\"type\":\"ColumnDataSource\"}},\"id\":\"2c1a753d-0b0a-4458-8fbf-4b6dea6524b5\",\"type\":\"CDSView\"},{\"attributes\":{},\"id\":\"fb5be2bc-5685-4f3c-9812-2f3758baa8df\",\"type\":\"BasicTicker\"},{\"attributes\":{\"bottom_units\":\"screen\",\"fill_alpha\":{\"value\":0.5},\"fill_color\":{\"value\":\"lightgrey\"},\"left_units\":\"screen\",\"level\":\"overlay\",\"line_alpha\":{\"value\":1.0},\"line_color\":{\"value\":\"black\"},\"line_dash\":[4,4],\"line_width\":{\"value\":2},\"plot\":null,\"render_mode\":\"css\",\"right_units\":\"screen\",\"top_units\":\"screen\"},\"id\":\"3ef953cd-5ee9-4be0-b82c-be8f7bf42eb2\",\"type\":\"BoxAnnotation\"},{\"attributes\":{\"callback\":null},\"id\":\"c4888792-7199-48e0-b7d9-3c85c7940103\",\"type\":\"DataRange1d\"},{\"attributes\":{\"axis_label\":\"Number of Flights\",\"axis_label_text_font_size\":{\"value\":\"14pt\"},\"axis_label_text_font_style\":\"bold\",\"formatter\":{\"id\":\"e06faa26-ffcc-4cc9-bcfb-206607564af3\",\"type\":\"BasicTickFormatter\"},\"major_label_text_font_size\":{\"value\":\"12pt\"},\"plot\":{\"id\":\"dd31b235-74ca-4311-ae4c-dc616995b4b4\",\"subtype\":\"Figure\",\"type\":\"Plot\"},\"ticker\":{\"id\":\"fb5be2bc-5685-4f3c-9812-2f3758baa8df\",\"type\":\"BasicTicker\"}},\"id\":\"70305f64-136a-4c1f-ad09-5144520c732c\",\"type\":\"LinearAxis\"},{\"attributes\":{},\"id\":\"11bd748c-5da4-44ca-a663-c59c37f1c702\",\"type\":\"LinearScale\"},{\"attributes\":{},\"id\":\"91641c9e-26be-409a-af3b-23c55fafd3a3\",\"type\":\"SaveTool\"},{\"attributes\":{},\"id\":\"236a058d-01c0-4565-88a8-c04cfe5c4a59\",\"type\":\"BasicTickFormatter\"},{\"attributes\":{},\"id\":\"e06faa26-ffcc-4cc9-bcfb-206607564af3\",\"type\":\"BasicTickFormatter\"},{\"attributes\":{},\"id\":\"66773f72-da74-42f5-abd0-2a83aaa6a6e4\",\"type\":\"ResetTool\"},{\"attributes\":{\"callback\":null,\"tooltips\":[[\"Delay\",\"@f_interval\"],[\"Num of Flights\",\"@f_flights\"]]},\"id\":\"87e38608-94aa-477b-b9c0-f05a5397b51c\",\"type\":\"HoverTool\"},{\"attributes\":{\"callback\":null,\"column_names\":[\"flights\",\"left\",\"right\",\"f_flights\",\"f_interval\",\"index\"],\"data\":{\"f_flights\":[\"276 flights\",\"636 flights\",\"1394 flights\",\"2820 flights\",\"5339 flights\",\"9420 flights\",\"15551 flights\",\"23546 flights\",\"31319 flights\",\"34857 flights\",\"33790 flights\",\"29786 flights\",\"24391 flights\",\"19028 flights\",\"14894 flights\",\"11324 flights\",\"8815 flights\",\"7159 flights\",\"5908 flights\",\"4896 flights\",\"4130 flights\",\"3630 flights\",\"3139 flights\",\"2782 flights\",\"2455 flights\",\"2179 flights\",\"1973 flights\",\"1805 flights\",\"1646 flights\",\"1454 flights\",\"1360 flights\",\"1286 flights\",\"1167 flights\",\"1013 flights\",\"945 flights\",\"1000 flights\"],\"f_interval\":[\"-60 to -55 minutes\",\"-55 to -50 minutes\",\"-50 to -45 minutes\",\"-45 to -40 minutes\",\"-40 to -35 minutes\",\"-35 to -30 minutes\",\"-30 to -25 minutes\",\"-25 to -20 minutes\",\"-20 to -15 minutes\",\"-15 to -10 minutes\",\"-10 to -5 minutes\",\"-5 to 0 minutes\",\"0 to 5 minutes\",\"5 to 10 minutes\",\"10 to 15 minutes\",\"15 to 20 minutes\",\"20 to 25 minutes\",\"25 to 30 minutes\",\"30 to 35 minutes\",\"35 to 40 minutes\",\"40 to 45 minutes\",\"45 to 50 minutes\",\"50 to 55 minutes\",\"55 to 60 minutes\",\"60 to 65 minutes\",\"65 to 70 minutes\",\"70 to 75 minutes\",\"75 to 80 minutes\",\"80 to 85 minutes\",\"85 to 90 minutes\",\"90 to 95 minutes\",\"95 to 100 minutes\",\"100 to 105 minutes\",\"105 to 110 minutes\",\"110 to 115 minutes\",\"115 to 120 minutes\"],\"flights\":[276,636,1394,2820,5339,9420,15551,23546,31319,34857,33790,29786,24391,19028,14894,11324,8815,7159,5908,4896,4130,3630,3139,2782,2455,2179,1973,1805,1646,1454,1360,1286,1167,1013,945,1000],\"index\":[0,1,2,3,4,5,6,7,8,9,10,11,12,13,14,15,16,17,18,19,20,21,22,23,24,25,26,27,28,29,30,31,32,33,34,35],\"left\":{\"__ndarray__\":\"AAAAAAAATsAAAAAAAIBLwAAAAAAAAEnAAAAAAACARsAAAAAAAABEwAAAAAAAgEHAAAAAAAAAPsAAAAAAAAA5wAAAAAAAADTAAAAAAAAALsAAAAAAAAAkwAAAAAAAABTAAAAAAAAAAAAAAAAAAAAUQAAAAAAAACRAAAAAAAAALkAAAAAAAAA0QAAAAAAAADlAAAAAAAAAPkAAAAAAAIBBQAAAAAAAAERAAAAAAACARkAAAAAAAABJQAAAAAAAgEtAAAAAAAAATkAAAAAAAEBQQAAAAAAAgFFAAAAAAADAUkAAAAAAAABUQAAAAAAAQFVAAAAAAACAVkAAAAAAAMBXQAAAAAAAAFlAAAAAAABAWkAAAAAAAIBbQAAAAAAAwFxA\",\"dtype\":\"float64\",\"shape\":[36]},\"right\":{\"__ndarray__\":\"AAAAAACAS8AAAAAAAABJwAAAAAAAgEbAAAAAAAAARMAAAAAAAIBBwAAAAAAAAD7AAAAAAAAAOcAAAAAAAAA0wAAAAAAAAC7AAAAAAAAAJMAAAAAAAAAUwAAAAAAAAAAAAAAAAAAAFEAAAAAAAAAkQAAAAAAAAC5AAAAAAAAANEAAAAAAAAA5QAAAAAAAAD5AAAAAAACAQUAAAAAAAABEQAAAAAAAgEZAAAAAAAAASUAAAAAAAIBLQAAAAAAAAE5AAAAAAABAUEAAAAAAAIBRQAAAAAAAwFJAAAAAAAAAVEAAAAAAAEBVQAAAAAAAgFZAAAAAAADAV0AAAAAAAABZQAAAAAAAQFpAAAAAAACAW0AAAAAAAMBcQAAAAAAAAF5A\",\"dtype\":\"float64\",\"shape\":[36]}}},\"id\":\"c76dff9f-6b65-457a-8763-a989466550e3\",\"type\":\"ColumnDataSource\"},{\"attributes\":{},\"id\":\"4f140f74-1ddd-4590-befe-b9df6786379f\",\"type\":\"HelpTool\"},{\"attributes\":{\"axis_label\":\"Delay (min)]\",\"axis_label_text_font_size\":{\"value\":\"14pt\"},\"axis_label_text_font_style\":\"bold\",\"formatter\":{\"id\":\"236a058d-01c0-4565-88a8-c04cfe5c4a59\",\"type\":\"BasicTickFormatter\"},\"major_label_text_font_size\":{\"value\":\"12pt\"},\"plot\":{\"id\":\"dd31b235-74ca-4311-ae4c-dc616995b4b4\",\"subtype\":\"Figure\",\"type\":\"Plot\"},\"ticker\":{\"id\":\"8e9b03c1-1b52-4239-81b4-a2f38ae3aa7f\",\"type\":\"BasicTicker\"}},\"id\":\"21947cae-4c4d-48ab-902e-d9493dc37aff\",\"type\":\"LinearAxis\"},{\"attributes\":{\"data_source\":{\"id\":\"c76dff9f-6b65-457a-8763-a989466550e3\",\"type\":\"ColumnDataSource\"},\"glyph\":{\"id\":\"8511a109-23c4-4a5b-99f0-0b2630d53a5b\",\"type\":\"Quad\"},\"hover_glyph\":{\"id\":\"36f39fbd-1351-419d-9795-d195eb1180c1\",\"type\":\"Quad\"},\"muted_glyph\":null,\"nonselection_glyph\":{\"id\":\"db752658-27b1-4b1f-b42f-781c2eef55ba\",\"type\":\"Quad\"},\"selection_glyph\":null,\"view\":{\"id\":\"2c1a753d-0b0a-4458-8fbf-4b6dea6524b5\",\"type\":\"CDSView\"}},\"id\":\"e53bb611-c4ae-4652-8a40-cb76cea31c8e\",\"type\":\"GlyphRenderer\"},{\"attributes\":{\"bottom\":{\"value\":0},\"fill_alpha\":{\"value\":0.75},\"fill_color\":{\"value\":\"red\"},\"left\":{\"field\":\"left\"},\"right\":{\"field\":\"right\"},\"top\":{\"field\":\"flights\"}},\"id\":\"8511a109-23c4-4a5b-99f0-0b2630d53a5b\",\"type\":\"Quad\"},{\"attributes\":{\"dimension\":1,\"plot\":{\"id\":\"dd31b235-74ca-4311-ae4c-dc616995b4b4\",\"subtype\":\"Figure\",\"type\":\"Plot\"},\"ticker\":{\"id\":\"fb5be2bc-5685-4f3c-9812-2f3758baa8df\",\"type\":\"BasicTicker\"}},\"id\":\"61ebdcb8-8d23-4c80-9a75-bb1dcc8c0a29\",\"type\":\"Grid\"},{\"attributes\":{},\"id\":\"095b9086-7b95-44e1-8614-a32a6ee2b695\",\"type\":\"WheelZoomTool\"}],\"root_ids\":[\"dd31b235-74ca-4311-ae4c-dc616995b4b4\"]},\"title\":\"Bokeh Application\",\"version\":\"0.12.14\"}};\n",
       "  var render_items = [{\"docid\":\"ea1969fa-f665-4402-a0f7-a9fbd70b3991\",\"elementid\":\"0ce14e2c-9f4c-400c-b332-08f558728b2c\",\"modelid\":\"dd31b235-74ca-4311-ae4c-dc616995b4b4\"}];\n",
       "  root.Bokeh.embed.embed_items_notebook(docs_json, render_items);\n",
       "\n",
       "  }\n",
       "  if (root.Bokeh !== undefined) {\n",
       "    embed_document(root);\n",
       "  } else {\n",
       "    var attempts = 0;\n",
       "    var timer = setInterval(function(root) {\n",
       "      if (root.Bokeh !== undefined) {\n",
       "        embed_document(root);\n",
       "        clearInterval(timer);\n",
       "      }\n",
       "      attempts++;\n",
       "      if (attempts > 100) {\n",
       "        console.log(\"Bokeh: ERROR: Unable to run BokehJS code because BokehJS library is missing\")\n",
       "        clearInterval(timer);\n",
       "      }\n",
       "    }, 10, root)\n",
       "  }\n",
       "})(window);"
      ],
      "application/vnd.bokehjs_exec.v0+json": ""
     },
     "metadata": {
      "application/vnd.bokehjs_exec.v0+json": {
       "id": "dd31b235-74ca-4311-ae4c-dc616995b4b4"
      }
     },
     "output_type": "display_data"
    }
   ],
   "source": [
    "# Create the blank plot\n",
    "p = figure(plot_height = 600, plot_width = 600, \n",
    "           title = 'Histogram of Arrival Delays',\n",
    "          x_axis_label = 'Delay (min)]', \n",
    "           y_axis_label = 'Number of Flights')\n",
    "\n",
    "# Add a quad glyph with source this time\n",
    "p.quad(bottom=0, top='flights', left='left', right='right', source=src,\n",
    "       fill_color='red', line_color='black', fill_alpha = 0.75,\n",
    "       hover_fill_alpha = 1.0, hover_fill_color = 'navy')\n",
    "\n",
    "# Add a hover tool referring to the formatted columns\n",
    "hover = HoverTool(tooltips = [('Delay', '@f_interval'),\n",
    "                             ('Num of Flights', '@f_flights')])\n",
    "\n",
    "# Style the plot\n",
    "p = style(p)\n",
    "\n",
    "# Add the hover tool to the graph\n",
    "p.add_tools(hover)\n",
    "\n",
    "# Show the plot\n",
    "show(p)"
   ]
  },
  {
   "cell_type": "markdown",
   "metadata": {},
   "source": [
    "## Save the Plot"
   ]
  },
  {
   "cell_type": "markdown",
   "metadata": {},
   "source": [
    "```python\n",
    "from bokeh.io import output_file\n",
    "\n",
    "output_file('hist.html')\n",
    "show(p)\n",
    "```"
   ]
  },
  {
   "cell_type": "markdown",
   "metadata": {},
   "source": [
    "# Delay Proportion by Carrier"
   ]
  },
  {
   "cell_type": "code",
   "execution_count": 20,
   "metadata": {},
   "outputs": [],
   "source": [
    "# Group by the carrier to find the most common\n",
    "carrier_nums = flights.groupby('carrier')['year'].count().sort_values(ascending=False)"
   ]
  },
  {
   "cell_type": "code",
   "execution_count": 21,
   "metadata": {},
   "outputs": [
    {
     "data": {
      "text/plain": [
       "carrier\n",
       "UA    58665\n",
       "B6    54635\n",
       "EV    54173\n",
       "DL    48110\n",
       "AA    32729\n",
       "MQ    26397\n",
       "US    20536\n",
       "9E    18460\n",
       "WN    12275\n",
       "VX     5162\n",
       "FL     3260\n",
       "AS      714\n",
       "F9      685\n",
       "YV      601\n",
       "HA      342\n",
       "OO       32\n",
       "Name: year, dtype: int64"
      ]
     },
     "execution_count": 21,
     "metadata": {},
     "output_type": "execute_result"
    }
   ],
   "source": [
    "carrier_nums"
   ]
  },
  {
   "cell_type": "code",
   "execution_count": 22,
   "metadata": {},
   "outputs": [],
   "source": [
    "# Subset to the 8 most common carriers\n",
    "flights = flights[flights['carrier'].isin(carrier_nums.index[:5])]\n",
    "\n",
    "# Subset to only [-2, +2] hour delays\n",
    "flights = flights[(flights['arr_delay'] >= -120) & (flights['arr_delay'] <= 120)]"
   ]
  },
  {
   "cell_type": "markdown",
   "metadata": {},
   "source": [
    "## Find actual carrier names"
   ]
  },
  {
   "cell_type": "code",
   "execution_count": 23,
   "metadata": {},
   "outputs": [
    {
     "data": {
      "text/html": [
       "<div>\n",
       "<style scoped>\n",
       "    .dataframe tbody tr th:only-of-type {\n",
       "        vertical-align: middle;\n",
       "    }\n",
       "\n",
       "    .dataframe tbody tr th {\n",
       "        vertical-align: top;\n",
       "    }\n",
       "\n",
       "    .dataframe thead th {\n",
       "        text-align: right;\n",
       "    }\n",
       "</style>\n",
       "<table border=\"1\" class=\"dataframe\">\n",
       "  <thead>\n",
       "    <tr style=\"text-align: right;\">\n",
       "      <th></th>\n",
       "      <th>carrier</th>\n",
       "      <th>name</th>\n",
       "    </tr>\n",
       "  </thead>\n",
       "  <tbody>\n",
       "    <tr>\n",
       "      <th>0</th>\n",
       "      <td>9E</td>\n",
       "      <td>Endeavor Air Inc.</td>\n",
       "    </tr>\n",
       "    <tr>\n",
       "      <th>1</th>\n",
       "      <td>AA</td>\n",
       "      <td>American Airlines Inc.</td>\n",
       "    </tr>\n",
       "    <tr>\n",
       "      <th>2</th>\n",
       "      <td>AS</td>\n",
       "      <td>Alaska Airlines Inc.</td>\n",
       "    </tr>\n",
       "    <tr>\n",
       "      <th>3</th>\n",
       "      <td>B6</td>\n",
       "      <td>JetBlue Airways</td>\n",
       "    </tr>\n",
       "    <tr>\n",
       "      <th>4</th>\n",
       "      <td>DL</td>\n",
       "      <td>Delta Air Lines Inc.</td>\n",
       "    </tr>\n",
       "  </tbody>\n",
       "</table>\n",
       "</div>"
      ],
      "text/plain": [
       "  carrier                    name\n",
       "0      9E       Endeavor Air Inc.\n",
       "1      AA  American Airlines Inc.\n",
       "2      AS    Alaska Airlines Inc.\n",
       "3      B6         JetBlue Airways\n",
       "4      DL    Delta Air Lines Inc."
      ]
     },
     "execution_count": 23,
     "metadata": {},
     "output_type": "execute_result"
    }
   ],
   "source": [
    "carrier_names = pd.read_csv('../data/airlines.csv')\n",
    "carrier_names.head()"
   ]
  },
  {
   "cell_type": "code",
   "execution_count": 24,
   "metadata": {},
   "outputs": [
    {
     "data": {
      "text/html": [
       "<div>\n",
       "<style scoped>\n",
       "    .dataframe tbody tr th:only-of-type {\n",
       "        vertical-align: middle;\n",
       "    }\n",
       "\n",
       "    .dataframe tbody tr th {\n",
       "        vertical-align: top;\n",
       "    }\n",
       "\n",
       "    .dataframe thead th {\n",
       "        text-align: right;\n",
       "    }\n",
       "</style>\n",
       "<table border=\"1\" class=\"dataframe\">\n",
       "  <thead>\n",
       "    <tr style=\"text-align: right;\">\n",
       "      <th></th>\n",
       "      <th>year</th>\n",
       "      <th>month</th>\n",
       "      <th>day</th>\n",
       "      <th>dep_time</th>\n",
       "      <th>sched_dep_time</th>\n",
       "      <th>dep_delay</th>\n",
       "      <th>arr_time</th>\n",
       "      <th>sched_arr_time</th>\n",
       "      <th>arr_delay</th>\n",
       "      <th>carrier</th>\n",
       "      <th>flight</th>\n",
       "      <th>tailnum</th>\n",
       "      <th>origin</th>\n",
       "      <th>dest</th>\n",
       "      <th>air_time</th>\n",
       "      <th>distance</th>\n",
       "      <th>hour</th>\n",
       "      <th>minute</th>\n",
       "      <th>time_hour</th>\n",
       "      <th>name</th>\n",
       "    </tr>\n",
       "  </thead>\n",
       "  <tbody>\n",
       "    <tr>\n",
       "      <th>0</th>\n",
       "      <td>2013</td>\n",
       "      <td>1</td>\n",
       "      <td>1</td>\n",
       "      <td>517.0</td>\n",
       "      <td>515</td>\n",
       "      <td>2.0</td>\n",
       "      <td>830.0</td>\n",
       "      <td>819</td>\n",
       "      <td>11.0</td>\n",
       "      <td>UA</td>\n",
       "      <td>1545</td>\n",
       "      <td>N14228</td>\n",
       "      <td>EWR</td>\n",
       "      <td>IAH</td>\n",
       "      <td>227.0</td>\n",
       "      <td>1400</td>\n",
       "      <td>5</td>\n",
       "      <td>15</td>\n",
       "      <td>2013-01-01 05:00:00</td>\n",
       "      <td>United Air Lines Inc.</td>\n",
       "    </tr>\n",
       "    <tr>\n",
       "      <th>1</th>\n",
       "      <td>2013</td>\n",
       "      <td>1</td>\n",
       "      <td>1</td>\n",
       "      <td>533.0</td>\n",
       "      <td>529</td>\n",
       "      <td>4.0</td>\n",
       "      <td>850.0</td>\n",
       "      <td>830</td>\n",
       "      <td>20.0</td>\n",
       "      <td>UA</td>\n",
       "      <td>1714</td>\n",
       "      <td>N24211</td>\n",
       "      <td>LGA</td>\n",
       "      <td>IAH</td>\n",
       "      <td>227.0</td>\n",
       "      <td>1416</td>\n",
       "      <td>5</td>\n",
       "      <td>29</td>\n",
       "      <td>2013-01-01 05:00:00</td>\n",
       "      <td>United Air Lines Inc.</td>\n",
       "    </tr>\n",
       "    <tr>\n",
       "      <th>2</th>\n",
       "      <td>2013</td>\n",
       "      <td>1</td>\n",
       "      <td>1</td>\n",
       "      <td>542.0</td>\n",
       "      <td>540</td>\n",
       "      <td>2.0</td>\n",
       "      <td>923.0</td>\n",
       "      <td>850</td>\n",
       "      <td>33.0</td>\n",
       "      <td>AA</td>\n",
       "      <td>1141</td>\n",
       "      <td>N619AA</td>\n",
       "      <td>JFK</td>\n",
       "      <td>MIA</td>\n",
       "      <td>160.0</td>\n",
       "      <td>1089</td>\n",
       "      <td>5</td>\n",
       "      <td>40</td>\n",
       "      <td>2013-01-01 05:00:00</td>\n",
       "      <td>American Airlines Inc.</td>\n",
       "    </tr>\n",
       "    <tr>\n",
       "      <th>3</th>\n",
       "      <td>2013</td>\n",
       "      <td>1</td>\n",
       "      <td>1</td>\n",
       "      <td>544.0</td>\n",
       "      <td>545</td>\n",
       "      <td>-1.0</td>\n",
       "      <td>1004.0</td>\n",
       "      <td>1022</td>\n",
       "      <td>-18.0</td>\n",
       "      <td>B6</td>\n",
       "      <td>725</td>\n",
       "      <td>N804JB</td>\n",
       "      <td>JFK</td>\n",
       "      <td>BQN</td>\n",
       "      <td>183.0</td>\n",
       "      <td>1576</td>\n",
       "      <td>5</td>\n",
       "      <td>45</td>\n",
       "      <td>2013-01-01 05:00:00</td>\n",
       "      <td>JetBlue Airways</td>\n",
       "    </tr>\n",
       "    <tr>\n",
       "      <th>4</th>\n",
       "      <td>2013</td>\n",
       "      <td>1</td>\n",
       "      <td>1</td>\n",
       "      <td>554.0</td>\n",
       "      <td>600</td>\n",
       "      <td>-6.0</td>\n",
       "      <td>812.0</td>\n",
       "      <td>837</td>\n",
       "      <td>-25.0</td>\n",
       "      <td>DL</td>\n",
       "      <td>461</td>\n",
       "      <td>N668DN</td>\n",
       "      <td>LGA</td>\n",
       "      <td>ATL</td>\n",
       "      <td>116.0</td>\n",
       "      <td>762</td>\n",
       "      <td>6</td>\n",
       "      <td>0</td>\n",
       "      <td>2013-01-01 06:00:00</td>\n",
       "      <td>Delta Air Lines Inc.</td>\n",
       "    </tr>\n",
       "  </tbody>\n",
       "</table>\n",
       "</div>"
      ],
      "text/plain": [
       "   year  month  day  dep_time  sched_dep_time  dep_delay  arr_time  \\\n",
       "0  2013      1    1     517.0             515        2.0     830.0   \n",
       "1  2013      1    1     533.0             529        4.0     850.0   \n",
       "2  2013      1    1     542.0             540        2.0     923.0   \n",
       "3  2013      1    1     544.0             545       -1.0    1004.0   \n",
       "4  2013      1    1     554.0             600       -6.0     812.0   \n",
       "\n",
       "   sched_arr_time  arr_delay carrier  flight tailnum origin dest  air_time  \\\n",
       "0             819       11.0      UA    1545  N14228    EWR  IAH     227.0   \n",
       "1             830       20.0      UA    1714  N24211    LGA  IAH     227.0   \n",
       "2             850       33.0      AA    1141  N619AA    JFK  MIA     160.0   \n",
       "3            1022      -18.0      B6     725  N804JB    JFK  BQN     183.0   \n",
       "4             837      -25.0      DL     461  N668DN    LGA  ATL     116.0   \n",
       "\n",
       "   distance  hour  minute            time_hour                    name  \n",
       "0      1400     5      15  2013-01-01 05:00:00   United Air Lines Inc.  \n",
       "1      1416     5      29  2013-01-01 05:00:00   United Air Lines Inc.  \n",
       "2      1089     5      40  2013-01-01 05:00:00  American Airlines Inc.  \n",
       "3      1576     5      45  2013-01-01 05:00:00         JetBlue Airways  \n",
       "4       762     6       0  2013-01-01 06:00:00    Delta Air Lines Inc.  "
      ]
     },
     "execution_count": 24,
     "metadata": {},
     "output_type": "execute_result"
    }
   ],
   "source": [
    "flights = flights.merge(carrier_names, how = 'left', on = 'carrier')\n",
    "flights.head()"
   ]
  },
  {
   "cell_type": "code",
   "execution_count": 25,
   "metadata": {},
   "outputs": [],
   "source": [
    "from bokeh.palettes import Category10_5\n",
    "\n",
    "by_carrier = pd.DataFrame(columns=['proportion', 'left', 'right', \n",
    "                                   'f_proportion', 'f_interval',\n",
    "                                   'name', 'color'])\n",
    "\n",
    "# Iterate through all the carriers\n",
    "for i, carrier_name in enumerate(flights['name'].unique()):\n",
    "    \n",
    "    # Subset to the carrier\n",
    "    subset = flights[flights['name'] == carrier_name]\n",
    "    \n",
    "    # Create a histogram with 5 minute bins\n",
    "    arr_hist, edges = np.histogram(subset['arr_delay'], bins = int(240/5), range = [-120, 120])\n",
    "    \n",
    "    # Divide the counts by the total to get a proportion\n",
    "    arr_df = pd.DataFrame({'proportion': arr_hist / np.sum(arr_hist), 'left': edges[:-1], 'right': edges[1:] })\n",
    "    \n",
    "    # Format the proportion \n",
    "    arr_df['f_proportion'] = ['%0.5f' % proportion for proportion in arr_df['proportion']]\n",
    "    \n",
    "    # Format the interval\n",
    "    arr_df['f_interval'] = ['%d to %d minutes' % (left, right) for left, right in zip(arr_df['left'], arr_df['right'])]\n",
    "    \n",
    "    # Assign the carrier for labels\n",
    "    arr_df['name'] = carrier_name\n",
    "    \n",
    "    # Color each carrier differently\n",
    "    arr_df['color'] = Category10_5[i]\n",
    "\n",
    "    # Add to the overall dataframe\n",
    "    by_carrier = by_carrier.append(arr_df)\n",
    "    \n",
    "# Overall dataframe\n",
    "by_carrier = by_carrier.sort_values(['name', 'left'])"
   ]
  },
  {
   "cell_type": "code",
   "execution_count": 26,
   "metadata": {},
   "outputs": [
    {
     "data": {
      "text/html": [
       "<div>\n",
       "<style scoped>\n",
       "    .dataframe tbody tr th:only-of-type {\n",
       "        vertical-align: middle;\n",
       "    }\n",
       "\n",
       "    .dataframe tbody tr th {\n",
       "        vertical-align: top;\n",
       "    }\n",
       "\n",
       "    .dataframe thead th {\n",
       "        text-align: right;\n",
       "    }\n",
       "</style>\n",
       "<table border=\"1\" class=\"dataframe\">\n",
       "  <thead>\n",
       "    <tr style=\"text-align: right;\">\n",
       "      <th></th>\n",
       "      <th>color</th>\n",
       "      <th>f_interval</th>\n",
       "      <th>f_proportion</th>\n",
       "      <th>left</th>\n",
       "      <th>name</th>\n",
       "      <th>proportion</th>\n",
       "      <th>right</th>\n",
       "    </tr>\n",
       "  </thead>\n",
       "  <tbody>\n",
       "    <tr>\n",
       "      <th>0</th>\n",
       "      <td>#ff7f0e</td>\n",
       "      <td>-120 to -115 minutes</td>\n",
       "      <td>0.00000</td>\n",
       "      <td>-120.0</td>\n",
       "      <td>American Airlines Inc.</td>\n",
       "      <td>0.0</td>\n",
       "      <td>-115.0</td>\n",
       "    </tr>\n",
       "    <tr>\n",
       "      <th>1</th>\n",
       "      <td>#ff7f0e</td>\n",
       "      <td>-115 to -110 minutes</td>\n",
       "      <td>0.00000</td>\n",
       "      <td>-115.0</td>\n",
       "      <td>American Airlines Inc.</td>\n",
       "      <td>0.0</td>\n",
       "      <td>-110.0</td>\n",
       "    </tr>\n",
       "    <tr>\n",
       "      <th>2</th>\n",
       "      <td>#ff7f0e</td>\n",
       "      <td>-110 to -105 minutes</td>\n",
       "      <td>0.00000</td>\n",
       "      <td>-110.0</td>\n",
       "      <td>American Airlines Inc.</td>\n",
       "      <td>0.0</td>\n",
       "      <td>-105.0</td>\n",
       "    </tr>\n",
       "    <tr>\n",
       "      <th>3</th>\n",
       "      <td>#ff7f0e</td>\n",
       "      <td>-105 to -100 minutes</td>\n",
       "      <td>0.00000</td>\n",
       "      <td>-105.0</td>\n",
       "      <td>American Airlines Inc.</td>\n",
       "      <td>0.0</td>\n",
       "      <td>-100.0</td>\n",
       "    </tr>\n",
       "    <tr>\n",
       "      <th>4</th>\n",
       "      <td>#ff7f0e</td>\n",
       "      <td>-100 to -95 minutes</td>\n",
       "      <td>0.00000</td>\n",
       "      <td>-100.0</td>\n",
       "      <td>American Airlines Inc.</td>\n",
       "      <td>0.0</td>\n",
       "      <td>-95.0</td>\n",
       "    </tr>\n",
       "  </tbody>\n",
       "</table>\n",
       "</div>"
      ],
      "text/plain": [
       "     color            f_interval f_proportion   left                    name  \\\n",
       "0  #ff7f0e  -120 to -115 minutes      0.00000 -120.0  American Airlines Inc.   \n",
       "1  #ff7f0e  -115 to -110 minutes      0.00000 -115.0  American Airlines Inc.   \n",
       "2  #ff7f0e  -110 to -105 minutes      0.00000 -110.0  American Airlines Inc.   \n",
       "3  #ff7f0e  -105 to -100 minutes      0.00000 -105.0  American Airlines Inc.   \n",
       "4  #ff7f0e   -100 to -95 minutes      0.00000 -100.0  American Airlines Inc.   \n",
       "\n",
       "   proportion  right  \n",
       "0         0.0 -115.0  \n",
       "1         0.0 -110.0  \n",
       "2         0.0 -105.0  \n",
       "3         0.0 -100.0  \n",
       "4         0.0  -95.0  "
      ]
     },
     "execution_count": 26,
     "metadata": {},
     "output_type": "execute_result"
    }
   ],
   "source": [
    "by_carrier.head()"
   ]
  },
  {
   "cell_type": "code",
   "execution_count": 27,
   "metadata": {},
   "outputs": [],
   "source": [
    "by_carrier_src = ColumnDataSource(by_carrier)"
   ]
  },
  {
   "cell_type": "code",
   "execution_count": 28,
   "metadata": {},
   "outputs": [
    {
     "data": {
      "text/html": [
       "\n",
       "<div class=\"bk-root\">\n",
       "    <div class=\"bk-plotdiv\" id=\"92cdc7d3-67c6-4ed1-a7ba-7b0f9f7b1295\"></div>\n",
       "</div>"
      ]
     },
     "metadata": {},
     "output_type": "display_data"
    },
    {
     "data": {
      "application/javascript": [
       "(function(root) {\n",
       "  function embed_document(root) {\n",
       "    \n",
       "  var docs_json = {\"e29a080c-f583-4860-80ff-aba700b3e9d4\":{\"roots\":{\"references\":[{\"attributes\":{},\"id\":\"8d35b5e3-31d2-49ec-9af9-48232b59a32b\",\"type\":\"BasicTickFormatter\"},{\"attributes\":{},\"id\":\"e0419b08-a741-4700-b5e3-6051b2fccada\",\"type\":\"HelpTool\"},{\"attributes\":{\"items\":[{\"id\":\"6ff818c9-9ac6-4a4a-9cc0-233c887e919d\",\"type\":\"LegendItem\"}],\"plot\":{\"id\":\"50fe7940-2b2f-43c6-a09f-ae1fe5fe0f7e\",\"subtype\":\"Figure\",\"type\":\"Plot\"}},\"id\":\"ee29c3f6-d755-4fa7-a2da-b16e6b3650bd\",\"type\":\"Legend\"},{\"attributes\":{\"align\":\"center\",\"plot\":null,\"text\":\"Histogram of Airline Delays by Carrier\",\"text_font\":\"serif\",\"text_font_size\":{\"value\":\"20pt\"}},\"id\":\"a5cc4512-88a1-4aad-92cc-507868f6dd48\",\"type\":\"Title\"},{\"attributes\":{\"data_source\":{\"id\":\"573fec3f-3591-4190-b805-656179641d37\",\"type\":\"ColumnDataSource\"},\"glyph\":{\"id\":\"ae2fe693-a6d7-43f6-bd2c-3432a44b1ec0\",\"type\":\"Quad\"},\"hover_glyph\":{\"id\":\"50199519-e8e5-4e8b-99dd-3004daa28af9\",\"type\":\"Quad\"},\"muted_glyph\":null,\"nonselection_glyph\":{\"id\":\"efcafb03-35f0-4543-98c9-377b4699bfc7\",\"type\":\"Quad\"},\"selection_glyph\":null,\"view\":{\"id\":\"47edcea2-1087-4eba-8535-6a6eaf309c5e\",\"type\":\"CDSView\"}},\"id\":\"7dbd820a-be59-4bc1-9eb7-13497740db70\",\"type\":\"GlyphRenderer\"},{\"attributes\":{\"axis_label\":\"Arrival Delay (min)\",\"axis_label_text_font_size\":{\"value\":\"14pt\"},\"axis_label_text_font_style\":\"bold\",\"formatter\":{\"id\":\"c9930567-fd00-4085-a868-3a3bfaffe769\",\"type\":\"BasicTickFormatter\"},\"major_label_text_font_size\":{\"value\":\"12pt\"},\"plot\":{\"id\":\"50fe7940-2b2f-43c6-a09f-ae1fe5fe0f7e\",\"subtype\":\"Figure\",\"type\":\"Plot\"},\"ticker\":{\"id\":\"da6499de-9fc7-432b-875a-0188a7611fd5\",\"type\":\"BasicTicker\"}},\"id\":\"f9c087ef-97fc-40e8-9238-39c9ad7e9399\",\"type\":\"LinearAxis\"},{\"attributes\":{\"below\":[{\"id\":\"f9c087ef-97fc-40e8-9238-39c9ad7e9399\",\"type\":\"LinearAxis\"}],\"left\":[{\"id\":\"802bd025-2cab-48ac-8cb5-2c939788cc62\",\"type\":\"LinearAxis\"}],\"plot_width\":800,\"renderers\":[{\"id\":\"f9c087ef-97fc-40e8-9238-39c9ad7e9399\",\"type\":\"LinearAxis\"},{\"id\":\"4f46db8a-9db1-4575-acff-5f5fd39c6881\",\"type\":\"Grid\"},{\"id\":\"802bd025-2cab-48ac-8cb5-2c939788cc62\",\"type\":\"LinearAxis\"},{\"id\":\"10abbf50-3c2e-41f6-afa1-bd981f68e349\",\"type\":\"Grid\"},{\"id\":\"5ccb9cd5-a5a9-42c2-b5a4-cf814924c92a\",\"type\":\"BoxAnnotation\"},{\"id\":\"ee29c3f6-d755-4fa7-a2da-b16e6b3650bd\",\"type\":\"Legend\"},{\"id\":\"7dbd820a-be59-4bc1-9eb7-13497740db70\",\"type\":\"GlyphRenderer\"}],\"title\":{\"id\":\"a5cc4512-88a1-4aad-92cc-507868f6dd48\",\"type\":\"Title\"},\"toolbar\":{\"id\":\"d5654967-42de-49f9-9c5a-517c84ca25ab\",\"type\":\"Toolbar\"},\"x_range\":{\"id\":\"55641520-984f-4d24-8534-884d9e3accf5\",\"type\":\"DataRange1d\"},\"x_scale\":{\"id\":\"04870a46-a0c5-4045-a7ab-2c654590a9e3\",\"type\":\"LinearScale\"},\"y_range\":{\"id\":\"9f5bfeda-27e8-436a-ae3c-169c8e64e016\",\"type\":\"DataRange1d\"},\"y_scale\":{\"id\":\"51ae2fe3-2797-4863-9993-a7bee1707f28\",\"type\":\"LinearScale\"}},\"id\":\"50fe7940-2b2f-43c6-a09f-ae1fe5fe0f7e\",\"subtype\":\"Figure\",\"type\":\"Plot\"},{\"attributes\":{},\"id\":\"778c9238-a784-4e09-82dc-02efac2b4a24\",\"type\":\"SaveTool\"},{\"attributes\":{\"callback\":null,\"column_names\":[\"color\",\"f_interval\",\"f_proportion\",\"left\",\"name\",\"proportion\",\"right\",\"index\"],\"data\":{\"color\":[\"#ff7f0e\",\"#ff7f0e\",\"#ff7f0e\",\"#ff7f0e\",\"#ff7f0e\",\"#ff7f0e\",\"#ff7f0e\",\"#ff7f0e\",\"#ff7f0e\",\"#ff7f0e\",\"#ff7f0e\",\"#ff7f0e\",\"#ff7f0e\",\"#ff7f0e\",\"#ff7f0e\",\"#ff7f0e\",\"#ff7f0e\",\"#ff7f0e\",\"#ff7f0e\",\"#ff7f0e\",\"#ff7f0e\",\"#ff7f0e\",\"#ff7f0e\",\"#ff7f0e\",\"#ff7f0e\",\"#ff7f0e\",\"#ff7f0e\",\"#ff7f0e\",\"#ff7f0e\",\"#ff7f0e\",\"#ff7f0e\",\"#ff7f0e\",\"#ff7f0e\",\"#ff7f0e\",\"#ff7f0e\",\"#ff7f0e\",\"#ff7f0e\",\"#ff7f0e\",\"#ff7f0e\",\"#ff7f0e\",\"#ff7f0e\",\"#ff7f0e\",\"#ff7f0e\",\"#ff7f0e\",\"#ff7f0e\",\"#ff7f0e\",\"#ff7f0e\",\"#ff7f0e\",\"#d62728\",\"#d62728\",\"#d62728\",\"#d62728\",\"#d62728\",\"#d62728\",\"#d62728\",\"#d62728\",\"#d62728\",\"#d62728\",\"#d62728\",\"#d62728\",\"#d62728\",\"#d62728\",\"#d62728\",\"#d62728\",\"#d62728\",\"#d62728\",\"#d62728\",\"#d62728\",\"#d62728\",\"#d62728\",\"#d62728\",\"#d62728\",\"#d62728\",\"#d62728\",\"#d62728\",\"#d62728\",\"#d62728\",\"#d62728\",\"#d62728\",\"#d62728\",\"#d62728\",\"#d62728\",\"#d62728\",\"#d62728\",\"#d62728\",\"#d62728\",\"#d62728\",\"#d62728\",\"#d62728\",\"#d62728\",\"#d62728\",\"#d62728\",\"#d62728\",\"#d62728\",\"#d62728\",\"#d62728\",\"#9467bd\",\"#9467bd\",\"#9467bd\",\"#9467bd\",\"#9467bd\",\"#9467bd\",\"#9467bd\",\"#9467bd\",\"#9467bd\",\"#9467bd\",\"#9467bd\",\"#9467bd\",\"#9467bd\",\"#9467bd\",\"#9467bd\",\"#9467bd\",\"#9467bd\",\"#9467bd\",\"#9467bd\",\"#9467bd\",\"#9467bd\",\"#9467bd\",\"#9467bd\",\"#9467bd\",\"#9467bd\",\"#9467bd\",\"#9467bd\",\"#9467bd\",\"#9467bd\",\"#9467bd\",\"#9467bd\",\"#9467bd\",\"#9467bd\",\"#9467bd\",\"#9467bd\",\"#9467bd\",\"#9467bd\",\"#9467bd\",\"#9467bd\",\"#9467bd\",\"#9467bd\",\"#9467bd\",\"#9467bd\",\"#9467bd\",\"#9467bd\",\"#9467bd\",\"#9467bd\",\"#9467bd\",\"#2ca02c\",\"#2ca02c\",\"#2ca02c\",\"#2ca02c\",\"#2ca02c\",\"#2ca02c\",\"#2ca02c\",\"#2ca02c\",\"#2ca02c\",\"#2ca02c\",\"#2ca02c\",\"#2ca02c\",\"#2ca02c\",\"#2ca02c\",\"#2ca02c\",\"#2ca02c\",\"#2ca02c\",\"#2ca02c\",\"#2ca02c\",\"#2ca02c\",\"#2ca02c\",\"#2ca02c\",\"#2ca02c\",\"#2ca02c\",\"#2ca02c\",\"#2ca02c\",\"#2ca02c\",\"#2ca02c\",\"#2ca02c\",\"#2ca02c\",\"#2ca02c\",\"#2ca02c\",\"#2ca02c\",\"#2ca02c\",\"#2ca02c\",\"#2ca02c\",\"#2ca02c\",\"#2ca02c\",\"#2ca02c\",\"#2ca02c\",\"#2ca02c\",\"#2ca02c\",\"#2ca02c\",\"#2ca02c\",\"#2ca02c\",\"#2ca02c\",\"#2ca02c\",\"#2ca02c\",\"#1f77b4\",\"#1f77b4\",\"#1f77b4\",\"#1f77b4\",\"#1f77b4\",\"#1f77b4\",\"#1f77b4\",\"#1f77b4\",\"#1f77b4\",\"#1f77b4\",\"#1f77b4\",\"#1f77b4\",\"#1f77b4\",\"#1f77b4\",\"#1f77b4\",\"#1f77b4\",\"#1f77b4\",\"#1f77b4\",\"#1f77b4\",\"#1f77b4\",\"#1f77b4\",\"#1f77b4\",\"#1f77b4\",\"#1f77b4\",\"#1f77b4\",\"#1f77b4\",\"#1f77b4\",\"#1f77b4\",\"#1f77b4\",\"#1f77b4\",\"#1f77b4\",\"#1f77b4\",\"#1f77b4\",\"#1f77b4\",\"#1f77b4\",\"#1f77b4\",\"#1f77b4\",\"#1f77b4\",\"#1f77b4\",\"#1f77b4\",\"#1f77b4\",\"#1f77b4\",\"#1f77b4\",\"#1f77b4\",\"#1f77b4\",\"#1f77b4\",\"#1f77b4\",\"#1f77b4\"],\"f_interval\":[\"-120 to -115 minutes\",\"-115 to -110 minutes\",\"-110 to -105 minutes\",\"-105 to -100 minutes\",\"-100 to -95 minutes\",\"-95 to -90 minutes\",\"-90 to -85 minutes\",\"-85 to -80 minutes\",\"-80 to -75 minutes\",\"-75 to -70 minutes\",\"-70 to -65 minutes\",\"-65 to -60 minutes\",\"-60 to -55 minutes\",\"-55 to -50 minutes\",\"-50 to -45 minutes\",\"-45 to -40 minutes\",\"-40 to -35 minutes\",\"-35 to -30 minutes\",\"-30 to -25 minutes\",\"-25 to -20 minutes\",\"-20 to -15 minutes\",\"-15 to -10 minutes\",\"-10 to -5 minutes\",\"-5 to 0 minutes\",\"0 to 5 minutes\",\"5 to 10 minutes\",\"10 to 15 minutes\",\"15 to 20 minutes\",\"20 to 25 minutes\",\"25 to 30 minutes\",\"30 to 35 minutes\",\"35 to 40 minutes\",\"40 to 45 minutes\",\"45 to 50 minutes\",\"50 to 55 minutes\",\"55 to 60 minutes\",\"60 to 65 minutes\",\"65 to 70 minutes\",\"70 to 75 minutes\",\"75 to 80 minutes\",\"80 to 85 minutes\",\"85 to 90 minutes\",\"90 to 95 minutes\",\"95 to 100 minutes\",\"100 to 105 minutes\",\"105 to 110 minutes\",\"110 to 115 minutes\",\"115 to 120 minutes\",\"-120 to -115 minutes\",\"-115 to -110 minutes\",\"-110 to -105 minutes\",\"-105 to -100 minutes\",\"-100 to -95 minutes\",\"-95 to -90 minutes\",\"-90 to -85 minutes\",\"-85 to -80 minutes\",\"-80 to -75 minutes\",\"-75 to -70 minutes\",\"-70 to -65 minutes\",\"-65 to -60 minutes\",\"-60 to -55 minutes\",\"-55 to -50 minutes\",\"-50 to -45 minutes\",\"-45 to -40 minutes\",\"-40 to -35 minutes\",\"-35 to -30 minutes\",\"-30 to -25 minutes\",\"-25 to -20 minutes\",\"-20 to -15 minutes\",\"-15 to -10 minutes\",\"-10 to -5 minutes\",\"-5 to 0 minutes\",\"0 to 5 minutes\",\"5 to 10 minutes\",\"10 to 15 minutes\",\"15 to 20 minutes\",\"20 to 25 minutes\",\"25 to 30 minutes\",\"30 to 35 minutes\",\"35 to 40 minutes\",\"40 to 45 minutes\",\"45 to 50 minutes\",\"50 to 55 minutes\",\"55 to 60 minutes\",\"60 to 65 minutes\",\"65 to 70 minutes\",\"70 to 75 minutes\",\"75 to 80 minutes\",\"80 to 85 minutes\",\"85 to 90 minutes\",\"90 to 95 minutes\",\"95 to 100 minutes\",\"100 to 105 minutes\",\"105 to 110 minutes\",\"110 to 115 minutes\",\"115 to 120 minutes\",\"-120 to -115 minutes\",\"-115 to -110 minutes\",\"-110 to -105 minutes\",\"-105 to -100 minutes\",\"-100 to -95 minutes\",\"-95 to -90 minutes\",\"-90 to -85 minutes\",\"-85 to -80 minutes\",\"-80 to -75 minutes\",\"-75 to -70 minutes\",\"-70 to -65 minutes\",\"-65 to -60 minutes\",\"-60 to -55 minutes\",\"-55 to -50 minutes\",\"-50 to -45 minutes\",\"-45 to -40 minutes\",\"-40 to -35 minutes\",\"-35 to -30 minutes\",\"-30 to -25 minutes\",\"-25 to -20 minutes\",\"-20 to -15 minutes\",\"-15 to -10 minutes\",\"-10 to -5 minutes\",\"-5 to 0 minutes\",\"0 to 5 minutes\",\"5 to 10 minutes\",\"10 to 15 minutes\",\"15 to 20 minutes\",\"20 to 25 minutes\",\"25 to 30 minutes\",\"30 to 35 minutes\",\"35 to 40 minutes\",\"40 to 45 minutes\",\"45 to 50 minutes\",\"50 to 55 minutes\",\"55 to 60 minutes\",\"60 to 65 minutes\",\"65 to 70 minutes\",\"70 to 75 minutes\",\"75 to 80 minutes\",\"80 to 85 minutes\",\"85 to 90 minutes\",\"90 to 95 minutes\",\"95 to 100 minutes\",\"100 to 105 minutes\",\"105 to 110 minutes\",\"110 to 115 minutes\",\"115 to 120 minutes\",\"-120 to -115 minutes\",\"-115 to -110 minutes\",\"-110 to -105 minutes\",\"-105 to -100 minutes\",\"-100 to -95 minutes\",\"-95 to -90 minutes\",\"-90 to -85 minutes\",\"-85 to -80 minutes\",\"-80 to -75 minutes\",\"-75 to -70 minutes\",\"-70 to -65 minutes\",\"-65 to -60 minutes\",\"-60 to -55 minutes\",\"-55 to -50 minutes\",\"-50 to -45 minutes\",\"-45 to -40 minutes\",\"-40 to -35 minutes\",\"-35 to -30 minutes\",\"-30 to -25 minutes\",\"-25 to -20 minutes\",\"-20 to -15 minutes\",\"-15 to -10 minutes\",\"-10 to -5 minutes\",\"-5 to 0 minutes\",\"0 to 5 minutes\",\"5 to 10 minutes\",\"10 to 15 minutes\",\"15 to 20 minutes\",\"20 to 25 minutes\",\"25 to 30 minutes\",\"30 to 35 minutes\",\"35 to 40 minutes\",\"40 to 45 minutes\",\"45 to 50 minutes\",\"50 to 55 minutes\",\"55 to 60 minutes\",\"60 to 65 minutes\",\"65 to 70 minutes\",\"70 to 75 minutes\",\"75 to 80 minutes\",\"80 to 85 minutes\",\"85 to 90 minutes\",\"90 to 95 minutes\",\"95 to 100 minutes\",\"100 to 105 minutes\",\"105 to 110 minutes\",\"110 to 115 minutes\",\"115 to 120 minutes\",\"-120 to -115 minutes\",\"-115 to -110 minutes\",\"-110 to -105 minutes\",\"-105 to -100 minutes\",\"-100 to -95 minutes\",\"-95 to -90 minutes\",\"-90 to -85 minutes\",\"-85 to -80 minutes\",\"-80 to -75 minutes\",\"-75 to -70 minutes\",\"-70 to -65 minutes\",\"-65 to -60 minutes\",\"-60 to -55 minutes\",\"-55 to -50 minutes\",\"-50 to -45 minutes\",\"-45 to -40 minutes\",\"-40 to -35 minutes\",\"-35 to -30 minutes\",\"-30 to -25 minutes\",\"-25 to -20 minutes\",\"-20 to -15 minutes\",\"-15 to -10 minutes\",\"-10 to -5 minutes\",\"-5 to 0 minutes\",\"0 to 5 minutes\",\"5 to 10 minutes\",\"10 to 15 minutes\",\"15 to 20 minutes\",\"20 to 25 minutes\",\"25 to 30 minutes\",\"30 to 35 minutes\",\"35 to 40 minutes\",\"40 to 45 minutes\",\"45 to 50 minutes\",\"50 to 55 minutes\",\"55 to 60 minutes\",\"60 to 65 minutes\",\"65 to 70 minutes\",\"70 to 75 minutes\",\"75 to 80 minutes\",\"80 to 85 minutes\",\"85 to 90 minutes\",\"90 to 95 minutes\",\"95 to 100 minutes\",\"100 to 105 minutes\",\"105 to 110 minutes\",\"110 to 115 minutes\",\"115 to 120 minutes\"],\"f_proportion\":[\"0.00000\",\"0.00000\",\"0.00000\",\"0.00000\",\"0.00000\",\"0.00000\",\"0.00000\",\"0.00000\",\"0.00000\",\"0.00003\",\"0.00013\",\"0.00054\",\"0.00167\",\"0.00388\",\"0.00903\",\"0.01858\",\"0.03251\",\"0.04930\",\"0.06736\",\"0.09248\",\"0.10587\",\"0.10731\",\"0.09488\",\"0.08171\",\"0.06586\",\"0.05317\",\"0.04033\",\"0.02896\",\"0.02351\",\"0.02047\",\"0.01457\",\"0.01150\",\"0.00983\",\"0.00801\",\"0.00746\",\"0.00660\",\"0.00609\",\"0.00538\",\"0.00458\",\"0.00452\",\"0.00368\",\"0.00324\",\"0.00282\",\"0.00346\",\"0.00279\",\"0.00301\",\"0.00259\",\"0.00231\",\"0.00000\",\"0.00000\",\"0.00000\",\"0.00000\",\"0.00000\",\"0.00000\",\"0.00000\",\"0.00000\",\"0.00000\",\"0.00002\",\"0.00028\",\"0.00073\",\"0.00138\",\"0.00303\",\"0.00619\",\"0.01202\",\"0.02330\",\"0.04044\",\"0.06305\",\"0.08840\",\"0.10770\",\"0.11209\",\"0.10743\",\"0.08883\",\"0.07496\",\"0.05682\",\"0.04358\",\"0.03242\",\"0.02309\",\"0.01690\",\"0.01447\",\"0.01139\",\"0.00931\",\"0.00884\",\"0.00703\",\"0.00686\",\"0.00494\",\"0.00503\",\"0.00441\",\"0.00376\",\"0.00340\",\"0.00329\",\"0.00320\",\"0.00275\",\"0.00260\",\"0.00230\",\"0.00174\",\"0.00202\",\"0.00000\",\"0.00000\",\"0.00000\",\"0.00000\",\"0.00000\",\"0.00000\",\"0.00000\",\"0.00000\",\"0.00000\",\"0.00000\",\"0.00000\",\"0.00006\",\"0.00008\",\"0.00031\",\"0.00095\",\"0.00251\",\"0.00814\",\"0.01653\",\"0.03713\",\"0.06289\",\"0.09378\",\"0.10641\",\"0.10741\",\"0.09467\",\"0.07582\",\"0.05966\",\"0.04720\",\"0.03624\",\"0.03051\",\"0.02543\",\"0.02292\",\"0.01934\",\"0.01696\",\"0.01581\",\"0.01511\",\"0.01262\",\"0.01190\",\"0.01024\",\"0.00999\",\"0.00909\",\"0.00835\",\"0.00736\",\"0.00654\",\"0.00662\",\"0.00615\",\"0.00495\",\"0.00530\",\"0.00504\",\"0.00000\",\"0.00000\",\"0.00000\",\"0.00000\",\"0.00000\",\"0.00000\",\"0.00000\",\"0.00000\",\"0.00000\",\"0.00002\",\"0.00008\",\"0.00031\",\"0.00061\",\"0.00109\",\"0.00233\",\"0.00484\",\"0.00878\",\"0.01880\",\"0.03573\",\"0.06248\",\"0.09691\",\"0.11724\",\"0.11465\",\"0.10060\",\"0.08021\",\"0.06196\",\"0.04846\",\"0.03894\",\"0.03077\",\"0.02446\",\"0.02062\",\"0.01796\",\"0.01534\",\"0.01327\",\"0.01058\",\"0.00981\",\"0.00887\",\"0.00767\",\"0.00635\",\"0.00633\",\"0.00578\",\"0.00495\",\"0.00442\",\"0.00440\",\"0.00402\",\"0.00339\",\"0.00335\",\"0.00365\",\"0.00000\",\"0.00000\",\"0.00000\",\"0.00000\",\"0.00000\",\"0.00000\",\"0.00000\",\"0.00000\",\"0.00000\",\"0.00005\",\"0.00023\",\"0.00078\",\"0.00124\",\"0.00287\",\"0.00656\",\"0.01255\",\"0.02258\",\"0.03781\",\"0.05604\",\"0.07783\",\"0.09757\",\"0.10606\",\"0.09965\",\"0.09219\",\"0.07444\",\"0.05854\",\"0.04667\",\"0.03564\",\"0.02710\",\"0.02363\",\"0.01834\",\"0.01515\",\"0.01203\",\"0.01085\",\"0.00911\",\"0.00760\",\"0.00608\",\"0.00613\",\"0.00518\",\"0.00496\",\"0.00436\",\"0.00370\",\"0.00354\",\"0.00330\",\"0.00289\",\"0.00248\",\"0.00206\",\"0.00218\"],\"index\":[0,1,2,3,4,5,6,7,8,9,10,11,12,13,14,15,16,17,18,19,20,21,22,23,24,25,26,27,28,29,30,31,32,33,34,35,36,37,38,39,40,41,42,43,44,45,46,47,0,1,2,3,4,5,6,7,8,9,10,11,12,13,14,15,16,17,18,19,20,21,22,23,24,25,26,27,28,29,30,31,32,33,34,35,36,37,38,39,40,41,42,43,44,45,46,47,0,1,2,3,4,5,6,7,8,9,10,11,12,13,14,15,16,17,18,19,20,21,22,23,24,25,26,27,28,29,30,31,32,33,34,35,36,37,38,39,40,41,42,43,44,45,46,47,0,1,2,3,4,5,6,7,8,9,10,11,12,13,14,15,16,17,18,19,20,21,22,23,24,25,26,27,28,29,30,31,32,33,34,35,36,37,38,39,40,41,42,43,44,45,46,47,0,1,2,3,4,5,6,7,8,9,10,11,12,13,14,15,16,17,18,19,20,21,22,23,24,25,26,27,28,29,30,31,32,33,34,35,36,37,38,39,40,41,42,43,44,45,46,47],\"left\":{\"__ndarray__\":\"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\",\"dtype\":\"float64\",\"shape\":[240]},\"name\":[\"American Airlines Inc.\",\"American Airlines Inc.\",\"American Airlines Inc.\",\"American Airlines Inc.\",\"American Airlines Inc.\",\"American Airlines Inc.\",\"American Airlines Inc.\",\"American Airlines Inc.\",\"American Airlines Inc.\",\"American Airlines Inc.\",\"American Airlines Inc.\",\"American Airlines Inc.\",\"American Airlines Inc.\",\"American Airlines Inc.\",\"American Airlines Inc.\",\"American Airlines Inc.\",\"American Airlines Inc.\",\"American Airlines Inc.\",\"American Airlines Inc.\",\"American Airlines Inc.\",\"American Airlines Inc.\",\"American Airlines Inc.\",\"American Airlines Inc.\",\"American Airlines Inc.\",\"American Airlines Inc.\",\"American Airlines Inc.\",\"American Airlines Inc.\",\"American Airlines Inc.\",\"American Airlines Inc.\",\"American Airlines Inc.\",\"American Airlines Inc.\",\"American Airlines Inc.\",\"American Airlines Inc.\",\"American Airlines Inc.\",\"American Airlines Inc.\",\"American Airlines Inc.\",\"American Airlines Inc.\",\"American Airlines Inc.\",\"American Airlines Inc.\",\"American Airlines Inc.\",\"American Airlines Inc.\",\"American Airlines Inc.\",\"American Airlines Inc.\",\"American Airlines Inc.\",\"American Airlines Inc.\",\"American Airlines Inc.\",\"American Airlines Inc.\",\"American Airlines Inc.\",\"Delta Air Lines Inc.\",\"Delta Air Lines Inc.\",\"Delta Air Lines Inc.\",\"Delta Air Lines Inc.\",\"Delta Air Lines Inc.\",\"Delta Air Lines Inc.\",\"Delta Air Lines Inc.\",\"Delta Air Lines Inc.\",\"Delta Air Lines Inc.\",\"Delta Air Lines Inc.\",\"Delta Air Lines Inc.\",\"Delta Air Lines Inc.\",\"Delta Air Lines Inc.\",\"Delta Air Lines Inc.\",\"Delta Air Lines Inc.\",\"Delta Air Lines Inc.\",\"Delta Air Lines Inc.\",\"Delta Air Lines Inc.\",\"Delta Air Lines Inc.\",\"Delta Air Lines Inc.\",\"Delta Air Lines Inc.\",\"Delta Air Lines Inc.\",\"Delta Air Lines Inc.\",\"Delta Air Lines Inc.\",\"Delta Air Lines Inc.\",\"Delta Air Lines Inc.\",\"Delta Air Lines Inc.\",\"Delta Air Lines Inc.\",\"Delta Air Lines Inc.\",\"Delta Air Lines Inc.\",\"Delta Air Lines Inc.\",\"Delta Air Lines Inc.\",\"Delta Air Lines Inc.\",\"Delta Air Lines Inc.\",\"Delta Air Lines Inc.\",\"Delta Air Lines Inc.\",\"Delta Air Lines Inc.\",\"Delta Air Lines Inc.\",\"Delta Air Lines Inc.\",\"Delta Air Lines Inc.\",\"Delta Air Lines Inc.\",\"Delta Air Lines Inc.\",\"Delta Air Lines Inc.\",\"Delta Air Lines Inc.\",\"Delta Air Lines Inc.\",\"Delta Air Lines Inc.\",\"Delta Air Lines Inc.\",\"Delta Air Lines Inc.\",\"ExpressJet Airlines Inc.\",\"ExpressJet Airlines Inc.\",\"ExpressJet Airlines Inc.\",\"ExpressJet Airlines Inc.\",\"ExpressJet Airlines Inc.\",\"ExpressJet Airlines Inc.\",\"ExpressJet Airlines Inc.\",\"ExpressJet Airlines Inc.\",\"ExpressJet Airlines Inc.\",\"ExpressJet Airlines Inc.\",\"ExpressJet Airlines Inc.\",\"ExpressJet Airlines Inc.\",\"ExpressJet Airlines Inc.\",\"ExpressJet Airlines Inc.\",\"ExpressJet Airlines Inc.\",\"ExpressJet Airlines Inc.\",\"ExpressJet Airlines Inc.\",\"ExpressJet Airlines Inc.\",\"ExpressJet Airlines Inc.\",\"ExpressJet Airlines Inc.\",\"ExpressJet Airlines Inc.\",\"ExpressJet Airlines Inc.\",\"ExpressJet Airlines Inc.\",\"ExpressJet Airlines Inc.\",\"ExpressJet Airlines Inc.\",\"ExpressJet Airlines Inc.\",\"ExpressJet Airlines Inc.\",\"ExpressJet Airlines Inc.\",\"ExpressJet Airlines Inc.\",\"ExpressJet Airlines Inc.\",\"ExpressJet Airlines Inc.\",\"ExpressJet Airlines Inc.\",\"ExpressJet Airlines Inc.\",\"ExpressJet Airlines Inc.\",\"ExpressJet Airlines Inc.\",\"ExpressJet Airlines Inc.\",\"ExpressJet Airlines Inc.\",\"ExpressJet Airlines Inc.\",\"ExpressJet Airlines Inc.\",\"ExpressJet Airlines Inc.\",\"ExpressJet Airlines Inc.\",\"ExpressJet Airlines Inc.\",\"ExpressJet Airlines Inc.\",\"ExpressJet Airlines Inc.\",\"ExpressJet Airlines Inc.\",\"ExpressJet Airlines Inc.\",\"ExpressJet Airlines Inc.\",\"ExpressJet Airlines Inc.\",\"JetBlue Airways\",\"JetBlue Airways\",\"JetBlue Airways\",\"JetBlue Airways\",\"JetBlue Airways\",\"JetBlue Airways\",\"JetBlue Airways\",\"JetBlue Airways\",\"JetBlue Airways\",\"JetBlue Airways\",\"JetBlue Airways\",\"JetBlue Airways\",\"JetBlue Airways\",\"JetBlue Airways\",\"JetBlue Airways\",\"JetBlue Airways\",\"JetBlue Airways\",\"JetBlue Airways\",\"JetBlue Airways\",\"JetBlue Airways\",\"JetBlue Airways\",\"JetBlue Airways\",\"JetBlue Airways\",\"JetBlue Airways\",\"JetBlue Airways\",\"JetBlue Airways\",\"JetBlue Airways\",\"JetBlue Airways\",\"JetBlue Airways\",\"JetBlue Airways\",\"JetBlue Airways\",\"JetBlue Airways\",\"JetBlue Airways\",\"JetBlue Airways\",\"JetBlue Airways\",\"JetBlue Airways\",\"JetBlue Airways\",\"JetBlue Airways\",\"JetBlue Airways\",\"JetBlue Airways\",\"JetBlue Airways\",\"JetBlue Airways\",\"JetBlue Airways\",\"JetBlue Airways\",\"JetBlue Airways\",\"JetBlue Airways\",\"JetBlue Airways\",\"JetBlue Airways\",\"United Air Lines Inc.\",\"United Air Lines Inc.\",\"United Air Lines Inc.\",\"United Air Lines Inc.\",\"United Air Lines Inc.\",\"United Air Lines Inc.\",\"United Air Lines Inc.\",\"United Air Lines Inc.\",\"United Air Lines Inc.\",\"United Air Lines Inc.\",\"United Air Lines Inc.\",\"United Air Lines Inc.\",\"United Air Lines Inc.\",\"United Air Lines Inc.\",\"United Air Lines Inc.\",\"United Air Lines Inc.\",\"United Air Lines Inc.\",\"United Air Lines Inc.\",\"United Air Lines Inc.\",\"United Air Lines Inc.\",\"United Air Lines Inc.\",\"United Air Lines Inc.\",\"United Air Lines Inc.\",\"United Air Lines Inc.\",\"United Air Lines Inc.\",\"United Air Lines Inc.\",\"United Air Lines Inc.\",\"United Air Lines Inc.\",\"United Air Lines Inc.\",\"United Air Lines Inc.\",\"United Air Lines Inc.\",\"United Air Lines Inc.\",\"United Air Lines Inc.\",\"United Air Lines Inc.\",\"United Air Lines Inc.\",\"United Air Lines Inc.\",\"United Air Lines Inc.\",\"United Air Lines Inc.\",\"United Air Lines Inc.\",\"United Air Lines Inc.\",\"United Air Lines Inc.\",\"United Air Lines Inc.\",\"United Air Lines Inc.\",\"United Air Lines Inc.\",\"United Air Lines Inc.\",\"United Air Lines Inc.\",\"United Air Lines Inc.\",\"United Air Lines Inc.\"],\"proportion\":{\"__ndarray__\":\"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\",\"dtype\":\"float64\",\"shape\":[240]},\"right\":{\"__ndarray__\":\"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\",\"dtype\":\"float64\",\"shape\":[240]}}},\"id\":\"573fec3f-3591-4190-b805-656179641d37\",\"type\":\"ColumnDataSource\"},{\"attributes\":{},\"id\":\"da6499de-9fc7-432b-875a-0188a7611fd5\",\"type\":\"BasicTicker\"},{\"attributes\":{},\"id\":\"4d4329dd-9853-450a-9d6a-ee4b8bc5dfef\",\"type\":\"WheelZoomTool\"},{\"attributes\":{},\"id\":\"04870a46-a0c5-4045-a7ab-2c654590a9e3\",\"type\":\"LinearScale\"},{\"attributes\":{},\"id\":\"ea3d69d0-81f2-4b2f-825c-c3fbaa9d4b53\",\"type\":\"ResetTool\"},{\"attributes\":{\"overlay\":{\"id\":\"5ccb9cd5-a5a9-42c2-b5a4-cf814924c92a\",\"type\":\"BoxAnnotation\"}},\"id\":\"01a4bb47-9165-4574-b13e-81679e40b6a9\",\"type\":\"BoxZoomTool\"},{\"attributes\":{\"bottom\":{\"value\":0},\"fill_alpha\":{\"value\":0.1},\"fill_color\":{\"value\":\"#1f77b4\"},\"left\":{\"field\":\"left\"},\"line_alpha\":{\"value\":0.1},\"line_color\":{\"value\":\"#1f77b4\"},\"right\":{\"field\":\"right\"},\"top\":{\"field\":\"proportion\"}},\"id\":\"efcafb03-35f0-4543-98c9-377b4699bfc7\",\"type\":\"Quad\"},{\"attributes\":{\"axis_label\":\"Proportion\",\"axis_label_text_font_size\":{\"value\":\"14pt\"},\"axis_label_text_font_style\":\"bold\",\"formatter\":{\"id\":\"8d35b5e3-31d2-49ec-9af9-48232b59a32b\",\"type\":\"BasicTickFormatter\"},\"major_label_text_font_size\":{\"value\":\"12pt\"},\"plot\":{\"id\":\"50fe7940-2b2f-43c6-a09f-ae1fe5fe0f7e\",\"subtype\":\"Figure\",\"type\":\"Plot\"},\"ticker\":{\"id\":\"215c4a32-732f-498c-acaa-f47b6ffa5b72\",\"type\":\"BasicTicker\"}},\"id\":\"802bd025-2cab-48ac-8cb5-2c939788cc62\",\"type\":\"LinearAxis\"},{\"attributes\":{\"active_drag\":\"auto\",\"active_inspect\":\"auto\",\"active_scroll\":\"auto\",\"active_tap\":\"auto\",\"tools\":[{\"id\":\"f888f26d-2adf-415f-a418-22a48232d045\",\"type\":\"PanTool\"},{\"id\":\"4d4329dd-9853-450a-9d6a-ee4b8bc5dfef\",\"type\":\"WheelZoomTool\"},{\"id\":\"01a4bb47-9165-4574-b13e-81679e40b6a9\",\"type\":\"BoxZoomTool\"},{\"id\":\"778c9238-a784-4e09-82dc-02efac2b4a24\",\"type\":\"SaveTool\"},{\"id\":\"ea3d69d0-81f2-4b2f-825c-c3fbaa9d4b53\",\"type\":\"ResetTool\"},{\"id\":\"e0419b08-a741-4700-b5e3-6051b2fccada\",\"type\":\"HelpTool\"},{\"id\":\"bc4be934-110f-4f0a-9018-07334626c769\",\"type\":\"HoverTool\"}]},\"id\":\"d5654967-42de-49f9-9c5a-517c84ca25ab\",\"type\":\"Toolbar\"},{\"attributes\":{\"callback\":null},\"id\":\"55641520-984f-4d24-8534-884d9e3accf5\",\"type\":\"DataRange1d\"},{\"attributes\":{\"bottom_units\":\"screen\",\"fill_alpha\":{\"value\":0.5},\"fill_color\":{\"value\":\"lightgrey\"},\"left_units\":\"screen\",\"level\":\"overlay\",\"line_alpha\":{\"value\":1.0},\"line_color\":{\"value\":\"black\"},\"line_dash\":[4,4],\"line_width\":{\"value\":2},\"plot\":null,\"render_mode\":\"css\",\"right_units\":\"screen\",\"top_units\":\"screen\"},\"id\":\"5ccb9cd5-a5a9-42c2-b5a4-cf814924c92a\",\"type\":\"BoxAnnotation\"},{\"attributes\":{},\"id\":\"f888f26d-2adf-415f-a418-22a48232d045\",\"type\":\"PanTool\"},{\"attributes\":{\"plot\":{\"id\":\"50fe7940-2b2f-43c6-a09f-ae1fe5fe0f7e\",\"subtype\":\"Figure\",\"type\":\"Plot\"},\"ticker\":{\"id\":\"da6499de-9fc7-432b-875a-0188a7611fd5\",\"type\":\"BasicTicker\"}},\"id\":\"4f46db8a-9db1-4575-acff-5f5fd39c6881\",\"type\":\"Grid\"},{\"attributes\":{},\"id\":\"c9930567-fd00-4085-a868-3a3bfaffe769\",\"type\":\"BasicTickFormatter\"},{\"attributes\":{},\"id\":\"215c4a32-732f-498c-acaa-f47b6ffa5b72\",\"type\":\"BasicTicker\"},{\"attributes\":{\"callback\":null,\"mode\":\"vline\",\"tooltips\":[[\"Carrier\",\"@name\"],[\"Proportion\",\"@f_proportion\"],[\"Delay\",\"@f_interval\"]]},\"id\":\"bc4be934-110f-4f0a-9018-07334626c769\",\"type\":\"HoverTool\"},{\"attributes\":{\"callback\":null},\"id\":\"9f5bfeda-27e8-436a-ae3c-169c8e64e016\",\"type\":\"DataRange1d\"},{\"attributes\":{},\"id\":\"51ae2fe3-2797-4863-9993-a7bee1707f28\",\"type\":\"LinearScale\"},{\"attributes\":{\"dimension\":1,\"plot\":{\"id\":\"50fe7940-2b2f-43c6-a09f-ae1fe5fe0f7e\",\"subtype\":\"Figure\",\"type\":\"Plot\"},\"ticker\":{\"id\":\"215c4a32-732f-498c-acaa-f47b6ffa5b72\",\"type\":\"BasicTicker\"}},\"id\":\"10abbf50-3c2e-41f6-afa1-bd981f68e349\",\"type\":\"Grid\"},{\"attributes\":{\"bottom\":{\"value\":0},\"fill_color\":{\"field\":\"color\"},\"left\":{\"field\":\"left\"},\"line_color\":{\"value\":\"#1f77b4\"},\"right\":{\"field\":\"right\"},\"top\":{\"field\":\"proportion\"}},\"id\":\"50199519-e8e5-4e8b-99dd-3004daa28af9\",\"type\":\"Quad\"},{\"attributes\":{\"label\":{\"field\":\"name\"},\"renderers\":[{\"id\":\"7dbd820a-be59-4bc1-9eb7-13497740db70\",\"type\":\"GlyphRenderer\"}]},\"id\":\"6ff818c9-9ac6-4a4a-9cc0-233c887e919d\",\"type\":\"LegendItem\"},{\"attributes\":{\"bottom\":{\"value\":0},\"fill_alpha\":{\"value\":0.6},\"fill_color\":{\"field\":\"color\"},\"left\":{\"field\":\"left\"},\"line_color\":{\"value\":\"#1f77b4\"},\"right\":{\"field\":\"right\"},\"top\":{\"field\":\"proportion\"}},\"id\":\"ae2fe693-a6d7-43f6-bd2c-3432a44b1ec0\",\"type\":\"Quad\"},{\"attributes\":{\"source\":{\"id\":\"573fec3f-3591-4190-b805-656179641d37\",\"type\":\"ColumnDataSource\"}},\"id\":\"47edcea2-1087-4eba-8535-6a6eaf309c5e\",\"type\":\"CDSView\"}],\"root_ids\":[\"50fe7940-2b2f-43c6-a09f-ae1fe5fe0f7e\"]},\"title\":\"Bokeh Application\",\"version\":\"0.12.14\"}};\n",
       "  var render_items = [{\"docid\":\"e29a080c-f583-4860-80ff-aba700b3e9d4\",\"elementid\":\"92cdc7d3-67c6-4ed1-a7ba-7b0f9f7b1295\",\"modelid\":\"50fe7940-2b2f-43c6-a09f-ae1fe5fe0f7e\"}];\n",
       "  root.Bokeh.embed.embed_items_notebook(docs_json, render_items);\n",
       "\n",
       "  }\n",
       "  if (root.Bokeh !== undefined) {\n",
       "    embed_document(root);\n",
       "  } else {\n",
       "    var attempts = 0;\n",
       "    var timer = setInterval(function(root) {\n",
       "      if (root.Bokeh !== undefined) {\n",
       "        embed_document(root);\n",
       "        clearInterval(timer);\n",
       "      }\n",
       "      attempts++;\n",
       "      if (attempts > 100) {\n",
       "        console.log(\"Bokeh: ERROR: Unable to run BokehJS code because BokehJS library is missing\")\n",
       "        clearInterval(timer);\n",
       "      }\n",
       "    }, 10, root)\n",
       "  }\n",
       "})(window);"
      ],
      "application/vnd.bokehjs_exec.v0+json": ""
     },
     "metadata": {
      "application/vnd.bokehjs_exec.v0+json": {
       "id": "50fe7940-2b2f-43c6-a09f-ae1fe5fe0f7e"
      }
     },
     "output_type": "display_data"
    }
   ],
   "source": [
    "# Create the figure\n",
    "p = figure(plot_height = 600, plot_width = 800, title = 'Histogram of Airline Delays by Carrier',\n",
    "          x_axis_label = 'Arrival Delay (min)', y_axis_label = 'Proportion')\n",
    "\n",
    "# Add the quad glpyh with the source by carrier\n",
    "p.quad(bottom = 0, left = 'left', right = 'right', top = 'proportion',\n",
    "       fill_color = 'color',  legend = 'name', source = by_carrier_src,\n",
    "      fill_alpha = 0.6, hover_fill_alpha = 1.0, hover_fill_color = 'color')\n",
    "\n",
    "# Create the hover tool\n",
    "hover = HoverTool(tooltips = [('Carrier', '@name'),\n",
    "                              ('Proportion', '@f_proportion'),\n",
    "                              ('Delay', '@f_interval')],\n",
    "                 mode = 'vline')\n",
    "\n",
    "# Add styling and hover tool\n",
    "styled_p = style(p)\n",
    "styled_p.add_tools(hover)\n",
    "show(styled_p)"
   ]
  },
  {
   "cell_type": "markdown",
   "metadata": {},
   "source": [
    "# Lighter Weight Approach Using Seaborn"
   ]
  },
  {
   "cell_type": "code",
   "execution_count": 30,
   "metadata": {},
   "outputs": [],
   "source": [
    "import seaborn as sns\n",
    "import matplotlib.pyplot as plt\n",
    "%matplotlib inline"
   ]
  },
  {
   "cell_type": "code",
   "execution_count": 31,
   "metadata": {},
   "outputs": [
    {
     "data": {
      "image/png": "[encoded data removed]",
      "text/plain": [
       "<matplotlib.figure.Figure at 0x20a58fba400>"
      ]
     },
     "metadata": {},
     "output_type": "display_data"
    }
   ],
   "source": [
    "# Create a figure\n",
    "plt.figure(figsize=(10, 8))\n",
    "\n",
    "# Iterate through each carrier and make a density plot (kde)\n",
    "for i, carrier in enumerate(flights['name'].unique()):\n",
    "    subset = flights[flights['name'] == carrier]\n",
    "    sns.kdeplot(subset['arr_delay'], color = Category10_5[i], label = '%s' % carrier, lw = 2 );\n",
    "\n",
    "plt.xlabel('Arrival Delay (min)')\n",
    "plt.ylabel('Density')\n",
    "plt.title('Density Plot of Arrival Delay by Carrier')\n",
    "plt.legend();"
   ]
  },
  {
   "cell_type": "code",
   "execution_count": null,
   "metadata": {},
   "outputs": [],
   "source": []
  }
 ],
 "metadata": {
  "kernelspec": {
   "display_name": "Python 3",
   "language": "python",
   "name": "python3"
  },
  "language_info": {
   "codemirror_mode": {
    "name": "ipython",
    "version": 3
   },
   "file_extension": ".py",
   "mimetype": "text/x-python",
   "name": "python",
   "nbconvert_exporter": "python",
   "pygments_lexer": "ipython3",
   "version": "3.6.4"
  }
 },
 "nbformat": 4,
 "nbformat_minor": 2
}
