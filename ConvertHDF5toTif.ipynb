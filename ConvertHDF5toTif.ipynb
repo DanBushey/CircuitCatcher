{
 "cells": [
  {
   "cell_type": "code",
   "execution_count": null,
   "metadata": {},
   "outputs": [],
   "source": [
    "#convert HDF5 to tif"
   ]
  },
  {
   "cell_type": "code",
   "execution_count": null,
   "metadata": {},
   "outputs": [],
   "source": [
    "def generateHDF_from_FastZ2Color(output, path, fastz_tif):\n",
    "    #output = output path for .hdf5 file\n",
    "    #path = directory where tif images are stored\n",
    "    #fastz_tif = list of tif_images in path\n",
    "    rgb = getMeanInTime_from_TIF(path, fastz_tif)\n",
    "    #plt.imshow(np.max(rgb, axis = 0))disco\n",
    "    rgb2 =np.zeros([1, rgb.shape[0], rgb.shape[1], rgb.shape[2], rgb.shape[3]], dtype = rgb.dtype)\n",
    "        \n",
    "    #for layer in green_range\n",
    "    rgb2[0, :, :, :, 0] = rgb[:, :, :,0]\n",
    "    rgb2[0, :, :, :, 1] = rgb[:, :, :,1]\n",
    "    \n",
    "    rgb2[rgb2 > 1] = 1\n",
    "    rgb2 = np.rollaxis(rgb2, 3, 2)\n",
    "    rgb2 = skimage.img_as_int(rgb2)\n",
    "    hdf5_file = tables.open_file(output, mode='w')\n",
    "    #filters = tables.Filters(complevel=5, complib='blosc') #faster but poor compression\n",
    "    filters = tables.Filters(complevel=3, complib='zlib') #slower but better compression\n",
    "    data_storage = hdf5_file.create_carray(hdf5_file.root, 'data',\n",
    "                                  tables.Atom.from_dtype(rgb2.dtype),\n",
    "                                  shape = rgb2.shape,\n",
    "                                  filters=filters)\n",
    "    data_storage[:] = rgb2\n",
    "    data_storage.flush()\n",
    "    hdf5_file.close()\n",
    "    for file1 in fastz_tif:\n",
    "        target = Path(path) / file1\n",
    "        target.unlink()\n",
    "    #remove the matfile\n",
    "    for file in Path(path).glob('*.mat'):\n",
    "        file.unlink()"
   ]
  },
  {
   "cell_type": "code",
   "execution_count": null,
   "metadata": {},
   "outputs": [],
   "source": [
    "def generateMIPfromHDFcolor(path):\n",
    "    #path = ///.2color_z_#####.HDF5 or from .tif file\n",
    "    if '.hdf5' in path:\n",
    "        HDF5_file = tables.open_file(path, mode='r')\n",
    "        color = HDF5_file.root.data[:, : , :,:]\n",
    "        color = np.transpose(np.squeeze(color), [0, 2,1, 3])\n",
    "    else:\n",
    "        color = generate2ColorArray(path)\n",
    "    color = np.squeeze(color)\n",
    "    color = color.max(axis = 0)\n",
    "    color = skimage.img_as_ubyte(color)\n",
    "    return color"
   ]
  }
 ],
 "metadata": {
  "kernelspec": {
   "display_name": "Python 3",
   "language": "python",
   "name": "python3"
  },
  "language_info": {
   "codemirror_mode": {
    "name": "ipython",
    "version": 3
   },
   "file_extension": ".py",
   "mimetype": "text/x-python",
   "name": "python",
   "nbconvert_exporter": "python",
   "pygments_lexer": "ipython3",
   "version": "3.6.6"
  }
 },
 "nbformat": 4,
 "nbformat_minor": 2
}
