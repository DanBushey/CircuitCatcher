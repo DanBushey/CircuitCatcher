{
 "cells": [
  {
   "cell_type": "code",
   "execution_count": 1,
   "metadata": {},
   "outputs": [
    {
     "name": "stderr",
     "output_type": "stream",
     "text": [
      "/media/daniel/Windows1/Users/dnabu/Desktop/ResearchYogaWindows/DataJ/Programming/Python/Modules/tifffile.py:265: UserWarning: failed to import the optional _tifffile C extension module.\n",
      "Loading of some compressed images will be very slow.\n",
      "Tifffile.c can be obtained at http://www.lfd.uci.edu/~gohlke/\n",
      "  \"failed to import the optional _tifffile C extension module.\\n\"\n"
     ]
    }
   ],
   "source": [
    "import importlib.machinery\n",
    "\n",
    "cc2 = importlib.machinery.SourceFileLoader('ccModules2', \"/media/daniel/Windows1/Users/dnabu/Desktop/ResearchYogaWindows/DataJ/A/A57_GtACR/A57_Data/CircuitCatcher/ccModules2.py\").load_module()"
   ]
  },
  {
   "cell_type": "code",
   "execution_count": 2,
   "metadata": {},
   "outputs": [
    {
     "name": "stderr",
     "output_type": "stream",
     "text": [
      "/home/daniel/anaconda3/lib/python3.6/site-packages/pandas/core/generic.py:1282: PerformanceWarning: \n",
      "your performance may suffer as PyTables will pickle object types that it cannot\n",
      "map directly to c-types [inferred_type->mixed,key->block0_values] [items->['Name', 'Color', 'Type', 'Z:XY', 'mask_index', 'image_file', 'image_shape', 'intensity']]\n",
      "\n",
      "  return pytables.to_hdf(path_or_buf, key, self, **kwargs)\n"
     ]
    }
   ],
   "source": [
    "mask_file = '/media/daniel/Windows1/Users/dnabu/Desktop/ResearchYogaWindows/DataJ/A/A57_GtACR/A57_Data/20180601_A57/20180601-A62-2-flya-001/20180601-A62-2-flya-001Mask.hdf5'\n",
    "image_file = '/media/daniel/Windows1/Users/dnabu/Desktop/ResearchYogaWindows/DataJ/A/A57_GtACR/A57_Data/20180601_A57/20180601-A62-2-flya-001/20180601-A62-2-flya-001.hdf5'\n",
    "output_file = '/media/daniel/Windows1/Users/dnabu/Desktop/ResearchYogaWindows/DataJ/A/A57_GtACR/A57_Data/20180601_A57/20180601-A62-2-flya-001/20180601-A62-2-flya-001IntensityData.hdf5'\n",
    "cc2.write_Intensity_Data_File(mask_file, image_file, output_file)"
   ]
  },
  {
   "cell_type": "code",
   "execution_count": null,
   "metadata": {},
   "outputs": [],
   "source": []
  }
 ],
 "metadata": {
  "kernelspec": {
   "display_name": "Python 3",
   "language": "python",
   "name": "python3"
  },
  "language_info": {
   "codemirror_mode": {
    "name": "ipython",
    "version": 3
   },
   "file_extension": ".py",
   "mimetype": "text/x-python",
   "name": "python",
   "nbconvert_exporter": "python",
   "pygments_lexer": "ipython3",
   "version": "3.6.4"
  }
 },
 "nbformat": 4,
 "nbformat_minor": 2
}
