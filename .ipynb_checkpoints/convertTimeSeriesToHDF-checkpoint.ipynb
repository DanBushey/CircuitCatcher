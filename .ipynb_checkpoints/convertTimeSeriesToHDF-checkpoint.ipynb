{
 "cells": [
  {
   "cell_type": "code",
   "execution_count": 11,
   "metadata": {},
   "outputs": [],
   "source": [
    "#find folders containing stack time series data and convert to HDF5\n",
    "import pandas as pd\n",
    "import pathlibDB as pldb\n",
    "from pathlib import Path\n",
    "import ipyparallel as ipp\n",
    "import ccModules as cc\n",
    "import pathlib"
   ]
  },
  {
   "cell_type": "code",
   "execution_count": 12,
   "metadata": {},
   "outputs": [],
   "source": [
    "targetfolder = '/media/daniel/Seagate5TB/A83/A83_data5'\n",
    "#targetfolder = pathlib.Path.cwd().parents[0]\n",
    "\n",
    "MIP_str = 'MIP.hdf5'\n",
    "Time_str = 'TimeSeries.hdf5'"
   ]
  },
  {
   "cell_type": "code",
   "execution_count": 13,
   "metadata": {},
   "outputs": [],
   "source": [
    "files = pldb.getDirContents(targetfolder)"
   ]
  },
  {
   "cell_type": "code",
   "execution_count": 14,
   "metadata": {},
   "outputs": [
    {
     "name": "stdout",
     "output_type": "stream",
     "text": [
      "['flya_20190519-A83-112_stim30s06V_00001'\n",
      " 'flya_20190519-A83-112_stimDur300at15'\n",
      " 'flyb_20190519-A83-112_stim30s06V_00001'\n",
      " 'flyb_20190519-A83-112_stimDur300at15_00001'\n",
      " 'flyc_20190519-A83-111_stim30s06V_00001'\n",
      " 'flyc_20190519-A83-111_stimDur300at15_00001'\n",
      " 'flyd_20190520-A83-112_stimDur300at15_00001'\n",
      " 'flya_20190520-A83-111_stim30s06V_00001'\n",
      " 'flya_20190520-A83-111_stimDur300at15_00001'\n",
      " 'flyb_20190520-A83-111_stim30s06V_00001'\n",
      " 'flyb_20190520-A83-111_stimDur300at15_00001'\n",
      " 'flyc_20190520-A83-111_stim30s06V_00001'\n",
      " 'flyc_20190520-A83-111_stimDur300at15_00001'\n",
      " 'flyd_20190520-A83-112_stim30s06V_00001'\n",
      " 'flye_20190520-A83-112_stim30s06V_00001'\n",
      " 'flye_20190520-A83-112_stimDur300at15_00001'\n",
      " 'flyf_20190520-A83-112_stim30s06V_00001'\n",
      " 'flyf_20190520-A83-112_stimDur300at15_00001']\n"
     ]
    }
   ],
   "source": [
    "files = files[files['Directory'] == True]\n",
    "files = files[(files['File_Name'].str.contains('stim30s06V')) | (files['File_Name'].str.contains('stimDur300at15'))]\n",
    "print(files['File_Name'].values)"
   ]
  },
  {
   "cell_type": "code",
   "execution_count": 15,
   "metadata": {},
   "outputs": [],
   "source": [
    "#get and count the number of tif files in each folder\n",
    "tif_files = []\n",
    "tif_count = []\n",
    "Time_count =[]\n",
    "MIP_count =[]\n",
    "for row, dseries in files.iterrows():\n",
    "    tif = [str(i.parts[-1]) for i in Path(dseries['Full_Path']).glob('*.tif')]\n",
    "    tif_files.append(tif)\n",
    "    tif_count.append(len(tif))\n",
    "    Time = [str(i.parts[-1]) for i in Path(dseries['Full_Path']).glob('*'+Time_str)]\n",
    "    MIP = [str(i.parts[-1]) for i in Path(dseries['Full_Path']).glob('*'+MIP_str)]\n",
    "    Time_count.append(len(Time))\n",
    "    MIP_count.append(len(MIP))\n",
    "files['tif_count'] = tif_count\n",
    "files['tif_files'] = tif_files\n",
    "files['TimeSeries_count'] = Time_count\n",
    "files['MIP_count'] = MIP_count\n",
    "files = files[files['tif_count'] > 10]\n",
    "remove folders that already have both MIP and Timeseries data\n",
    "files = files[(files['MIP_count'] == 0) & (files['TimeSeries_count'] == 0)]\n"
   ]
  },
  {
   "cell_type": "code",
   "execution_count": 6,
   "metadata": {},
   "outputs": [],
   "source": [
    "time_path = []\n",
    "MIP_path = []\n",
    "for row, dseries in files.iterrows():\n",
    "    time_path.append(str(Path(dseries['Full_Path']) / str( dseries['File_Name'] + Time_str)))\n",
    "    MIP_path.append(str(Path(dseries['Full_Path']) / str( dseries['File_Name'] + MIP_str)))\n",
    "files['TimeSeries_Output_HDF5'] = time_path\n",
    "files['MIP_Output_HDF5'] = MIP_path\n",
    "files.to_excel(str(Path(targetfolder) / 'GenerateTimeSeriesImages.xlsx'))"
   ]
  },
  {
   "cell_type": "code",
   "execution_count": 7,
   "metadata": {},
   "outputs": [
    {
     "data": {
      "text/plain": [
       "\"\\nrow = files[files['File_Name'].str.contains('flyc_20190617-A99-3_LED-06_Interval-31_00001')]\\ndseries = row.iloc[0]\\ntype(dseries)\\ncc.generateHDFfromStackedTimeSeries(dseries['TimeSeries_Output_HDF5'], dseries['MIP_Output_HDF5'], dseries['Full_Path'], dseries['tif_files'])\\n\""
      ]
     },
     "execution_count": 7,
     "metadata": {},
     "output_type": "execute_result"
    }
   ],
   "source": [
    "#for troubleshooting\n",
    "'''\n",
    "row = files[files['File_Name'].str.contains('flyc_20190617-A99-3_LED-06_Interval-31_00001')]\n",
    "dseries = row.iloc[0]\n",
    "type(dseries)\n",
    "cc.generateHDFfromStackedTimeSeries(dseries['TimeSeries_Output_HDF5'], dseries['MIP_Output_HDF5'], dseries['Full_Path'], dseries['tif_files'])\n",
    "'''"
   ]
  },
  {
   "cell_type": "code",
   "execution_count": 9,
   "metadata": {},
   "outputs": [
    {
     "name": "stdout",
     "output_type": "stream",
     "text": [
      "Starting to convert timeseries data.\n",
      "Starting : /media/daniel/Seagate5TB/A83/A83_data5/20190520/flyc_20190520-A83-111_stim30s06V_00001\n"
     ]
    },
    {
     "name": "stderr",
     "output_type": "stream",
     "text": [
      "/home/daniel/.local/share/virtualenvs/CircuitCatcher2-AlNaHLtK/lib/python3.6/site-packages/tables/utils.py:101: ComplexWarning: Casting complex values to real discards the imaginary part\n",
      "  nparr = numpy.array(nparr, dtype=atom.dtype, copy=copy)\n"
     ]
    },
    {
     "name": "stdout",
     "output_type": "stream",
     "text": [
      "Starting : /media/daniel/Seagate5TB/A83/A83_data5/20190520/flyc_20190520-A83-111_stimDur300at15_00001\n",
      "Starting : /media/daniel/Seagate5TB/A83/A83_data5/20190520/flyd_20190520-A83-112_stim30s06V_00001\n",
      "Starting : /media/daniel/Seagate5TB/A83/A83_data5/20190520/flye_20190520-A83-112_stim30s06V_00001\n",
      "Starting : /media/daniel/Seagate5TB/A83/A83_data5/20190520/flye_20190520-A83-112_stimDur300at15_00001\n",
      "Starting : /media/daniel/Seagate5TB/A83/A83_data5/20190520/flyf_20190520-A83-112_stim30s06V_00001\n",
      "Starting : /media/daniel/Seagate5TB/A83/A83_data5/20190520/flyf_20190520-A83-112_stimDur300at15_00001\n",
      "Finished converting Tif files to HDF5.\n"
     ]
    }
   ],
   "source": [
    "print('Starting to convert timeseries data.')\n",
    "for row, dseries in files.iterrows():\n",
    "    print('Starting :' , dseries['Full_Path'])\n",
    "    cc.generateHDFfromStackedTimeSeries(dseries['TimeSeries_Output_HDF5'], dseries['MIP_Output_HDF5'], dseries['Full_Path'], dseries['tif_files'])\n",
    "print('Finished converting Tif files to HDF5.')"
   ]
  },
  {
   "cell_type": "code",
   "execution_count": 16,
   "metadata": {},
   "outputs": [
    {
     "name": "stdout",
     "output_type": "stream",
     "text": [
      "Starting to move tif files to an archive folder.\n",
      "Moving :  /media/daniel/Seagate5TB/A83/A83_data5/20190519/flya_20190519-A83-112_stim30s06V_00001\n",
      "Moving :  /media/daniel/Seagate5TB/A83/A83_data5/20190519/flya_20190519-A83-112_stimDur300at15\n",
      "Moving :  /media/daniel/Seagate5TB/A83/A83_data5/20190519/flyb_20190519-A83-112_stim30s06V_00001\n",
      "Moving :  /media/daniel/Seagate5TB/A83/A83_data5/20190519/flyb_20190519-A83-112_stimDur300at15_00001\n",
      "Moving :  /media/daniel/Seagate5TB/A83/A83_data5/20190519/flyc_20190519-A83-111_stim30s06V_00001\n",
      "Moving :  /media/daniel/Seagate5TB/A83/A83_data5/20190519/flyc_20190519-A83-111_stimDur300at15_00001\n",
      "Moving :  /media/daniel/Seagate5TB/A83/A83_data5/20190520/flyd_20190520-A83-112_stimDur300at15_00001\n",
      "Moving :  /media/daniel/Seagate5TB/A83/A83_data5/20190520/flya_20190520-A83-111_stim30s06V_00001\n",
      "Moving :  /media/daniel/Seagate5TB/A83/A83_data5/20190520/flya_20190520-A83-111_stimDur300at15_00001\n",
      "Moving :  /media/daniel/Seagate5TB/A83/A83_data5/20190520/flyb_20190520-A83-111_stim30s06V_00001\n",
      "Moving :  /media/daniel/Seagate5TB/A83/A83_data5/20190520/flyb_20190520-A83-111_stimDur300at15_00001\n",
      "Finished archiving the tif files.\n"
     ]
    }
   ],
   "source": [
    "print('Starting to move tif files to an archive folder.')\n",
    "for row, dseries in files.iterrows():\n",
    "    #make archive folder\n",
    "    print('Moving : ', dseries['Full_Path'])\n",
    "    outputfolder = Path(dseries['Full_Path']) / 'Archive'\n",
    "    if not outputfolder.is_dir():\n",
    "        outputfolder.mkdir()\n",
    "    #transfer tif to archive folder\n",
    "    for ctif in dseries['tif_files']:\n",
    "        cpath = Path(dseries['Full_Path']) / ctif\n",
    "        cpath.replace(outputfolder / ctif)\n",
    "print('Finished archiving the tif files.')"
   ]
  },
  {
   "cell_type": "code",
   "execution_count": null,
   "metadata": {},
   "outputs": [],
   "source": [
    "'''\n",
    "currently at \n",
    "/media/daniel/Seagate5TB/A83/A83_data5/20190520/flyf_20190520-A83-112_stim30s06V_00001\n",
    "'''"
   ]
  }
 ],
 "metadata": {
  "kernelspec": {
   "display_name": "CircuitCatcher2",
   "language": "python",
   "name": "circuitcatcher2"
  },
  "language_info": {
   "codemirror_mode": {
    "name": "ipython",
    "version": 3
   },
   "file_extension": ".py",
   "mimetype": "text/x-python",
   "name": "python",
   "nbconvert_exporter": "python",
   "pygments_lexer": "ipython3",
   "version": "3.6.8"
  }
 },
 "nbformat": 4,
 "nbformat_minor": 2
}
