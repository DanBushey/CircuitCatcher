{
 "cells": [
  {
   "cell_type": "code",
   "execution_count": 4,
   "metadata": {},
   "outputs": [
    {
     "data": {
      "text/plain": [
       "'\\nNeed to determine how many animals have been tested for each gentoype.\\nLoad the Summary1.xlsx where each sheet has the summary for each experiment.\\nLoad the SummarizingResponses.xlsx that contains a list of each of each cross:genotype.\\nDetermine how many times each geneotype has been tested as a count.\\nOutput the count to an excel sheet.\\n\\n'"
      ]
     },
     "execution_count": 4,
     "metadata": {},
     "output_type": "execute_result"
    }
   ],
   "source": [
    "'''\n",
    "Need to determine how many animals have been tested for each gentoype.\n",
    "Load the Summary1.xlsx where each sheet has the summary for each experiment.\n",
    "Load the SummarizingResponses.xlsx that contains a list of each of each cross:genotype.\n",
    "Determine how many times each geneotype has been tested as a count.\n",
    "Output the count to an excel sheet.\n",
    "\n",
    "'''"
   ]
  },
  {
   "cell_type": "code",
   "execution_count": 5,
   "metadata": {},
   "outputs": [],
   "source": [
    "from pathlib import Path\n",
    "import pandas as pd\n",
    "import pathlib"
   ]
  },
  {
   "cell_type": "code",
   "execution_count": 6,
   "metadata": {},
   "outputs": [],
   "source": [
    "def concat_Excel_file(path_excel):\n",
    "    #concatenate excel sheets into a single pandas dataframe\n",
    "    #path_excel = path the excel file\n",
    "    xl = pd.ExcelFile(path_excel)\n",
    "    #print(xl.sheet_names)\n",
    "    exceldata=xl.parse(xl.sheet_names[0])\n",
    "    exceldata['Sheet'] = xl.sheet_names[0]\n",
    "    for sheet in xl.sheet_names[1:]:\n",
    "        cframe = xl.parse(sheet, encoding='utf-8')\n",
    "        cframe['Sheet'] = sheet\n",
    "        exceldata = exceldata.append(cframe)\n",
    "    #change the index so there are no repeatd numbers\n",
    "    newindex = range(0, len(exceldata))\n",
    "    exceldata.index = newindex\n",
    "    return exceldata\n"
   ]
  },
  {
   "cell_type": "code",
   "execution_count": 9,
   "metadata": {},
   "outputs": [
    {
     "name": "stdout",
     "output_type": "stream",
     "text": [
      "[20190312 20190311]\n"
     ]
    }
   ],
   "source": [
    "summaryfile = '/media/daniel/Seagate5TB/A83/A83_data4/A83_Data3_Summary.xlsx'\n",
    "experimental_sum = concat_Excel_file(summaryfile)\n",
    "print(experimental_sum['Date'].unique())\n"
   ]
  },
  {
   "cell_type": "code",
   "execution_count": 10,
   "metadata": {},
   "outputs": [],
   "source": [
    "genotypes = '/media/daniel/Seagate5TB/A83/A83_data4/Analysis20190313/SummarizingResponses.xlsx'\n",
    "genotypes = concat_Excel_file(genotypes)\n",
    "genotypes.dropna(axis=0, subset = ['Cross'], inplace = True)"
   ]
  },
  {
   "cell_type": "code",
   "execution_count": 11,
   "metadata": {},
   "outputs": [
    {
     "data": {
      "text/plain": [
       "Index(['Cross', 'Driver Line', 'Respond', 'Total', 'Description', 'Sheet'], dtype='object')"
      ]
     },
     "execution_count": 11,
     "metadata": {},
     "output_type": "execute_result"
    }
   ],
   "source": [
    "genotypes.columns"
   ]
  },
  {
   "cell_type": "code",
   "execution_count": 12,
   "metadata": {},
   "outputs": [
    {
     "name": "stderr",
     "output_type": "stream",
     "text": [
      "/home/daniel/anaconda3/lib/python3.6/site-packages/pandas/core/indexing.py:189: SettingWithCopyWarning: \n",
      "A value is trying to be set on a copy of a slice from a DataFrame\n",
      "\n",
      "See the caveats in the documentation: http://pandas.pydata.org/pandas-docs/stable/indexing.html#indexing-view-versus-copy\n",
      "  self._setitem_with_indexer(indexer, value)\n"
     ]
    }
   ],
   "source": [
    "#add cross designation to each row in exceldata\n",
    "#need to remove empyt rows contaning nan in 'Sample Name' column\n",
    "experimental_sum.dropna(axis = 0, subset = ['Sample Name'], inplace = True)\n",
    "experimental_sum['Cross'] = ''\n",
    "for row, dseries in genotypes.iterrows():\n",
    "    ccross = dseries['Cross']\n",
    "    for row2, dseries2 in experimental_sum.iterrows():\n",
    "        if ccross in dseries2['Sample Name']:\n",
    "            experimental_sum['Cross'].loc[row2] = ccross\n",
    "            experimental_sum['Genotype'].loc[row2] = dseries['Driver Line']"
   ]
  },
  {
   "cell_type": "code",
   "execution_count": 13,
   "metadata": {},
   "outputs": [
    {
     "name": "stdout",
     "output_type": "stream",
     "text": [
      "['stimDur300at30, stimDur300at15']\n",
      "['stimDur300at30, stimDur300at15']\n"
     ]
    }
   ],
   "source": [
    "#select for only regular saline\n",
    "print(experimental_sum['Stim Protocol'].unique())\n",
    "experimental_sum = experimental_sum[experimental_sum['Stim Protocol'] == 'stimDur300at30, stimDur300at15']\n",
    "print(experimental_sum['Stim Protocol'].unique())"
   ]
  },
  {
   "cell_type": "code",
   "execution_count": 14,
   "metadata": {},
   "outputs": [],
   "source": [
    "#get counts and save to excel file\n",
    "targetfolder = str(pathlib.Path.cwd().parents[0] / 'Counts_Tested.xlsx')\n",
    "groups = experimental_sum.groupby(['Cross', 'Genotype'])\n",
    "groups[['Cross']].count().to_excel(targetfolder)"
   ]
  },
  {
   "cell_type": "code",
   "execution_count": 15,
   "metadata": {},
   "outputs": [],
   "source": [
    "#convert counts to dictionary to add back to summarizingresponses.xlsx\n",
    "counts =groups[['Cross']].count()\n",
    "dict_count = counts.to_dict()\n",
    "dict_count2 = {}\n",
    "for ckey in dict_count['Cross']:\n",
    "    dict_count2[ckey[0]] = dict_count['Cross'][ckey]\n",
    "    \n",
    "genotypes['Number Tested'] =''\n",
    "for row, dseries, in genotypes.iterrows():\n",
    "    if dseries['Cross'] in dict_count2:\n",
    "        genotypes['Number Tested'].loc[row] = dict_count2[dseries['Cross']] \n",
    "        \n",
    "    "
   ]
  },
  {
   "cell_type": "code",
   "execution_count": 17,
   "metadata": {},
   "outputs": [
    {
     "name": "stdout",
     "output_type": "stream",
     "text": [
      "Downstream\n",
      "Upstream\n"
     ]
    }
   ],
   "source": [
    "#drop columns and output as an excel file\n",
    "genotypes.drop(['Respond', 'Total', 'Description'], axis=1)\n",
    "groups = genotypes.groupby('Sheet')\n",
    "output = '/media/daniel/Seagate5TB/A83/A83_data4/Analysis20190313/SummarizingResponses_Output.xlsx'\n",
    "writer = pd.ExcelWriter(output, engine='xlsxwriter')\n",
    "for cgroup, dseries in groups:\n",
    "    print(cgroup)\n",
    "    dseries.to_excel(writer, sheet_name = cgroup)\n",
    "writer.save()"
   ]
  },
  {
   "cell_type": "code",
   "execution_count": null,
   "metadata": {},
   "outputs": [],
   "source": []
  },
  {
   "cell_type": "code",
   "execution_count": null,
   "metadata": {},
   "outputs": [],
   "source": []
  },
  {
   "cell_type": "code",
   "execution_count": null,
   "metadata": {},
   "outputs": [],
   "source": []
  }
 ],
 "metadata": {
  "kernelspec": {
   "display_name": "Python 3",
   "language": "python",
   "name": "python3"
  },
  "language_info": {
   "codemirror_mode": {
    "name": "ipython",
    "version": 3
   },
   "file_extension": ".py",
   "mimetype": "text/x-python",
   "name": "python",
   "nbconvert_exporter": "python",
   "pygments_lexer": "ipython3",
   "version": "3.6.6"
  }
 },
 "nbformat": 4,
 "nbformat_minor": 2
}
