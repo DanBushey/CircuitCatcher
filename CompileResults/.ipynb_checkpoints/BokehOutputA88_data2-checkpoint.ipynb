{
 "cells": [
  {
   "cell_type": "code",
   "execution_count": 1,
   "metadata": {},
   "outputs": [],
   "source": [
    "#This notebook used to design output html figures describing where rois occur in image and intensity over time graphs"
   ]
  },
  {
   "cell_type": "code",
   "execution_count": 1,
   "metadata": {},
   "outputs": [
    {
     "data": {
      "text/html": [
       "<style>.container { width:100% !important; }</style>"
      ],
      "text/plain": [
       "<IPython.core.display.HTML object>"
      ]
     },
     "metadata": {},
     "output_type": "display_data"
    }
   ],
   "source": [
    "from IPython.core.display import display, HTML\n",
    "display(HTML(\"<style>.container { width:100% !important; }</style>\"))\n"
   ]
  },
  {
   "cell_type": "code",
   "execution_count": 2,
   "metadata": {},
   "outputs": [
    {
     "data": {
      "text/html": [
       "<script>\n",
       "code_show=true; \n",
       "function code_toggle() {\n",
       " if (code_show){\n",
       " $('div.input').hide();\n",
       " } else {\n",
       " $('div.input').show();\n",
       " }\n",
       " code_show = !code_show\n",
       "} \n",
       "$( document ).ready(code_toggle);\n",
       "</script>\n",
       "The raw code for this IPython notebook is by default hidden for easier reading.\n",
       "To toggle on/off the raw code, click <a href=\"javascript:code_toggle()\">here</a>."
      ],
      "text/plain": [
       "<IPython.core.display.HTML object>"
      ]
     },
     "execution_count": 2,
     "metadata": {},
     "output_type": "execute_result"
    }
   ],
   "source": [
    "from IPython.display import HTML\n",
    "HTML('''<script>\n",
    "code_show=true; \n",
    "function code_toggle() {\n",
    " if (code_show){\n",
    " $('div.input').hide();\n",
    " } else {\n",
    " $('div.input').show();\n",
    " }\n",
    " code_show = !code_show\n",
    "} \n",
    "$( document ).ready(code_toggle);\n",
    "</script>\n",
    "The raw code for this IPython notebook is by default hidden for easier reading.\n",
    "To toggle on/off the raw code, click <a href=\"javascript:code_toggle()\">here</a>.''')"
   ]
  },
  {
   "cell_type": "code",
   "execution_count": 3,
   "metadata": {},
   "outputs": [
    {
     "data": {
      "text/html": [
       "<script>\n",
       "code_show_err=true; \n",
       "function code_toggle_err() {\n",
       " if (code_show_err){\n",
       " $('div.output_stderr').hide();\n",
       " } else {\n",
       " $('div.output_stderr').show();\n",
       " }\n",
       " code_show_err = !code_show_err\n",
       "} \n",
       "$( document ).ready(code_toggle_err);\n",
       "</script>\n",
       "To toggle on/off output errors, click <a href=\"javascript:code_toggle_err()\">here</a>."
      ],
      "text/plain": [
       "<IPython.core.display.HTML object>"
      ]
     },
     "execution_count": 3,
     "metadata": {},
     "output_type": "execute_result"
    }
   ],
   "source": [
    "#hide warnings\n",
    "HTML('''<script>\n",
    "code_show_err=true; \n",
    "function code_toggle_err() {\n",
    " if (code_show_err){\n",
    " $('div.output_stderr').hide();\n",
    " } else {\n",
    " $('div.output_stderr').show();\n",
    " }\n",
    " code_show_err = !code_show_err\n",
    "} \n",
    "$( document ).ready(code_toggle_err);\n",
    "</script>\n",
    "To toggle on/off output errors, click <a href=\"javascript:code_toggle_err()\">here</a>.''')"
   ]
  },
  {
   "cell_type": "code",
   "execution_count": 4,
   "metadata": {},
   "outputs": [],
   "source": [
    "import sys\n",
    "sys.path.insert(0, '/media/daniel/Windows1/Users/dnabu/Desktop/ResearchYogaWindows/DataJ/Programming/Python/Modules')\n"
   ]
  },
  {
   "cell_type": "code",
   "execution_count": 5,
   "metadata": {},
   "outputs": [],
   "source": [
    "import pandas as pd\n",
    "import os\n",
    "import sys\n",
    "import numpy as np\n",
    "import matplotlib.pyplot as plt\n",
    "import matplotlib\n",
    "#import ccModules as cc\n",
    "#import ccModules2 as cc2\n",
    "\n",
    "#from IPython.html.widgets import interact\n",
    "import pandas as pd\n",
    "from IPython.display import IFrame\n",
    "from bokeh.palettes import Spectral4\n",
    "from bokeh.plotting import figure, output_file, show\n",
    "from pathlib import Path\n",
    "import pathlibDB as pdb\n",
    "import re\n",
    "from collections import defaultdict\n",
    "import skimage\n",
    "import scipy\n",
    "from bokeh.io import output_notebook, show, output_file, save\n",
    "from bokeh.layouts import column\n",
    "from bokeh.plotting import figure, output_file, show, ColumnDataSource\n",
    "from bokeh.models import Range1d, Span, Legend, LinearAxis, Title\n",
    "import tables\n",
    "from dask.array.image import imread \n",
    "import pathlibDB as pbDB\n",
    "#from A99_init20190523 import *\n",
    "#output_notebook()"
   ]
  },
  {
   "cell_type": "code",
   "execution_count": 6,
   "metadata": {},
   "outputs": [],
   "source": [
    "targetfolder = '/media/daniel/Seagate Backup Plus Drive/A99/A99_Data2'"
   ]
  },
  {
   "cell_type": "code",
   "execution_count": 7,
   "metadata": {},
   "outputs": [],
   "source": [
    "#find files\n",
    "intensity_file_str = '*IntensityData.hdf5'\n",
    "color_file_str = '2Color'\n",
    "MIP_file_str = '*MIP.hdf5'"
   ]
  },
  {
   "cell_type": "code",
   "execution_count": 8,
   "metadata": {},
   "outputs": [
    {
     "name": "stdout",
     "output_type": "stream",
     "text": [
      "Finding desired files in \n",
      "/media/daniel/Seagate Backup Plus Drive/A99/A99_Data2\n"
     ]
    }
   ],
   "source": [
    "print('Finding desired files in ')\n",
    "print(targetfolder)\n",
    "#get full directory\n",
    "files = [cfile for cfile in Path(targetfolder).glob('**/' + intensity_file_str)]\n",
    "#print(files)"
   ]
  },
  {
   "cell_type": "code",
   "execution_count": 9,
   "metadata": {},
   "outputs": [
    {
     "name": "stdout",
     "output_type": "stream",
     "text": [
      "Finding image data associated with each intensity data file\n"
     ]
    }
   ],
   "source": [
    "print('Finding image data associated with each intensity data file')\n",
    "MIP_files = []\n",
    "for ifile in files:\n",
    "    MIP_files.append([mfile for mfile in Path(ifile).parents[0].glob(MIP_file_str)][0])\n",
    "    \n",
    "#get base name for each file\n",
    "fly = []\n",
    "LED = []\n",
    "stims = []\n",
    "full_name = []\n",
    "for ifile in files:\n",
    "    string1 = ifile.parts[-1]\n",
    "    full_name.append(string1[:-19])\n",
    "    fly.append(string1.split('_LED')[0])\n",
    "    LED.append(string1.split('_LED')[1].split('_Interval')[0][1:])\n",
    "    stims.append(string1.split('_LED')[1].split('_Interval')[1].split('_')[0][1:])\n",
    "    \n",
    "#find two color image\n",
    "color = []\n",
    "for i, basename in enumerate(fly):\n",
    "    color.append([cfile for cfile in Path(targetfolder).glob('**/*' + fly[i] + '_2color_00001.hdf5')][0])\n",
    "#package everything into a dataframe\n",
    "data_frame = pd.DataFrame(index=['Intensity_Data', 'MIP', '2color', 'Basename', 'Full_Name', 'LED', 'Stims'], data=[files, MIP_files, color, fly, full_name, LED, stims]).T"
   ]
  },
  {
   "cell_type": "code",
   "execution_count": 10,
   "metadata": {},
   "outputs": [
    {
     "data": {
      "text/plain": [
       "'flya_20190612-A99-3_2color_00001.hdf5'"
      ]
     },
     "execution_count": 10,
     "metadata": {},
     "output_type": "execute_result"
    }
   ],
   "source": [
    "fly[0] + '_2color_00001.hdf5'"
   ]
  },
  {
   "cell_type": "code",
   "execution_count": 11,
   "metadata": {},
   "outputs": [
    {
     "data": {
      "text/plain": [
       "'flyd_20190612-A99-3_LED-18_Interval-31_00001'"
      ]
     },
     "execution_count": 11,
     "metadata": {},
     "output_type": "execute_result"
    }
   ],
   "source": [
    "string1[:-19]"
   ]
  },
  {
   "cell_type": "code",
   "execution_count": 13,
   "metadata": {},
   "outputs": [],
   "source": [
    "def bokeh_rgb_image(rgb, fig):\n",
    "    #rgb = x,y,rgb\n",
    "    \n",
    "    rgb = np.flipud(rgb)\n",
    "    img = np.empty((rgb.shape[0],rgb.shape[1]), dtype=np.uint32)\n",
    "    N = img\n",
    "    view = img.view(dtype=np.uint8).reshape((img.shape[0], img.shape[1], 4))\n",
    "\n",
    "    view[:, :, 0] = rgb[:, :, 0]\n",
    "    view[:, :, 1] = rgb[:, :, 1]\n",
    "    view[:, :, 2] = rgb[:, :, 2]\n",
    "    view[:, :, 3] = 255\n",
    "    fig.x_range.range_padding = p.y_range.range_padding = 0\n",
    "\n",
    "    # must give a vector of images\n",
    "    fig.image_rgba(image=[img], x=0, y=0, dw=512, dh=512)\n",
    "    #p.line(x=[100, 500], y=[100,500])\n",
    "\n",
    "    #output_file(\"image_rgba.html\", title=\"image_rgba.py example\")\n",
    "    fig.axis.visible = False\n",
    "    \n",
    "    \n",
    "def bokeh_plot_roi(intensity_data, color_image, fig):\n",
    "    legend_it = []\n",
    "    for row2, dseries2 in intensity_data.iterrows():\n",
    "        maskimage = np.zeros(color_image.shape[1:4])\n",
    "        index = color_image.shape[1]*color_image.shape[2]*color_image.shape[3]\n",
    "        if dseries2['mask_index'][0].shape[0] != 0: #roi must include at least one pixel\n",
    "            maskimage.reshape(index)[dseries2['mask_index'][0]] = 1\n",
    "            maskimage = np.max(maskimage, axis =0)\n",
    "            maskimage = np.flipud(maskimage)\n",
    "            #plt.imshow(maskimage, cmap = 'gray')\n",
    "            contours = skimage.measure.find_contours(maskimage, 0.8)\n",
    "\n",
    "            for n, contour in enumerate(contours):\n",
    "                contour = np.array(contour, dtype = np.int)\n",
    "                #ax1.plot(contour[:, 1], contour[:, 0], linewidth = 2, color = colors[i])\n",
    "                c = fig.line(contour[:, 1], contour[:, 0], line_width = 2, color = tuple([int(i*255) for i in dseries2['Color'][0:3]]))\n",
    "                #p.line(contour[:, 1], contour[:, 0], line_width = 2, color = (255,0, 0))\n",
    "            legend_it.append((dseries2['Name'], [c]))\n",
    "\n",
    "            #lbl = scipy.ndimage.label(maskimage)\n",
    "            #indexC = scipy.ndimage.center_of_mass(maskimage)\n",
    "            #p.text(indexC[1], indexC[0], dseries2['Name'], color = dseries2['Color'])\n",
    "            \n",
    "    legend = Legend(items = legend_it, location=(0, 100))\n",
    "    legend.click_policy=\"hide\"\n",
    "    fig.add_layout(legend, 'right')"
   ]
  },
  {
   "cell_type": "code",
   "execution_count": 14,
   "metadata": {},
   "outputs": [],
   "source": [
    "rois = {'g5': [0.2, 0.15, 0.5] ,\n",
    "                 'g4': [0.4, 0.5, 0.5],\n",
    "                 'g3': [0.6, 0.2, 0],\n",
    "                 'a1': [0.3, 0.2, 0.5],\n",
    "                 'b1': [0.4, 0.4, 0.5],                \n",
    "                 'b2': [0.8, 0.5, 0],\n",
    "                 \"b'p2a\": [0.8, 0.5, 0],\n",
    "                 \"b'p2mp\": [0.8, 0.5, 0.5]}"
   ]
  },
  {
   "cell_type": "code",
   "execution_count": 15,
   "metadata": {},
   "outputs": [],
   "source": [
    "def makedirectory(Path1):\n",
    "    if not Path1.is_dir():\n",
    "        Path1.mkdir()"
   ]
  },
  {
   "cell_type": "code",
   "execution_count": 16,
   "metadata": {},
   "outputs": [],
   "source": [
    "#dicide where to save figures and figure names\n",
    "savefile = []\n",
    "saveFig = '/media/daniel/Seagate Backup Plus Drive/A99/A99_Data2/Analysis20190617'\n",
    "saveFig2 = Path(saveFig) / 'HTMLfigures'\n",
    "makedirectory(saveFig2)\n",
    "for row, dseries in data_frame.iterrows():\n",
    "    targetdirectory_cgen = saveFig2 / dseries['Basename']\n",
    "    makedirectory(targetdirectory_cgen)\n",
    "    savefile.append(targetdirectory_cgen / str(dseries['Full_Name'] + '.html'))\n",
    "data_frame['output_figure_file'] = savefile"
   ]
  },
  {
   "cell_type": "code",
   "execution_count": 17,
   "metadata": {},
   "outputs": [],
   "source": [
    "data_frame.to_excel('output_images.xlsx')"
   ]
  },
  {
   "cell_type": "code",
   "execution_count": null,
   "metadata": {},
   "outputs": [
    {
     "name": "stdout",
     "output_type": "stream",
     "text": [
      "flya_20190612-A99-3_LED-02_Interval-07_00001\n",
      "flya_20190612-A99-3_LED-02_Interval-00_00001\n",
      "flya_20190612-A99-3_LED-02_Interval-01_00001\n"
     ]
    }
   ],
   "source": [
    "#generate images for each entry in the dataframe\n",
    "#for row, dseries in gpu_files2.iterrows():\n",
    "#get the two color image data\n",
    "add_title = {'Basename': 'Animal Tested', 'LED': 'Stim Intensity (V)', 'Stims' : 'Stim Interval Length (s)'}\n",
    "for row, dseries in data_frame.iterrows():\n",
    "    print(dseries['Full_Name'])\n",
    "    hdf5_file = tables.open_file(dseries['2color'], mode='r')\n",
    "    color_image = hdf5_file.root.data[:]\n",
    "    hdf5_file.close()\n",
    "    #get intensity data file\n",
    "    hdf5 = tables.open_file(dseries['Intensity_Data'])\n",
    "    voltage = hdf5.root.voltage[:]\n",
    "    timeStamp = hdf5.root.timeStamp[:]\n",
    "    hdf5.close()\n",
    "    intensity_data = pd.read_hdf(dseries['Intensity_Data'], 'intensity_data')\n",
    "    rgb = np.zeros(color_image.shape[1:], dtype = color_image.dtype)\n",
    "    color_image1 = np.squeeze(color_image)\n",
    "    rgb = np.rollaxis(color_image1, 2, 1)\n",
    "\n",
    "    rgb = skimage.img_as_ubyte(rgb)\n",
    "\n",
    "\n",
    "    p=figure(match_aspect=True)\n",
    "    #add image\n",
    "    bokeh_rgb_image(np.max(rgb, axis=0), p)\n",
    "    #add plots for each roi\n",
    "    bokeh_plot_roi(intensity_data, color_image, p)\n",
    "    '''\n",
    "    title1 = 'GAL4 :' \\\n",
    "            + crosses[dseries['Cross']]['GAL4'] \\\n",
    "            + '; LexA ' \\\n",
    "            + crosses[dseries['Cross']]['LexA'] \\\n",
    "            + '; Chrimson :' \\\n",
    "            + crosses[dseries['Cross']]['Chrimson'] \\\n",
    "            + '; Sensor :' \\\n",
    "            + crosses[dseries['Cross']]['Sensor']\n",
    "    p.title.text = title1\n",
    "    '''\n",
    "    for ckey in add_title:\n",
    "        p.add_layout(Title(text = add_title[ckey] + ': ' + dseries[ckey]), 'above')\n",
    "           \n",
    "    p.xgrid.grid_line_color = None\n",
    "    p.ygrid.grid_line_color = None\n",
    "\n",
    "    plots =[p]  # open a browser\n",
    "    timevolt = np.arange(0, len(voltage))/100\n",
    "    for croi in rois:\n",
    "        cframe = intensity_data[intensity_data['Name'].str.contains(croi)]\n",
    "        if len(cframe) > 0 :\n",
    "            p=figure(match_aspect=True)\n",
    "            bokeh_rgb_image(np.max(rgb, axis=0), p)\n",
    "            bokeh_plot_roi(cframe, color_image, p)\n",
    "            p.xgrid.grid_line_color = None\n",
    "            p.ygrid.grid_line_color = None\n",
    "            plots.append(p)\n",
    "            #place a line plot showing intensity over time\n",
    "            data = np.mean(np.vstack(cframe['intensity']), axis=0)\n",
    "            background_data = np.mean(np.vstack(intensity_data[intensity_data['Name'].str.contains('Background')]['intensity'].values),axis=0)\n",
    "            data = data-background_data\n",
    "            min1= []\n",
    "            max1=[]\n",
    "            for row2, dseries2 in cframe.iterrows():\n",
    "                min1.append(np.min(np.mean(dseries2['intensity'], axis=0) - background_data))\n",
    "                max1.append(np.max(np.mean(dseries2['intensity'], axis=0)- background_data))\n",
    "            p = figure(plot_width=800, plot_height=400, y_range=Range1d(np.min(min1), np.max(max1)), x_range = Range1d(0, np.max(timeStamp)), x_axis_label = 'Time (S)', y_axis_label = 'Intensity - Background')\n",
    "            #plot showing voltage\n",
    "            p.title.text = croi\n",
    "            p.extra_y_ranges = {\"foo\": Range1d(start=-0, end=2)}\n",
    "            p.add_layout(LinearAxis(y_range_name='foo', axis_label = 'Volt (V)'), 'right')\n",
    "            c = p.line(timevolt, voltage.flatten(), y_range_name = 'foo', line_color = (255,0, 0), line_alpha=0.5, line_width =2)\n",
    "\n",
    "            #plot showing mean data results\n",
    "            legend_it = [('Voltage', [c])]\n",
    "            c = p.line(x=timeStamp.flatten(), y=data, line_width=2, line_color = (0, 0, 0))\n",
    "            legend_it.append(('Mean', [c]))\n",
    "            for row2, dseries2 in cframe.iterrows():\n",
    "                c = p.line(x=timeStamp.flatten(), y=np.mean(dseries2['intensity'], axis=0) - background_data, line_width=2, line_color = (150, 150, 150), line_alpha = 0.5) #line_color = colors[cgroup])\n",
    "                legend_it.append((dseries2['Name'], [c]))\n",
    "\n",
    "\n",
    "            #p.sizing_mode = 'scale_width'\n",
    "\n",
    "            legend = Legend(items = legend_it, location=(0, 100))\n",
    "            legend.click_policy=\"hide\"\n",
    "            p.add_layout(legend, 'right')\n",
    "            plots.append(p)\n",
    "\n",
    "\n",
    "\n",
    "            #p.x_range = Range1d(0, 450)\n",
    "            #p.y_range = Range1d(min1, max1)\n",
    "            #output_file(\"Mean-RawIntensity.html\", title = 'Stimulation Protocol')\n",
    "            #p.patch(timevolt2, volt2, y_range_name = 'foo')\n",
    "    out = output_file(dseries['output_figure_file'], mode='inline')\n",
    "    save(column(plots))"
   ]
  },
  {
   "cell_type": "code",
   "execution_count": null,
   "metadata": {},
   "outputs": [],
   "source": [
    "image_frame2 = image_frame[image_frame['Cross'] == 'A99-8']\n",
    "image_frame2"
   ]
  },
  {
   "cell_type": "code",
   "execution_count": null,
   "metadata": {},
   "outputs": [],
   "source": [
    "#generate images for each entry in the dataframe\n",
    "##subset that were not E5802\n",
    "image_frame2 = image_frame[image_frame['Cross'] == 'A99-8']\n",
    "add_title = ['GAL4', 'LexA', 'Chrimson', 'Sensor']\n",
    "for row, dseries in image_frame2[:2].iterrows():\n",
    "    print(dseries['Paths'])\n",
    "    hdf5_file = tables.open_file(dseries['Two_Colored_Image'], mode='r')\n",
    "    color_image = hdf5_file.root.data[:]\n",
    "    hdf5_file.close()\n",
    "    #get intensity data file\n",
    "    hdf5 = tables.open_file(dseries['Intensity_Data_File'])\n",
    "    voltage = hdf5.root.voltage[:]\n",
    "    timeStamp = hdf5.root.timeStamp[:]\n",
    "    hdf5.close()\n",
    "    intensity_data = pd.read_hdf(dseries['Intensity_Data_File'], 'intensity_data')\n",
    "    rgb = np.zeros(color_image.shape[1:], dtype = color_image.dtype)\n",
    "    color_image1 = np.squeeze(color_image)\n",
    "    rgb = np.rollaxis(color_image1, 2, 1)\n",
    "\n",
    "    rgb = skimage.img_as_ubyte(rgb)\n",
    "\n",
    "\n",
    "    p=figure(match_aspect=True)\n",
    "    #add image\n",
    "    bokeh_rgb_image(np.max(rgb, axis=0), p)\n",
    "    #add plots for each roi\n",
    "    bokeh_plot_roi(intensity_data, p)\n",
    "    '''\n",
    "    title1 = 'GAL4 :' \\\n",
    "            + crosses[dseries['Cross']]['GAL4'] \\\n",
    "            + '; LexA ' \\\n",
    "            + crosses[dseries['Cross']]['LexA'] \\\n",
    "            + '; Chrimson :' \\\n",
    "            + crosses[dseries['Cross']]['Chrimson'] \\\n",
    "            + '; Sensor :' \\\n",
    "            + crosses[dseries['Cross']]['Sensor']\n",
    "    p.title.text = title1\n",
    "    '''\n",
    "    for ckey in add_title:\n",
    "        p.add_layout(Title(text = ckey + ': ' + crosses[dseries['Cross']][ckey]), 'above')\n",
    "           \n",
    "    p.xgrid.grid_line_color = None\n",
    "    p.ygrid.grid_line_color = None\n",
    "\n",
    "    plots =[p]  # open a browser\n",
    "    timevolt = np.arange(0, len(voltage))/100\n",
    "    for croi, cframe in intensity_data.groupby(['Name']):\n",
    "\n",
    "        p=figure(match_aspect=True)\n",
    "        bokeh_rgb_image(np.max(rgb, axis=0), p)\n",
    "        bokeh_plot_roi(cframe, p)\n",
    "        p.xgrid.grid_line_color = None\n",
    "        p.ygrid.grid_line_color = None\n",
    "        plots.append(p)\n",
    "        #place a line plot showing intensity over time\n",
    "        data = np.mean(np.vstack(cframe['intensity']), axis=0)\n",
    "        background_data = np.mean(np.vstack(intensity_data[intensity_data['Name'].str.contains('Background')]['intensity'].values),axis=0)\n",
    "        data = data-background_data\n",
    "        min1= []\n",
    "        max1=[]\n",
    "        for row2, dseries2 in cframe.iterrows():\n",
    "            min1.append(np.min(np.mean(dseries2['intensity'], axis=0) - background_data))\n",
    "            max1.append(np.max(np.mean(dseries2['intensity'], axis=0)- background_data))\n",
    "        p = figure(plot_width=800, plot_height=400, y_range=Range1d(np.min(min1), np.max(max1)), x_range = Range1d(0, np.max(timeStamp)), x_axis_label = 'Time (S)', y_axis_label = 'Intensity - Background')\n",
    "        #plot showing voltage\n",
    "        p.title.text = croi\n",
    "        p.extra_y_ranges = {\"foo\": Range1d(start=-0, end=2)}\n",
    "        p.add_layout(LinearAxis(y_range_name='foo', axis_label = 'Volt (V)'), 'right')\n",
    "        c = p.line(timevolt, voltage.flatten(), y_range_name = 'foo', line_color = (255,0, 0), line_alpha=0.5, line_width =2)\n",
    "\n",
    "        #plot showing mean data results\n",
    "        legend_it = [('Voltage', [c])]\n",
    "        c = p.line(x=timeStamp.flatten(), y=data, line_width=2, line_color = (0, 0, 0))\n",
    "        legend_it.append(('Mean', [c]))\n",
    "        for row2, dseries2 in cframe.iterrows():\n",
    "            c = p.line(x=timeStamp.flatten(), y=np.mean(dseries2['intensity'], axis=0) - background_data, line_width=2, line_color = (150, 150, 150), line_alpha = 0.5) #line_color = colors[cgroup])\n",
    "            legend_it.append((dseries2['Name'], [c]))\n",
    "\n",
    "\n",
    "        #p.sizing_mode = 'scale_width'\n",
    "\n",
    "        legend = Legend(items = legend_it, location=(0, 100))\n",
    "        legend.click_policy=\"hide\"\n",
    "        p.add_layout(legend, 'right')\n",
    "        plots.append(p)\n",
    "\n",
    "\n",
    "\n",
    "        #p.x_range = Range1d(0, 450)\n",
    "        #p.y_range = Range1d(min1, max1)\n",
    "        #output_file(\"Mean-RawIntensity.html\", title = 'Stimulation Protocol')\n",
    "        #p.patch(timevolt2, volt2, y_range_name = 'foo')\n",
    "    out = output_file(dseries['output_figure_file'], mode='inline')\n",
    "    show(column(plots))"
   ]
  },
  {
   "cell_type": "code",
   "execution_count": null,
   "metadata": {},
   "outputs": [],
   "source": [
    "dseries"
   ]
  },
  {
   "cell_type": "code",
   "execution_count": null,
   "metadata": {},
   "outputs": [],
   "source": []
  }
 ],
 "metadata": {
  "kernelspec": {
   "display_name": "CircuitCatcher2",
   "language": "python",
   "name": "circuitcatcher2"
  },
  "language_info": {
   "codemirror_mode": {
    "name": "ipython",
    "version": 3
   },
   "file_extension": ".py",
   "mimetype": "text/x-python",
   "name": "python",
   "nbconvert_exporter": "python",
   "pygments_lexer": "ipython3",
   "version": "3.6.8"
  }
 },
 "nbformat": 4,
 "nbformat_minor": 2
}
