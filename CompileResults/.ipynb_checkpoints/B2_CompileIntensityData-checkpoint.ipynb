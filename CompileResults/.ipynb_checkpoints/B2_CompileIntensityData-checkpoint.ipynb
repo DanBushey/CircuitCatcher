{
 "cells": [
  {
   "cell_type": "code",
   "execution_count": 1,
   "metadata": {},
   "outputs": [
    {
     "name": "stderr",
     "output_type": "stream",
     "text": [
      "/home/daniel/Desktop/ResearchUbuntuYoga720/A30_FastROI/CircuitCatcher2/tifffile.py:265: UserWarning: failed to import the optional _tifffile C extension module.\n",
      "Loading of some compressed images will be very slow.\n",
      "Tifffile.c can be obtained at http://www.lfd.uci.edu/~gohlke/\n",
      "  \"failed to import the optional _tifffile C extension module.\\n\"\n"
     ]
    }
   ],
   "source": [
    "import pandas as pd\n",
    "from pathlib import Path\n",
    "import tqdm\n",
    "from multiprocessing import Pool\n",
    "import sys\n",
    "sys.path.append('/home/daniel/Desktop/ResearchUbuntuYoga720/A30_FastROI/CircuitCatcher2')\n",
    "\n",
    "import ccModules as cc"
   ]
  },
  {
   "cell_type": "code",
   "execution_count": 2,
   "metadata": {},
   "outputs": [
    {
     "name": "stdout",
     "output_type": "stream",
     "text": [
      "/media/daniel/Seagate5TB/A83/A83_data5\n"
     ]
    }
   ],
   "source": [
    "targetfolder = Path.cwd().parents[1]\n",
    "outputfolder = 'Analysis20190701'\n",
    "output_pickle_file = 'A83_Data5_CompiledIntensityData.pkl'\n",
    "output_xls_file = 'A83_Data5_CompiledIntensityData.xlsx'\n",
    "print(targetfolder)"
   ]
  },
  {
   "cell_type": "code",
   "execution_count": 3,
   "metadata": {},
   "outputs": [],
   "source": [
    "#find intensity data files in targetfolder\n",
    "intensity_data_files = [str(cfile) for cfile in Path(targetfolder).glob('**/*IntensityData.hdf5')]"
   ]
  },
  {
   "cell_type": "code",
   "execution_count": 4,
   "metadata": {},
   "outputs": [
    {
     "name": "stderr",
     "output_type": "stream",
     "text": [
      "100%|██████████| 18/18 [00:01<00:00, 12.98it/s]\n"
     ]
    }
   ],
   "source": [
    "#get the data from all the files into one list\n",
    "intensity_frame = pd.DataFrame(columns=['Intensity_Data_File'], data=intensity_data_files)\n",
    "intensity_list= [dseries for row, dseries in intensity_frame.iterrows()]\n",
    "with Pool(4) as p:\n",
    "    output1=list(tqdm.tqdm(p.imap(cc.compileTimeSeriesData, intensity_list), total=len(intensity_list)))\n",
    "#output1 = dview.map(ccModules.compileTimeSeriesData, listexceldata)"
   ]
  },
  {
   "cell_type": "code",
   "execution_count": 5,
   "metadata": {},
   "outputs": [],
   "source": [
    "intensity_frame = pd.DataFrame(index=range(len(output1)), columns = output1[0].index)\n",
    "for row in intensity_frame.index:\n",
    "    intensity_frame.loc[row] = output1[row]"
   ]
  },
  {
   "cell_type": "code",
   "execution_count": 6,
   "metadata": {},
   "outputs": [],
   "source": [
    "output_file = str(Path(targetfolder) / outputfolder/ output_pickle_file)\n",
    "intensity_frame.to_pickle(output_file)"
   ]
  },
  {
   "cell_type": "code",
   "execution_count": 7,
   "metadata": {},
   "outputs": [
    {
     "name": "stdout",
     "output_type": "stream",
     "text": [
      "/media/daniel/Seagate5TB/A83/A83_data5/Analysis20190701/A83_Data5_CompiledIntensityData.xlsx\n"
     ]
    }
   ],
   "source": [
    "output_file = str(Path(targetfolder) / outputfolder/ output_xls_file)\n",
    "intensity_frame.to_excel(output_file)\n",
    "print(output_file)"
   ]
  },
  {
   "cell_type": "code",
   "execution_count": 8,
   "metadata": {},
   "outputs": [
    {
     "data": {
      "text/html": [
       "<div>\n",
       "<style scoped>\n",
       "    .dataframe tbody tr th:only-of-type {\n",
       "        vertical-align: middle;\n",
       "    }\n",
       "\n",
       "    .dataframe tbody tr th {\n",
       "        vertical-align: top;\n",
       "    }\n",
       "\n",
       "    .dataframe thead th {\n",
       "        text-align: right;\n",
       "    }\n",
       "</style>\n",
       "<table border=\"1\" class=\"dataframe\">\n",
       "  <thead>\n",
       "    <tr style=\"text-align: right;\">\n",
       "      <th></th>\n",
       "      <th>Intensity_Data_File</th>\n",
       "      <th>voltage</th>\n",
       "      <th>timestamp</th>\n",
       "      <th>intensity_data</th>\n",
       "    </tr>\n",
       "  </thead>\n",
       "  <tbody>\n",
       "    <tr>\n",
       "      <th>0</th>\n",
       "      <td>/media/daniel/Seagate5TB/A83/A83_data5/2019051...</td>\n",
       "      <td>[[0.0], [0.0], [0.0], [0.0], [0.0], [0.0], [0....</td>\n",
       "      <td>[[1.004], [2.008], [3.012], [4.016], [5.02], [...</td>\n",
       "      <td>{'Name': {'Background': 'Background', 'Region1...</td>\n",
       "    </tr>\n",
       "    <tr>\n",
       "      <th>1</th>\n",
       "      <td>/media/daniel/Seagate5TB/A83/A83_data5/2019051...</td>\n",
       "      <td>[[0.0], [0.0], [0.0], [0.0], [0.0], [0.0], [0....</td>\n",
       "      <td>[[1.004], [2.008], [3.012], [4.016], [5.02], [...</td>\n",
       "      <td>{'Name': {'Background': 'Background', 'Region1...</td>\n",
       "    </tr>\n",
       "    <tr>\n",
       "      <th>2</th>\n",
       "      <td>/media/daniel/Seagate5TB/A83/A83_data5/2019051...</td>\n",
       "      <td>[[0.0], [0.0], [0.0], [0.0], [0.0], [0.0], [0....</td>\n",
       "      <td>[[1.004], [2.008], [3.012], [4.016], [5.02], [...</td>\n",
       "      <td>{'Name': {'Background': 'Background', 'Region1...</td>\n",
       "    </tr>\n",
       "    <tr>\n",
       "      <th>3</th>\n",
       "      <td>/media/daniel/Seagate5TB/A83/A83_data5/2019051...</td>\n",
       "      <td>[[0.0], [0.0], [0.0], [0.0], [0.0], [0.0], [0....</td>\n",
       "      <td>[[1.004], [2.008], [3.012], [4.016], [5.02], [...</td>\n",
       "      <td>{'Name': {'Background': 'Background', 'Region1...</td>\n",
       "    </tr>\n",
       "    <tr>\n",
       "      <th>4</th>\n",
       "      <td>/media/daniel/Seagate5TB/A83/A83_data5/2019051...</td>\n",
       "      <td>[[0.0], [0.0], [0.0], [0.0], [0.0], [0.0], [0....</td>\n",
       "      <td>[[1.004], [2.008], [3.012], [4.016], [5.02], [...</td>\n",
       "      <td>{'Name': {'Background': 'Background', 'Region1...</td>\n",
       "    </tr>\n",
       "    <tr>\n",
       "      <th>5</th>\n",
       "      <td>/media/daniel/Seagate5TB/A83/A83_data5/2019051...</td>\n",
       "      <td>[[0.0], [0.0], [0.0], [0.0], [0.0], [0.0], [0....</td>\n",
       "      <td>[[1.004], [2.008], [3.012], [4.016], [5.02], [...</td>\n",
       "      <td>{'Name': {'Background': 'Background', 'Region1...</td>\n",
       "    </tr>\n",
       "    <tr>\n",
       "      <th>6</th>\n",
       "      <td>/media/daniel/Seagate5TB/A83/A83_data5/2019052...</td>\n",
       "      <td>[[0.0], [0.0], [0.0], [0.0], [0.0], [0.0], [0....</td>\n",
       "      <td>[[1.004], [2.008], [3.012], [4.016], [5.02], [...</td>\n",
       "      <td>{'Name': {'Background': 'Background', 'Region1...</td>\n",
       "    </tr>\n",
       "    <tr>\n",
       "      <th>7</th>\n",
       "      <td>/media/daniel/Seagate5TB/A83/A83_data5/2019052...</td>\n",
       "      <td>[[0.0], [0.0], [0.0], [0.0], [0.0], [0.0], [0....</td>\n",
       "      <td>[[1.004], [2.008], [3.012], [4.016], [5.02], [...</td>\n",
       "      <td>{'Name': {'Background': 'Background', 'Region1...</td>\n",
       "    </tr>\n",
       "    <tr>\n",
       "      <th>8</th>\n",
       "      <td>/media/daniel/Seagate5TB/A83/A83_data5/2019052...</td>\n",
       "      <td>[[0.0], [0.0], [0.0], [0.0], [0.0], [0.0], [0....</td>\n",
       "      <td>[[1.004], [2.008], [3.012], [4.016], [5.02], [...</td>\n",
       "      <td>{'Name': {'Background': 'Background', 'Region1...</td>\n",
       "    </tr>\n",
       "    <tr>\n",
       "      <th>9</th>\n",
       "      <td>/media/daniel/Seagate5TB/A83/A83_data5/2019052...</td>\n",
       "      <td>[[0.0], [0.0], [0.0], [0.0], [0.0], [0.0], [0....</td>\n",
       "      <td>[[1.004], [2.008], [3.012], [4.016], [5.02], [...</td>\n",
       "      <td>{'Name': {'Background': 'Background', 'Region1...</td>\n",
       "    </tr>\n",
       "    <tr>\n",
       "      <th>10</th>\n",
       "      <td>/media/daniel/Seagate5TB/A83/A83_data5/2019052...</td>\n",
       "      <td>[[0.0], [0.0], [0.0], [0.0], [0.0], [0.0], [0....</td>\n",
       "      <td>[[1.004], [2.008], [3.012], [4.016], [5.02], [...</td>\n",
       "      <td>{'Name': {'Background': 'Background', 'Region1...</td>\n",
       "    </tr>\n",
       "    <tr>\n",
       "      <th>11</th>\n",
       "      <td>/media/daniel/Seagate5TB/A83/A83_data5/2019052...</td>\n",
       "      <td>[[0.0], [0.0], [0.0], [0.0], [0.0], [0.0], [0....</td>\n",
       "      <td>[[1.004], [2.008], [3.012], [4.016], [5.02], [...</td>\n",
       "      <td>{'Name': {'Background': 'Background', 'Region1...</td>\n",
       "    </tr>\n",
       "    <tr>\n",
       "      <th>12</th>\n",
       "      <td>/media/daniel/Seagate5TB/A83/A83_data5/2019052...</td>\n",
       "      <td>[[0.0], [0.0], [0.0], [0.0], [0.0], [0.0], [0....</td>\n",
       "      <td>[[1.004], [2.008], [3.012], [4.016], [5.02], [...</td>\n",
       "      <td>{'Name': {'Background': 'Background', 'Region1...</td>\n",
       "    </tr>\n",
       "    <tr>\n",
       "      <th>13</th>\n",
       "      <td>/media/daniel/Seagate5TB/A83/A83_data5/2019052...</td>\n",
       "      <td>[[0.0], [0.0], [0.0], [0.0], [0.0], [0.0], [0....</td>\n",
       "      <td>[[1.004], [2.008], [3.012], [4.016], [5.02], [...</td>\n",
       "      <td>{'Name': {'Background': 'Background', 'Region1...</td>\n",
       "    </tr>\n",
       "    <tr>\n",
       "      <th>14</th>\n",
       "      <td>/media/daniel/Seagate5TB/A83/A83_data5/2019052...</td>\n",
       "      <td>[[0.0], [0.0], [0.0], [0.0], [0.0], [0.0], [0....</td>\n",
       "      <td>[[1.004], [2.008], [3.012], [4.016], [5.02], [...</td>\n",
       "      <td>{'Name': {'Background': 'Background', 'Region1...</td>\n",
       "    </tr>\n",
       "    <tr>\n",
       "      <th>15</th>\n",
       "      <td>/media/daniel/Seagate5TB/A83/A83_data5/2019052...</td>\n",
       "      <td>[[0.0], [0.0], [0.0], [0.0], [0.0], [0.0], [0....</td>\n",
       "      <td>[[1.004], [2.008], [3.012], [4.016], [5.02], [...</td>\n",
       "      <td>{'Name': {'Background': 'Background', 'Region1...</td>\n",
       "    </tr>\n",
       "    <tr>\n",
       "      <th>16</th>\n",
       "      <td>/media/daniel/Seagate5TB/A83/A83_data5/2019052...</td>\n",
       "      <td>[[0.0], [0.0], [0.0], [0.0], [0.0], [0.0], [0....</td>\n",
       "      <td>[[1.004], [2.008], [3.012], [4.016], [5.02], [...</td>\n",
       "      <td>{'Name': {'Background': 'Background', 'Region1...</td>\n",
       "    </tr>\n",
       "    <tr>\n",
       "      <th>17</th>\n",
       "      <td>/media/daniel/Seagate5TB/A83/A83_data5/2019052...</td>\n",
       "      <td>[[0.0], [0.0], [0.0], [0.0], [0.0], [0.0], [0....</td>\n",
       "      <td>[[1.004], [2.008], [3.012], [4.016], [5.02], [...</td>\n",
       "      <td>{'Name': {'Background': 'Background', 'Region1...</td>\n",
       "    </tr>\n",
       "  </tbody>\n",
       "</table>\n",
       "</div>"
      ],
      "text/plain": [
       "                                  Intensity_Data_File  \\\n",
       "0   /media/daniel/Seagate5TB/A83/A83_data5/2019051...   \n",
       "1   /media/daniel/Seagate5TB/A83/A83_data5/2019051...   \n",
       "2   /media/daniel/Seagate5TB/A83/A83_data5/2019051...   \n",
       "3   /media/daniel/Seagate5TB/A83/A83_data5/2019051...   \n",
       "4   /media/daniel/Seagate5TB/A83/A83_data5/2019051...   \n",
       "5   /media/daniel/Seagate5TB/A83/A83_data5/2019051...   \n",
       "6   /media/daniel/Seagate5TB/A83/A83_data5/2019052...   \n",
       "7   /media/daniel/Seagate5TB/A83/A83_data5/2019052...   \n",
       "8   /media/daniel/Seagate5TB/A83/A83_data5/2019052...   \n",
       "9   /media/daniel/Seagate5TB/A83/A83_data5/2019052...   \n",
       "10  /media/daniel/Seagate5TB/A83/A83_data5/2019052...   \n",
       "11  /media/daniel/Seagate5TB/A83/A83_data5/2019052...   \n",
       "12  /media/daniel/Seagate5TB/A83/A83_data5/2019052...   \n",
       "13  /media/daniel/Seagate5TB/A83/A83_data5/2019052...   \n",
       "14  /media/daniel/Seagate5TB/A83/A83_data5/2019052...   \n",
       "15  /media/daniel/Seagate5TB/A83/A83_data5/2019052...   \n",
       "16  /media/daniel/Seagate5TB/A83/A83_data5/2019052...   \n",
       "17  /media/daniel/Seagate5TB/A83/A83_data5/2019052...   \n",
       "\n",
       "                                              voltage  \\\n",
       "0   [[0.0], [0.0], [0.0], [0.0], [0.0], [0.0], [0....   \n",
       "1   [[0.0], [0.0], [0.0], [0.0], [0.0], [0.0], [0....   \n",
       "2   [[0.0], [0.0], [0.0], [0.0], [0.0], [0.0], [0....   \n",
       "3   [[0.0], [0.0], [0.0], [0.0], [0.0], [0.0], [0....   \n",
       "4   [[0.0], [0.0], [0.0], [0.0], [0.0], [0.0], [0....   \n",
       "5   [[0.0], [0.0], [0.0], [0.0], [0.0], [0.0], [0....   \n",
       "6   [[0.0], [0.0], [0.0], [0.0], [0.0], [0.0], [0....   \n",
       "7   [[0.0], [0.0], [0.0], [0.0], [0.0], [0.0], [0....   \n",
       "8   [[0.0], [0.0], [0.0], [0.0], [0.0], [0.0], [0....   \n",
       "9   [[0.0], [0.0], [0.0], [0.0], [0.0], [0.0], [0....   \n",
       "10  [[0.0], [0.0], [0.0], [0.0], [0.0], [0.0], [0....   \n",
       "11  [[0.0], [0.0], [0.0], [0.0], [0.0], [0.0], [0....   \n",
       "12  [[0.0], [0.0], [0.0], [0.0], [0.0], [0.0], [0....   \n",
       "13  [[0.0], [0.0], [0.0], [0.0], [0.0], [0.0], [0....   \n",
       "14  [[0.0], [0.0], [0.0], [0.0], [0.0], [0.0], [0....   \n",
       "15  [[0.0], [0.0], [0.0], [0.0], [0.0], [0.0], [0....   \n",
       "16  [[0.0], [0.0], [0.0], [0.0], [0.0], [0.0], [0....   \n",
       "17  [[0.0], [0.0], [0.0], [0.0], [0.0], [0.0], [0....   \n",
       "\n",
       "                                            timestamp  \\\n",
       "0   [[1.004], [2.008], [3.012], [4.016], [5.02], [...   \n",
       "1   [[1.004], [2.008], [3.012], [4.016], [5.02], [...   \n",
       "2   [[1.004], [2.008], [3.012], [4.016], [5.02], [...   \n",
       "3   [[1.004], [2.008], [3.012], [4.016], [5.02], [...   \n",
       "4   [[1.004], [2.008], [3.012], [4.016], [5.02], [...   \n",
       "5   [[1.004], [2.008], [3.012], [4.016], [5.02], [...   \n",
       "6   [[1.004], [2.008], [3.012], [4.016], [5.02], [...   \n",
       "7   [[1.004], [2.008], [3.012], [4.016], [5.02], [...   \n",
       "8   [[1.004], [2.008], [3.012], [4.016], [5.02], [...   \n",
       "9   [[1.004], [2.008], [3.012], [4.016], [5.02], [...   \n",
       "10  [[1.004], [2.008], [3.012], [4.016], [5.02], [...   \n",
       "11  [[1.004], [2.008], [3.012], [4.016], [5.02], [...   \n",
       "12  [[1.004], [2.008], [3.012], [4.016], [5.02], [...   \n",
       "13  [[1.004], [2.008], [3.012], [4.016], [5.02], [...   \n",
       "14  [[1.004], [2.008], [3.012], [4.016], [5.02], [...   \n",
       "15  [[1.004], [2.008], [3.012], [4.016], [5.02], [...   \n",
       "16  [[1.004], [2.008], [3.012], [4.016], [5.02], [...   \n",
       "17  [[1.004], [2.008], [3.012], [4.016], [5.02], [...   \n",
       "\n",
       "                                       intensity_data  \n",
       "0   {'Name': {'Background': 'Background', 'Region1...  \n",
       "1   {'Name': {'Background': 'Background', 'Region1...  \n",
       "2   {'Name': {'Background': 'Background', 'Region1...  \n",
       "3   {'Name': {'Background': 'Background', 'Region1...  \n",
       "4   {'Name': {'Background': 'Background', 'Region1...  \n",
       "5   {'Name': {'Background': 'Background', 'Region1...  \n",
       "6   {'Name': {'Background': 'Background', 'Region1...  \n",
       "7   {'Name': {'Background': 'Background', 'Region1...  \n",
       "8   {'Name': {'Background': 'Background', 'Region1...  \n",
       "9   {'Name': {'Background': 'Background', 'Region1...  \n",
       "10  {'Name': {'Background': 'Background', 'Region1...  \n",
       "11  {'Name': {'Background': 'Background', 'Region1...  \n",
       "12  {'Name': {'Background': 'Background', 'Region1...  \n",
       "13  {'Name': {'Background': 'Background', 'Region1...  \n",
       "14  {'Name': {'Background': 'Background', 'Region1...  \n",
       "15  {'Name': {'Background': 'Background', 'Region1...  \n",
       "16  {'Name': {'Background': 'Background', 'Region1...  \n",
       "17  {'Name': {'Background': 'Background', 'Region1...  "
      ]
     },
     "execution_count": 8,
     "metadata": {},
     "output_type": "execute_result"
    }
   ],
   "source": [
    "intensity_frame"
   ]
  },
  {
   "cell_type": "code",
   "execution_count": null,
   "metadata": {},
   "outputs": [],
   "source": []
  }
 ],
 "metadata": {
  "kernelspec": {
   "display_name": "CircuitCatcher2",
   "language": "python",
   "name": "circuitcatcher2"
  },
  "language_info": {
   "codemirror_mode": {
    "name": "ipython",
    "version": 3
   },
   "file_extension": ".py",
   "mimetype": "text/x-python",
   "name": "python",
   "nbconvert_exporter": "python",
   "pygments_lexer": "ipython3",
   "version": "3.6.8"
  }
 },
 "nbformat": 4,
 "nbformat_minor": 2
}
