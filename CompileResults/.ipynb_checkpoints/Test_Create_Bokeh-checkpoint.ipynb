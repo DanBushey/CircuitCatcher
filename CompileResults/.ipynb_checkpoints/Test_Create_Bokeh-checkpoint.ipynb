{
 "cells": [
  {
   "cell_type": "code",
   "execution_count": 1,
   "metadata": {},
   "outputs": [],
   "source": [
    "#This notebook used to design output html figures describing where rois occur in image and intensity over time graphs"
   ]
  },
  {
   "cell_type": "code",
   "execution_count": 2,
   "metadata": {},
   "outputs": [
    {
     "data": {
      "text/html": [
       "<style>.container { width:100% !important; }</style>"
      ],
      "text/plain": [
       "<IPython.core.display.HTML object>"
      ]
     },
     "metadata": {},
     "output_type": "display_data"
    }
   ],
   "source": [
    "from IPython.core.display import display, HTML\n",
    "display(HTML(\"<style>.container { width:100% !important; }</style>\"))\n"
   ]
  },
  {
   "cell_type": "code",
   "execution_count": 3,
   "metadata": {},
   "outputs": [
    {
     "data": {
      "text/html": [
       "<script>\n",
       "code_show=true; \n",
       "function code_toggle() {\n",
       " if (code_show){\n",
       " $('div.input').hide();\n",
       " } else {\n",
       " $('div.input').show();\n",
       " }\n",
       " code_show = !code_show\n",
       "} \n",
       "$( document ).ready(code_toggle);\n",
       "</script>\n",
       "The raw code for this IPython notebook is by default hidden for easier reading.\n",
       "To toggle on/off the raw code, click <a href=\"javascript:code_toggle()\">here</a>."
      ],
      "text/plain": [
       "<IPython.core.display.HTML object>"
      ]
     },
     "execution_count": 3,
     "metadata": {},
     "output_type": "execute_result"
    }
   ],
   "source": [
    "from IPython.display import HTML\n",
    "HTML('''<script>\n",
    "code_show=true; \n",
    "function code_toggle() {\n",
    " if (code_show){\n",
    " $('div.input').hide();\n",
    " } else {\n",
    " $('div.input').show();\n",
    " }\n",
    " code_show = !code_show\n",
    "} \n",
    "$( document ).ready(code_toggle);\n",
    "</script>\n",
    "The raw code for this IPython notebook is by default hidden for easier reading.\n",
    "To toggle on/off the raw code, click <a href=\"javascript:code_toggle()\">here</a>.''')"
   ]
  },
  {
   "cell_type": "code",
   "execution_count": 4,
   "metadata": {},
   "outputs": [
    {
     "data": {
      "text/html": [
       "<script>\n",
       "code_show_err=true; \n",
       "function code_toggle_err() {\n",
       " if (code_show_err){\n",
       " $('div.output_stderr').hide();\n",
       " } else {\n",
       " $('div.output_stderr').show();\n",
       " }\n",
       " code_show_err = !code_show_err\n",
       "} \n",
       "$( document ).ready(code_toggle_err);\n",
       "</script>\n",
       "To toggle on/off output errors, click <a href=\"javascript:code_toggle_err()\">here</a>."
      ],
      "text/plain": [
       "<IPython.core.display.HTML object>"
      ]
     },
     "execution_count": 4,
     "metadata": {},
     "output_type": "execute_result"
    }
   ],
   "source": [
    "#hide warnings\n",
    "HTML('''<script>\n",
    "code_show_err=true; \n",
    "function code_toggle_err() {\n",
    " if (code_show_err){\n",
    " $('div.output_stderr').hide();\n",
    " } else {\n",
    " $('div.output_stderr').show();\n",
    " }\n",
    " code_show_err = !code_show_err\n",
    "} \n",
    "$( document ).ready(code_toggle_err);\n",
    "</script>\n",
    "To toggle on/off output errors, click <a href=\"javascript:code_toggle_err()\">here</a>.''')"
   ]
  },
  {
   "cell_type": "code",
   "execution_count": 5,
   "metadata": {},
   "outputs": [
    {
     "name": "stdout",
     "output_type": "stream",
     "text": [
      "path1 /media/daniel/Seagate5TB/A99\n"
     ]
    }
   ],
   "source": [
    "import pandas as pd\n",
    "import os\n",
    "import sys\n",
    "import numpy as np\n",
    "import matplotlib.pyplot as plt\n",
    "import matplotlib\n",
    "#import ccModules as cc\n",
    "#import ccModules2 as cc2\n",
    "\n",
    "#from IPython.html.widgets import interact\n",
    "import pandas as pd\n",
    "from IPython.display import IFrame\n",
    "from bokeh.palettes import Spectral4\n",
    "from bokeh.plotting import figure, output_file, show\n",
    "from pathlib import Path\n",
    "import pathlibDB as pdb\n",
    "import re\n",
    "from collections import defaultdict\n",
    "import skimage\n",
    "import scipy\n",
    "from bokeh.io import output_notebook, show, output_file, save\n",
    "from bokeh.layouts import column\n",
    "from bokeh.plotting import figure, output_file, show, ColumnDataSource\n",
    "from bokeh.models import Range1d, Span, Legend, LinearAxis, Title\n",
    "import tables\n",
    "from dask.array.image import imread \n",
    "from A99_init20190523 import *\n",
    "#output_notebook()"
   ]
  },
  {
   "cell_type": "code",
   "execution_count": 6,
   "metadata": {},
   "outputs": [
    {
     "name": "stdout",
     "output_type": "stream",
     "text": [
      "(46, 36)\n"
     ]
    }
   ],
   "source": [
    "xls_file ='/media/daniel/Seagate5TB/A99/Analysis20190523/_SummaryOutput.xlsx'\n",
    "image_frame = pd.read_excel(xls_file, sheet_name= 'Summary')\n",
    "image_frame.head()\n",
    "print(image_frame.shape)"
   ]
  },
  {
   "cell_type": "code",
   "execution_count": 7,
   "metadata": {},
   "outputs": [],
   "source": [
    "def bokeh_rgb_image(rgb, fig):\n",
    "    #rgb = x,y,rgb\n",
    "    \n",
    "    rgb = np.flipud(rgb)\n",
    "    img = np.empty((rgb.shape[0],rgb.shape[1]), dtype=np.uint32)\n",
    "    N = img\n",
    "    view = img.view(dtype=np.uint8).reshape((img.shape[0], img.shape[1], 4))\n",
    "\n",
    "    view[:, :, 0] = rgb[:, :, 0]\n",
    "    view[:, :, 1] = rgb[:, :, 1]\n",
    "    view[:, :, 2] = rgb[:, :, 2]\n",
    "    view[:, :, 3] = 255\n",
    "    fig.x_range.range_padding = p.y_range.range_padding = 0\n",
    "\n",
    "    # must give a vector of images\n",
    "    fig.image_rgba(image=[img], x=0, y=0, dw=512, dh=512)\n",
    "    #p.line(x=[100, 500], y=[100,500])\n",
    "\n",
    "    #output_file(\"image_rgba.html\", title=\"image_rgba.py example\")\n",
    "    fig.axis.visible = False\n",
    "    \n",
    "    \n",
    "def bokeh_plot_roi(intensity_data, fig):\n",
    "    legend_it = []\n",
    "    for row2, dseries2 in intensity_data.iterrows():\n",
    "        maskimage = np.zeros(color_image.shape[1:4])\n",
    "        index = color_image.shape[1]*color_image.shape[2]*color_image.shape[3]\n",
    "        if dseries2['mask_index'][0].shape[0] != 0: #roi must include at least one pixel\n",
    "            maskimage.reshape(index)[dseries2['mask_index'][0]] = 1\n",
    "            maskimage = np.max(maskimage, axis =0)\n",
    "            maskimage = np.flipud(maskimage)\n",
    "            #plt.imshow(maskimage, cmap = 'gray')\n",
    "            contours = skimage.measure.find_contours(maskimage, 0.8)\n",
    "\n",
    "            for n, contour in enumerate(contours):\n",
    "                contour = np.array(contour, dtype = np.int)\n",
    "                #ax1.plot(contour[:, 1], contour[:, 0], linewidth = 2, color = colors[i])\n",
    "                c = fig.line(contour[:, 1], contour[:, 0], line_width = 2, color = tuple([int(i*255) for i in dseries2['Color'][0:3]]))\n",
    "                #p.line(contour[:, 1], contour[:, 0], line_width = 2, color = (255,0, 0))\n",
    "            legend_it.append((dseries2['Name'], [c]))\n",
    "\n",
    "            #lbl = scipy.ndimage.label(maskimage)\n",
    "            #indexC = scipy.ndimage.center_of_mass(maskimage)\n",
    "            #p.text(indexC[1], indexC[0], dseries2['Name'], color = dseries2['Color'])\n",
    "            \n",
    "    legend = Legend(items = legend_it, location=(0, 100))\n",
    "    legend.click_policy=\"hide\"\n",
    "    fig.add_layout(legend, 'right')"
   ]
  },
  {
   "cell_type": "code",
   "execution_count": 8,
   "metadata": {},
   "outputs": [],
   "source": [
    "rois = {'g5': [0.2, 0.15, 0.5] ,\n",
    "                 'g4': [0.4, 0.5, 0.5],\n",
    "                 'g3': [0.6, 0.2, 0],\n",
    "                 'a1': [0.3, 0.2, 0.5],\n",
    "                 'b1': [0.4, 0.4, 0.5],                \n",
    "                 'b2': [0.8, 0.5, 0],\n",
    "                 \"b'p2a\": [0.8, 0.5, 0],\n",
    "                 \"b'p2mp\": [0.8, 0.5, 0.5]}"
   ]
  },
  {
   "cell_type": "code",
   "execution_count": 9,
   "metadata": {},
   "outputs": [
    {
     "name": "stderr",
     "output_type": "stream",
     "text": [
      "/home/daniel/.local/share/virtualenvs/BokehEnvironment-BGiC9Gh-/lib/python3.6/site-packages/pandas/core/indexing.py:190: SettingWithCopyWarning: \n",
      "A value is trying to be set on a copy of a slice from a DataFrame\n",
      "\n",
      "See the caveats in the documentation: http://pandas.pydata.org/pandas-docs/stable/indexing.html#indexing-view-versus-copy\n",
      "  self._setitem_with_indexer(indexer, value)\n"
     ]
    }
   ],
   "source": [
    "#fill in genetype column\n",
    "crosses2 = []\n",
    "for row, dseries in image_frame.iterrows():\n",
    "    for cgen in crosses.keys():\n",
    "        if cgen in dseries['Sample Name']:\n",
    "            image_frame['Genotype'].loc[row] = crosses[cgen]['GAL4']\n",
    "            crosses2.append(cgen)\n",
    "image_frame['Cross'] = crosses2"
   ]
  },
  {
   "cell_type": "code",
   "execution_count": 10,
   "metadata": {},
   "outputs": [],
   "source": [
    "def makedirectory(Path1):\n",
    "    if not Path1.is_dir():\n",
    "        Path1.mkdir()"
   ]
  },
  {
   "cell_type": "code",
   "execution_count": 11,
   "metadata": {},
   "outputs": [],
   "source": [
    "#dicide where to save figures and figure names\n",
    "savefile = []\n",
    "saveFig2 = Path(saveFig) / 'HTMLfigures'\n",
    "makedirectory(saveFig2)\n",
    "for row, dseries in image_frame.iterrows():\n",
    "    targetdirectory_cgen = saveFig2 / dseries['Genotype']\n",
    "    makedirectory(targetdirectory_cgen)\n",
    "    savefile.append(targetdirectory_cgen / str(Path(dseries['Paths']).parts[-1] + '.html'))\n",
    "image_frame['output_figure_file'] = savefile"
   ]
  },
  {
   "cell_type": "code",
   "execution_count": 13,
   "metadata": {},
   "outputs": [
    {
     "name": "stdout",
     "output_type": "stream",
     "text": [
      "/media/daniel/Seagate5TB/A99/20190510/flyd_20190510-A99-6_stim30s06V_00001\n",
      "/media/daniel/Seagate5TB/A99/20190510/flyd_20190510-A99-6_stimDur300at15_00001\n"
     ]
    },
    {
     "name": "stderr",
     "output_type": "stream",
     "text": [
      "/home/daniel/.local/share/virtualenvs/BokehEnvironment-BGiC9Gh-/lib/python3.6/site-packages/skimage/util/dtype.py:131: UserWarning: Possible sign loss when converting negative image of type int16 to positive image of type uint8.\n",
      "  .format(dtypeobj_in, dtypeobj_out))\n",
      "/home/daniel/.local/share/virtualenvs/BokehEnvironment-BGiC9Gh-/lib/python3.6/site-packages/skimage/util/dtype.py:135: UserWarning: Possible precision loss when converting from int16 to uint8\n",
      "  .format(dtypeobj_in, dtypeobj_out))\n"
     ]
    }
   ],
   "source": [
    "#generate images for each entry in the dataframe\n",
    "#for row, dseries in gpu_files2.iterrows():\n",
    "#get the two color image data\n",
    "add_title = ['GAL4', 'LexA', 'Chrimson', 'Sensor']\n",
    "for row, dseries in image_frame[:2].iterrows():\n",
    "    print(dseries['Paths'])\n",
    "    hdf5_file = tables.open_file(dseries['Two_Colored_Image'], mode='r')\n",
    "    color_image = hdf5_file.root.data[:]\n",
    "    hdf5_file.close()\n",
    "    #get intensity data file\n",
    "    hdf5 = tables.open_file(dseries['Intensity_Data_File'])\n",
    "    voltage = hdf5.root.voltage[:]\n",
    "    timeStamp = hdf5.root.timeStamp[:]\n",
    "    hdf5.close()\n",
    "    intensity_data = pd.read_hdf(dseries['Intensity_Data_File'], 'intensity_data')\n",
    "    rgb = np.zeros(color_image.shape[1:], dtype = color_image.dtype)\n",
    "    color_image1 = np.squeeze(color_image)\n",
    "    rgb = np.rollaxis(color_image1, 2, 1)\n",
    "\n",
    "    rgb = skimage.img_as_ubyte(rgb)\n",
    "\n",
    "\n",
    "    p=figure(match_aspect=True)\n",
    "    #add image\n",
    "    bokeh_rgb_image(np.max(rgb, axis=0), p)\n",
    "    #add plots for each roi\n",
    "    bokeh_plot_roi(intensity_data, p)\n",
    "    '''\n",
    "    title1 = 'GAL4 :' \\\n",
    "            + crosses[dseries['Cross']]['GAL4'] \\\n",
    "            + '; LexA ' \\\n",
    "            + crosses[dseries['Cross']]['LexA'] \\\n",
    "            + '; Chrimson :' \\\n",
    "            + crosses[dseries['Cross']]['Chrimson'] \\\n",
    "            + '; Sensor :' \\\n",
    "            + crosses[dseries['Cross']]['Sensor']\n",
    "    p.title.text = title1\n",
    "    '''\n",
    "    for ckey in add_title:\n",
    "        p.add_layout(Title(text = ckey + ': ' + crosses[dseries['Cross']][ckey]), 'above')\n",
    "           \n",
    "    p.xgrid.grid_line_color = None\n",
    "    p.ygrid.grid_line_color = None\n",
    "\n",
    "    plots =[p]  # open a browser\n",
    "    timevolt = np.arange(0, len(voltage))/100\n",
    "    for croi in rois:\n",
    "        cframe = intensity_data[intensity_data['Name'].str.contains(croi)]\n",
    "        if len(cframe) > 0 :\n",
    "            p=figure(match_aspect=True)\n",
    "            bokeh_rgb_image(np.max(rgb, axis=0), p)\n",
    "            bokeh_plot_roi(cframe, p)\n",
    "            p.xgrid.grid_line_color = None\n",
    "            p.ygrid.grid_line_color = None\n",
    "            plots.append(p)\n",
    "            #place a line plot showing intensity over time\n",
    "            data = np.mean(np.vstack(cframe['intensity']), axis=0)\n",
    "            background_data = np.mean(np.vstack(intensity_data[intensity_data['Name'].str.contains('Background')]['intensity'].values),axis=0)\n",
    "            data = data-background_data\n",
    "            min1= []\n",
    "            max1=[]\n",
    "            for row2, dseries2 in cframe.iterrows():\n",
    "                min1.append(np.min(np.mean(dseries2['intensity'], axis=0) - background_data))\n",
    "                max1.append(np.max(np.mean(dseries2['intensity'], axis=0)- background_data))\n",
    "            p = figure(plot_width=800, plot_height=400, y_range=Range1d(np.min(min1), np.max(max1)), x_range = Range1d(0, np.max(timeStamp)), x_axis_label = 'Time (S)', y_axis_label = 'Intensity - Background')\n",
    "            #plot showing voltage\n",
    "            p.title.text = croi\n",
    "            p.extra_y_ranges = {\"foo\": Range1d(start=-0, end=2)}\n",
    "            p.add_layout(LinearAxis(y_range_name='foo', axis_label = 'Volt (V)'), 'right')\n",
    "            c = p.line(timevolt, voltage.flatten(), y_range_name = 'foo', line_color = (255,0, 0), line_alpha=0.5, line_width =2)\n",
    "\n",
    "            #plot showing mean data results\n",
    "            legend_it = [('Voltage', [c])]\n",
    "            c = p.line(x=timeStamp.flatten(), y=data, line_width=2, line_color = (0, 0, 0))\n",
    "            legend_it.append(('Mean', [c]))\n",
    "            for row2, dseries2 in cframe.iterrows():\n",
    "                c = p.line(x=timeStamp.flatten(), y=np.mean(dseries2['intensity'], axis=0) - background_data, line_width=2, line_color = (150, 150, 150), line_alpha = 0.5) #line_color = colors[cgroup])\n",
    "                legend_it.append((dseries2['Name'], [c]))\n",
    "\n",
    "\n",
    "            #p.sizing_mode = 'scale_width'\n",
    "\n",
    "            legend = Legend(items = legend_it, location=(0, 100))\n",
    "            legend.click_policy=\"hide\"\n",
    "            p.add_layout(legend, 'right')\n",
    "            plots.append(p)\n",
    "\n",
    "\n",
    "\n",
    "            #p.x_range = Range1d(0, 450)\n",
    "            #p.y_range = Range1d(min1, max1)\n",
    "            #output_file(\"Mean-RawIntensity.html\", title = 'Stimulation Protocol')\n",
    "            #p.patch(timevolt2, volt2, y_range_name = 'foo')\n",
    "    out = output_file(dseries['output_figure_file'], mode='inline')\n",
    "    show(column(plots))"
   ]
  },
  {
   "cell_type": "code",
   "execution_count": null,
   "metadata": {},
   "outputs": [],
   "source": [
    "image_frame2 = image_frame[image_frame['Cross'] == 'A99-8']\n",
    "image_frame2"
   ]
  },
  {
   "cell_type": "code",
   "execution_count": null,
   "metadata": {},
   "outputs": [],
   "source": [
    "#generate images for each entry in the dataframe\n",
    "##subset that were not E5802\n",
    "image_frame2 = image_frame[image_frame['Cross'] == 'A99-8']\n",
    "add_title = ['GAL4', 'LexA', 'Chrimson', 'Sensor']\n",
    "for row, dseries in image_frame2[:2].iterrows():\n",
    "    print(dseries['Paths'])\n",
    "    hdf5_file = tables.open_file(dseries['Two_Colored_Image'], mode='r')\n",
    "    color_image = hdf5_file.root.data[:]\n",
    "    hdf5_file.close()\n",
    "    #get intensity data file\n",
    "    hdf5 = tables.open_file(dseries['Intensity_Data_File'])\n",
    "    voltage = hdf5.root.voltage[:]\n",
    "    timeStamp = hdf5.root.timeStamp[:]\n",
    "    hdf5.close()\n",
    "    intensity_data = pd.read_hdf(dseries['Intensity_Data_File'], 'intensity_data')\n",
    "    rgb = np.zeros(color_image.shape[1:], dtype = color_image.dtype)\n",
    "    color_image1 = np.squeeze(color_image)\n",
    "    rgb = np.rollaxis(color_image1, 2, 1)\n",
    "\n",
    "    rgb = skimage.img_as_ubyte(rgb)\n",
    "\n",
    "\n",
    "    p=figure(match_aspect=True)\n",
    "    #add image\n",
    "    bokeh_rgb_image(np.max(rgb, axis=0), p)\n",
    "    #add plots for each roi\n",
    "    bokeh_plot_roi(intensity_data, p)\n",
    "    '''\n",
    "    title1 = 'GAL4 :' \\\n",
    "            + crosses[dseries['Cross']]['GAL4'] \\\n",
    "            + '; LexA ' \\\n",
    "            + crosses[dseries['Cross']]['LexA'] \\\n",
    "            + '; Chrimson :' \\\n",
    "            + crosses[dseries['Cross']]['Chrimson'] \\\n",
    "            + '; Sensor :' \\\n",
    "            + crosses[dseries['Cross']]['Sensor']\n",
    "    p.title.text = title1\n",
    "    '''\n",
    "    for ckey in add_title:\n",
    "        p.add_layout(Title(text = ckey + ': ' + crosses[dseries['Cross']][ckey]), 'above')\n",
    "           \n",
    "    p.xgrid.grid_line_color = None\n",
    "    p.ygrid.grid_line_color = None\n",
    "\n",
    "    plots =[p]  # open a browser\n",
    "    timevolt = np.arange(0, len(voltage))/100\n",
    "    for croi, cframe in intensity_data.groupby(['Name']):\n",
    "\n",
    "        p=figure(match_aspect=True)\n",
    "        bokeh_rgb_image(np.max(rgb, axis=0), p)\n",
    "        bokeh_plot_roi(cframe, p)\n",
    "        p.xgrid.grid_line_color = None\n",
    "        p.ygrid.grid_line_color = None\n",
    "        plots.append(p)\n",
    "        #place a line plot showing intensity over time\n",
    "        data = np.mean(np.vstack(cframe['intensity']), axis=0)\n",
    "        background_data = np.mean(np.vstack(intensity_data[intensity_data['Name'].str.contains('Background')]['intensity'].values),axis=0)\n",
    "        data = data-background_data\n",
    "        min1= []\n",
    "        max1=[]\n",
    "        for row2, dseries2 in cframe.iterrows():\n",
    "            min1.append(np.min(np.mean(dseries2['intensity'], axis=0) - background_data))\n",
    "            max1.append(np.max(np.mean(dseries2['intensity'], axis=0)- background_data))\n",
    "        p = figure(plot_width=800, plot_height=400, y_range=Range1d(np.min(min1), np.max(max1)), x_range = Range1d(0, np.max(timeStamp)), x_axis_label = 'Time (S)', y_axis_label = 'Intensity - Background')\n",
    "        #plot showing voltage\n",
    "        p.title.text = croi\n",
    "        p.extra_y_ranges = {\"foo\": Range1d(start=-0, end=2)}\n",
    "        p.add_layout(LinearAxis(y_range_name='foo', axis_label = 'Volt (V)'), 'right')\n",
    "        c = p.line(timevolt, voltage.flatten(), y_range_name = 'foo', line_color = (255,0, 0), line_alpha=0.5, line_width =2)\n",
    "\n",
    "        #plot showing mean data results\n",
    "        legend_it = [('Voltage', [c])]\n",
    "        c = p.line(x=timeStamp.flatten(), y=data, line_width=2, line_color = (0, 0, 0))\n",
    "        legend_it.append(('Mean', [c]))\n",
    "        for row2, dseries2 in cframe.iterrows():\n",
    "            c = p.line(x=timeStamp.flatten(), y=np.mean(dseries2['intensity'], axis=0) - background_data, line_width=2, line_color = (150, 150, 150), line_alpha = 0.5) #line_color = colors[cgroup])\n",
    "            legend_it.append((dseries2['Name'], [c]))\n",
    "\n",
    "\n",
    "        #p.sizing_mode = 'scale_width'\n",
    "\n",
    "        legend = Legend(items = legend_it, location=(0, 100))\n",
    "        legend.click_policy=\"hide\"\n",
    "        p.add_layout(legend, 'right')\n",
    "        plots.append(p)\n",
    "\n",
    "\n",
    "\n",
    "        #p.x_range = Range1d(0, 450)\n",
    "        #p.y_range = Range1d(min1, max1)\n",
    "        #output_file(\"Mean-RawIntensity.html\", title = 'Stimulation Protocol')\n",
    "        #p.patch(timevolt2, volt2, y_range_name = 'foo')\n",
    "    out = output_file(dseries['output_figure_file'], mode='inline')\n",
    "    show(column(plots))"
   ]
  },
  {
   "cell_type": "code",
   "execution_count": 17,
   "metadata": {},
   "outputs": [
    {
     "data": {
      "text/html": [
       "<div>\n",
       "<style scoped>\n",
       "    .dataframe tbody tr th:only-of-type {\n",
       "        vertical-align: middle;\n",
       "    }\n",
       "\n",
       "    .dataframe tbody tr th {\n",
       "        vertical-align: top;\n",
       "    }\n",
       "\n",
       "    .dataframe thead th {\n",
       "        text-align: right;\n",
       "    }\n",
       "</style>\n",
       "<table border=\"1\" class=\"dataframe\">\n",
       "  <thead>\n",
       "    <tr style=\"text-align: right;\">\n",
       "      <th></th>\n",
       "      <th>Name</th>\n",
       "      <th>Color</th>\n",
       "      <th>Type</th>\n",
       "      <th>Z:XY</th>\n",
       "      <th>mask_index</th>\n",
       "      <th>image_file</th>\n",
       "      <th>image_shape</th>\n",
       "      <th>intensity</th>\n",
       "    </tr>\n",
       "  </thead>\n",
       "  <tbody>\n",
       "    <tr>\n",
       "      <th>1</th>\n",
       "      <td>region2</td>\n",
       "      <td>[0.2, 0.14901960784313725, 0.4980392156862745,...</td>\n",
       "      <td>polyArea</td>\n",
       "      <td>{15: [[315.1805329243472, 339.4925356392141], ...</td>\n",
       "      <td>([3041554, 3041555, 3041556, 3041557, 3041558,...</td>\n",
       "      <td>/media/daniel/Seagate5TB/A99/20190510/flyf_201...</td>\n",
       "      <td>(1, 45, 512, 512, 3)</td>\n",
       "      <td>[[354, 384, 345, 375, 375, 392, 362, 371, 338,...</td>\n",
       "    </tr>\n",
       "  </tbody>\n",
       "</table>\n",
       "</div>"
      ],
      "text/plain": [
       "      Name                                              Color      Type  \\\n",
       "1  region2  [0.2, 0.14901960784313725, 0.4980392156862745,...  polyArea   \n",
       "\n",
       "                                                Z:XY  \\\n",
       "1  {15: [[315.1805329243472, 339.4925356392141], ...   \n",
       "\n",
       "                                          mask_index  \\\n",
       "1  ([3041554, 3041555, 3041556, 3041557, 3041558,...   \n",
       "\n",
       "                                          image_file           image_shape  \\\n",
       "1  /media/daniel/Seagate5TB/A99/20190510/flyf_201...  (1, 45, 512, 512, 3)   \n",
       "\n",
       "                                           intensity  \n",
       "1  [[354, 384, 345, 375, 375, 392, 362, 371, 338,...  "
      ]
     },
     "execution_count": 17,
     "metadata": {},
     "output_type": "execute_result"
    }
   ],
   "source": [
    "dseries"
   ]
  },
  {
   "cell_type": "code",
   "execution_count": null,
   "metadata": {},
   "outputs": [],
   "source": []
  }
 ],
 "metadata": {
  "kernelspec": {
   "display_name": "BokehEnvironment",
   "language": "python",
   "name": "bokehenvironment"
  },
  "language_info": {
   "codemirror_mode": {
    "name": "ipython",
    "version": 3
   },
   "file_extension": ".py",
   "mimetype": "text/x-python",
   "name": "python",
   "nbconvert_exporter": "python",
   "pygments_lexer": "ipython3",
   "version": "3.6.8"
  }
 },
 "nbformat": 4,
 "nbformat_minor": 2
}
