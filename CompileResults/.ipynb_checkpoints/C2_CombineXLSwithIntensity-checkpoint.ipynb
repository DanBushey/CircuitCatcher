{
 "cells": [
  {
   "cell_type": "code",
   "execution_count": 1,
   "metadata": {},
   "outputs": [
    {
     "name": "stderr",
     "output_type": "stream",
     "text": [
      "/home/daniel/Desktop/ResearchUbuntuYoga720/A30_FastROI/CircuitCatcher2/tifffile.py:265: UserWarning: failed to import the optional _tifffile C extension module.\n",
      "Loading of some compressed images will be very slow.\n",
      "Tifffile.c can be obtained at http://www.lfd.uci.edu/~gohlke/\n",
      "  \"failed to import the optional _tifffile C extension module.\\n\"\n"
     ]
    }
   ],
   "source": [
    "import pandas as pd\n",
    "from pathlib import Path\n",
    "import tqdm\n",
    "from multiprocessing import Pool\n",
    "import sys\n",
    "sys.path.append('/home/daniel/Desktop/ResearchUbuntuYoga720/A30_FastROI/CircuitCatcher2')\n",
    "import pandasDB as pdDB\n",
    "import numpy as np\n",
    "from collections import Counter\n",
    "import ccModules as cc"
   ]
  },
  {
   "cell_type": "code",
   "execution_count": 2,
   "metadata": {},
   "outputs": [
    {
     "name": "stdout",
     "output_type": "stream",
     "text": [
      "/media/daniel/Seagate5TB/A83/A83_data5\n"
     ]
    }
   ],
   "source": [
    "#data necessary to find pickle file\n",
    "targetfolder = Path.cwd().parents[1]\n",
    "outputfolder = 'Analysis20190701'\n",
    "output_pickle_file = 'A83_Data5_CompiledIntensityData.pkl'\n",
    "output_xls_file = 'A83_Data5_CompiledIntensityData.xlsx'\n",
    "print(targetfolder)\n",
    "xls_file = targetfolder / 'A83_Data5_Summary.xlsx'"
   ]
  },
  {
   "cell_type": "code",
   "execution_count": 5,
   "metadata": {},
   "outputs": [],
   "source": [
    "path_to_pickle =  str(Path(targetfolder) / outputfolder/ output_pickle_file)\n",
    "data = pd.read_pickle(path_to_pickle)"
   ]
  },
  {
   "cell_type": "code",
   "execution_count": 6,
   "metadata": {},
   "outputs": [],
   "source": [
    "#get the file name\n",
    "LED = []\n",
    "Stim_Period = []\n",
    "Intensity_File = []\n",
    "for row, dseries in data.iterrows():\n",
    "    name = Path(dseries['Intensity_Data_File']).parts[-1]\n",
    "    Intensity_File.append(name)\n",
    "\n",
    "data['Intensity_Data_File_Only'] = Intensity_File"
   ]
  },
  {
   "cell_type": "code",
   "execution_count": 7,
   "metadata": {},
   "outputs": [
    {
     "name": "stderr",
     "output_type": "stream",
     "text": [
      "/home/daniel/.local/share/virtualenvs/CircuitCatcher2-AlNaHLtK/lib/python3.6/site-packages/pandas/core/frame.py:6692: FutureWarning: Sorting because non-concatenation axis is not aligned. A future version\n",
      "of pandas will change to not sort by default.\n",
      "\n",
      "To accept the future behavior, pass 'sort=False'.\n",
      "\n",
      "To retain the current behavior and silence the warning, pass 'sort=True'.\n",
      "\n",
      "  sort=sort)\n"
     ]
    }
   ],
   "source": [
    "#add data from xls sheets\n",
    "\n",
    "xls_frame = pdDB.getMultipleExceLSheets(xls_file)\n",
    "xls_frame.drop(columns=['index'], inplace=True)\n",
    "    "
   ]
  },
  {
   "cell_type": "code",
   "execution_count": 8,
   "metadata": {},
   "outputs": [],
   "source": [
    "#add the xls columns to the data frame\n",
    "revised_xls_frame = pd.DataFrame(index=data.index, columns = xls_frame.columns)\n",
    "for row, dseries in xls_frame.iterrows():\n",
    "    index = data[data['Intensity_Data_File_Only'].str.contains(dseries['Sample Name'])].index\n",
    "    for ci in index:\n",
    "        revised_xls_frame.loc[ci] = dseries\n",
    "data2 = pd.concat([data, revised_xls_frame], axis=1)"
   ]
  },
  {
   "cell_type": "code",
   "execution_count": 9,
   "metadata": {},
   "outputs": [],
   "source": [
    "#save pandas dataframe that now includes both intensity data and excel data into a pickle file\n",
    "data2.to_pickle(path_to_pickle)"
   ]
  },
  {
   "cell_type": "code",
   "execution_count": null,
   "metadata": {},
   "outputs": [],
   "source": []
  }
 ],
 "metadata": {
  "kernelspec": {
   "display_name": "CircuitCatcher2",
   "language": "python",
   "name": "circuitcatcher2"
  },
  "language_info": {
   "codemirror_mode": {
    "name": "ipython",
    "version": 3
   },
   "file_extension": ".py",
   "mimetype": "text/x-python",
   "name": "python",
   "nbconvert_exporter": "python",
   "pygments_lexer": "ipython3",
   "version": "3.6.8"
  }
 },
 "nbformat": 4,
 "nbformat_minor": 2
}
