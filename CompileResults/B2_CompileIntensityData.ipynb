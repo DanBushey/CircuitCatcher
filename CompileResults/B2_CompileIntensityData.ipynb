{
 "cells": [
  {
   "cell_type": "code",
   "execution_count": 1,
   "metadata": {},
   "outputs": [
    {
     "name": "stderr",
     "output_type": "stream",
     "text": [
      "/media/daniel/Seagate5TB/A99/A99_data1/CircuitCatcher2/tifffile.py:265: UserWarning: failed to import the optional _tifffile C extension module.\n",
      "Loading of some compressed images will be very slow.\n",
      "Tifffile.c can be obtained at http://www.lfd.uci.edu/~gohlke/\n",
      "  \"failed to import the optional _tifffile C extension module.\\n\"\n"
     ]
    }
   ],
   "source": [
    "import pandas as pd\n",
    "from pathlib import Path\n",
    "import tqdm\n",
    "from multiprocessing import Pool\n",
    "import sys\n",
    "parentdirectory = Path.cwd()\n",
    "sys.path.append(str(parentdirectory.parent))\n",
    "\n",
    "import ccModules as cc"
   ]
  },
  {
   "cell_type": "code",
   "execution_count": 4,
   "metadata": {},
   "outputs": [
    {
     "name": "stdout",
     "output_type": "stream",
     "text": [
      "/media/daniel/Seagate5TB/A99/A99_data1\n"
     ]
    }
   ],
   "source": [
    "targetfolder = Path.cwd().parents[1]\n",
    "outputfolder = 'Analysis20190704'\n",
    "output_pickle_file = 'A99_Data1_CompiledIntensityData.pkl'\n",
    "output_xls_file = 'A99_Data1_CompiledIntensityData.xlsx'\n",
    "print(targetfolder)"
   ]
  },
  {
   "cell_type": "code",
   "execution_count": 5,
   "metadata": {},
   "outputs": [],
   "source": [
    "#find intensity data files in targetfolder\n",
    "intensity_data_files = [str(cfile) for cfile in Path(targetfolder).glob('**/*IntensityData.hdf5')]"
   ]
  },
  {
   "cell_type": "code",
   "execution_count": 6,
   "metadata": {},
   "outputs": [
    {
     "name": "stderr",
     "output_type": "stream",
     "text": [
      "100%|██████████| 46/46 [00:58<00:00,  1.28s/it]\n"
     ]
    }
   ],
   "source": [
    "#get the data from all the files into one list\n",
    "intensity_frame = pd.DataFrame(columns=['Intensity_Data_File'], data=intensity_data_files)\n",
    "intensity_list= [dseries for row, dseries in intensity_frame.iterrows()]\n",
    "with Pool(4) as p:\n",
    "    output1=list(tqdm.tqdm(p.imap(cc.compileTimeSeriesData, intensity_list), total=len(intensity_list)))\n",
    "#output1 = dview.map(ccModules.compileTimeSeriesData, listexceldata)"
   ]
  },
  {
   "cell_type": "code",
   "execution_count": 7,
   "metadata": {},
   "outputs": [],
   "source": [
    "intensity_frame = pd.DataFrame(index=range(len(output1)), columns = output1[0].index)\n",
    "for row in intensity_frame.index:\n",
    "    intensity_frame.loc[row] = output1[row]"
   ]
  },
  {
   "cell_type": "code",
   "execution_count": 11,
   "metadata": {},
   "outputs": [
    {
     "data": {
      "text/plain": [
       "False"
      ]
     },
     "execution_count": 11,
     "metadata": {},
     "output_type": "execute_result"
    }
   ],
   "source": [
    "Path(output_file).parent.is_dir()"
   ]
  },
  {
   "cell_type": "code",
   "execution_count": 12,
   "metadata": {},
   "outputs": [],
   "source": [
    "#save pickle file\n",
    "output_file = str(Path(targetfolder) / outputfolder/ output_pickle_file)\n",
    "if not Path(output_file).parent.is_dir():\n",
    "    Path(output_file).parent.mkdir()\n",
    "intensity_frame.to_pickle(output_file)"
   ]
  },
  {
   "cell_type": "code",
   "execution_count": 13,
   "metadata": {},
   "outputs": [],
   "source": [
    "#need to make sure all the expected rois are present"
   ]
  },
  {
   "cell_type": "code",
   "execution_count": 14,
   "metadata": {},
   "outputs": [
    {
     "name": "stdout",
     "output_type": "stream",
     "text": [
      "/media/daniel/Seagate5TB/A99/A99_data1/Analysis20190704/A99_Data1_CompiledIntensityData.xlsx\n"
     ]
    }
   ],
   "source": [
    "output_file = str(Path(targetfolder) / outputfolder/ output_xls_file)\n",
    "intensity_frame.to_excel(output_file)\n",
    "print(output_file)"
   ]
  },
  {
   "cell_type": "code",
   "execution_count": null,
   "metadata": {},
   "outputs": [],
   "source": []
  }
 ],
 "metadata": {
  "kernelspec": {
   "display_name": "CircuitCatcher2",
   "language": "python",
   "name": "circuitcatcher2"
  },
  "language_info": {
   "codemirror_mode": {
    "name": "ipython",
    "version": 3
   },
   "file_extension": ".py",
   "mimetype": "text/x-python",
   "name": "python",
   "nbconvert_exporter": "python",
   "pygments_lexer": "ipython3",
   "version": "3.6.8"
  }
 },
 "nbformat": 4,
 "nbformat_minor": 2
}
